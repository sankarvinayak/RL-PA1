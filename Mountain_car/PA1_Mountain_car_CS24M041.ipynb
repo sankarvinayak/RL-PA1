{
  "cells": [
    {
      "cell_type": "markdown",
      "metadata": {
        "id": "BxAJfd3cQ1kR"
      },
      "source": [
        "# Cart Pole - V1\n"
      ]
    },
    {
      "cell_type": "code",
      "execution_count": null,
      "metadata": {
        "id": "s2xXGnkE9pXs"
      },
      "outputs": [],
      "source": [
        "import gymnasium as gym\n",
        "import numpy as np\n",
        "from tqdm import tqdm\n",
        "\n",
        "env = gym.make('MountainCar-v0')"
      ]
    },
    {
      "cell_type": "code",
      "execution_count": null,
      "metadata": {
        "id": "E56p-t2ERA_o"
      },
      "outputs": [],
      "source": [
        "class Tiling:\n",
        "  def __init__(self, env, numTilings=8, numTiles=10):\n",
        "    self.numTilings = numTilings\n",
        "    self.numTiles = numTiles\n",
        "\n",
        "    state, _ = env.reset()\n",
        "\n",
        "    # Define limits\n",
        "    cart_position_limit = 4.8\n",
        "    pole_angle_limit = (24 * np.pi) / 180  # 24 degrees in radians\n",
        "    cart_velocity_limit = 10\n",
        "    pole_angular_velocity_limit = np.pi  # 3.1416 rad/s\n",
        "\n",
        "    # Define low, high limits\n",
        "    self.low = np.array([-cart_position_limit, -cart_velocity_limit, -pole_angle_limit, -pole_angular_velocity_limit])\n",
        "    self.high = np.array([cart_position_limit, cart_velocity_limit, pole_angle_limit, pole_angular_velocity_limit])\n",
        "\n",
        "    # Define offsets for tilings\n",
        "    self.offsets = [\n",
        "        (high - low) / self.numTiles * np.linspace(0, 1, self.numTilings, endpoint=False)\n",
        "        for low, high in zip(self.low, self.high)\n",
        "    ]\n",
        "\n",
        "    # Create tilings\n",
        "    self.tilings = self.createTilings()\n",
        "\n",
        "  def getTilings(self):\n",
        "    return self.tilings\n",
        "\n",
        "  def createTilingGrid(self, low, high, bins, offsets):\n",
        "    \"\"\" Create a single tiling grid \"\"\"\n",
        "    return [np.linspace(low[dim], high[dim], bins + 1)[1:-1] + offsets[dim] for dim in range(len(low))]\n",
        "\n",
        "  def createTilings(self):\n",
        "    \"\"\" Create multiple tiling grids with offsets \"\"\"\n",
        "    tilings = []\n",
        "    for i in range(self.numTilings):\n",
        "        offsets_i = [offset[i] for offset in self.offsets]  # Pick correct offset for each tiling\n",
        "        tilings.append(self.createTilingGrid(self.low, self.high, self.numTiles, offsets_i))\n",
        "    return tilings\n",
        "\n",
        "  def discretize(self, state):\n",
        "    \"\"\" Convert continuous state into discrete indices across all tilings \"\"\"\n",
        "    discretized_indices = []\n",
        "    for tiling in self.tilings:\n",
        "        tile_indices = []\n",
        "        for dim, bins in enumerate(tiling):\n",
        "            tile_indices.append(np.digitize(state[dim], bins))  # Assign bin index for each dimension\n",
        "        discretized_indices.append(tuple(tile_indices))\n",
        "    return discretized_indices"
      ]
    },
    {
      "cell_type": "code",
      "execution_count": null,
      "metadata": {
        "id": "o_HxgLuychGb"
      },
      "outputs": [],
      "source": [
        "class sarsaAgent:\n",
        "  def __init__(self,env,alpha=0.1,gamma=0.99,epsilon_start=1.0,epsilon_decay=0.995,epsilon_min=0.0001,numTilings=2,numTiles=5):\n",
        "    self.env = env\n",
        "    self.alpha = alpha\n",
        "    self.gamma = gamma\n",
        "    self.epsilon = epsilon_start\n",
        "    self.epsilon_decay = epsilon_decay\n",
        "    self.epsilon_min = epsilon_min\n",
        "    self.numTilings = numTilings\n",
        "    self.numTiles = numTiles\n",
        "\n",
        "    self.tiling = Tiling(env,numTilings,numTiles)\n",
        "    self.numActions = self.env.action_space.n\n",
        "\n",
        "    # Define feature representation using tile coding\n",
        "    self.numFeatures = self.numTilings * self.numTiles** 4\n",
        "    self.weights = np.zeros((self.numActions, self.numFeatures))  # Weights for each action\n",
        "\n",
        "  def featureVector(self, state, action):\n",
        "    \"\"\" Convert a continuous state into a binary feature vector. \"\"\"\n",
        "    discretized_indices = self.tiling.discretize(state)\n",
        "    featureVector = np.zeros(self.numTilings * self.numTiles**4)\n",
        "\n",
        "    for i, ds in enumerate(discretized_indices):\n",
        "        index = sum(ds[d] * (self.numTiles**d) for d in range(len(ds)))  # Multi-dim index\n",
        "        feature_index = i * self.numTiles**4 + index\n",
        "        featureVector[feature_index] = 1  # Activate feature\n",
        "\n",
        "    return featureVector\n",
        "\n",
        "  def getQvalues(self,state,action):\n",
        "    \"\"\" Approximates Q(s, a) = θ^T * φ(s, a) \"\"\"\n",
        "    featureVector = self.featureVector(state,action)\n",
        "    return np.dot(self.weights[action], featureVector)\n",
        "\n",
        "  def choose_epsilonGreedy_action(self,state):\n",
        "    \"\"\" Chooses an action using ε-greedy policy. \"\"\"\n",
        "    if np.random.rand() < self.epsilon:\n",
        "        return self.env.action_space.sample()  # Random action\n",
        "    else:\n",
        "        q_values = [self.getQvalues(state, a) for a in range(self.numActions)]\n",
        "        return np.argmax(q_values)  # Best action\n",
        "\n",
        "  def update(self,state,action,reward,next_state,next_action):\n",
        "    \"\"\" SARSA update rule with linear function approximation \"\"\"\n",
        "    phi = self.featureVector(state, action)\n",
        "    q_sa = self.getQvalues(state, action)\n",
        "    q_next = self.getQvalues(next_state, next_action)\n",
        "\n",
        "    td_target = reward + self.gamma * q_next\n",
        "    td_error = td_target - q_sa\n",
        "    self.weights[action] += (self.alpha/self.numTilings) * td_error * phi\n",
        "\n",
        "  def train(self,num_episodes):\n",
        "    episode_rewards = np.zeros(num_episodes)\n",
        "    steps_to_completion = np.zeros(num_episodes)\n",
        "\n",
        "    for i in tqdm(range(num_episodes)):\n",
        "\n",
        "      totalReward = 0\n",
        "      steps = 0\n",
        "\n",
        "      state,_ = self.env.reset() #resetting the environment\n",
        "      action = self.choose_epsilonGreedy_action(state)\n",
        "      done = False\n",
        "\n",
        "      while not done:\n",
        "        next_state,reward,terminated,truncated,info = self.env.step(action)\n",
        "        next_action = self.choose_epsilonGreedy_action(next_state)\n",
        "\n",
        "        # Update weights using SARSA\n",
        "        self.update(state, action, reward, next_state, next_action)\n",
        "\n",
        "        state = next_state\n",
        "        action = next_action\n",
        "\n",
        "        totalReward += reward\n",
        "        steps+=1\n",
        "\n",
        "        done = terminated or truncated\n",
        "\n",
        "\n",
        "      episode_rewards[i] = totalReward\n",
        "      steps_to_completion[i] = steps\n",
        "\n",
        "      #epsilon decay\n",
        "      self.epsilon = max(self.epsilon_min, self.epsilon*self.epsilon_decay)\n",
        "      if i % 50 == 0:\n",
        "        avg_reward = np.mean(episode_rewards[max(0, i-50):i+1])\n",
        "        print(f\"Episode {i}/{num_episodes}, Avg Reward (Last 50): {avg_reward:.2f}, Epsilon: {self.epsilon:.4f}\")\n",
        "\n",
        "    return episode_rewards,steps_to_completion\n"
      ]
    },
    {
      "cell_type": "code",
      "execution_count": null,
      "metadata": {
        "colab": {
          "base_uri": "https://localhost:8080/"
        },
        "id": "UxmTaIOXAyjF",
        "outputId": "f9fa284e-aa38-44d3-dc82-49b3a4757887"
      },
      "outputs": [
        {
          "name": "stderr",
          "output_type": "stream",
          "text": [
            "  1%|          | 14/2000 [00:00<00:15, 132.11it/s]"
          ]
        },
        {
          "name": "stdout",
          "output_type": "stream",
          "text": [
            "Episode 0/2000, Avg Reward (Last 50): 18.00, Epsilon: 0.9950\n"
          ]
        },
        {
          "name": "stderr",
          "output_type": "stream",
          "text": [
            "  4%|▎         | 71/2000 [00:00<00:16, 113.68it/s]"
          ]
        },
        {
          "name": "stdout",
          "output_type": "stream",
          "text": [
            "Episode 50/2000, Avg Reward (Last 50): 29.80, Epsilon: 0.7744\n"
          ]
        },
        {
          "name": "stderr",
          "output_type": "stream",
          "text": [
            "  6%|▌         | 112/2000 [00:01<00:27, 69.62it/s]"
          ]
        },
        {
          "name": "stdout",
          "output_type": "stream",
          "text": [
            "Episode 100/2000, Avg Reward (Last 50): 48.18, Epsilon: 0.6027\n"
          ]
        },
        {
          "name": "stderr",
          "output_type": "stream",
          "text": [
            "  8%|▊         | 155/2000 [00:02<00:45, 40.98it/s]"
          ]
        },
        {
          "name": "stdout",
          "output_type": "stream",
          "text": [
            "Episode 150/2000, Avg Reward (Last 50): 72.59, Epsilon: 0.4691\n"
          ]
        },
        {
          "name": "stderr",
          "output_type": "stream",
          "text": [
            " 10%|█         | 207/2000 [00:04<01:04, 27.66it/s]"
          ]
        },
        {
          "name": "stdout",
          "output_type": "stream",
          "text": [
            "Episode 200/2000, Avg Reward (Last 50): 110.69, Epsilon: 0.3651\n"
          ]
        },
        {
          "name": "stderr",
          "output_type": "stream",
          "text": [
            " 13%|█▎        | 253/2000 [00:06<01:16, 22.93it/s]"
          ]
        },
        {
          "name": "stdout",
          "output_type": "stream",
          "text": [
            "Episode 250/2000, Avg Reward (Last 50): 131.08, Epsilon: 0.2842\n"
          ]
        },
        {
          "name": "stderr",
          "output_type": "stream",
          "text": [
            " 15%|█▌        | 302/2000 [00:08<02:21, 11.98it/s]"
          ]
        },
        {
          "name": "stdout",
          "output_type": "stream",
          "text": [
            "Episode 300/2000, Avg Reward (Last 50): 160.25, Epsilon: 0.2212\n"
          ]
        },
        {
          "name": "stderr",
          "output_type": "stream",
          "text": [
            " 18%|█▊        | 353/2000 [00:12<01:00, 27.31it/s]"
          ]
        },
        {
          "name": "stdout",
          "output_type": "stream",
          "text": [
            "Episode 350/2000, Avg Reward (Last 50): 158.45, Epsilon: 0.1721\n"
          ]
        },
        {
          "name": "stderr",
          "output_type": "stream",
          "text": [
            " 20%|██        | 403/2000 [00:15<01:42, 15.53it/s]"
          ]
        },
        {
          "name": "stdout",
          "output_type": "stream",
          "text": [
            "Episode 400/2000, Avg Reward (Last 50): 206.06, Epsilon: 0.1340\n"
          ]
        },
        {
          "name": "stderr",
          "output_type": "stream",
          "text": [
            " 23%|██▎       | 453/2000 [00:19<02:07, 12.15it/s]"
          ]
        },
        {
          "name": "stdout",
          "output_type": "stream",
          "text": [
            "Episode 450/2000, Avg Reward (Last 50): 217.10, Epsilon: 0.1043\n"
          ]
        },
        {
          "name": "stderr",
          "output_type": "stream",
          "text": [
            " 25%|██▌       | 503/2000 [00:24<03:03,  8.17it/s]"
          ]
        },
        {
          "name": "stdout",
          "output_type": "stream",
          "text": [
            "Episode 500/2000, Avg Reward (Last 50): 253.02, Epsilon: 0.0812\n"
          ]
        },
        {
          "name": "stderr",
          "output_type": "stream",
          "text": [
            " 28%|██▊       | 552/2000 [00:29<02:25,  9.94it/s]"
          ]
        },
        {
          "name": "stdout",
          "output_type": "stream",
          "text": [
            "Episode 550/2000, Avg Reward (Last 50): 289.16, Epsilon: 0.0632\n"
          ]
        },
        {
          "name": "stderr",
          "output_type": "stream",
          "text": [
            " 30%|███       | 602/2000 [00:33<02:20,  9.97it/s]"
          ]
        },
        {
          "name": "stdout",
          "output_type": "stream",
          "text": [
            "Episode 600/2000, Avg Reward (Last 50): 247.45, Epsilon: 0.0492\n"
          ]
        },
        {
          "name": "stderr",
          "output_type": "stream",
          "text": [
            " 33%|███▎      | 653/2000 [00:39<02:20,  9.57it/s]"
          ]
        },
        {
          "name": "stdout",
          "output_type": "stream",
          "text": [
            "Episode 650/2000, Avg Reward (Last 50): 305.67, Epsilon: 0.0383\n"
          ]
        },
        {
          "name": "stderr",
          "output_type": "stream",
          "text": [
            " 35%|███▌      | 702/2000 [00:43<02:31,  8.56it/s]"
          ]
        },
        {
          "name": "stdout",
          "output_type": "stream",
          "text": [
            "Episode 700/2000, Avg Reward (Last 50): 229.57, Epsilon: 0.0298\n"
          ]
        },
        {
          "name": "stderr",
          "output_type": "stream",
          "text": [
            " 38%|███▊      | 752/2000 [00:50<02:39,  7.83it/s]"
          ]
        },
        {
          "name": "stdout",
          "output_type": "stream",
          "text": [
            "Episode 750/2000, Avg Reward (Last 50): 308.84, Epsilon: 0.0232\n"
          ]
        },
        {
          "name": "stderr",
          "output_type": "stream",
          "text": [
            " 40%|████      | 802/2000 [00:55<02:40,  7.45it/s]"
          ]
        },
        {
          "name": "stdout",
          "output_type": "stream",
          "text": [
            "Episode 800/2000, Avg Reward (Last 50): 336.98, Epsilon: 0.0180\n"
          ]
        },
        {
          "name": "stderr",
          "output_type": "stream",
          "text": [
            " 43%|████▎     | 852/2000 [01:04<02:58,  6.45it/s]"
          ]
        },
        {
          "name": "stdout",
          "output_type": "stream",
          "text": [
            "Episode 850/2000, Avg Reward (Last 50): 398.02, Epsilon: 0.0140\n"
          ]
        },
        {
          "name": "stderr",
          "output_type": "stream",
          "text": [
            " 45%|████▌     | 902/2000 [01:11<02:45,  6.62it/s]"
          ]
        },
        {
          "name": "stdout",
          "output_type": "stream",
          "text": [
            "Episode 900/2000, Avg Reward (Last 50): 393.31, Epsilon: 0.0109\n"
          ]
        },
        {
          "name": "stderr",
          "output_type": "stream",
          "text": [
            " 48%|████▊     | 952/2000 [01:19<02:56,  5.93it/s]"
          ]
        },
        {
          "name": "stdout",
          "output_type": "stream",
          "text": [
            "Episode 950/2000, Avg Reward (Last 50): 429.69, Epsilon: 0.0085\n"
          ]
        },
        {
          "name": "stderr",
          "output_type": "stream",
          "text": [
            " 50%|█████     | 1001/2000 [01:27<01:56,  8.55it/s]"
          ]
        },
        {
          "name": "stdout",
          "output_type": "stream",
          "text": [
            "Episode 1000/2000, Avg Reward (Last 50): 420.08, Epsilon: 0.0066\n"
          ]
        },
        {
          "name": "stderr",
          "output_type": "stream",
          "text": [
            " 53%|█████▎    | 1052/2000 [01:33<01:50,  8.58it/s]"
          ]
        },
        {
          "name": "stdout",
          "output_type": "stream",
          "text": [
            "Episode 1050/2000, Avg Reward (Last 50): 330.67, Epsilon: 0.0052\n"
          ]
        },
        {
          "name": "stderr",
          "output_type": "stream",
          "text": [
            " 55%|█████▌    | 1101/2000 [01:38<01:27, 10.31it/s]"
          ]
        },
        {
          "name": "stdout",
          "output_type": "stream",
          "text": [
            "Episode 1100/2000, Avg Reward (Last 50): 240.90, Epsilon: 0.0040\n"
          ]
        },
        {
          "name": "stderr",
          "output_type": "stream",
          "text": [
            " 58%|█████▊    | 1152/2000 [01:44<02:04,  6.79it/s]"
          ]
        },
        {
          "name": "stdout",
          "output_type": "stream",
          "text": [
            "Episode 1150/2000, Avg Reward (Last 50): 318.96, Epsilon: 0.0031\n"
          ]
        },
        {
          "name": "stderr",
          "output_type": "stream",
          "text": [
            " 60%|██████    | 1201/2000 [01:52<02:21,  5.63it/s]"
          ]
        },
        {
          "name": "stdout",
          "output_type": "stream",
          "text": [
            "Episode 1200/2000, Avg Reward (Last 50): 419.39, Epsilon: 0.0024\n"
          ]
        },
        {
          "name": "stderr",
          "output_type": "stream",
          "text": [
            " 63%|██████▎   | 1253/2000 [01:59<01:36,  7.72it/s]"
          ]
        },
        {
          "name": "stdout",
          "output_type": "stream",
          "text": [
            "Episode 1250/2000, Avg Reward (Last 50): 415.27, Epsilon: 0.0019\n"
          ]
        },
        {
          "name": "stderr",
          "output_type": "stream",
          "text": [
            " 65%|██████▌   | 1302/2000 [02:08<01:42,  6.82it/s]"
          ]
        },
        {
          "name": "stdout",
          "output_type": "stream",
          "text": [
            "Episode 1300/2000, Avg Reward (Last 50): 446.00, Epsilon: 0.0015\n"
          ]
        },
        {
          "name": "stderr",
          "output_type": "stream",
          "text": [
            " 68%|██████▊   | 1352/2000 [02:15<01:19,  8.13it/s]"
          ]
        },
        {
          "name": "stdout",
          "output_type": "stream",
          "text": [
            "Episode 1350/2000, Avg Reward (Last 50): 413.96, Epsilon: 0.0011\n"
          ]
        },
        {
          "name": "stderr",
          "output_type": "stream",
          "text": [
            " 70%|███████   | 1402/2000 [02:23<01:14,  8.06it/s]"
          ]
        },
        {
          "name": "stdout",
          "output_type": "stream",
          "text": [
            "Episode 1400/2000, Avg Reward (Last 50): 376.55, Epsilon: 0.0009\n"
          ]
        },
        {
          "name": "stderr",
          "output_type": "stream",
          "text": [
            " 73%|███████▎  | 1452/2000 [02:32<01:42,  5.36it/s]"
          ]
        },
        {
          "name": "stdout",
          "output_type": "stream",
          "text": [
            "Episode 1450/2000, Avg Reward (Last 50): 426.65, Epsilon: 0.0007\n"
          ]
        },
        {
          "name": "stderr",
          "output_type": "stream",
          "text": [
            " 75%|███████▌  | 1502/2000 [02:40<01:26,  5.79it/s]"
          ]
        },
        {
          "name": "stdout",
          "output_type": "stream",
          "text": [
            "Episode 1500/2000, Avg Reward (Last 50): 479.96, Epsilon: 0.0005\n"
          ]
        },
        {
          "name": "stderr",
          "output_type": "stream",
          "text": [
            " 78%|███████▊  | 1551/2000 [02:49<00:50,  8.95it/s]"
          ]
        },
        {
          "name": "stdout",
          "output_type": "stream",
          "text": [
            "Episode 1550/2000, Avg Reward (Last 50): 437.82, Epsilon: 0.0004\n"
          ]
        },
        {
          "name": "stderr",
          "output_type": "stream",
          "text": [
            " 80%|████████  | 1601/2000 [02:56<01:26,  4.62it/s]"
          ]
        },
        {
          "name": "stdout",
          "output_type": "stream",
          "text": [
            "Episode 1600/2000, Avg Reward (Last 50): 368.10, Epsilon: 0.0003\n"
          ]
        },
        {
          "name": "stderr",
          "output_type": "stream",
          "text": [
            " 83%|████████▎ | 1652/2000 [03:04<00:43,  7.98it/s]"
          ]
        },
        {
          "name": "stdout",
          "output_type": "stream",
          "text": [
            "Episode 1650/2000, Avg Reward (Last 50): 435.31, Epsilon: 0.0003\n"
          ]
        },
        {
          "name": "stderr",
          "output_type": "stream",
          "text": [
            " 85%|████████▌ | 1702/2000 [03:12<00:37,  8.02it/s]"
          ]
        },
        {
          "name": "stdout",
          "output_type": "stream",
          "text": [
            "Episode 1700/2000, Avg Reward (Last 50): 429.71, Epsilon: 0.0002\n"
          ]
        },
        {
          "name": "stderr",
          "output_type": "stream",
          "text": [
            " 88%|████████▊ | 1751/2000 [03:19<00:30,  8.13it/s]"
          ]
        },
        {
          "name": "stdout",
          "output_type": "stream",
          "text": [
            "Episode 1750/2000, Avg Reward (Last 50): 378.37, Epsilon: 0.0002\n"
          ]
        },
        {
          "name": "stderr",
          "output_type": "stream",
          "text": [
            " 90%|█████████ | 1802/2000 [03:28<00:31,  6.24it/s]"
          ]
        },
        {
          "name": "stdout",
          "output_type": "stream",
          "text": [
            "Episode 1800/2000, Avg Reward (Last 50): 426.33, Epsilon: 0.0001\n"
          ]
        },
        {
          "name": "stderr",
          "output_type": "stream",
          "text": [
            " 93%|█████████▎| 1852/2000 [03:36<00:22,  6.70it/s]"
          ]
        },
        {
          "name": "stdout",
          "output_type": "stream",
          "text": [
            "Episode 1850/2000, Avg Reward (Last 50): 415.14, Epsilon: 0.0001\n"
          ]
        },
        {
          "name": "stderr",
          "output_type": "stream",
          "text": [
            " 95%|█████████▌| 1903/2000 [03:43<00:06, 15.39it/s]"
          ]
        },
        {
          "name": "stdout",
          "output_type": "stream",
          "text": [
            "Episode 1900/2000, Avg Reward (Last 50): 408.12, Epsilon: 0.0001\n"
          ]
        },
        {
          "name": "stderr",
          "output_type": "stream",
          "text": [
            " 98%|█████████▊| 1952/2000 [03:51<00:07,  6.51it/s]"
          ]
        },
        {
          "name": "stdout",
          "output_type": "stream",
          "text": [
            "Episode 1950/2000, Avg Reward (Last 50): 369.22, Epsilon: 0.0001\n"
          ]
        },
        {
          "name": "stderr",
          "output_type": "stream",
          "text": [
            "100%|██████████| 2000/2000 [03:59<00:00,  8.36it/s]\n"
          ]
        },
        {
          "data": {
            "text/plain": [
              "(array([ 18.,  21.,  18., ..., 500., 500., 500.]),\n",
              " array([ 18.,  21.,  18., ..., 500., 500., 500.]))"
            ]
          },
          "execution_count": 24,
          "metadata": {},
          "output_type": "execute_result"
        }
      ],
      "source": [
        "# Example usage\n",
        "env = gym.make(\"CartPole-v1\")\n",
        "agent = sarsaAgent(env)\n",
        "agent.train(num_episodes=2000)"
      ]
    },
    {
      "cell_type": "code",
      "execution_count": null,
      "metadata": {
        "id": "G76ae-8fTqdW"
      },
      "outputs": [],
      "source": [
        "class QLearningAgent:\n",
        "  def __init__(self, env, alpha=0.1, gamma=0.99, tau_start=1.0, tau_decay=0.995, tau_min=0.05,numTilings=8, numTiles=10):\n",
        "    self.env = env\n",
        "    self.alpha = alpha\n",
        "    self.gamma = gamma\n",
        "    self.tau = tau_start\n",
        "    self.tau_decay = tau_decay\n",
        "    self.tau_min = tau_min\n",
        "\n",
        "    self.numTilings = numTilings\n",
        "    self.numTiles = numTiles\n",
        "\n",
        "    self.tiling = Tiling(env, numTilings, numTiles)\n",
        "    self.numActions = self.env.action_space.n\n",
        "\n",
        "    # Feature vector size: numTilings * numTiles * number_of_state_variables\n",
        "    self.numFeatures = self.numTilings * self.numTiles ** self.env.observation_space.shape[0]\n",
        "    # Weight vector for each action.\n",
        "    self.weights = np.zeros((self.numActions, self.numFeatures))\n",
        "\n",
        "  def featureVector(self, state, action):\n",
        "    \"\"\" Convert a continuous state into a binary feature vector. \"\"\"\n",
        "    discretized_indices = self.tiling.discretize(state)\n",
        "    featureVector = np.zeros(self.numTilings * self.numTiles**4)\n",
        "\n",
        "    for i, ds in enumerate(discretized_indices):\n",
        "        index = sum(ds[d] * (self.numTiles**d) for d in range(len(ds)))  # Multi-dim index\n",
        "        feature_index = i * self.numTiles**4 + index\n",
        "        featureVector[feature_index] = 1  # Activate feature\n",
        "\n",
        "    return featureVector\n",
        "\n",
        "  def getQvalue(self, state, action):\n",
        "    \"\"\" Compute Q(s, a) = θ^T * φ(s, a). \"\"\"\n",
        "    phi = self.featureVector(state, action)\n",
        "    return np.dot(self.weights[action], phi)\n",
        "\n",
        "  def choose_action_softmax(self, state):\n",
        "    \"\"\" Choose an action using a softmax (Boltzmann) policy. \"\"\"\n",
        "    q_values = np.array([self.getQvalue(state, a) for a in range(self.numActions)])\n",
        "    # For numerical stability, subtract the maximum Q-value.\n",
        "    exp_values = np.exp((q_values - np.max(q_values)) / self.tau)\n",
        "    probs = exp_values / np.sum(exp_values)\n",
        "    return np.random.choice(self.numActions, p=probs)\n",
        "\n",
        "  def update(self, state, action, reward, next_state):\n",
        "    \"\"\" Q-learning update rule with linear function approximation. \"\"\"\n",
        "    phi = self.featureVector(state, action)\n",
        "    q_sa = self.getQvalue(state, action)\n",
        "    # For Q-learning, we use the maximum Q-value over next actions.\n",
        "    q_next_max = max([self.getQvalue(next_state, a) for a in range(self.numActions)])\n",
        "    td_target = reward + self.gamma * q_next_max\n",
        "    td_error = td_target - q_sa\n",
        "    self.weights[action] += (self.alpha/self.numTilings) * td_error * phi\n",
        "\n",
        "  def train(self, num_episodes):\n",
        "    episode_rewards = np.zeros(num_episodes)\n",
        "    steps_to_completion = np.zeros(num_episodes)\n",
        "\n",
        "    for i in tqdm(range(num_episodes)):\n",
        "      totalReward = 0\n",
        "      steps = 0\n",
        "      state, _ = self.env.reset()\n",
        "      done = False\n",
        "\n",
        "      while not done:\n",
        "          action = self.choose_action_softmax(state)\n",
        "          next_state, reward, terminated, truncated, _ = self.env.step(action)\n",
        "          done = terminated or truncated\n",
        "\n",
        "          self.update(state, action, reward, next_state)\n",
        "\n",
        "          state = next_state\n",
        "          totalReward += reward\n",
        "          steps += 1\n",
        "\n",
        "      episode_rewards[i] = totalReward\n",
        "      steps_to_completion[i] = steps\n",
        "\n",
        "      # Decay the temperature\n",
        "      self.tau = max(self.tau_min, self.tau * self.tau_decay)\n",
        "      if i % 50 == 0:\n",
        "        avg_reward = np.mean(episode_rewards[max(0, i-50):i+1])\n",
        "        print(f\"Episode {i}/{num_episodes}, Avg Reward (Last 50): {avg_reward:.2f}, Tau: {self.tau:.4f}\")\n",
        "\n",
        "    return episode_rewards, steps_to_completion"
      ]
    },
    {
      "cell_type": "code",
      "execution_count": null,
      "metadata": {
        "colab": {
          "base_uri": "https://localhost:8080/"
        },
        "id": "f6l4-2xRUI-D",
        "outputId": "0c686652-152c-42d3-8217-0cfd1b59d25c"
      },
      "outputs": [
        {
          "name": "stderr",
          "output_type": "stream",
          "text": [
            "  0%|          | 4/2000 [00:00<01:05, 30.33it/s]"
          ]
        },
        {
          "name": "stdout",
          "output_type": "stream",
          "text": [
            "Episode 0/2000, Avg Reward (Last 50): 13.00, Tau: 0.9990\n"
          ]
        },
        {
          "name": "stderr",
          "output_type": "stream",
          "text": [
            "  3%|▎         | 55/2000 [00:02<01:33, 20.79it/s]"
          ]
        },
        {
          "name": "stdout",
          "output_type": "stream",
          "text": [
            "Episode 50/2000, Avg Reward (Last 50): 33.90, Tau: 0.9503\n"
          ]
        },
        {
          "name": "stderr",
          "output_type": "stream",
          "text": [
            "  5%|▌         | 103/2000 [00:05<01:58, 16.03it/s]"
          ]
        },
        {
          "name": "stdout",
          "output_type": "stream",
          "text": [
            "Episode 100/2000, Avg Reward (Last 50): 43.61, Tau: 0.9039\n"
          ]
        },
        {
          "name": "stderr",
          "output_type": "stream",
          "text": [
            "  8%|▊         | 152/2000 [00:08<02:58, 10.36it/s]"
          ]
        },
        {
          "name": "stdout",
          "output_type": "stream",
          "text": [
            "Episode 150/2000, Avg Reward (Last 50): 51.80, Tau: 0.8598\n"
          ]
        },
        {
          "name": "stderr",
          "output_type": "stream",
          "text": [
            " 10%|█         | 203/2000 [00:13<02:17, 13.11it/s]"
          ]
        },
        {
          "name": "stdout",
          "output_type": "stream",
          "text": [
            "Episode 200/2000, Avg Reward (Last 50): 60.63, Tau: 0.8178\n"
          ]
        },
        {
          "name": "stderr",
          "output_type": "stream",
          "text": [
            " 13%|█▎        | 252/2000 [00:19<05:14,  5.55it/s]"
          ]
        },
        {
          "name": "stdout",
          "output_type": "stream",
          "text": [
            "Episode 250/2000, Avg Reward (Last 50): 100.53, Tau: 0.7779\n"
          ]
        },
        {
          "name": "stderr",
          "output_type": "stream",
          "text": [
            " 15%|█▌        | 301/2000 [00:30<06:04,  4.67it/s]"
          ]
        },
        {
          "name": "stdout",
          "output_type": "stream",
          "text": [
            "Episode 300/2000, Avg Reward (Last 50): 161.90, Tau: 0.7400\n"
          ]
        },
        {
          "name": "stderr",
          "output_type": "stream",
          "text": [
            " 18%|█▊        | 351/2000 [00:43<06:40,  4.12it/s]"
          ]
        },
        {
          "name": "stdout",
          "output_type": "stream",
          "text": [
            "Episode 350/2000, Avg Reward (Last 50): 177.53, Tau: 0.7039\n"
          ]
        },
        {
          "name": "stderr",
          "output_type": "stream",
          "text": [
            " 20%|██        | 402/2000 [00:56<06:20,  4.20it/s]"
          ]
        },
        {
          "name": "stdout",
          "output_type": "stream",
          "text": [
            "Episode 400/2000, Avg Reward (Last 50): 201.14, Tau: 0.6695\n"
          ]
        },
        {
          "name": "stderr",
          "output_type": "stream",
          "text": [
            " 23%|██▎       | 451/2000 [01:13<12:13,  2.11it/s]"
          ]
        },
        {
          "name": "stdout",
          "output_type": "stream",
          "text": [
            "Episode 450/2000, Avg Reward (Last 50): 234.37, Tau: 0.6368\n"
          ]
        },
        {
          "name": "stderr",
          "output_type": "stream",
          "text": [
            " 25%|██▌       | 501/2000 [01:34<11:31,  2.17it/s]"
          ]
        },
        {
          "name": "stdout",
          "output_type": "stream",
          "text": [
            "Episode 500/2000, Avg Reward (Last 50): 321.90, Tau: 0.6058\n"
          ]
        },
        {
          "name": "stderr",
          "output_type": "stream",
          "text": [
            " 28%|██▊       | 551/2000 [01:57<11:30,  2.10it/s]"
          ]
        },
        {
          "name": "stdout",
          "output_type": "stream",
          "text": [
            "Episode 550/2000, Avg Reward (Last 50): 338.02, Tau: 0.5762\n"
          ]
        },
        {
          "name": "stderr",
          "output_type": "stream",
          "text": [
            " 30%|███       | 601/2000 [02:21<10:48,  2.16it/s]"
          ]
        },
        {
          "name": "stdout",
          "output_type": "stream",
          "text": [
            "Episode 600/2000, Avg Reward (Last 50): 354.67, Tau: 0.5481\n"
          ]
        },
        {
          "name": "stderr",
          "output_type": "stream",
          "text": [
            " 33%|███▎      | 651/2000 [02:45<10:40,  2.11it/s]"
          ]
        },
        {
          "name": "stdout",
          "output_type": "stream",
          "text": [
            "Episode 650/2000, Avg Reward (Last 50): 346.90, Tau: 0.5214\n"
          ]
        },
        {
          "name": "stderr",
          "output_type": "stream",
          "text": [
            " 35%|███▌      | 701/2000 [03:09<11:36,  1.87it/s]"
          ]
        },
        {
          "name": "stdout",
          "output_type": "stream",
          "text": [
            "Episode 700/2000, Avg Reward (Last 50): 360.08, Tau: 0.4959\n"
          ]
        },
        {
          "name": "stderr",
          "output_type": "stream",
          "text": [
            " 38%|███▊      | 751/2000 [03:34<11:33,  1.80it/s]"
          ]
        },
        {
          "name": "stdout",
          "output_type": "stream",
          "text": [
            "Episode 750/2000, Avg Reward (Last 50): 363.25, Tau: 0.4717\n"
          ]
        },
        {
          "name": "stderr",
          "output_type": "stream",
          "text": [
            " 40%|████      | 801/2000 [03:56<11:38,  1.72it/s]"
          ]
        },
        {
          "name": "stdout",
          "output_type": "stream",
          "text": [
            "Episode 800/2000, Avg Reward (Last 50): 330.67, Tau: 0.4487\n"
          ]
        },
        {
          "name": "stderr",
          "output_type": "stream",
          "text": [
            " 43%|████▎     | 851/2000 [04:20<09:18,  2.06it/s]"
          ]
        },
        {
          "name": "stdout",
          "output_type": "stream",
          "text": [
            "Episode 850/2000, Avg Reward (Last 50): 357.29, Tau: 0.4268\n"
          ]
        },
        {
          "name": "stderr",
          "output_type": "stream",
          "text": [
            " 45%|████▌     | 901/2000 [04:42<07:04,  2.59it/s]"
          ]
        },
        {
          "name": "stdout",
          "output_type": "stream",
          "text": [
            "Episode 900/2000, Avg Reward (Last 50): 322.59, Tau: 0.4060\n"
          ]
        },
        {
          "name": "stderr",
          "output_type": "stream",
          "text": [
            " 48%|████▊     | 951/2000 [05:03<06:53,  2.54it/s]"
          ]
        },
        {
          "name": "stdout",
          "output_type": "stream",
          "text": [
            "Episode 950/2000, Avg Reward (Last 50): 312.31, Tau: 0.3862\n"
          ]
        },
        {
          "name": "stderr",
          "output_type": "stream",
          "text": [
            " 50%|█████     | 1001/2000 [05:29<07:18,  2.28it/s]"
          ]
        },
        {
          "name": "stdout",
          "output_type": "stream",
          "text": [
            "Episode 1000/2000, Avg Reward (Last 50): 373.41, Tau: 0.3673\n"
          ]
        },
        {
          "name": "stderr",
          "output_type": "stream",
          "text": [
            " 53%|█████▎    | 1051/2000 [05:52<06:41,  2.36it/s]"
          ]
        },
        {
          "name": "stdout",
          "output_type": "stream",
          "text": [
            "Episode 1050/2000, Avg Reward (Last 50): 349.37, Tau: 0.3494\n"
          ]
        },
        {
          "name": "stderr",
          "output_type": "stream",
          "text": [
            " 55%|█████▌    | 1101/2000 [06:16<08:35,  1.74it/s]"
          ]
        },
        {
          "name": "stdout",
          "output_type": "stream",
          "text": [
            "Episode 1100/2000, Avg Reward (Last 50): 345.24, Tau: 0.3324\n"
          ]
        },
        {
          "name": "stderr",
          "output_type": "stream",
          "text": [
            " 58%|█████▊    | 1151/2000 [06:39<07:17,  1.94it/s]"
          ]
        },
        {
          "name": "stdout",
          "output_type": "stream",
          "text": [
            "Episode 1150/2000, Avg Reward (Last 50): 348.65, Tau: 0.3161\n"
          ]
        },
        {
          "name": "stderr",
          "output_type": "stream",
          "text": [
            " 60%|██████    | 1201/2000 [07:03<06:53,  1.93it/s]"
          ]
        },
        {
          "name": "stdout",
          "output_type": "stream",
          "text": [
            "Episode 1200/2000, Avg Reward (Last 50): 353.41, Tau: 0.3007\n"
          ]
        },
        {
          "name": "stderr",
          "output_type": "stream",
          "text": [
            " 63%|██████▎   | 1251/2000 [07:25<05:07,  2.44it/s]"
          ]
        },
        {
          "name": "stdout",
          "output_type": "stream",
          "text": [
            "Episode 1250/2000, Avg Reward (Last 50): 319.00, Tau: 0.2860\n"
          ]
        },
        {
          "name": "stderr",
          "output_type": "stream",
          "text": [
            " 65%|██████▌   | 1301/2000 [07:47<05:03,  2.31it/s]"
          ]
        },
        {
          "name": "stdout",
          "output_type": "stream",
          "text": [
            "Episode 1300/2000, Avg Reward (Last 50): 320.06, Tau: 0.2721\n"
          ]
        },
        {
          "name": "stderr",
          "output_type": "stream",
          "text": [
            " 68%|██████▊   | 1351/2000 [08:11<05:11,  2.08it/s]"
          ]
        },
        {
          "name": "stdout",
          "output_type": "stream",
          "text": [
            "Episode 1350/2000, Avg Reward (Last 50): 355.39, Tau: 0.2588\n"
          ]
        },
        {
          "name": "stderr",
          "output_type": "stream",
          "text": [
            " 70%|███████   | 1401/2000 [08:34<05:51,  1.71it/s]"
          ]
        },
        {
          "name": "stdout",
          "output_type": "stream",
          "text": [
            "Episode 1400/2000, Avg Reward (Last 50): 340.76, Tau: 0.2462\n"
          ]
        },
        {
          "name": "stderr",
          "output_type": "stream",
          "text": [
            " 73%|███████▎  | 1451/2000 [08:56<03:39,  2.50it/s]"
          ]
        },
        {
          "name": "stdout",
          "output_type": "stream",
          "text": [
            "Episode 1450/2000, Avg Reward (Last 50): 324.29, Tau: 0.2342\n"
          ]
        },
        {
          "name": "stderr",
          "output_type": "stream",
          "text": [
            " 75%|███████▌  | 1501/2000 [09:19<03:11,  2.61it/s]"
          ]
        },
        {
          "name": "stdout",
          "output_type": "stream",
          "text": [
            "Episode 1500/2000, Avg Reward (Last 50): 333.94, Tau: 0.2227\n"
          ]
        },
        {
          "name": "stderr",
          "output_type": "stream",
          "text": [
            " 78%|███████▊  | 1551/2000 [09:40<02:57,  2.53it/s]"
          ]
        },
        {
          "name": "stdout",
          "output_type": "stream",
          "text": [
            "Episode 1550/2000, Avg Reward (Last 50): 300.73, Tau: 0.2119\n"
          ]
        },
        {
          "name": "stderr",
          "output_type": "stream",
          "text": [
            " 80%|████████  | 1601/2000 [10:01<04:35,  1.45it/s]"
          ]
        },
        {
          "name": "stdout",
          "output_type": "stream",
          "text": [
            "Episode 1600/2000, Avg Reward (Last 50): 319.49, Tau: 0.2015\n"
          ]
        },
        {
          "name": "stderr",
          "output_type": "stream",
          "text": [
            " 83%|████████▎ | 1651/2000 [10:24<02:21,  2.47it/s]"
          ]
        },
        {
          "name": "stdout",
          "output_type": "stream",
          "text": [
            "Episode 1650/2000, Avg Reward (Last 50): 349.08, Tau: 0.1917\n"
          ]
        },
        {
          "name": "stderr",
          "output_type": "stream",
          "text": [
            " 85%|████████▌ | 1701/2000 [10:46<01:58,  2.51it/s]"
          ]
        },
        {
          "name": "stdout",
          "output_type": "stream",
          "text": [
            "Episode 1700/2000, Avg Reward (Last 50): 311.86, Tau: 0.1823\n"
          ]
        },
        {
          "name": "stderr",
          "output_type": "stream",
          "text": [
            " 88%|████████▊ | 1751/2000 [11:07<01:38,  2.52it/s]"
          ]
        },
        {
          "name": "stdout",
          "output_type": "stream",
          "text": [
            "Episode 1750/2000, Avg Reward (Last 50): 302.82, Tau: 0.1734\n"
          ]
        },
        {
          "name": "stderr",
          "output_type": "stream",
          "text": [
            " 90%|█████████ | 1801/2000 [11:27<01:22,  2.40it/s]"
          ]
        },
        {
          "name": "stdout",
          "output_type": "stream",
          "text": [
            "Episode 1800/2000, Avg Reward (Last 50): 316.00, Tau: 0.1650\n"
          ]
        },
        {
          "name": "stderr",
          "output_type": "stream",
          "text": [
            " 93%|█████████▎| 1851/2000 [11:50<01:14,  2.00it/s]"
          ]
        },
        {
          "name": "stdout",
          "output_type": "stream",
          "text": [
            "Episode 1850/2000, Avg Reward (Last 50): 319.76, Tau: 0.1569\n"
          ]
        },
        {
          "name": "stderr",
          "output_type": "stream",
          "text": [
            " 95%|█████████▌| 1901/2000 [12:12<00:44,  2.22it/s]"
          ]
        },
        {
          "name": "stdout",
          "output_type": "stream",
          "text": [
            "Episode 1900/2000, Avg Reward (Last 50): 326.16, Tau: 0.1493\n"
          ]
        },
        {
          "name": "stderr",
          "output_type": "stream",
          "text": [
            " 98%|█████████▊| 1951/2000 [12:36<00:22,  2.23it/s]"
          ]
        },
        {
          "name": "stdout",
          "output_type": "stream",
          "text": [
            "Episode 1950/2000, Avg Reward (Last 50): 346.16, Tau: 0.1420\n"
          ]
        },
        {
          "name": "stderr",
          "output_type": "stream",
          "text": [
            "100%|██████████| 2000/2000 [12:56<00:00,  2.57it/s]\n"
          ]
        }
      ],
      "source": [
        "env = gym.make(\"CartPole-v1\")\n",
        "agent = QLearningAgent(env, alpha=0.1, gamma=0.99, tau_start=1.0, tau_decay=0.999, tau_min=0.05, numTilings=8, numTiles=5)\n",
        "rewards, steps = agent.train(num_episodes=2000)"
      ]
    },
    {
      "cell_type": "markdown",
      "metadata": {
        "id": "3Wvj2DZo7U9K"
      },
      "source": [
        "# Mountain car"
      ]
    },
    {
      "cell_type": "code",
      "execution_count": null,
      "metadata": {
        "colab": {
          "base_uri": "https://localhost:8080/"
        },
        "id": "xYbpqhUqUN5A",
        "outputId": "d9099336-c62c-4b5c-dadc-91d1f11775be"
      },
      "outputs": [
        {
          "name": "stdout",
          "output_type": "stream",
          "text": [
            "Episode 0/5000, Avg Reward (Last 100): -200.00, Epsilon: 0.9950\n",
            "Episode 100/5000, Avg Reward (Last 100): -200.00, Epsilon: 0.6027\n",
            "Episode 200/5000, Avg Reward (Last 100): -199.73, Epsilon: 0.3651\n",
            "Episode 300/5000, Avg Reward (Last 100): -196.72, Epsilon: 0.2212\n",
            "Episode 400/5000, Avg Reward (Last 100): -189.07, Epsilon: 0.1340\n",
            "Episode 500/5000, Avg Reward (Last 100): -173.24, Epsilon: 0.0812\n",
            "Episode 600/5000, Avg Reward (Last 100): -162.98, Epsilon: 0.0492\n",
            "Episode 700/5000, Avg Reward (Last 100): -155.02, Epsilon: 0.0298\n",
            "Episode 800/5000, Avg Reward (Last 100): -148.74, Epsilon: 0.0180\n",
            "Episode 900/5000, Avg Reward (Last 100): -143.95, Epsilon: 0.0109\n",
            "Episode 1000/5000, Avg Reward (Last 100): -138.17, Epsilon: 0.0066\n",
            "Episode 1100/5000, Avg Reward (Last 100): -129.80, Epsilon: 0.0040\n",
            "Episode 1200/5000, Avg Reward (Last 100): -135.52, Epsilon: 0.0024\n",
            "Episode 1300/5000, Avg Reward (Last 100): -136.93, Epsilon: 0.0015\n",
            "Episode 1400/5000, Avg Reward (Last 100): -130.19, Epsilon: 0.0009\n",
            "Episode 1500/5000, Avg Reward (Last 100): -116.07, Epsilon: 0.0005\n",
            "Episode 1600/5000, Avg Reward (Last 100): -114.15, Epsilon: 0.0003\n",
            "Episode 1700/5000, Avg Reward (Last 100): -114.76, Epsilon: 0.0002\n",
            "Episode 1800/5000, Avg Reward (Last 100): -118.55, Epsilon: 0.0001\n",
            "Episode 1900/5000, Avg Reward (Last 100): -118.73, Epsilon: 0.0001\n",
            "Episode 2000/5000, Avg Reward (Last 100): -117.36, Epsilon: 0.0001\n",
            "Episode 2100/5000, Avg Reward (Last 100): -115.61, Epsilon: 0.0001\n",
            "Episode 2200/5000, Avg Reward (Last 100): -110.47, Epsilon: 0.0001\n",
            "Episode 2300/5000, Avg Reward (Last 100): -106.47, Epsilon: 0.0001\n",
            "Episode 2400/5000, Avg Reward (Last 100): -113.39, Epsilon: 0.0001\n",
            "Episode 2500/5000, Avg Reward (Last 100): -115.37, Epsilon: 0.0001\n",
            "Episode 2600/5000, Avg Reward (Last 100): -110.99, Epsilon: 0.0001\n",
            "Episode 2700/5000, Avg Reward (Last 100): -110.46, Epsilon: 0.0001\n",
            "Episode 2800/5000, Avg Reward (Last 100): -111.12, Epsilon: 0.0001\n",
            "Episode 2900/5000, Avg Reward (Last 100): -112.12, Epsilon: 0.0001\n",
            "Episode 3000/5000, Avg Reward (Last 100): -106.47, Epsilon: 0.0001\n",
            "Episode 3100/5000, Avg Reward (Last 100): -111.13, Epsilon: 0.0001\n",
            "Episode 3200/5000, Avg Reward (Last 100): -108.82, Epsilon: 0.0001\n",
            "Episode 3300/5000, Avg Reward (Last 100): -110.92, Epsilon: 0.0001\n",
            "Episode 3400/5000, Avg Reward (Last 100): -109.09, Epsilon: 0.0001\n",
            "Episode 3500/5000, Avg Reward (Last 100): -110.04, Epsilon: 0.0001\n",
            "Episode 3600/5000, Avg Reward (Last 100): -112.67, Epsilon: 0.0001\n",
            "Episode 3700/5000, Avg Reward (Last 100): -110.09, Epsilon: 0.0001\n",
            "Episode 3800/5000, Avg Reward (Last 100): -109.67, Epsilon: 0.0001\n",
            "Episode 3900/5000, Avg Reward (Last 100): -110.51, Epsilon: 0.0001\n",
            "Episode 4000/5000, Avg Reward (Last 100): -110.75, Epsilon: 0.0001\n",
            "Episode 4100/5000, Avg Reward (Last 100): -109.50, Epsilon: 0.0001\n",
            "Episode 4200/5000, Avg Reward (Last 100): -108.76, Epsilon: 0.0001\n",
            "Episode 4300/5000, Avg Reward (Last 100): -113.60, Epsilon: 0.0001\n",
            "Episode 4400/5000, Avg Reward (Last 100): -112.89, Epsilon: 0.0001\n",
            "Episode 4500/5000, Avg Reward (Last 100): -112.33, Epsilon: 0.0001\n",
            "Episode 4600/5000, Avg Reward (Last 100): -112.41, Epsilon: 0.0001\n",
            "Episode 4700/5000, Avg Reward (Last 100): -111.62, Epsilon: 0.0001\n",
            "Episode 4800/5000, Avg Reward (Last 100): -112.58, Epsilon: 0.0001\n",
            "Episode 4900/5000, Avg Reward (Last 100): -106.06, Epsilon: 0.0001\n"
          ]
        }
      ],
      "source": [
        "import gymnasium as gym\n",
        "import numpy as np\n",
        "from tqdm import tqdm\n",
        "\n",
        "class Tiling:\n",
        "    def __init__(self, env, numTilings=8, numTiles=10):\n",
        "        self.numTilings = numTilings\n",
        "        self.numTiles = numTiles\n",
        "\n",
        "        # Define MountainCar state limits\n",
        "        position_min, position_max = -1.2, 0.6\n",
        "        velocity_min, velocity_max = -0.07, 0.07\n",
        "\n",
        "        self.low = np.array([position_min, velocity_min])\n",
        "        self.high = np.array([position_max, velocity_max])\n",
        "\n",
        "        # Define offsets for tilings\n",
        "        self.offsets = [\n",
        "            (high - low) / self.numTiles * np.linspace(0, 1, self.numTilings, endpoint=False)\n",
        "            for low, high in zip(self.low, self.high)\n",
        "        ]\n",
        "\n",
        "        self.tilings = self.createTilings()\n",
        "\n",
        "    def createTilingGrid(self, low, high, bins, offsets):\n",
        "        return [np.linspace(low[dim], high[dim], bins + 1)[1:-1] + offsets[dim] for dim in range(len(low))]\n",
        "\n",
        "    def createTilings(self):\n",
        "        return [self.createTilingGrid(self.low, self.high, self.numTiles, [offset[i] for offset in self.offsets]) for i in range(self.numTilings)]\n",
        "\n",
        "    def discretize(self, state):\n",
        "        return [tuple(np.digitize(state[dim], bins) for dim, bins in enumerate(tiling)) for tiling in self.tilings]\n",
        "\n",
        "class sarsaAgent:\n",
        "    def __init__(self, env, alpha=0.1, gamma=0.99, epsilon_start=1.0, epsilon_decay=0.995, epsilon_min=0.0001, numTilings=8, numTiles=10):\n",
        "        self.env = env\n",
        "        self.alpha = alpha\n",
        "        self.gamma = gamma\n",
        "        self.epsilon = epsilon_start\n",
        "        self.epsilon_decay = epsilon_decay\n",
        "        self.epsilon_min = epsilon_min\n",
        "        self.numTilings = numTilings\n",
        "        self.numTiles = numTiles\n",
        "\n",
        "        self.tiling = Tiling(env, numTilings, numTiles)\n",
        "        self.numActions = self.env.action_space.n\n",
        "\n",
        "        self.numFeatures = self.numTilings * self.numTiles**2  # Only 2D state (position, velocity)\n",
        "        self.weights = np.zeros((self.numActions, self.numFeatures))\n",
        "\n",
        "    def featureVector(self, state, action):\n",
        "        \"\"\" Convert a continuous state into a binary feature vector. \"\"\"\n",
        "        discretized_indices = self.tiling.discretize(state)\n",
        "        featureVector = np.zeros(self.numFeatures)\n",
        "\n",
        "        for i, ds in enumerate(discretized_indices):\n",
        "            index = ds[0] * self.numTiles + ds[1]  # 2D index\n",
        "            feature_index = i * self.numTiles**2 + index\n",
        "            featureVector[feature_index] = 1  # Activate feature\n",
        "\n",
        "        return featureVector\n",
        "\n",
        "    def getQvalues(self, state, action):\n",
        "        return np.dot(self.weights[action], self.featureVector(state, action))\n",
        "\n",
        "    def choose_epsilonGreedy_action(self, state):\n",
        "        if np.random.rand() < self.epsilon:\n",
        "            return self.env.action_space.sample()\n",
        "        q_values = [self.getQvalues(state, a) for a in range(self.numActions)]\n",
        "        return np.argmax(q_values)\n",
        "\n",
        "    def update(self, state, action, reward, next_state, next_action):\n",
        "        phi = self.featureVector(state, action)\n",
        "        q_sa = self.getQvalues(state, action)\n",
        "        q_next = self.getQvalues(next_state, next_action)\n",
        "\n",
        "        td_target = reward + self.gamma * q_next\n",
        "        td_error = td_target - q_sa\n",
        "        self.weights[action] += (self.alpha / self.numTilings) * td_error * phi\n",
        "\n",
        "    def train(self, num_episodes):\n",
        "        episode_rewards = np.zeros(num_episodes)\n",
        "        steps_to_completion = np.zeros(num_episodes)\n",
        "\n",
        "        for i in range(num_episodes):\n",
        "            totalReward, steps = 0, 0\n",
        "            state, _ = self.env.reset()\n",
        "            action = self.choose_epsilonGreedy_action(state)\n",
        "            done = False\n",
        "\n",
        "            while not done:\n",
        "                next_state, reward, terminated, truncated, _ = self.env.step(action)\n",
        "                next_action = self.choose_epsilonGreedy_action(next_state)\n",
        "\n",
        "                self.update(state, action, reward, next_state, next_action)\n",
        "\n",
        "                state, action = next_state, next_action\n",
        "                totalReward += reward\n",
        "                steps += 1\n",
        "                done = terminated or truncated\n",
        "\n",
        "            episode_rewards[i] = totalReward\n",
        "            steps_to_completion[i] = steps\n",
        "\n",
        "            self.epsilon = max(self.epsilon_min, self.epsilon * self.epsilon_decay)\n",
        "            if i % 100 == 0:\n",
        "                avg_reward = np.mean(episode_rewards[max(0, i-100):i+1])\n",
        "                print(f\"Episode {i}/{num_episodes}, Avg Reward (Last 100): {avg_reward:.2f}, Epsilon: {self.epsilon:.4f}\")\n",
        "\n",
        "        return episode_rewards, steps_to_completion\n",
        "\n",
        "# Initialize environment and agent for MountainCar-v0\n",
        "env = gym.make(\"MountainCar-v0\")\n",
        "agent = sarsaAgent(alpha=0.1, gamma=0.99, epsilon_start=1.0, epsilon_decay=0.995, epsilon_min=0.0001, numTilings=8, numTiles=10)\n",
        "\n",
        "# Train the agent\n",
        "rewards, steps = agent.train(5000)\n"
      ]
    },
    {
      "cell_type": "code",
      "execution_count": null,
      "metadata": {
        "colab": {
          "background_save": true,
          "base_uri": "https://localhost:8080/"
        },
        "id": "vk4bZIUCtxrr",
        "outputId": "7e41dcfe-5b19-4d31-f678-7ca4605de20d"
      },
      "outputs": [
        {
          "name": "stdout",
          "output_type": "stream",
          "text": [
            "Episode 0/5000, Avg Reward (Last 100): -200.00, Tau: 0.9950\n",
            "Episode 100/5000, Avg Reward (Last 100): -200.00, Tau: 0.6027\n",
            "Episode 200/5000, Avg Reward (Last 100): -200.00, Tau: 0.3651\n",
            "Episode 300/5000, Avg Reward (Last 100): -199.59, Tau: 0.2212\n",
            "Episode 400/5000, Avg Reward (Last 100): -193.51, Tau: 0.1340\n",
            "Episode 500/5000, Avg Reward (Last 100): -182.09, Tau: 0.0812\n",
            "Episode 600/5000, Avg Reward (Last 100): -162.46, Tau: 0.0500\n",
            "Episode 700/5000, Avg Reward (Last 100): -162.31, Tau: 0.0500\n",
            "Episode 800/5000, Avg Reward (Last 100): -151.55, Tau: 0.0500\n",
            "Episode 900/5000, Avg Reward (Last 100): -146.87, Tau: 0.0500\n",
            "Episode 1000/5000, Avg Reward (Last 100): -137.23, Tau: 0.0500\n",
            "Episode 1100/5000, Avg Reward (Last 100): -125.98, Tau: 0.0500\n",
            "Episode 1200/5000, Avg Reward (Last 100): -125.00, Tau: 0.0500\n",
            "Episode 1300/5000, Avg Reward (Last 100): -124.79, Tau: 0.0500\n",
            "Episode 1400/5000, Avg Reward (Last 100): -124.00, Tau: 0.0500\n",
            "Episode 1500/5000, Avg Reward (Last 100): -125.90, Tau: 0.0500\n",
            "Episode 1600/5000, Avg Reward (Last 100): -135.16, Tau: 0.0500\n",
            "Episode 1700/5000, Avg Reward (Last 100): -131.98, Tau: 0.0500\n",
            "Episode 1800/5000, Avg Reward (Last 100): -117.84, Tau: 0.0500\n",
            "Episode 1900/5000, Avg Reward (Last 100): -111.97, Tau: 0.0500\n",
            "Episode 2000/5000, Avg Reward (Last 100): -111.95, Tau: 0.0500\n",
            "Episode 2100/5000, Avg Reward (Last 100): -116.96, Tau: 0.0500\n",
            "Episode 2200/5000, Avg Reward (Last 100): -115.23, Tau: 0.0500\n",
            "Episode 2300/5000, Avg Reward (Last 100): -112.98, Tau: 0.0500\n",
            "Episode 2400/5000, Avg Reward (Last 100): -109.47, Tau: 0.0500\n",
            "Episode 2500/5000, Avg Reward (Last 100): -113.23, Tau: 0.0500\n",
            "Episode 2600/5000, Avg Reward (Last 100): -113.86, Tau: 0.0500\n",
            "Episode 2700/5000, Avg Reward (Last 100): -117.61, Tau: 0.0500\n",
            "Episode 2800/5000, Avg Reward (Last 100): -112.61, Tau: 0.0500\n",
            "Episode 2900/5000, Avg Reward (Last 100): -113.12, Tau: 0.0500\n",
            "Episode 3000/5000, Avg Reward (Last 100): -113.49, Tau: 0.0500\n",
            "Episode 3100/5000, Avg Reward (Last 100): -112.44, Tau: 0.0500\n",
            "Episode 3200/5000, Avg Reward (Last 100): -114.07, Tau: 0.0500\n",
            "Episode 3300/5000, Avg Reward (Last 100): -111.87, Tau: 0.0500\n",
            "Episode 3400/5000, Avg Reward (Last 100): -108.33, Tau: 0.0500\n",
            "Episode 3500/5000, Avg Reward (Last 100): -108.54, Tau: 0.0500\n",
            "Episode 3600/5000, Avg Reward (Last 100): -106.98, Tau: 0.0500\n",
            "Episode 3700/5000, Avg Reward (Last 100): -109.53, Tau: 0.0500\n",
            "Episode 3800/5000, Avg Reward (Last 100): -109.80, Tau: 0.0500\n",
            "Episode 3900/5000, Avg Reward (Last 100): -107.74, Tau: 0.0500\n",
            "Episode 4000/5000, Avg Reward (Last 100): -105.52, Tau: 0.0500\n",
            "Episode 4100/5000, Avg Reward (Last 100): -112.72, Tau: 0.0500\n",
            "Episode 4200/5000, Avg Reward (Last 100): -106.30, Tau: 0.0500\n",
            "Episode 4300/5000, Avg Reward (Last 100): -110.68, Tau: 0.0500\n",
            "Episode 4400/5000, Avg Reward (Last 100): -109.76, Tau: 0.0500\n",
            "Episode 4500/5000, Avg Reward (Last 100): -106.05, Tau: 0.0500\n",
            "Episode 4600/5000, Avg Reward (Last 100): -110.02, Tau: 0.0500\n",
            "Episode 4700/5000, Avg Reward (Last 100): -115.76, Tau: 0.0500\n",
            "Episode 4800/5000, Avg Reward (Last 100): -114.19, Tau: 0.0500\n",
            "Episode 4900/5000, Avg Reward (Last 100): -109.57, Tau: 0.0500\n"
          ]
        }
      ],
      "source": [
        "import gymnasium as gym\n",
        "import numpy as np\n",
        "from tqdm import tqdm\n",
        "\n",
        "class Tiling:\n",
        "    def __init__(self, env, numTilings=8, numTiles=10):\n",
        "        self.numTilings = numTilings\n",
        "        self.numTiles = numTiles\n",
        "\n",
        "        position_min, position_max = -1.2, 0.6\n",
        "        velocity_min, velocity_max = -0.07, 0.07\n",
        "        self.low = np.array([position_min, velocity_min])\n",
        "        self.high = np.array([position_max, velocity_max])\n",
        "\n",
        "        self.offsets = [\n",
        "            (high - low) / self.numTiles * np.linspace(0, 1, self.numTilings, endpoint=False)\n",
        "            for low, high in zip(self.low, self.high)\n",
        "        ]\n",
        "\n",
        "        self.tilings = self.createTilings()\n",
        "\n",
        "    def createTilingGrid(self, low, high, bins, offsets):\n",
        "        return [np.linspace(low[dim], high[dim], bins + 1)[1:-1] + offsets[dim] for dim in range(len(low))]\n",
        "\n",
        "    def createTilings(self):\n",
        "        return [self.createTilingGrid(self.low, self.high, self.numTiles, [offset[i] for offset in self.offsets]) for i in range(self.numTilings)]\n",
        "\n",
        "    def discretize(self, state):\n",
        "        return [tuple(np.digitize(state[dim], bins) for dim, bins in enumerate(tiling)) for tiling in self.tilings]\n",
        "\n",
        "class QLearningAgent:\n",
        "    def __init__(self, env, alpha=0.1, gamma=0.99, tau_start=1.0, tau_decay=0.995, tau_min=0.05, numTilings=8, numTiles=10):\n",
        "        self.env = env\n",
        "        self.alpha = alpha\n",
        "        self.gamma = gamma\n",
        "        self.tau = tau_start\n",
        "        self.tau_decay = tau_decay\n",
        "        self.tau_min = tau_min\n",
        "\n",
        "        self.numTilings = numTilings\n",
        "        self.numTiles = numTiles\n",
        "\n",
        "        self.tiling = Tiling(env, numTilings, numTiles)\n",
        "        self.numActions = self.env.action_space.n\n",
        "\n",
        "        self.numFeatures = self.numTilings * self.numTiles**2\n",
        "        self.weights = np.zeros((self.numActions, self.numFeatures))\n",
        "\n",
        "    def featureVector(self, state, action):\n",
        "        discretized_indices = self.tiling.discretize(state)\n",
        "        featureVector = np.zeros(self.numFeatures)\n",
        "\n",
        "        for i, ds in enumerate(discretized_indices):\n",
        "            index = ds[0] * self.numTiles + ds[1]\n",
        "            feature_index = i * self.numTiles**2 + index\n",
        "            featureVector[feature_index] = 1\n",
        "\n",
        "        return featureVector\n",
        "\n",
        "    def getQvalue(self, state, action):\n",
        "        return np.dot(self.weights[action], self.featureVector(state, action))\n",
        "\n",
        "    def choose_action_softmax(self, state):\n",
        "        q_values = np.array([self.getQvalue(state, a) for a in range(self.numActions)])\n",
        "        exp_values = np.exp((q_values - np.max(q_values)) / self.tau)\n",
        "        probs = exp_values / np.sum(exp_values)\n",
        "        return np.random.choice(self.numActions, p=probs)\n",
        "\n",
        "    def update(self, state, action, reward, next_state):\n",
        "        phi = self.featureVector(state, action)\n",
        "        q_sa = self.getQvalue(state, action)\n",
        "        q_next_max = max([self.getQvalue(next_state, a) for a in range(self.numActions)])\n",
        "        td_target = reward + self.gamma * q_next_max\n",
        "        td_error = td_target - q_sa\n",
        "        self.weights[action] += (self.alpha / self.numTilings) * td_error * phi\n",
        "\n",
        "    def train(self, num_episodes):\n",
        "        episode_rewards = np.zeros(num_episodes)\n",
        "        steps_to_completion = np.zeros(num_episodes)\n",
        "        running_avg=np.zeros(num_episodes)\n",
        "        for i in range(num_episodes):\n",
        "            totalReward, steps = 0, 0\n",
        "            state, _ = self.env.reset()\n",
        "            done = False\n",
        "\n",
        "            while not done:\n",
        "                action = self.choose_action_softmax(state)\n",
        "                next_state, reward, terminated, truncated, _ = self.env.step(action)\n",
        "                done = terminated or truncated\n",
        "\n",
        "                self.update(state, action, reward, next_state)\n",
        "\n",
        "                state = next_state\n",
        "                totalReward += reward\n",
        "                steps += 1\n",
        "\n",
        "            episode_rewards[i] = totalReward\n",
        "            steps_to_completion[i] = steps\n",
        "            running_avg[i]=np.mean(episode_rewards[max(0, i-100):i+1])\n",
        "            self.tau = max(self.tau_min, self.tau * self.tau_decay)\n",
        "            if i % 100 == 0:\n",
        "                avg_reward = np.mean(episode_rewards[max(0, i-100):i+1])\n",
        "                print(f\"Episode {i}/{num_episodes}, Avg Reward (Last 100): {avg_reward:.2f}, Tau: {self.tau:.4f}\")\n",
        "\n",
        "        return episode_rewards, steps_to_completion,running_avg\n",
        "\n",
        "# Initialize environment and agent for MountainCar-v0\n",
        "env = gym.make(\"MountainCar-v0\")\n",
        "agent = QLearningAgent(env, alpha=0.1, gamma=0.99, tau_start=1.0, tau_decay=0.995, tau_min=0.05, numTilings=8, numTiles=10)\n",
        "\n",
        "# Train the agent\n",
        "rewards, steps,running_avg = agent.train(5000)\n"
      ]
    },
    {
      "cell_type": "code",
      "execution_count": null,
      "metadata": {
        "colab": {
          "base_uri": "https://localhost:8080/",
          "height": 449
        },
        "id": "n6nK9v8cukC4",
        "outputId": "424385f7-10eb-4b95-fb93-cc533d4142e7"
      },
      "outputs": [
        {
          "data": {
            "text/plain": [
              "[<matplotlib.lines.Line2D at 0x7aef4b96e7d0>]"
            ]
          },
          "execution_count": 5,
          "metadata": {},
          "output_type": "execute_result"
        },
        {
          "data": {
            "image/png": "[encoded data removed]",
            "text/plain": [
              "<Figure size 640x480 with 1 Axes>"
            ]
          },
          "metadata": {},
          "output_type": "display_data"
        }
      ],
      "source": [
        "import matplotlib.pyplot as plt\n",
        "plt.plot(running_avg)"
      ]
    },
    {
      "cell_type": "code",
      "execution_count": null,
      "metadata": {
        "colab": {
          "background_save": true,
          "base_uri": "https://localhost:8080/"
        },
        "id": "_BRiqc8rGQSb",
        "outputId": "6a1ade82-ee0c-4182-8ef4-7f72f01078b8"
      },
      "outputs": [
        {
          "name": "stdout",
          "output_type": "stream",
          "text": [
            "Run:1\n",
            "Episode 0/5000, Avg Reward (Last 100): -200.00, Tau: 0.9950\n",
            "Episode 100/5000, Avg Reward (Last 100): -200.00, Tau: 0.6027\n",
            "Episode 200/5000, Avg Reward (Last 100): -200.00, Tau: 0.3651\n",
            "Episode 300/5000, Avg Reward (Last 100): -199.45, Tau: 0.2212\n",
            "Episode 400/5000, Avg Reward (Last 100): -190.15, Tau: 0.1340\n",
            "Episode 500/5000, Avg Reward (Last 100): -178.28, Tau: 0.0812\n",
            "Episode 600/5000, Avg Reward (Last 100): -167.96, Tau: 0.0500\n",
            "Episode 700/5000, Avg Reward (Last 100): -162.65, Tau: 0.0500\n",
            "Episode 800/5000, Avg Reward (Last 100): -155.96, Tau: 0.0500\n",
            "Episode 900/5000, Avg Reward (Last 100): -145.13, Tau: 0.0500\n",
            "Episode 1000/5000, Avg Reward (Last 100): -133.81, Tau: 0.0500\n",
            "Episode 1100/5000, Avg Reward (Last 100): -135.27, Tau: 0.0500\n",
            "Episode 1200/5000, Avg Reward (Last 100): -129.56, Tau: 0.0500\n",
            "Episode 1300/5000, Avg Reward (Last 100): -127.20, Tau: 0.0500\n",
            "Episode 1400/5000, Avg Reward (Last 100): -137.26, Tau: 0.0500\n",
            "Episode 1500/5000, Avg Reward (Last 100): -139.20, Tau: 0.0500\n",
            "Episode 1600/5000, Avg Reward (Last 100): -125.17, Tau: 0.0500\n",
            "Episode 1700/5000, Avg Reward (Last 100): -118.33, Tau: 0.0500\n",
            "Episode 1800/5000, Avg Reward (Last 100): -118.28, Tau: 0.0500\n",
            "Episode 1900/5000, Avg Reward (Last 100): -112.30, Tau: 0.0500\n",
            "Episode 2000/5000, Avg Reward (Last 100): -115.18, Tau: 0.0500\n",
            "Episode 2100/5000, Avg Reward (Last 100): -115.40, Tau: 0.0500\n",
            "Episode 2200/5000, Avg Reward (Last 100): -112.76, Tau: 0.0500\n",
            "Episode 2300/5000, Avg Reward (Last 100): -113.85, Tau: 0.0500\n",
            "Episode 2400/5000, Avg Reward (Last 100): -117.20, Tau: 0.0500\n",
            "Episode 2500/5000, Avg Reward (Last 100): -114.38, Tau: 0.0500\n",
            "Episode 2600/5000, Avg Reward (Last 100): -107.19, Tau: 0.0500\n",
            "Episode 2700/5000, Avg Reward (Last 100): -113.47, Tau: 0.0500\n",
            "Episode 2800/5000, Avg Reward (Last 100): -119.96, Tau: 0.0500\n",
            "Episode 2900/5000, Avg Reward (Last 100): -115.49, Tau: 0.0500\n",
            "Episode 3000/5000, Avg Reward (Last 100): -107.69, Tau: 0.0500\n",
            "Episode 3100/5000, Avg Reward (Last 100): -111.77, Tau: 0.0500\n",
            "Episode 3200/5000, Avg Reward (Last 100): -116.54, Tau: 0.0500\n",
            "Episode 3300/5000, Avg Reward (Last 100): -111.82, Tau: 0.0500\n",
            "Episode 3400/5000, Avg Reward (Last 100): -105.72, Tau: 0.0500\n",
            "Episode 3500/5000, Avg Reward (Last 100): -112.84, Tau: 0.0500\n",
            "Episode 3600/5000, Avg Reward (Last 100): -115.74, Tau: 0.0500\n",
            "Episode 3700/5000, Avg Reward (Last 100): -108.70, Tau: 0.0500\n",
            "Episode 3800/5000, Avg Reward (Last 100): -113.67, Tau: 0.0500\n",
            "Episode 3900/5000, Avg Reward (Last 100): -113.50, Tau: 0.0500\n",
            "Episode 4000/5000, Avg Reward (Last 100): -109.75, Tau: 0.0500\n",
            "Episode 4100/5000, Avg Reward (Last 100): -107.71, Tau: 0.0500\n",
            "Episode 4200/5000, Avg Reward (Last 100): -112.82, Tau: 0.0500\n",
            "Episode 4300/5000, Avg Reward (Last 100): -105.44, Tau: 0.0500\n",
            "Episode 4400/5000, Avg Reward (Last 100): -111.13, Tau: 0.0500\n",
            "Episode 4500/5000, Avg Reward (Last 100): -116.65, Tau: 0.0500\n",
            "Episode 4600/5000, Avg Reward (Last 100): -110.98, Tau: 0.0500\n",
            "Episode 4700/5000, Avg Reward (Last 100): -110.49, Tau: 0.0500\n",
            "Episode 4800/5000, Avg Reward (Last 100): -105.75, Tau: 0.0500\n",
            "Episode 4900/5000, Avg Reward (Last 100): -112.79, Tau: 0.0500\n",
            "Run:2\n",
            "Episode 0/5000, Avg Reward (Last 100): -200.00, Tau: 0.9950\n",
            "Episode 100/5000, Avg Reward (Last 100): -200.00, Tau: 0.6027\n",
            "Episode 200/5000, Avg Reward (Last 100): -200.00, Tau: 0.3651\n",
            "Episode 300/5000, Avg Reward (Last 100): -199.84, Tau: 0.2212\n",
            "Episode 400/5000, Avg Reward (Last 100): -194.25, Tau: 0.1340\n",
            "Episode 500/5000, Avg Reward (Last 100): -177.65, Tau: 0.0812\n",
            "Episode 600/5000, Avg Reward (Last 100): -167.29, Tau: 0.0500\n",
            "Episode 700/5000, Avg Reward (Last 100): -156.10, Tau: 0.0500\n",
            "Episode 800/5000, Avg Reward (Last 100): -155.22, Tau: 0.0500\n",
            "Episode 900/5000, Avg Reward (Last 100): -145.50, Tau: 0.0500\n",
            "Episode 1000/5000, Avg Reward (Last 100): -139.69, Tau: 0.0500\n",
            "Episode 1100/5000, Avg Reward (Last 100): -131.93, Tau: 0.0500\n",
            "Episode 1200/5000, Avg Reward (Last 100): -125.95, Tau: 0.0500\n",
            "Episode 1300/5000, Avg Reward (Last 100): -130.38, Tau: 0.0500\n",
            "Episode 1400/5000, Avg Reward (Last 100): -135.50, Tau: 0.0500\n",
            "Episode 1500/5000, Avg Reward (Last 100): -139.93, Tau: 0.0500\n",
            "Episode 1600/5000, Avg Reward (Last 100): -133.41, Tau: 0.0500\n",
            "Episode 1700/5000, Avg Reward (Last 100): -113.63, Tau: 0.0500\n",
            "Episode 1800/5000, Avg Reward (Last 100): -114.80, Tau: 0.0500\n",
            "Episode 1900/5000, Avg Reward (Last 100): -113.06, Tau: 0.0500\n",
            "Episode 2000/5000, Avg Reward (Last 100): -113.50, Tau: 0.0500\n",
            "Episode 2100/5000, Avg Reward (Last 100): -113.83, Tau: 0.0500\n",
            "Episode 2200/5000, Avg Reward (Last 100): -111.60, Tau: 0.0500\n",
            "Episode 2300/5000, Avg Reward (Last 100): -116.44, Tau: 0.0500\n",
            "Episode 2400/5000, Avg Reward (Last 100): -115.85, Tau: 0.0500\n",
            "Episode 2500/5000, Avg Reward (Last 100): -109.42, Tau: 0.0500\n",
            "Episode 2600/5000, Avg Reward (Last 100): -113.64, Tau: 0.0500\n",
            "Episode 2700/5000, Avg Reward (Last 100): -113.38, Tau: 0.0500\n",
            "Episode 2800/5000, Avg Reward (Last 100): -116.19, Tau: 0.0500\n",
            "Episode 2900/5000, Avg Reward (Last 100): -112.94, Tau: 0.0500\n",
            "Episode 3000/5000, Avg Reward (Last 100): -113.11, Tau: 0.0500\n",
            "Episode 3100/5000, Avg Reward (Last 100): -112.39, Tau: 0.0500\n",
            "Episode 3200/5000, Avg Reward (Last 100): -110.83, Tau: 0.0500\n",
            "Episode 3300/5000, Avg Reward (Last 100): -108.89, Tau: 0.0500\n",
            "Episode 3400/5000, Avg Reward (Last 100): -110.28, Tau: 0.0500\n",
            "Episode 3500/5000, Avg Reward (Last 100): -110.76, Tau: 0.0500\n",
            "Episode 3600/5000, Avg Reward (Last 100): -109.35, Tau: 0.0500\n",
            "Episode 3700/5000, Avg Reward (Last 100): -110.13, Tau: 0.0500\n",
            "Episode 3800/5000, Avg Reward (Last 100): -106.21, Tau: 0.0500\n",
            "Episode 3900/5000, Avg Reward (Last 100): -112.81, Tau: 0.0500\n",
            "Episode 4000/5000, Avg Reward (Last 100): -111.19, Tau: 0.0500\n",
            "Episode 4100/5000, Avg Reward (Last 100): -105.65, Tau: 0.0500\n",
            "Episode 4200/5000, Avg Reward (Last 100): -106.75, Tau: 0.0500\n",
            "Episode 4300/5000, Avg Reward (Last 100): -114.94, Tau: 0.0500\n",
            "Episode 4400/5000, Avg Reward (Last 100): -111.60, Tau: 0.0500\n",
            "Episode 4500/5000, Avg Reward (Last 100): -108.56, Tau: 0.0500\n",
            "Episode 4600/5000, Avg Reward (Last 100): -106.03, Tau: 0.0500\n",
            "Episode 4700/5000, Avg Reward (Last 100): -112.80, Tau: 0.0500\n",
            "Episode 4800/5000, Avg Reward (Last 100): -110.68, Tau: 0.0500\n",
            "Episode 4900/5000, Avg Reward (Last 100): -111.17, Tau: 0.0500\n",
            "Run:3\n",
            "Episode 0/5000, Avg Reward (Last 100): -200.00, Tau: 0.9950\n",
            "Episode 100/5000, Avg Reward (Last 100): -200.00, Tau: 0.6027\n",
            "Episode 200/5000, Avg Reward (Last 100): -200.00, Tau: 0.3651\n",
            "Episode 300/5000, Avg Reward (Last 100): -199.02, Tau: 0.2212\n",
            "Episode 400/5000, Avg Reward (Last 100): -191.66, Tau: 0.1340\n",
            "Episode 500/5000, Avg Reward (Last 100): -182.39, Tau: 0.0812\n",
            "Episode 600/5000, Avg Reward (Last 100): -166.71, Tau: 0.0500\n",
            "Episode 700/5000, Avg Reward (Last 100): -164.62, Tau: 0.0500\n",
            "Episode 800/5000, Avg Reward (Last 100): -154.83, Tau: 0.0500\n",
            "Episode 900/5000, Avg Reward (Last 100): -141.17, Tau: 0.0500\n",
            "Episode 1000/5000, Avg Reward (Last 100): -133.76, Tau: 0.0500\n",
            "Episode 1100/5000, Avg Reward (Last 100): -133.04, Tau: 0.0500\n",
            "Episode 1200/5000, Avg Reward (Last 100): -130.58, Tau: 0.0500\n",
            "Episode 1300/5000, Avg Reward (Last 100): -121.18, Tau: 0.0500\n",
            "Episode 1400/5000, Avg Reward (Last 100): -121.53, Tau: 0.0500\n",
            "Episode 1500/5000, Avg Reward (Last 100): -130.37, Tau: 0.0500\n",
            "Episode 1600/5000, Avg Reward (Last 100): -140.16, Tau: 0.0500\n",
            "Episode 1700/5000, Avg Reward (Last 100): -122.19, Tau: 0.0500\n",
            "Episode 1800/5000, Avg Reward (Last 100): -114.80, Tau: 0.0500\n",
            "Episode 1900/5000, Avg Reward (Last 100): -112.65, Tau: 0.0500\n",
            "Episode 2000/5000, Avg Reward (Last 100): -120.38, Tau: 0.0500\n",
            "Episode 2100/5000, Avg Reward (Last 100): -119.71, Tau: 0.0500\n",
            "Episode 2200/5000, Avg Reward (Last 100): -109.77, Tau: 0.0500\n",
            "Episode 2300/5000, Avg Reward (Last 100): -115.02, Tau: 0.0500\n",
            "Episode 2400/5000, Avg Reward (Last 100): -110.12, Tau: 0.0500\n",
            "Episode 2500/5000, Avg Reward (Last 100): -108.95, Tau: 0.0500\n",
            "Episode 2600/5000, Avg Reward (Last 100): -112.81, Tau: 0.0500\n",
            "Episode 2700/5000, Avg Reward (Last 100): -113.93, Tau: 0.0500\n",
            "Episode 2800/5000, Avg Reward (Last 100): -108.34, Tau: 0.0500\n",
            "Episode 2900/5000, Avg Reward (Last 100): -112.44, Tau: 0.0500\n",
            "Episode 3000/5000, Avg Reward (Last 100): -113.86, Tau: 0.0500\n",
            "Episode 3100/5000, Avg Reward (Last 100): -112.72, Tau: 0.0500\n",
            "Episode 3200/5000, Avg Reward (Last 100): -111.31, Tau: 0.0500\n",
            "Episode 3300/5000, Avg Reward (Last 100): -114.67, Tau: 0.0500\n",
            "Episode 3400/5000, Avg Reward (Last 100): -108.45, Tau: 0.0500\n",
            "Episode 3500/5000, Avg Reward (Last 100): -113.12, Tau: 0.0500\n",
            "Episode 3600/5000, Avg Reward (Last 100): -111.21, Tau: 0.0500\n",
            "Episode 3700/5000, Avg Reward (Last 100): -114.49, Tau: 0.0500\n",
            "Episode 3800/5000, Avg Reward (Last 100): -113.39, Tau: 0.0500\n",
            "Episode 3900/5000, Avg Reward (Last 100): -114.13, Tau: 0.0500\n",
            "Episode 4000/5000, Avg Reward (Last 100): -106.68, Tau: 0.0500\n",
            "Episode 4100/5000, Avg Reward (Last 100): -108.42, Tau: 0.0500\n",
            "Episode 4200/5000, Avg Reward (Last 100): -113.32, Tau: 0.0500\n",
            "Episode 4300/5000, Avg Reward (Last 100): -111.35, Tau: 0.0500\n",
            "Episode 4400/5000, Avg Reward (Last 100): -111.06, Tau: 0.0500\n",
            "Episode 4500/5000, Avg Reward (Last 100): -109.88, Tau: 0.0500\n",
            "Episode 4600/5000, Avg Reward (Last 100): -108.00, Tau: 0.0500\n",
            "Episode 4700/5000, Avg Reward (Last 100): -109.05, Tau: 0.0500\n",
            "Episode 4800/5000, Avg Reward (Last 100): -110.02, Tau: 0.0500\n",
            "Episode 4900/5000, Avg Reward (Last 100): -105.29, Tau: 0.0500\n",
            "Run:4\n",
            "Episode 0/5000, Avg Reward (Last 100): -200.00, Tau: 0.9950\n",
            "Episode 100/5000, Avg Reward (Last 100): -200.00, Tau: 0.6027\n",
            "Episode 200/5000, Avg Reward (Last 100): -200.00, Tau: 0.3651\n",
            "Episode 300/5000, Avg Reward (Last 100): -198.35, Tau: 0.2212\n",
            "Episode 400/5000, Avg Reward (Last 100): -194.12, Tau: 0.1340\n",
            "Episode 500/5000, Avg Reward (Last 100): -174.77, Tau: 0.0812\n",
            "Episode 600/5000, Avg Reward (Last 100): -170.70, Tau: 0.0500\n",
            "Episode 700/5000, Avg Reward (Last 100): -159.76, Tau: 0.0500\n",
            "Episode 800/5000, Avg Reward (Last 100): -152.24, Tau: 0.0500\n",
            "Episode 900/5000, Avg Reward (Last 100): -154.54, Tau: 0.0500\n",
            "Episode 1000/5000, Avg Reward (Last 100): -132.22, Tau: 0.0500\n",
            "Episode 1100/5000, Avg Reward (Last 100): -123.40, Tau: 0.0500\n",
            "Episode 1200/5000, Avg Reward (Last 100): -121.58, Tau: 0.0500\n",
            "Episode 1300/5000, Avg Reward (Last 100): -123.90, Tau: 0.0500\n",
            "Episode 1400/5000, Avg Reward (Last 100): -132.25, Tau: 0.0500\n",
            "Episode 1500/5000, Avg Reward (Last 100): -127.59, Tau: 0.0500\n",
            "Episode 1600/5000, Avg Reward (Last 100): -129.58, Tau: 0.0500\n",
            "Episode 1700/5000, Avg Reward (Last 100): -113.28, Tau: 0.0500\n",
            "Episode 1800/5000, Avg Reward (Last 100): -122.86, Tau: 0.0500\n",
            "Episode 1900/5000, Avg Reward (Last 100): -114.97, Tau: 0.0500\n",
            "Episode 2000/5000, Avg Reward (Last 100): -113.45, Tau: 0.0500\n",
            "Episode 2100/5000, Avg Reward (Last 100): -117.44, Tau: 0.0500\n",
            "Episode 2200/5000, Avg Reward (Last 100): -119.72, Tau: 0.0500\n",
            "Episode 2300/5000, Avg Reward (Last 100): -110.21, Tau: 0.0500\n",
            "Episode 2400/5000, Avg Reward (Last 100): -115.40, Tau: 0.0500\n",
            "Episode 2500/5000, Avg Reward (Last 100): -113.29, Tau: 0.0500\n",
            "Episode 2600/5000, Avg Reward (Last 100): -112.19, Tau: 0.0500\n",
            "Episode 2700/5000, Avg Reward (Last 100): -110.45, Tau: 0.0500\n",
            "Episode 2800/5000, Avg Reward (Last 100): -108.50, Tau: 0.0500\n",
            "Episode 2900/5000, Avg Reward (Last 100): -110.86, Tau: 0.0500\n",
            "Episode 3000/5000, Avg Reward (Last 100): -120.90, Tau: 0.0500\n",
            "Episode 3100/5000, Avg Reward (Last 100): -122.62, Tau: 0.0500\n",
            "Episode 3200/5000, Avg Reward (Last 100): -124.93, Tau: 0.0500\n",
            "Episode 3300/5000, Avg Reward (Last 100): -110.26, Tau: 0.0500\n",
            "Episode 3400/5000, Avg Reward (Last 100): -107.64, Tau: 0.0500\n",
            "Episode 3500/5000, Avg Reward (Last 100): -111.92, Tau: 0.0500\n",
            "Episode 3600/5000, Avg Reward (Last 100): -120.57, Tau: 0.0500\n",
            "Episode 3700/5000, Avg Reward (Last 100): -114.15, Tau: 0.0500\n",
            "Episode 3800/5000, Avg Reward (Last 100): -108.91, Tau: 0.0500\n",
            "Episode 3900/5000, Avg Reward (Last 100): -107.71, Tau: 0.0500\n",
            "Episode 4000/5000, Avg Reward (Last 100): -107.27, Tau: 0.0500\n",
            "Episode 4100/5000, Avg Reward (Last 100): -110.30, Tau: 0.0500\n",
            "Episode 4200/5000, Avg Reward (Last 100): -114.77, Tau: 0.0500\n",
            "Episode 4300/5000, Avg Reward (Last 100): -112.47, Tau: 0.0500\n",
            "Episode 4400/5000, Avg Reward (Last 100): -108.14, Tau: 0.0500\n",
            "Episode 4500/5000, Avg Reward (Last 100): -109.65, Tau: 0.0500\n",
            "Episode 4600/5000, Avg Reward (Last 100): -111.12, Tau: 0.0500\n",
            "Episode 4700/5000, Avg Reward (Last 100): -111.92, Tau: 0.0500\n",
            "Episode 4800/5000, Avg Reward (Last 100): -109.23, Tau: 0.0500\n",
            "Episode 4900/5000, Avg Reward (Last 100): -112.30, Tau: 0.0500\n",
            "Run:5\n",
            "Episode 0/5000, Avg Reward (Last 100): -200.00, Tau: 0.9950\n",
            "Episode 100/5000, Avg Reward (Last 100): -200.00, Tau: 0.6027\n",
            "Episode 200/5000, Avg Reward (Last 100): -200.00, Tau: 0.3651\n",
            "Episode 300/5000, Avg Reward (Last 100): -199.09, Tau: 0.2212\n",
            "Episode 400/5000, Avg Reward (Last 100): -191.01, Tau: 0.1340\n",
            "Episode 500/5000, Avg Reward (Last 100): -178.67, Tau: 0.0812\n",
            "Episode 600/5000, Avg Reward (Last 100): -166.38, Tau: 0.0500\n",
            "Episode 700/5000, Avg Reward (Last 100): -161.27, Tau: 0.0500\n",
            "Episode 800/5000, Avg Reward (Last 100): -154.18, Tau: 0.0500\n",
            "Episode 900/5000, Avg Reward (Last 100): -137.81, Tau: 0.0500\n",
            "Episode 1000/5000, Avg Reward (Last 100): -144.84, Tau: 0.0500\n",
            "Episode 1100/5000, Avg Reward (Last 100): -139.49, Tau: 0.0500\n",
            "Episode 1200/5000, Avg Reward (Last 100): -137.39, Tau: 0.0500\n",
            "Episode 1300/5000, Avg Reward (Last 100): -131.55, Tau: 0.0500\n",
            "Episode 1400/5000, Avg Reward (Last 100): -127.12, Tau: 0.0500\n",
            "Episode 1500/5000, Avg Reward (Last 100): -116.81, Tau: 0.0500\n",
            "Episode 1600/5000, Avg Reward (Last 100): -119.92, Tau: 0.0500\n",
            "Episode 1700/5000, Avg Reward (Last 100): -118.60, Tau: 0.0500\n",
            "Episode 1800/5000, Avg Reward (Last 100): -123.88, Tau: 0.0500\n",
            "Episode 1900/5000, Avg Reward (Last 100): -136.48, Tau: 0.0500\n",
            "Episode 2000/5000, Avg Reward (Last 100): -121.02, Tau: 0.0500\n",
            "Episode 2100/5000, Avg Reward (Last 100): -113.74, Tau: 0.0500\n",
            "Episode 2200/5000, Avg Reward (Last 100): -109.15, Tau: 0.0500\n",
            "Episode 2300/5000, Avg Reward (Last 100): -118.22, Tau: 0.0500\n",
            "Episode 2400/5000, Avg Reward (Last 100): -110.95, Tau: 0.0500\n",
            "Episode 2500/5000, Avg Reward (Last 100): -113.05, Tau: 0.0500\n",
            "Episode 2600/5000, Avg Reward (Last 100): -116.15, Tau: 0.0500\n",
            "Episode 2700/5000, Avg Reward (Last 100): -111.53, Tau: 0.0500\n",
            "Episode 2800/5000, Avg Reward (Last 100): -109.64, Tau: 0.0500\n",
            "Episode 2900/5000, Avg Reward (Last 100): -111.52, Tau: 0.0500\n",
            "Episode 3000/5000, Avg Reward (Last 100): -108.66, Tau: 0.0500\n",
            "Episode 3100/5000, Avg Reward (Last 100): -112.57, Tau: 0.0500\n",
            "Episode 3200/5000, Avg Reward (Last 100): -108.64, Tau: 0.0500\n",
            "Episode 3300/5000, Avg Reward (Last 100): -111.04, Tau: 0.0500\n",
            "Episode 3400/5000, Avg Reward (Last 100): -106.49, Tau: 0.0500\n",
            "Episode 3500/5000, Avg Reward (Last 100): -112.97, Tau: 0.0500\n",
            "Episode 3600/5000, Avg Reward (Last 100): -107.27, Tau: 0.0500\n",
            "Episode 3700/5000, Avg Reward (Last 100): -113.35, Tau: 0.0500\n",
            "Episode 3800/5000, Avg Reward (Last 100): -113.24, Tau: 0.0500\n",
            "Episode 3900/5000, Avg Reward (Last 100): -106.42, Tau: 0.0500\n",
            "Episode 4000/5000, Avg Reward (Last 100): -109.08, Tau: 0.0500\n",
            "Episode 4100/5000, Avg Reward (Last 100): -109.10, Tau: 0.0500\n",
            "Episode 4200/5000, Avg Reward (Last 100): -116.34, Tau: 0.0500\n",
            "Episode 4300/5000, Avg Reward (Last 100): -110.95, Tau: 0.0500\n",
            "Episode 4400/5000, Avg Reward (Last 100): -114.41, Tau: 0.0500\n",
            "Episode 4500/5000, Avg Reward (Last 100): -109.32, Tau: 0.0500\n",
            "Episode 4600/5000, Avg Reward (Last 100): -108.04, Tau: 0.0500\n",
            "Episode 4700/5000, Avg Reward (Last 100): -111.13, Tau: 0.0500\n",
            "Episode 4800/5000, Avg Reward (Last 100): -110.33, Tau: 0.0500\n",
            "Episode 4900/5000, Avg Reward (Last 100): -105.46, Tau: 0.0500\n",
            "Training complete. Mean rewards and standard deviations computed.\n"
          ]
        }
      ],
      "source": [
        "import gymnasium as gym\n",
        "import numpy as np\n",
        "from tqdm import tqdm\n",
        "\n",
        "class Tiling:\n",
        "    def __init__(self, env, numTilings=8, numTiles=10):\n",
        "        self.numTilings = numTilings\n",
        "        self.numTiles = numTiles\n",
        "\n",
        "        position_min, position_max = -1.2, 0.6\n",
        "        velocity_min, velocity_max = -0.07, 0.07\n",
        "        self.low = np.array([position_min, velocity_min])\n",
        "        self.high = np.array([position_max, velocity_max])\n",
        "\n",
        "        self.offsets = [\n",
        "            (high - low) / self.numTiles * np.linspace(0, 1, self.numTilings, endpoint=False)\n",
        "            for low, high in zip(self.low, self.high)\n",
        "        ]\n",
        "\n",
        "        self.tilings = self.createTilings()\n",
        "\n",
        "    def createTilingGrid(self, low, high, bins, offsets):\n",
        "        return [np.linspace(low[dim], high[dim], bins + 1)[1:-1] + offsets[dim] for dim in range(len(low))]\n",
        "\n",
        "    def createTilings(self):\n",
        "        return [self.createTilingGrid(self.low, self.high, self.numTiles, [offset[i] for offset in self.offsets]) for i in range(self.numTilings)]\n",
        "\n",
        "    def discretize(self, state):\n",
        "        return [tuple(np.digitize(state[dim], bins) for dim, bins in enumerate(tiling)) for tiling in self.tilings]\n",
        "\n",
        "class QLearningAgent:\n",
        "    def __init__(self, env, alpha=0.1, gamma=0.99, tau_start=1.0, tau_decay=0.995, tau_min=0.05, numTilings=8, numTiles=10):\n",
        "        self.env = env\n",
        "        self.alpha = alpha\n",
        "        self.gamma = gamma\n",
        "        self.tau = tau_start\n",
        "        self.tau_decay = tau_decay\n",
        "        self.tau_min = tau_min\n",
        "\n",
        "        self.numTilings = numTilings\n",
        "        self.numTiles = numTiles\n",
        "\n",
        "        self.tiling = Tiling(env, numTilings, numTiles)\n",
        "        self.numActions = self.env.action_space.n\n",
        "\n",
        "        self.numFeatures = self.numTilings * self.numTiles**2\n",
        "        self.weights = np.zeros((self.numActions, self.numFeatures))\n",
        "\n",
        "    def featureVector(self, state, action):\n",
        "        discretized_indices = self.tiling.discretize(state)\n",
        "        featureVector = np.zeros(self.numFeatures)\n",
        "\n",
        "        for i, ds in enumerate(discretized_indices):\n",
        "            index = ds[0] * self.numTiles + ds[1]\n",
        "            feature_index = i * self.numTiles**2 + index\n",
        "            featureVector[feature_index] = 1\n",
        "\n",
        "        return featureVector\n",
        "\n",
        "    def getQvalue(self, state, action):\n",
        "        return np.dot(self.weights[action], self.featureVector(state, action))\n",
        "\n",
        "    def choose_action_softmax(self, state):\n",
        "        q_values = np.array([self.getQvalue(state, a) for a in range(self.numActions)])\n",
        "        exp_values = np.exp((q_values - np.max(q_values)) / self.tau)\n",
        "        probs = exp_values / np.sum(exp_values)\n",
        "        return np.random.choice(self.numActions, p=probs)\n",
        "\n",
        "    def update(self, state, action, reward, next_state):\n",
        "        phi = self.featureVector(state, action)\n",
        "        q_sa = self.getQvalue(state, action)\n",
        "        q_next_max = max([self.getQvalue(next_state, a) for a in range(self.numActions)])\n",
        "        td_target = reward + self.gamma * q_next_max\n",
        "        td_error = td_target - q_sa\n",
        "        self.weights[action] += (self.alpha / self.numTilings) * td_error * phi\n",
        "\n",
        "    def train(self, num_episodes, num_runs=5):\n",
        "        episode_rewards = np.zeros((num_runs, num_episodes))\n",
        "        steps_to_completion = np.zeros((num_runs, num_episodes))\n",
        "\n",
        "        for run in range(num_runs):\n",
        "            print(f\"Run:{run+1}\")\n",
        "            self.weights = np.zeros((self.numActions, self.numFeatures))  # Reset weights for each run\n",
        "            self.tau = 1.0  # Reset temperature for each run\n",
        "\n",
        "            for i in range(num_episodes):\n",
        "                totalReward, steps = 0, 0\n",
        "                state, _ = self.env.reset()\n",
        "                done = False\n",
        "\n",
        "                while not done:\n",
        "                    action = self.choose_action_softmax(state)\n",
        "                    next_state, reward, terminated, truncated, _ = self.env.step(action)\n",
        "                    done = terminated or truncated\n",
        "\n",
        "                    self.update(state, action, reward, next_state)\n",
        "\n",
        "                    state = next_state\n",
        "                    totalReward += reward\n",
        "                    steps += 1\n",
        "\n",
        "                episode_rewards[run, i] = totalReward\n",
        "                steps_to_completion[run, i] = steps\n",
        "\n",
        "                self.tau = max(self.tau_min, self.tau * self.tau_decay)\n",
        "                if i % 100 == 0:\n",
        "                    avg_reward = np.mean(episode_rewards[run, max(0, i-100):i+1])\n",
        "                    print(f\"Episode {i}/{num_episodes}, Avg Reward (Last 100): {avg_reward:.2f}, Tau: {self.tau:.4f}\")\n",
        "\n",
        "        # Compute mean and standard deviation across runs\n",
        "        mean_rewards = np.mean(episode_rewards, axis=0)\n",
        "        std_rewards = np.std(episode_rewards, axis=0)\n",
        "        mean_steps = np.mean(steps_to_completion, axis=0)\n",
        "        std_steps = np.std(steps_to_completion, axis=0)\n",
        "\n",
        "        return mean_rewards, std_rewards, mean_steps, std_steps\n",
        "\n",
        "# Initialize environment and agent for MountainCar-v0\n",
        "env = gym.make(\"MountainCar-v0\")\n",
        "agent = QLearningAgent(env, alpha=0.1, gamma=0.99, tau_start=1.0, tau_decay=0.995, tau_min=0.05, numTilings=8, numTiles=10)\n",
        "\n",
        "# Train the agent over multiple runs\n",
        "mean_rewards, std_rewards, mean_steps, std_steps = agent.train(5000, num_runs=5)\n",
        "\n",
        "print(\"Training complete. Mean rewards and standard deviations computed.\")\n"
      ]
    },
    {
      "cell_type": "code",
      "execution_count": null,
      "metadata": {
        "colab": {
          "background_save": true
        },
        "id": "RVucTH6m--qj",
        "outputId": "a22ecbe7-e836-411d-ae77-e23259bf4846"
      },
      "outputs": [
        {
          "data": {
            "text/plain": [
              "<matplotlib.collections.FillBetweenPolyCollection at 0x7ebcacd193d0>"
            ]
          },
          "execution_count": 3,
          "metadata": {},
          "output_type": "execute_result"
        },
        {
          "data": {
            "image/png": "[encoded data removed]",
            "text/plain": [
              "<Figure size 640x480 with 1 Axes>"
            ]
          },
          "metadata": {},
          "output_type": "display_data"
        }
      ],
      "source": [
        "import matplotlib.pyplot as plt\n",
        "plt.plot(mean_rewards)\n",
        "plt.fill_between(range(len(mean_rewards)), mean_rewards - std_rewards, mean_rewards + std_rewards, alpha=0.2)"
      ]
    },
    {
      "cell_type": "code",
      "execution_count": null,
      "metadata": {
        "colab": {
          "base_uri": "https://localhost:8080/"
        },
        "id": "WIly8d09_Tk7",
        "outputId": "95b66e88-4339-4adf-f305-a9fafdf27dad"
      },
      "outputs": [
        {
          "name": "stdout",
          "output_type": "stream",
          "text": [
            "Run:1\n"
          ]
        },
        {
          "name": "stderr",
          "output_type": "stream",
          "text": [
            "Run 1/5:   0%|          | 2/5000 [00:00<05:11, 16.02it/s]"
          ]
        },
        {
          "name": "stdout",
          "output_type": "stream",
          "text": [
            "Episode 0/5000, Avg Reward (Last 100): -200.00, Epsilon: 0.9950\n"
          ]
        },
        {
          "name": "stderr",
          "output_type": "stream",
          "text": [
            "Run 1/5:   2%|▏         | 103/5000 [00:08<08:23,  9.72it/s]"
          ]
        },
        {
          "name": "stdout",
          "output_type": "stream",
          "text": [
            "Episode 100/5000, Avg Reward (Last 100): -200.00, Epsilon: 0.6027\n"
          ]
        },
        {
          "name": "stderr",
          "output_type": "stream",
          "text": [
            "Run 1/5:   4%|▍         | 203/5000 [00:17<07:29, 10.67it/s]"
          ]
        },
        {
          "name": "stdout",
          "output_type": "stream",
          "text": [
            "Episode 200/5000, Avg Reward (Last 100): -199.12, Epsilon: 0.3651\n"
          ]
        },
        {
          "name": "stderr",
          "output_type": "stream",
          "text": [
            "Run 1/5:   6%|▌         | 302/5000 [00:29<07:36, 10.30it/s]"
          ]
        },
        {
          "name": "stdout",
          "output_type": "stream",
          "text": [
            "Episode 300/5000, Avg Reward (Last 100): -195.56, Epsilon: 0.2212\n"
          ]
        },
        {
          "name": "stderr",
          "output_type": "stream",
          "text": [
            "Run 1/5:   8%|▊         | 401/5000 [00:40<07:33, 10.15it/s]"
          ]
        },
        {
          "name": "stdout",
          "output_type": "stream",
          "text": [
            "Episode 400/5000, Avg Reward (Last 100): -187.12, Epsilon: 0.1340\n"
          ]
        },
        {
          "name": "stderr",
          "output_type": "stream",
          "text": [
            "Run 1/5:  10%|█         | 502/5000 [00:50<07:13, 10.37it/s]"
          ]
        },
        {
          "name": "stdout",
          "output_type": "stream",
          "text": [
            "Episode 500/5000, Avg Reward (Last 100): -175.16, Epsilon: 0.0812\n"
          ]
        },
        {
          "name": "stderr",
          "output_type": "stream",
          "text": [
            "Run 1/5:  12%|█▏        | 603/5000 [01:01<06:49, 10.73it/s]"
          ]
        },
        {
          "name": "stdout",
          "output_type": "stream",
          "text": [
            "Episode 600/5000, Avg Reward (Last 100): -167.96, Epsilon: 0.0492\n"
          ]
        },
        {
          "name": "stderr",
          "output_type": "stream",
          "text": [
            "Run 1/5:  14%|█▍        | 702/5000 [01:10<06:07, 11.69it/s]"
          ]
        },
        {
          "name": "stdout",
          "output_type": "stream",
          "text": [
            "Episode 700/5000, Avg Reward (Last 100): -154.50, Epsilon: 0.0298\n"
          ]
        },
        {
          "name": "stderr",
          "output_type": "stream",
          "text": [
            "Run 1/5:  16%|█▌        | 802/5000 [01:19<05:34, 12.55it/s]"
          ]
        },
        {
          "name": "stdout",
          "output_type": "stream",
          "text": [
            "Episode 800/5000, Avg Reward (Last 100): -148.50, Epsilon: 0.0180\n"
          ]
        },
        {
          "name": "stderr",
          "output_type": "stream",
          "text": [
            "Run 1/5:  18%|█▊        | 902/5000 [01:28<05:20, 12.80it/s]"
          ]
        },
        {
          "name": "stdout",
          "output_type": "stream",
          "text": [
            "Episode 900/5000, Avg Reward (Last 100): -143.70, Epsilon: 0.0109\n"
          ]
        },
        {
          "name": "stderr",
          "output_type": "stream",
          "text": [
            "Run 1/5:  20%|██        | 1003/5000 [01:37<05:00, 13.29it/s]"
          ]
        },
        {
          "name": "stdout",
          "output_type": "stream",
          "text": [
            "Episode 1000/5000, Avg Reward (Last 100): -134.88, Epsilon: 0.0066\n"
          ]
        },
        {
          "name": "stderr",
          "output_type": "stream",
          "text": [
            "Run 1/5:  22%|██▏       | 1102/5000 [01:45<08:18,  7.82it/s]"
          ]
        },
        {
          "name": "stdout",
          "output_type": "stream",
          "text": [
            "Episode 1100/5000, Avg Reward (Last 100): -127.40, Epsilon: 0.0040\n"
          ]
        },
        {
          "name": "stderr",
          "output_type": "stream",
          "text": [
            "Run 1/5:  24%|██▍       | 1203/5000 [01:52<04:46, 13.27it/s]"
          ]
        },
        {
          "name": "stdout",
          "output_type": "stream",
          "text": [
            "Episode 1200/5000, Avg Reward (Last 100): -123.78, Epsilon: 0.0024\n"
          ]
        },
        {
          "name": "stderr",
          "output_type": "stream",
          "text": [
            "Run 1/5:  26%|██▌       | 1303/5000 [02:00<04:29, 13.72it/s]"
          ]
        },
        {
          "name": "stdout",
          "output_type": "stream",
          "text": [
            "Episode 1300/5000, Avg Reward (Last 100): -116.22, Epsilon: 0.0015\n"
          ]
        },
        {
          "name": "stderr",
          "output_type": "stream",
          "text": [
            "Run 1/5:  28%|██▊       | 1403/5000 [02:07<04:27, 13.44it/s]"
          ]
        },
        {
          "name": "stdout",
          "output_type": "stream",
          "text": [
            "Episode 1400/5000, Avg Reward (Last 100): -127.13, Epsilon: 0.0009\n"
          ]
        },
        {
          "name": "stderr",
          "output_type": "stream",
          "text": [
            "Run 1/5:  30%|███       | 1504/5000 [02:15<03:40, 15.84it/s]"
          ]
        },
        {
          "name": "stdout",
          "output_type": "stream",
          "text": [
            "Episode 1500/5000, Avg Reward (Last 100): -120.48, Epsilon: 0.0005\n"
          ]
        },
        {
          "name": "stderr",
          "output_type": "stream",
          "text": [
            "Run 1/5:  32%|███▏      | 1602/5000 [02:23<04:19, 13.10it/s]"
          ]
        },
        {
          "name": "stdout",
          "output_type": "stream",
          "text": [
            "Episode 1600/5000, Avg Reward (Last 100): -121.94, Epsilon: 0.0003\n"
          ]
        },
        {
          "name": "stderr",
          "output_type": "stream",
          "text": [
            "Run 1/5:  34%|███▍      | 1704/5000 [02:30<03:29, 15.73it/s]"
          ]
        },
        {
          "name": "stdout",
          "output_type": "stream",
          "text": [
            "Episode 1700/5000, Avg Reward (Last 100): -117.60, Epsilon: 0.0002\n"
          ]
        },
        {
          "name": "stderr",
          "output_type": "stream",
          "text": [
            "Run 1/5:  36%|███▌      | 1803/5000 [02:38<03:56, 13.55it/s]"
          ]
        },
        {
          "name": "stdout",
          "output_type": "stream",
          "text": [
            "Episode 1800/5000, Avg Reward (Last 100): -117.35, Epsilon: 0.0001\n"
          ]
        },
        {
          "name": "stderr",
          "output_type": "stream",
          "text": [
            "Run 1/5:  38%|███▊      | 1903/5000 [02:45<03:17, 15.66it/s]"
          ]
        },
        {
          "name": "stdout",
          "output_type": "stream",
          "text": [
            "Episode 1900/5000, Avg Reward (Last 100): -114.23, Epsilon: 0.0001\n"
          ]
        },
        {
          "name": "stderr",
          "output_type": "stream",
          "text": [
            "Run 1/5:  40%|████      | 2002/5000 [02:53<03:50, 13.01it/s]"
          ]
        },
        {
          "name": "stdout",
          "output_type": "stream",
          "text": [
            "Episode 2000/5000, Avg Reward (Last 100): -121.74, Epsilon: 0.0001\n"
          ]
        },
        {
          "name": "stderr",
          "output_type": "stream",
          "text": [
            "Run 1/5:  42%|████▏     | 2103/5000 [03:00<03:15, 14.85it/s]"
          ]
        },
        {
          "name": "stdout",
          "output_type": "stream",
          "text": [
            "Episode 2100/5000, Avg Reward (Last 100): -109.98, Epsilon: 0.0001\n"
          ]
        },
        {
          "name": "stderr",
          "output_type": "stream",
          "text": [
            "Run 1/5:  44%|████▍     | 2202/5000 [03:06<02:48, 16.61it/s]"
          ]
        },
        {
          "name": "stdout",
          "output_type": "stream",
          "text": [
            "Episode 2200/5000, Avg Reward (Last 100): -110.67, Epsilon: 0.0001\n"
          ]
        },
        {
          "name": "stderr",
          "output_type": "stream",
          "text": [
            "Run 1/5:  46%|████▌     | 2303/5000 [03:14<03:09, 14.25it/s]"
          ]
        },
        {
          "name": "stdout",
          "output_type": "stream",
          "text": [
            "Episode 2300/5000, Avg Reward (Last 100): -117.02, Epsilon: 0.0001\n"
          ]
        },
        {
          "name": "stderr",
          "output_type": "stream",
          "text": [
            "Run 1/5:  48%|████▊     | 2403/5000 [03:21<02:39, 16.30it/s]"
          ]
        },
        {
          "name": "stdout",
          "output_type": "stream",
          "text": [
            "Episode 2400/5000, Avg Reward (Last 100): -111.69, Epsilon: 0.0001\n"
          ]
        },
        {
          "name": "stderr",
          "output_type": "stream",
          "text": [
            "Run 1/5:  50%|█████     | 2502/5000 [03:28<02:55, 14.24it/s]"
          ]
        },
        {
          "name": "stdout",
          "output_type": "stream",
          "text": [
            "Episode 2500/5000, Avg Reward (Last 100): -115.45, Epsilon: 0.0001\n"
          ]
        },
        {
          "name": "stderr",
          "output_type": "stream",
          "text": [
            "Run 1/5:  52%|█████▏    | 2603/5000 [03:36<04:05,  9.77it/s]"
          ]
        },
        {
          "name": "stdout",
          "output_type": "stream",
          "text": [
            "Episode 2600/5000, Avg Reward (Last 100): -111.83, Epsilon: 0.0001\n"
          ]
        },
        {
          "name": "stderr",
          "output_type": "stream",
          "text": [
            "Run 1/5:  54%|█████▍    | 2704/5000 [03:43<02:38, 14.53it/s]"
          ]
        },
        {
          "name": "stdout",
          "output_type": "stream",
          "text": [
            "Episode 2700/5000, Avg Reward (Last 100): -114.94, Epsilon: 0.0001\n"
          ]
        },
        {
          "name": "stderr",
          "output_type": "stream",
          "text": [
            "Run 1/5:  56%|█████▌    | 2803/5000 [03:51<02:07, 17.25it/s]"
          ]
        },
        {
          "name": "stdout",
          "output_type": "stream",
          "text": [
            "Episode 2800/5000, Avg Reward (Last 100): -121.25, Epsilon: 0.0001\n"
          ]
        },
        {
          "name": "stderr",
          "output_type": "stream",
          "text": [
            "Run 1/5:  58%|█████▊    | 2902/5000 [03:57<02:21, 14.87it/s]"
          ]
        },
        {
          "name": "stdout",
          "output_type": "stream",
          "text": [
            "Episode 2900/5000, Avg Reward (Last 100): -109.70, Epsilon: 0.0001\n"
          ]
        },
        {
          "name": "stderr",
          "output_type": "stream",
          "text": [
            "Run 1/5:  60%|██████    | 3004/5000 [04:05<01:59, 16.65it/s]"
          ]
        },
        {
          "name": "stdout",
          "output_type": "stream",
          "text": [
            "Episode 3000/5000, Avg Reward (Last 100): -108.69, Epsilon: 0.0001\n"
          ]
        },
        {
          "name": "stderr",
          "output_type": "stream",
          "text": [
            "Run 1/5:  62%|██████▏   | 3102/5000 [04:11<02:32, 12.44it/s]"
          ]
        },
        {
          "name": "stdout",
          "output_type": "stream",
          "text": [
            "Episode 3100/5000, Avg Reward (Last 100): -106.99, Epsilon: 0.0001\n"
          ]
        },
        {
          "name": "stderr",
          "output_type": "stream",
          "text": [
            "Run 1/5:  64%|██████▍   | 3203/5000 [04:18<01:45, 17.02it/s]"
          ]
        },
        {
          "name": "stdout",
          "output_type": "stream",
          "text": [
            "Episode 3200/5000, Avg Reward (Last 100): -109.52, Epsilon: 0.0001\n"
          ]
        },
        {
          "name": "stderr",
          "output_type": "stream",
          "text": [
            "Run 1/5:  66%|██████▌   | 3304/5000 [04:26<01:57, 14.43it/s]"
          ]
        },
        {
          "name": "stdout",
          "output_type": "stream",
          "text": [
            "Episode 3300/5000, Avg Reward (Last 100): -113.83, Epsilon: 0.0001\n"
          ]
        },
        {
          "name": "stderr",
          "output_type": "stream",
          "text": [
            "Run 1/5:  68%|██████▊   | 3402/5000 [04:32<01:52, 14.19it/s]"
          ]
        },
        {
          "name": "stdout",
          "output_type": "stream",
          "text": [
            "Episode 3400/5000, Avg Reward (Last 100): -106.21, Epsilon: 0.0001\n"
          ]
        },
        {
          "name": "stderr",
          "output_type": "stream",
          "text": [
            "Run 1/5:  70%|███████   | 3503/5000 [04:40<01:40, 14.92it/s]"
          ]
        },
        {
          "name": "stdout",
          "output_type": "stream",
          "text": [
            "Episode 3500/5000, Avg Reward (Last 100): -113.49, Epsilon: 0.0001\n"
          ]
        },
        {
          "name": "stderr",
          "output_type": "stream",
          "text": [
            "Run 1/5:  72%|███████▏  | 3603/5000 [04:46<01:32, 15.10it/s]"
          ]
        },
        {
          "name": "stdout",
          "output_type": "stream",
          "text": [
            "Episode 3600/5000, Avg Reward (Last 100): -106.04, Epsilon: 0.0001\n"
          ]
        },
        {
          "name": "stderr",
          "output_type": "stream",
          "text": [
            "Run 1/5:  74%|███████▍  | 3704/5000 [04:55<01:26, 15.05it/s]"
          ]
        },
        {
          "name": "stdout",
          "output_type": "stream",
          "text": [
            "Episode 3700/5000, Avg Reward (Last 100): -111.34, Epsilon: 0.0001\n"
          ]
        },
        {
          "name": "stderr",
          "output_type": "stream",
          "text": [
            "Run 1/5:  76%|███████▌  | 3801/5000 [05:01<01:30, 13.29it/s]"
          ]
        },
        {
          "name": "stdout",
          "output_type": "stream",
          "text": [
            "Episode 3800/5000, Avg Reward (Last 100): -107.37, Epsilon: 0.0001\n"
          ]
        },
        {
          "name": "stderr",
          "output_type": "stream",
          "text": [
            "Run 1/5:  78%|███████▊  | 3903/5000 [05:09<01:09, 15.83it/s]"
          ]
        },
        {
          "name": "stdout",
          "output_type": "stream",
          "text": [
            "Episode 3900/5000, Avg Reward (Last 100): -110.88, Epsilon: 0.0001\n"
          ]
        },
        {
          "name": "stderr",
          "output_type": "stream",
          "text": [
            "Run 1/5:  80%|████████  | 4003/5000 [05:16<01:07, 14.70it/s]"
          ]
        },
        {
          "name": "stdout",
          "output_type": "stream",
          "text": [
            "Episode 4000/5000, Avg Reward (Last 100): -112.10, Epsilon: 0.0001\n"
          ]
        },
        {
          "name": "stderr",
          "output_type": "stream",
          "text": [
            "Run 1/5:  82%|████████▏ | 4104/5000 [05:23<00:57, 15.69it/s]"
          ]
        },
        {
          "name": "stdout",
          "output_type": "stream",
          "text": [
            "Episode 4100/5000, Avg Reward (Last 100): -109.56, Epsilon: 0.0001\n"
          ]
        },
        {
          "name": "stderr",
          "output_type": "stream",
          "text": [
            "Run 1/5:  84%|████████▍ | 4202/5000 [05:30<00:50, 15.93it/s]"
          ]
        },
        {
          "name": "stdout",
          "output_type": "stream",
          "text": [
            "Episode 4200/5000, Avg Reward (Last 100): -108.08, Epsilon: 0.0001\n"
          ]
        },
        {
          "name": "stderr",
          "output_type": "stream",
          "text": [
            "Run 1/5:  86%|████████▌ | 4304/5000 [05:37<00:42, 16.26it/s]"
          ]
        },
        {
          "name": "stdout",
          "output_type": "stream",
          "text": [
            "Episode 4300/5000, Avg Reward (Last 100): -108.48, Epsilon: 0.0001\n"
          ]
        },
        {
          "name": "stderr",
          "output_type": "stream",
          "text": [
            "Run 1/5:  88%|████████▊ | 4403/5000 [05:44<00:41, 14.32it/s]"
          ]
        },
        {
          "name": "stdout",
          "output_type": "stream",
          "text": [
            "Episode 4400/5000, Avg Reward (Last 100): -109.26, Epsilon: 0.0001\n"
          ]
        },
        {
          "name": "stderr",
          "output_type": "stream",
          "text": [
            "Run 1/5:  90%|█████████ | 4503/5000 [05:51<00:47, 10.39it/s]"
          ]
        },
        {
          "name": "stdout",
          "output_type": "stream",
          "text": [
            "Episode 4500/5000, Avg Reward (Last 100): -109.58, Epsilon: 0.0001\n"
          ]
        },
        {
          "name": "stderr",
          "output_type": "stream",
          "text": [
            "Run 1/5:  92%|█████████▏| 4604/5000 [05:58<00:23, 16.87it/s]"
          ]
        },
        {
          "name": "stdout",
          "output_type": "stream",
          "text": [
            "Episode 4600/5000, Avg Reward (Last 100): -108.05, Epsilon: 0.0001\n"
          ]
        },
        {
          "name": "stderr",
          "output_type": "stream",
          "text": [
            "Run 1/5:  94%|█████████▍| 4703/5000 [06:05<00:22, 13.01it/s]"
          ]
        },
        {
          "name": "stdout",
          "output_type": "stream",
          "text": [
            "Episode 4700/5000, Avg Reward (Last 100): -109.87, Epsilon: 0.0001\n"
          ]
        },
        {
          "name": "stderr",
          "output_type": "stream",
          "text": [
            "Run 1/5:  96%|█████████▌| 4804/5000 [06:12<00:12, 16.17it/s]"
          ]
        },
        {
          "name": "stdout",
          "output_type": "stream",
          "text": [
            "Episode 4800/5000, Avg Reward (Last 100): -108.38, Epsilon: 0.0001\n"
          ]
        },
        {
          "name": "stderr",
          "output_type": "stream",
          "text": [
            "Run 1/5:  98%|█████████▊| 4903/5000 [06:19<00:06, 14.94it/s]"
          ]
        },
        {
          "name": "stdout",
          "output_type": "stream",
          "text": [
            "Episode 4900/5000, Avg Reward (Last 100): -110.80, Epsilon: 0.0001\n"
          ]
        },
        {
          "name": "stderr",
          "output_type": "stream",
          "text": [
            "Run 1/5: 100%|██████████| 5000/5000 [06:25<00:00, 12.95it/s]\n"
          ]
        },
        {
          "name": "stdout",
          "output_type": "stream",
          "text": [
            "Run:2\n"
          ]
        },
        {
          "name": "stderr",
          "output_type": "stream",
          "text": [
            "Run 2/5:   0%|          | 2/5000 [00:00<05:02, 16.51it/s]"
          ]
        },
        {
          "name": "stdout",
          "output_type": "stream",
          "text": [
            "Episode 0/5000, Avg Reward (Last 100): -200.00, Epsilon: 0.9950\n"
          ]
        },
        {
          "name": "stderr",
          "output_type": "stream",
          "text": [
            "Run 2/5:   2%|▏         | 102/5000 [00:08<06:38, 12.28it/s]"
          ]
        },
        {
          "name": "stdout",
          "output_type": "stream",
          "text": [
            "Episode 100/5000, Avg Reward (Last 100): -200.00, Epsilon: 0.6027\n"
          ]
        },
        {
          "name": "stderr",
          "output_type": "stream",
          "text": [
            "Run 2/5:   4%|▍         | 203/5000 [00:18<07:34, 10.56it/s]"
          ]
        },
        {
          "name": "stdout",
          "output_type": "stream",
          "text": [
            "Episode 200/5000, Avg Reward (Last 100): -199.38, Epsilon: 0.3651\n"
          ]
        },
        {
          "name": "stderr",
          "output_type": "stream",
          "text": [
            "Run 2/5:   6%|▌         | 302/5000 [00:29<08:02,  9.73it/s]"
          ]
        },
        {
          "name": "stdout",
          "output_type": "stream",
          "text": [
            "Episode 300/5000, Avg Reward (Last 100): -194.06, Epsilon: 0.2212\n"
          ]
        },
        {
          "name": "stderr",
          "output_type": "stream",
          "text": [
            "Run 2/5:   8%|▊         | 402/5000 [00:40<13:24,  5.72it/s]"
          ]
        },
        {
          "name": "stdout",
          "output_type": "stream",
          "text": [
            "Episode 400/5000, Avg Reward (Last 100): -189.95, Epsilon: 0.1340\n"
          ]
        },
        {
          "name": "stderr",
          "output_type": "stream",
          "text": [
            "Run 2/5:  10%|█         | 502/5000 [00:49<07:00, 10.69it/s]"
          ]
        },
        {
          "name": "stdout",
          "output_type": "stream",
          "text": [
            "Episode 500/5000, Avg Reward (Last 100): -176.35, Epsilon: 0.0812\n"
          ]
        },
        {
          "name": "stderr",
          "output_type": "stream",
          "text": [
            "Run 2/5:  12%|█▏        | 602/5000 [01:00<06:46, 10.81it/s]"
          ]
        },
        {
          "name": "stdout",
          "output_type": "stream",
          "text": [
            "Episode 600/5000, Avg Reward (Last 100): -165.84, Epsilon: 0.0492\n"
          ]
        },
        {
          "name": "stderr",
          "output_type": "stream",
          "text": [
            "Run 2/5:  14%|█▍        | 703/5000 [01:10<06:22, 11.25it/s]"
          ]
        },
        {
          "name": "stdout",
          "output_type": "stream",
          "text": [
            "Episode 700/5000, Avg Reward (Last 100): -156.77, Epsilon: 0.0298\n"
          ]
        },
        {
          "name": "stderr",
          "output_type": "stream",
          "text": [
            "Run 2/5:  16%|█▌        | 802/5000 [01:19<05:38, 12.41it/s]"
          ]
        },
        {
          "name": "stdout",
          "output_type": "stream",
          "text": [
            "Episode 800/5000, Avg Reward (Last 100): -148.81, Epsilon: 0.0180\n"
          ]
        },
        {
          "name": "stderr",
          "output_type": "stream",
          "text": [
            "Run 2/5:  18%|█▊        | 902/5000 [01:27<07:28,  9.15it/s]"
          ]
        },
        {
          "name": "stdout",
          "output_type": "stream",
          "text": [
            "Episode 900/5000, Avg Reward (Last 100): -137.30, Epsilon: 0.0109\n"
          ]
        },
        {
          "name": "stderr",
          "output_type": "stream",
          "text": [
            "Run 2/5:  20%|██        | 1003/5000 [01:36<05:39, 11.78it/s]"
          ]
        },
        {
          "name": "stdout",
          "output_type": "stream",
          "text": [
            "Episode 1000/5000, Avg Reward (Last 100): -137.42, Epsilon: 0.0066\n"
          ]
        },
        {
          "name": "stderr",
          "output_type": "stream",
          "text": [
            "Run 2/5:  22%|██▏       | 1103/5000 [01:45<05:13, 12.43it/s]"
          ]
        },
        {
          "name": "stdout",
          "output_type": "stream",
          "text": [
            "Episode 1100/5000, Avg Reward (Last 100): -136.22, Epsilon: 0.0040\n"
          ]
        },
        {
          "name": "stderr",
          "output_type": "stream",
          "text": [
            "Run 2/5:  24%|██▍       | 1201/5000 [01:53<07:38,  8.29it/s]"
          ]
        },
        {
          "name": "stdout",
          "output_type": "stream",
          "text": [
            "Episode 1200/5000, Avg Reward (Last 100): -124.46, Epsilon: 0.0024\n"
          ]
        },
        {
          "name": "stderr",
          "output_type": "stream",
          "text": [
            "Run 2/5:  26%|██▌       | 1303/5000 [02:00<03:43, 16.52it/s]"
          ]
        },
        {
          "name": "stdout",
          "output_type": "stream",
          "text": [
            "Episode 1300/5000, Avg Reward (Last 100): -121.20, Epsilon: 0.0015\n"
          ]
        },
        {
          "name": "stderr",
          "output_type": "stream",
          "text": [
            "Run 2/5:  28%|██▊       | 1402/5000 [02:08<04:50, 12.39it/s]"
          ]
        },
        {
          "name": "stdout",
          "output_type": "stream",
          "text": [
            "Episode 1400/5000, Avg Reward (Last 100): -128.01, Epsilon: 0.0009\n"
          ]
        },
        {
          "name": "stderr",
          "output_type": "stream",
          "text": [
            "Run 2/5:  30%|███       | 1504/5000 [02:15<04:15, 13.66it/s]"
          ]
        },
        {
          "name": "stdout",
          "output_type": "stream",
          "text": [
            "Episode 1500/5000, Avg Reward (Last 100): -115.55, Epsilon: 0.0005\n"
          ]
        },
        {
          "name": "stderr",
          "output_type": "stream",
          "text": [
            "Run 2/5:  32%|███▏      | 1604/5000 [02:24<03:59, 14.19it/s]"
          ]
        },
        {
          "name": "stdout",
          "output_type": "stream",
          "text": [
            "Episode 1600/5000, Avg Reward (Last 100): -124.97, Epsilon: 0.0003\n"
          ]
        },
        {
          "name": "stderr",
          "output_type": "stream",
          "text": [
            "Run 2/5:  34%|███▍      | 1702/5000 [02:32<04:09, 13.22it/s]"
          ]
        },
        {
          "name": "stdout",
          "output_type": "stream",
          "text": [
            "Episode 1700/5000, Avg Reward (Last 100): -126.29, Epsilon: 0.0002\n"
          ]
        },
        {
          "name": "stderr",
          "output_type": "stream",
          "text": [
            "Run 2/5:  36%|███▌      | 1802/5000 [02:40<03:57, 13.49it/s]"
          ]
        },
        {
          "name": "stdout",
          "output_type": "stream",
          "text": [
            "Episode 1800/5000, Avg Reward (Last 100): -139.50, Epsilon: 0.0001\n"
          ]
        },
        {
          "name": "stderr",
          "output_type": "stream",
          "text": [
            "Run 2/5:  38%|███▊      | 1904/5000 [02:49<03:22, 15.32it/s]"
          ]
        },
        {
          "name": "stdout",
          "output_type": "stream",
          "text": [
            "Episode 1900/5000, Avg Reward (Last 100): -114.35, Epsilon: 0.0001\n"
          ]
        },
        {
          "name": "stderr",
          "output_type": "stream",
          "text": [
            "Run 2/5:  40%|████      | 2003/5000 [02:56<02:59, 16.67it/s]"
          ]
        },
        {
          "name": "stdout",
          "output_type": "stream",
          "text": [
            "Episode 2000/5000, Avg Reward (Last 100): -107.06, Epsilon: 0.0001\n"
          ]
        },
        {
          "name": "stderr",
          "output_type": "stream",
          "text": [
            "Run 2/5:  42%|████▏     | 2103/5000 [03:03<03:11, 15.14it/s]"
          ]
        },
        {
          "name": "stdout",
          "output_type": "stream",
          "text": [
            "Episode 2100/5000, Avg Reward (Last 100): -117.16, Epsilon: 0.0001\n"
          ]
        },
        {
          "name": "stderr",
          "output_type": "stream",
          "text": [
            "Run 2/5:  44%|████▍     | 2202/5000 [03:10<03:09, 14.79it/s]"
          ]
        },
        {
          "name": "stdout",
          "output_type": "stream",
          "text": [
            "Episode 2200/5000, Avg Reward (Last 100): -116.46, Epsilon: 0.0001\n"
          ]
        },
        {
          "name": "stderr",
          "output_type": "stream",
          "text": [
            "Run 2/5:  46%|████▌     | 2303/5000 [03:17<02:43, 16.49it/s]"
          ]
        },
        {
          "name": "stdout",
          "output_type": "stream",
          "text": [
            "Episode 2300/5000, Avg Reward (Last 100): -115.07, Epsilon: 0.0001\n"
          ]
        },
        {
          "name": "stderr",
          "output_type": "stream",
          "text": [
            "Run 2/5:  48%|████▊     | 2402/5000 [03:25<03:10, 13.65it/s]"
          ]
        },
        {
          "name": "stdout",
          "output_type": "stream",
          "text": [
            "Episode 2400/5000, Avg Reward (Last 100): -110.59, Epsilon: 0.0001\n"
          ]
        },
        {
          "name": "stderr",
          "output_type": "stream",
          "text": [
            "Run 2/5:  50%|█████     | 2502/5000 [03:32<03:25, 12.13it/s]"
          ]
        },
        {
          "name": "stdout",
          "output_type": "stream",
          "text": [
            "Episode 2500/5000, Avg Reward (Last 100): -112.10, Epsilon: 0.0001\n"
          ]
        },
        {
          "name": "stderr",
          "output_type": "stream",
          "text": [
            "Run 2/5:  52%|█████▏    | 2604/5000 [03:39<02:30, 15.90it/s]"
          ]
        },
        {
          "name": "stdout",
          "output_type": "stream",
          "text": [
            "Episode 2600/5000, Avg Reward (Last 100): -113.10, Epsilon: 0.0001\n"
          ]
        },
        {
          "name": "stderr",
          "output_type": "stream",
          "text": [
            "Run 2/5:  54%|█████▍    | 2704/5000 [03:46<02:18, 16.58it/s]"
          ]
        },
        {
          "name": "stdout",
          "output_type": "stream",
          "text": [
            "Episode 2700/5000, Avg Reward (Last 100): -112.45, Epsilon: 0.0001\n"
          ]
        },
        {
          "name": "stderr",
          "output_type": "stream",
          "text": [
            "Run 2/5:  56%|█████▌    | 2804/5000 [03:53<02:17, 15.95it/s]"
          ]
        },
        {
          "name": "stdout",
          "output_type": "stream",
          "text": [
            "Episode 2800/5000, Avg Reward (Last 100): -110.66, Epsilon: 0.0001\n"
          ]
        },
        {
          "name": "stderr",
          "output_type": "stream",
          "text": [
            "Run 2/5:  58%|█████▊    | 2904/5000 [04:00<02:13, 15.73it/s]"
          ]
        },
        {
          "name": "stdout",
          "output_type": "stream",
          "text": [
            "Episode 2900/5000, Avg Reward (Last 100): -110.33, Epsilon: 0.0001\n"
          ]
        },
        {
          "name": "stderr",
          "output_type": "stream",
          "text": [
            "Run 2/5:  60%|██████    | 3002/5000 [04:07<02:50, 11.74it/s]"
          ]
        },
        {
          "name": "stdout",
          "output_type": "stream",
          "text": [
            "Episode 3000/5000, Avg Reward (Last 100): -109.93, Epsilon: 0.0001\n"
          ]
        },
        {
          "name": "stderr",
          "output_type": "stream",
          "text": [
            "Run 2/5:  62%|██████▏   | 3103/5000 [04:14<01:55, 16.35it/s]"
          ]
        },
        {
          "name": "stdout",
          "output_type": "stream",
          "text": [
            "Episode 3100/5000, Avg Reward (Last 100): -108.49, Epsilon: 0.0001\n"
          ]
        },
        {
          "name": "stderr",
          "output_type": "stream",
          "text": [
            "Run 2/5:  64%|██████▍   | 3202/5000 [04:21<02:08, 13.95it/s]"
          ]
        },
        {
          "name": "stdout",
          "output_type": "stream",
          "text": [
            "Episode 3200/5000, Avg Reward (Last 100): -109.99, Epsilon: 0.0001\n"
          ]
        },
        {
          "name": "stderr",
          "output_type": "stream",
          "text": [
            "Run 2/5:  66%|██████▌   | 3304/5000 [04:28<01:47, 15.82it/s]"
          ]
        },
        {
          "name": "stdout",
          "output_type": "stream",
          "text": [
            "Episode 3300/5000, Avg Reward (Last 100): -111.59, Epsilon: 0.0001\n"
          ]
        },
        {
          "name": "stderr",
          "output_type": "stream",
          "text": [
            "Run 2/5:  68%|██████▊   | 3403/5000 [04:35<01:33, 17.13it/s]"
          ]
        },
        {
          "name": "stdout",
          "output_type": "stream",
          "text": [
            "Episode 3400/5000, Avg Reward (Last 100): -105.58, Epsilon: 0.0001\n"
          ]
        },
        {
          "name": "stderr",
          "output_type": "stream",
          "text": [
            "Run 2/5:  70%|███████   | 3503/5000 [04:41<01:45, 14.12it/s]"
          ]
        },
        {
          "name": "stdout",
          "output_type": "stream",
          "text": [
            "Episode 3500/5000, Avg Reward (Last 100): -108.23, Epsilon: 0.0001\n"
          ]
        },
        {
          "name": "stderr",
          "output_type": "stream",
          "text": [
            "Run 2/5:  72%|███████▏  | 3603/5000 [04:49<01:28, 15.73it/s]"
          ]
        },
        {
          "name": "stdout",
          "output_type": "stream",
          "text": [
            "Episode 3600/5000, Avg Reward (Last 100): -110.74, Epsilon: 0.0001\n"
          ]
        },
        {
          "name": "stderr",
          "output_type": "stream",
          "text": [
            "Run 2/5:  74%|███████▍  | 3701/5000 [04:56<02:06, 10.24it/s]"
          ]
        },
        {
          "name": "stdout",
          "output_type": "stream",
          "text": [
            "Episode 3700/5000, Avg Reward (Last 100): -115.48, Epsilon: 0.0001\n"
          ]
        },
        {
          "name": "stderr",
          "output_type": "stream",
          "text": [
            "Run 2/5:  76%|███████▌  | 3802/5000 [05:03<01:18, 15.20it/s]"
          ]
        },
        {
          "name": "stdout",
          "output_type": "stream",
          "text": [
            "Episode 3800/5000, Avg Reward (Last 100): -108.16, Epsilon: 0.0001\n"
          ]
        },
        {
          "name": "stderr",
          "output_type": "stream",
          "text": [
            "Run 2/5:  78%|███████▊  | 3903/5000 [05:11<01:16, 14.32it/s]"
          ]
        },
        {
          "name": "stdout",
          "output_type": "stream",
          "text": [
            "Episode 3900/5000, Avg Reward (Last 100): -105.58, Epsilon: 0.0001\n"
          ]
        },
        {
          "name": "stderr",
          "output_type": "stream",
          "text": [
            "Run 2/5:  80%|████████  | 4002/5000 [05:17<01:06, 15.07it/s]"
          ]
        },
        {
          "name": "stdout",
          "output_type": "stream",
          "text": [
            "Episode 4000/5000, Avg Reward (Last 100): -109.18, Epsilon: 0.0001\n"
          ]
        },
        {
          "name": "stderr",
          "output_type": "stream",
          "text": [
            "Run 2/5:  82%|████████▏ | 4103/5000 [05:25<00:59, 15.02it/s]"
          ]
        },
        {
          "name": "stdout",
          "output_type": "stream",
          "text": [
            "Episode 4100/5000, Avg Reward (Last 100): -109.04, Epsilon: 0.0001\n"
          ]
        },
        {
          "name": "stderr",
          "output_type": "stream",
          "text": [
            "Run 2/5:  84%|████████▍ | 4203/5000 [05:31<00:51, 15.51it/s]"
          ]
        },
        {
          "name": "stdout",
          "output_type": "stream",
          "text": [
            "Episode 4200/5000, Avg Reward (Last 100): -112.95, Epsilon: 0.0001\n"
          ]
        },
        {
          "name": "stderr",
          "output_type": "stream",
          "text": [
            "Run 2/5:  86%|████████▌ | 4304/5000 [05:39<00:41, 16.58it/s]"
          ]
        },
        {
          "name": "stdout",
          "output_type": "stream",
          "text": [
            "Episode 4300/5000, Avg Reward (Last 100): -106.92, Epsilon: 0.0001\n"
          ]
        },
        {
          "name": "stderr",
          "output_type": "stream",
          "text": [
            "Run 2/5:  88%|████████▊ | 4402/5000 [05:46<01:00,  9.84it/s]"
          ]
        },
        {
          "name": "stdout",
          "output_type": "stream",
          "text": [
            "Episode 4400/5000, Avg Reward (Last 100): -111.50, Epsilon: 0.0001\n"
          ]
        },
        {
          "name": "stderr",
          "output_type": "stream",
          "text": [
            "Run 2/5:  90%|█████████ | 4503/5000 [05:53<00:31, 15.59it/s]"
          ]
        },
        {
          "name": "stdout",
          "output_type": "stream",
          "text": [
            "Episode 4500/5000, Avg Reward (Last 100): -113.33, Epsilon: 0.0001\n"
          ]
        },
        {
          "name": "stderr",
          "output_type": "stream",
          "text": [
            "Run 2/5:  92%|█████████▏| 4603/5000 [06:00<00:26, 14.76it/s]"
          ]
        },
        {
          "name": "stdout",
          "output_type": "stream",
          "text": [
            "Episode 4600/5000, Avg Reward (Last 100): -107.84, Epsilon: 0.0001\n"
          ]
        },
        {
          "name": "stderr",
          "output_type": "stream",
          "text": [
            "Run 2/5:  94%|█████████▍| 4704/5000 [06:07<00:16, 17.42it/s]"
          ]
        },
        {
          "name": "stdout",
          "output_type": "stream",
          "text": [
            "Episode 4700/5000, Avg Reward (Last 100): -105.56, Epsilon: 0.0001\n"
          ]
        },
        {
          "name": "stderr",
          "output_type": "stream",
          "text": [
            "Run 2/5:  96%|█████████▌| 4802/5000 [06:14<00:13, 14.21it/s]"
          ]
        },
        {
          "name": "stdout",
          "output_type": "stream",
          "text": [
            "Episode 4800/5000, Avg Reward (Last 100): -114.94, Epsilon: 0.0001\n"
          ]
        },
        {
          "name": "stderr",
          "output_type": "stream",
          "text": [
            "Run 2/5:  98%|█████████▊| 4903/5000 [06:21<00:06, 15.31it/s]"
          ]
        },
        {
          "name": "stdout",
          "output_type": "stream",
          "text": [
            "Episode 4900/5000, Avg Reward (Last 100): -113.52, Epsilon: 0.0001\n"
          ]
        },
        {
          "name": "stderr",
          "output_type": "stream",
          "text": [
            "Run 2/5: 100%|██████████| 5000/5000 [06:28<00:00, 12.86it/s]\n"
          ]
        },
        {
          "name": "stdout",
          "output_type": "stream",
          "text": [
            "Run:3\n"
          ]
        },
        {
          "name": "stderr",
          "output_type": "stream",
          "text": [
            "Run 3/5:   0%|          | 2/5000 [00:00<05:20, 15.60it/s]"
          ]
        },
        {
          "name": "stdout",
          "output_type": "stream",
          "text": [
            "Episode 0/5000, Avg Reward (Last 100): -200.00, Epsilon: 0.9950\n"
          ]
        },
        {
          "name": "stderr",
          "output_type": "stream",
          "text": [
            "Run 3/5:   2%|▏         | 102/5000 [00:08<07:22, 11.06it/s]"
          ]
        },
        {
          "name": "stdout",
          "output_type": "stream",
          "text": [
            "Episode 100/5000, Avg Reward (Last 100): -200.00, Epsilon: 0.6027\n"
          ]
        },
        {
          "name": "stderr",
          "output_type": "stream",
          "text": [
            "Run 3/5:   4%|▍         | 202/5000 [00:17<07:50, 10.20it/s]"
          ]
        },
        {
          "name": "stdout",
          "output_type": "stream",
          "text": [
            "Episode 200/5000, Avg Reward (Last 100): -200.00, Epsilon: 0.3651\n"
          ]
        },
        {
          "name": "stderr",
          "output_type": "stream",
          "text": [
            "Run 3/5:   6%|▌         | 302/5000 [00:28<07:52,  9.94it/s]"
          ]
        },
        {
          "name": "stdout",
          "output_type": "stream",
          "text": [
            "Episode 300/5000, Avg Reward (Last 100): -196.18, Epsilon: 0.2212\n"
          ]
        },
        {
          "name": "stderr",
          "output_type": "stream",
          "text": [
            "Run 3/5:   8%|▊         | 402/5000 [00:40<07:37, 10.05it/s]"
          ]
        },
        {
          "name": "stdout",
          "output_type": "stream",
          "text": [
            "Episode 400/5000, Avg Reward (Last 100): -185.58, Epsilon: 0.1340\n"
          ]
        },
        {
          "name": "stderr",
          "output_type": "stream",
          "text": [
            "Run 3/5:  10%|█         | 502/5000 [00:52<06:52, 10.92it/s]"
          ]
        },
        {
          "name": "stdout",
          "output_type": "stream",
          "text": [
            "Episode 500/5000, Avg Reward (Last 100): -177.81, Epsilon: 0.0812\n"
          ]
        },
        {
          "name": "stderr",
          "output_type": "stream",
          "text": [
            "Run 3/5:  12%|█▏        | 602/5000 [01:02<06:40, 10.99it/s]"
          ]
        },
        {
          "name": "stdout",
          "output_type": "stream",
          "text": [
            "Episode 600/5000, Avg Reward (Last 100): -165.27, Epsilon: 0.0492\n"
          ]
        },
        {
          "name": "stderr",
          "output_type": "stream",
          "text": [
            "Run 3/5:  14%|█▍        | 702/5000 [01:12<05:56, 12.05it/s]"
          ]
        },
        {
          "name": "stdout",
          "output_type": "stream",
          "text": [
            "Episode 700/5000, Avg Reward (Last 100): -155.17, Epsilon: 0.0298\n"
          ]
        },
        {
          "name": "stderr",
          "output_type": "stream",
          "text": [
            "Run 3/5:  16%|█▌        | 801/5000 [01:21<08:37,  8.11it/s]"
          ]
        },
        {
          "name": "stdout",
          "output_type": "stream",
          "text": [
            "Episode 800/5000, Avg Reward (Last 100): -146.88, Epsilon: 0.0180\n"
          ]
        },
        {
          "name": "stderr",
          "output_type": "stream",
          "text": [
            "Run 3/5:  18%|█▊        | 903/5000 [01:30<05:59, 11.39it/s]"
          ]
        },
        {
          "name": "stdout",
          "output_type": "stream",
          "text": [
            "Episode 900/5000, Avg Reward (Last 100): -143.91, Epsilon: 0.0109\n"
          ]
        },
        {
          "name": "stderr",
          "output_type": "stream",
          "text": [
            "Run 3/5:  20%|██        | 1004/5000 [01:39<04:44, 14.07it/s]"
          ]
        },
        {
          "name": "stdout",
          "output_type": "stream",
          "text": [
            "Episode 1000/5000, Avg Reward (Last 100): -141.86, Epsilon: 0.0066\n"
          ]
        },
        {
          "name": "stderr",
          "output_type": "stream",
          "text": [
            "Run 3/5:  22%|██▏       | 1102/5000 [01:47<04:40, 13.90it/s]"
          ]
        },
        {
          "name": "stdout",
          "output_type": "stream",
          "text": [
            "Episode 1100/5000, Avg Reward (Last 100): -127.99, Epsilon: 0.0040\n"
          ]
        },
        {
          "name": "stderr",
          "output_type": "stream",
          "text": [
            "Run 3/5:  24%|██▍       | 1202/5000 [01:55<05:21, 11.80it/s]"
          ]
        },
        {
          "name": "stdout",
          "output_type": "stream",
          "text": [
            "Episode 1200/5000, Avg Reward (Last 100): -126.22, Epsilon: 0.0024\n"
          ]
        },
        {
          "name": "stderr",
          "output_type": "stream",
          "text": [
            "Run 3/5:  26%|██▌       | 1302/5000 [02:03<04:42, 13.11it/s]"
          ]
        },
        {
          "name": "stdout",
          "output_type": "stream",
          "text": [
            "Episode 1300/5000, Avg Reward (Last 100): -124.07, Epsilon: 0.0015\n"
          ]
        },
        {
          "name": "stderr",
          "output_type": "stream",
          "text": [
            "Run 3/5:  28%|██▊       | 1404/5000 [02:12<04:17, 13.96it/s]"
          ]
        },
        {
          "name": "stdout",
          "output_type": "stream",
          "text": [
            "Episode 1400/5000, Avg Reward (Last 100): -129.58, Epsilon: 0.0009\n"
          ]
        },
        {
          "name": "stderr",
          "output_type": "stream",
          "text": [
            "Run 3/5:  30%|███       | 1504/5000 [02:19<03:50, 15.16it/s]"
          ]
        },
        {
          "name": "stdout",
          "output_type": "stream",
          "text": [
            "Episode 1500/5000, Avg Reward (Last 100): -121.77, Epsilon: 0.0005\n"
          ]
        },
        {
          "name": "stderr",
          "output_type": "stream",
          "text": [
            "Run 3/5:  32%|███▏      | 1604/5000 [02:27<03:49, 14.81it/s]"
          ]
        },
        {
          "name": "stdout",
          "output_type": "stream",
          "text": [
            "Episode 1600/5000, Avg Reward (Last 100): -113.72, Epsilon: 0.0003\n"
          ]
        },
        {
          "name": "stderr",
          "output_type": "stream",
          "text": [
            "Run 3/5:  34%|███▍      | 1702/5000 [02:34<05:54,  9.31it/s]"
          ]
        },
        {
          "name": "stdout",
          "output_type": "stream",
          "text": [
            "Episode 1700/5000, Avg Reward (Last 100): -118.80, Epsilon: 0.0002\n"
          ]
        },
        {
          "name": "stderr",
          "output_type": "stream",
          "text": [
            "Run 3/5:  36%|███▌      | 1803/5000 [02:42<03:31, 15.11it/s]"
          ]
        },
        {
          "name": "stdout",
          "output_type": "stream",
          "text": [
            "Episode 1800/5000, Avg Reward (Last 100): -119.11, Epsilon: 0.0001\n"
          ]
        },
        {
          "name": "stderr",
          "output_type": "stream",
          "text": [
            "Run 3/5:  38%|███▊      | 1903/5000 [02:50<03:22, 15.32it/s]"
          ]
        },
        {
          "name": "stdout",
          "output_type": "stream",
          "text": [
            "Episode 1900/5000, Avg Reward (Last 100): -117.18, Epsilon: 0.0001\n"
          ]
        },
        {
          "name": "stderr",
          "output_type": "stream",
          "text": [
            "Run 3/5:  40%|████      | 2003/5000 [02:57<03:22, 14.81it/s]"
          ]
        },
        {
          "name": "stdout",
          "output_type": "stream",
          "text": [
            "Episode 2000/5000, Avg Reward (Last 100): -109.30, Epsilon: 0.0001\n"
          ]
        },
        {
          "name": "stderr",
          "output_type": "stream",
          "text": [
            "Run 3/5:  42%|████▏     | 2103/5000 [03:04<03:27, 13.97it/s]"
          ]
        },
        {
          "name": "stdout",
          "output_type": "stream",
          "text": [
            "Episode 2100/5000, Avg Reward (Last 100): -112.69, Epsilon: 0.0001\n"
          ]
        },
        {
          "name": "stderr",
          "output_type": "stream",
          "text": [
            "Run 3/5:  44%|████▍     | 2201/5000 [03:11<04:23, 10.64it/s]"
          ]
        },
        {
          "name": "stdout",
          "output_type": "stream",
          "text": [
            "Episode 2200/5000, Avg Reward (Last 100): -111.15, Epsilon: 0.0001\n"
          ]
        },
        {
          "name": "stderr",
          "output_type": "stream",
          "text": [
            "Run 3/5:  46%|████▌     | 2302/5000 [03:18<03:08, 14.30it/s]"
          ]
        },
        {
          "name": "stdout",
          "output_type": "stream",
          "text": [
            "Episode 2300/5000, Avg Reward (Last 100): -114.37, Epsilon: 0.0001\n"
          ]
        },
        {
          "name": "stderr",
          "output_type": "stream",
          "text": [
            "Run 3/5:  48%|████▊     | 2404/5000 [03:26<02:43, 15.87it/s]"
          ]
        },
        {
          "name": "stdout",
          "output_type": "stream",
          "text": [
            "Episode 2400/5000, Avg Reward (Last 100): -110.68, Epsilon: 0.0001\n"
          ]
        },
        {
          "name": "stderr",
          "output_type": "stream",
          "text": [
            "Run 3/5:  50%|█████     | 2503/5000 [03:33<03:06, 13.42it/s]"
          ]
        },
        {
          "name": "stdout",
          "output_type": "stream",
          "text": [
            "Episode 2500/5000, Avg Reward (Last 100): -116.50, Epsilon: 0.0001\n"
          ]
        },
        {
          "name": "stderr",
          "output_type": "stream",
          "text": [
            "Run 3/5:  52%|█████▏    | 2602/5000 [03:40<02:43, 14.69it/s]"
          ]
        },
        {
          "name": "stdout",
          "output_type": "stream",
          "text": [
            "Episode 2600/5000, Avg Reward (Last 100): -110.88, Epsilon: 0.0001\n"
          ]
        },
        {
          "name": "stderr",
          "output_type": "stream",
          "text": [
            "Run 3/5:  54%|█████▍    | 2701/5000 [03:47<03:35, 10.69it/s]"
          ]
        },
        {
          "name": "stdout",
          "output_type": "stream",
          "text": [
            "Episode 2700/5000, Avg Reward (Last 100): -114.15, Epsilon: 0.0001\n"
          ]
        },
        {
          "name": "stderr",
          "output_type": "stream",
          "text": [
            "Run 3/5:  56%|█████▌    | 2803/5000 [03:55<02:52, 12.74it/s]"
          ]
        },
        {
          "name": "stdout",
          "output_type": "stream",
          "text": [
            "Episode 2800/5000, Avg Reward (Last 100): -113.85, Epsilon: 0.0001\n"
          ]
        },
        {
          "name": "stderr",
          "output_type": "stream",
          "text": [
            "Run 3/5:  58%|█████▊    | 2902/5000 [04:03<02:42, 12.95it/s]"
          ]
        },
        {
          "name": "stdout",
          "output_type": "stream",
          "text": [
            "Episode 2900/5000, Avg Reward (Last 100): -112.27, Epsilon: 0.0001\n"
          ]
        },
        {
          "name": "stderr",
          "output_type": "stream",
          "text": [
            "Run 3/5:  60%|██████    | 3004/5000 [04:09<02:09, 15.37it/s]"
          ]
        },
        {
          "name": "stdout",
          "output_type": "stream",
          "text": [
            "Episode 3000/5000, Avg Reward (Last 100): -111.20, Epsilon: 0.0001\n"
          ]
        },
        {
          "name": "stderr",
          "output_type": "stream",
          "text": [
            "Run 3/5:  62%|██████▏   | 3104/5000 [04:17<01:55, 16.35it/s]"
          ]
        },
        {
          "name": "stdout",
          "output_type": "stream",
          "text": [
            "Episode 3100/5000, Avg Reward (Last 100): -108.64, Epsilon: 0.0001\n"
          ]
        },
        {
          "name": "stderr",
          "output_type": "stream",
          "text": [
            "Run 3/5:  64%|██████▍   | 3202/5000 [04:23<02:10, 13.75it/s]"
          ]
        },
        {
          "name": "stdout",
          "output_type": "stream",
          "text": [
            "Episode 3200/5000, Avg Reward (Last 100): -114.26, Epsilon: 0.0001\n"
          ]
        },
        {
          "name": "stderr",
          "output_type": "stream",
          "text": [
            "Run 3/5:  66%|██████▌   | 3303/5000 [04:31<01:45, 16.10it/s]"
          ]
        },
        {
          "name": "stdout",
          "output_type": "stream",
          "text": [
            "Episode 3300/5000, Avg Reward (Last 100): -112.03, Epsilon: 0.0001\n"
          ]
        },
        {
          "name": "stderr",
          "output_type": "stream",
          "text": [
            "Run 3/5:  68%|██████▊   | 3403/5000 [04:39<02:23, 11.14it/s]"
          ]
        },
        {
          "name": "stdout",
          "output_type": "stream",
          "text": [
            "Episode 3400/5000, Avg Reward (Last 100): -109.97, Epsilon: 0.0001\n"
          ]
        },
        {
          "name": "stderr",
          "output_type": "stream",
          "text": [
            "Run 3/5:  70%|███████   | 3503/5000 [04:45<01:43, 14.43it/s]"
          ]
        },
        {
          "name": "stdout",
          "output_type": "stream",
          "text": [
            "Episode 3500/5000, Avg Reward (Last 100): -110.21, Epsilon: 0.0001\n"
          ]
        },
        {
          "name": "stderr",
          "output_type": "stream",
          "text": [
            "Run 3/5:  72%|███████▏  | 3603/5000 [04:53<01:35, 14.62it/s]"
          ]
        },
        {
          "name": "stdout",
          "output_type": "stream",
          "text": [
            "Episode 3600/5000, Avg Reward (Last 100): -110.98, Epsilon: 0.0001\n"
          ]
        },
        {
          "name": "stderr",
          "output_type": "stream",
          "text": [
            "Run 3/5:  74%|███████▍  | 3702/5000 [04:59<01:28, 14.64it/s]"
          ]
        },
        {
          "name": "stdout",
          "output_type": "stream",
          "text": [
            "Episode 3700/5000, Avg Reward (Last 100): -112.17, Epsilon: 0.0001\n"
          ]
        },
        {
          "name": "stderr",
          "output_type": "stream",
          "text": [
            "Run 3/5:  76%|███████▌  | 3803/5000 [05:08<01:12, 16.41it/s]"
          ]
        },
        {
          "name": "stdout",
          "output_type": "stream",
          "text": [
            "Episode 3800/5000, Avg Reward (Last 100): -108.86, Epsilon: 0.0001\n"
          ]
        },
        {
          "name": "stderr",
          "output_type": "stream",
          "text": [
            "Run 3/5:  78%|███████▊  | 3901/5000 [05:14<01:12, 15.18it/s]"
          ]
        },
        {
          "name": "stdout",
          "output_type": "stream",
          "text": [
            "Episode 3900/5000, Avg Reward (Last 100): -108.60, Epsilon: 0.0001\n"
          ]
        },
        {
          "name": "stderr",
          "output_type": "stream",
          "text": [
            "Run 3/5:  80%|████████  | 4004/5000 [05:22<01:07, 14.79it/s]"
          ]
        },
        {
          "name": "stdout",
          "output_type": "stream",
          "text": [
            "Episode 4000/5000, Avg Reward (Last 100): -112.60, Epsilon: 0.0001\n"
          ]
        },
        {
          "name": "stderr",
          "output_type": "stream",
          "text": [
            "Run 3/5:  82%|████████▏ | 4104/5000 [05:30<01:01, 14.54it/s]"
          ]
        },
        {
          "name": "stdout",
          "output_type": "stream",
          "text": [
            "Episode 4100/5000, Avg Reward (Last 100): -110.77, Epsilon: 0.0001\n"
          ]
        },
        {
          "name": "stderr",
          "output_type": "stream",
          "text": [
            "Run 3/5:  84%|████████▍ | 4204/5000 [05:36<00:49, 16.06it/s]"
          ]
        },
        {
          "name": "stdout",
          "output_type": "stream",
          "text": [
            "Episode 4200/5000, Avg Reward (Last 100): -106.46, Epsilon: 0.0001\n"
          ]
        },
        {
          "name": "stderr",
          "output_type": "stream",
          "text": [
            "Run 3/5:  86%|████████▌ | 4304/5000 [05:44<00:46, 15.00it/s]"
          ]
        },
        {
          "name": "stdout",
          "output_type": "stream",
          "text": [
            "Episode 4300/5000, Avg Reward (Last 100): -111.39, Epsilon: 0.0001\n"
          ]
        },
        {
          "name": "stderr",
          "output_type": "stream",
          "text": [
            "Run 3/5:  88%|████████▊ | 4403/5000 [05:50<00:39, 15.16it/s]"
          ]
        },
        {
          "name": "stdout",
          "output_type": "stream",
          "text": [
            "Episode 4400/5000, Avg Reward (Last 100): -115.09, Epsilon: 0.0001\n"
          ]
        },
        {
          "name": "stderr",
          "output_type": "stream",
          "text": [
            "Run 3/5:  90%|█████████ | 4503/5000 [05:58<00:33, 14.84it/s]"
          ]
        },
        {
          "name": "stdout",
          "output_type": "stream",
          "text": [
            "Episode 4500/5000, Avg Reward (Last 100): -107.99, Epsilon: 0.0001\n"
          ]
        },
        {
          "name": "stderr",
          "output_type": "stream",
          "text": [
            "Run 3/5:  92%|█████████▏| 4601/5000 [06:05<00:37, 10.59it/s]"
          ]
        },
        {
          "name": "stdout",
          "output_type": "stream",
          "text": [
            "Episode 4600/5000, Avg Reward (Last 100): -110.03, Epsilon: 0.0001\n"
          ]
        },
        {
          "name": "stderr",
          "output_type": "stream",
          "text": [
            "Run 3/5:  94%|█████████▍| 4702/5000 [06:12<00:22, 13.25it/s]"
          ]
        },
        {
          "name": "stdout",
          "output_type": "stream",
          "text": [
            "Episode 4700/5000, Avg Reward (Last 100): -107.59, Epsilon: 0.0001\n"
          ]
        },
        {
          "name": "stderr",
          "output_type": "stream",
          "text": [
            "Run 3/5:  96%|█████████▌| 4804/5000 [06:19<00:12, 15.74it/s]"
          ]
        },
        {
          "name": "stdout",
          "output_type": "stream",
          "text": [
            "Episode 4800/5000, Avg Reward (Last 100): -108.49, Epsilon: 0.0001\n"
          ]
        },
        {
          "name": "stderr",
          "output_type": "stream",
          "text": [
            "Run 3/5:  98%|█████████▊| 4904/5000 [06:26<00:06, 14.47it/s]"
          ]
        },
        {
          "name": "stdout",
          "output_type": "stream",
          "text": [
            "Episode 4900/5000, Avg Reward (Last 100): -110.75, Epsilon: 0.0001\n"
          ]
        },
        {
          "name": "stderr",
          "output_type": "stream",
          "text": [
            "Run 3/5: 100%|██████████| 5000/5000 [06:33<00:00, 12.71it/s]\n"
          ]
        },
        {
          "name": "stdout",
          "output_type": "stream",
          "text": [
            "Run:4\n"
          ]
        },
        {
          "name": "stderr",
          "output_type": "stream",
          "text": [
            "Run 4/5:   0%|          | 2/5000 [00:00<06:01, 13.83it/s]"
          ]
        },
        {
          "name": "stdout",
          "output_type": "stream",
          "text": [
            "Episode 0/5000, Avg Reward (Last 100): -200.00, Epsilon: 0.9950\n"
          ]
        },
        {
          "name": "stderr",
          "output_type": "stream",
          "text": [
            "Run 4/5:   2%|▏         | 102/5000 [00:07<09:05,  8.98it/s]"
          ]
        },
        {
          "name": "stdout",
          "output_type": "stream",
          "text": [
            "Episode 100/5000, Avg Reward (Last 100): -200.00, Epsilon: 0.6027\n"
          ]
        },
        {
          "name": "stderr",
          "output_type": "stream",
          "text": [
            "Run 4/5:   4%|▍         | 202/5000 [00:17<07:39, 10.43it/s]"
          ]
        },
        {
          "name": "stdout",
          "output_type": "stream",
          "text": [
            "Episode 200/5000, Avg Reward (Last 100): -199.53, Epsilon: 0.3651\n"
          ]
        },
        {
          "name": "stderr",
          "output_type": "stream",
          "text": [
            "Run 4/5:   6%|▌         | 302/5000 [00:28<07:30, 10.42it/s]"
          ]
        },
        {
          "name": "stdout",
          "output_type": "stream",
          "text": [
            "Episode 300/5000, Avg Reward (Last 100): -195.05, Epsilon: 0.2212\n"
          ]
        },
        {
          "name": "stderr",
          "output_type": "stream",
          "text": [
            "Run 4/5:   8%|▊         | 402/5000 [00:39<07:43,  9.92it/s]"
          ]
        },
        {
          "name": "stdout",
          "output_type": "stream",
          "text": [
            "Episode 400/5000, Avg Reward (Last 100): -186.07, Epsilon: 0.1340\n"
          ]
        },
        {
          "name": "stderr",
          "output_type": "stream",
          "text": [
            "Run 4/5:  10%|█         | 502/5000 [00:50<06:53, 10.88it/s]"
          ]
        },
        {
          "name": "stdout",
          "output_type": "stream",
          "text": [
            "Episode 500/5000, Avg Reward (Last 100): -179.38, Epsilon: 0.0812\n"
          ]
        },
        {
          "name": "stderr",
          "output_type": "stream",
          "text": [
            "Run 4/5:  12%|█▏        | 602/5000 [01:01<06:29, 11.30it/s]"
          ]
        },
        {
          "name": "stdout",
          "output_type": "stream",
          "text": [
            "Episode 600/5000, Avg Reward (Last 100): -162.85, Epsilon: 0.0492\n"
          ]
        },
        {
          "name": "stderr",
          "output_type": "stream",
          "text": [
            "Run 4/5:  14%|█▍        | 702/5000 [01:11<11:01,  6.50it/s]"
          ]
        },
        {
          "name": "stdout",
          "output_type": "stream",
          "text": [
            "Episode 700/5000, Avg Reward (Last 100): -158.05, Epsilon: 0.0298\n"
          ]
        },
        {
          "name": "stderr",
          "output_type": "stream",
          "text": [
            "Run 4/5:  16%|█▌        | 803/5000 [01:19<05:38, 12.40it/s]"
          ]
        },
        {
          "name": "stdout",
          "output_type": "stream",
          "text": [
            "Episode 800/5000, Avg Reward (Last 100): -147.42, Epsilon: 0.0180\n"
          ]
        },
        {
          "name": "stderr",
          "output_type": "stream",
          "text": [
            "Run 4/5:  18%|█▊        | 903/5000 [01:29<05:53, 11.60it/s]"
          ]
        },
        {
          "name": "stdout",
          "output_type": "stream",
          "text": [
            "Episode 900/5000, Avg Reward (Last 100): -150.74, Epsilon: 0.0109\n"
          ]
        },
        {
          "name": "stderr",
          "output_type": "stream",
          "text": [
            "Run 4/5:  20%|██        | 1002/5000 [01:39<05:51, 11.38it/s]"
          ]
        },
        {
          "name": "stdout",
          "output_type": "stream",
          "text": [
            "Episode 1000/5000, Avg Reward (Last 100): -145.59, Epsilon: 0.0066\n"
          ]
        },
        {
          "name": "stderr",
          "output_type": "stream",
          "text": [
            "Run 4/5:  22%|██▏       | 1102/5000 [01:48<09:12,  7.05it/s]"
          ]
        },
        {
          "name": "stdout",
          "output_type": "stream",
          "text": [
            "Episode 1100/5000, Avg Reward (Last 100): -138.03, Epsilon: 0.0040\n"
          ]
        },
        {
          "name": "stderr",
          "output_type": "stream",
          "text": [
            "Run 4/5:  24%|██▍       | 1202/5000 [01:55<05:18, 11.94it/s]"
          ]
        },
        {
          "name": "stdout",
          "output_type": "stream",
          "text": [
            "Episode 1200/5000, Avg Reward (Last 100): -121.94, Epsilon: 0.0024\n"
          ]
        },
        {
          "name": "stderr",
          "output_type": "stream",
          "text": [
            "Run 4/5:  26%|██▌       | 1303/5000 [02:03<04:02, 15.25it/s]"
          ]
        },
        {
          "name": "stdout",
          "output_type": "stream",
          "text": [
            "Episode 1300/5000, Avg Reward (Last 100): -116.50, Epsilon: 0.0015\n"
          ]
        },
        {
          "name": "stderr",
          "output_type": "stream",
          "text": [
            "Run 4/5:  28%|██▊       | 1401/5000 [02:10<05:22, 11.17it/s]"
          ]
        },
        {
          "name": "stdout",
          "output_type": "stream",
          "text": [
            "Episode 1400/5000, Avg Reward (Last 100): -124.46, Epsilon: 0.0009\n"
          ]
        },
        {
          "name": "stderr",
          "output_type": "stream",
          "text": [
            "Run 4/5:  30%|███       | 1502/5000 [02:19<04:09, 14.05it/s]"
          ]
        },
        {
          "name": "stdout",
          "output_type": "stream",
          "text": [
            "Episode 1500/5000, Avg Reward (Last 100): -124.20, Epsilon: 0.0005\n"
          ]
        },
        {
          "name": "stderr",
          "output_type": "stream",
          "text": [
            "Run 4/5:  32%|███▏      | 1602/5000 [02:27<03:38, 15.52it/s]"
          ]
        },
        {
          "name": "stdout",
          "output_type": "stream",
          "text": [
            "Episode 1600/5000, Avg Reward (Last 100): -113.54, Epsilon: 0.0003\n"
          ]
        },
        {
          "name": "stderr",
          "output_type": "stream",
          "text": [
            "Run 4/5:  34%|███▍      | 1704/5000 [02:34<03:48, 14.44it/s]"
          ]
        },
        {
          "name": "stdout",
          "output_type": "stream",
          "text": [
            "Episode 1700/5000, Avg Reward (Last 100): -115.82, Epsilon: 0.0002\n"
          ]
        },
        {
          "name": "stderr",
          "output_type": "stream",
          "text": [
            "Run 4/5:  36%|███▌      | 1802/5000 [02:41<03:51, 13.79it/s]"
          ]
        },
        {
          "name": "stdout",
          "output_type": "stream",
          "text": [
            "Episode 1800/5000, Avg Reward (Last 100): -115.99, Epsilon: 0.0001\n"
          ]
        },
        {
          "name": "stderr",
          "output_type": "stream",
          "text": [
            "Run 4/5:  38%|███▊      | 1903/5000 [02:50<06:11,  8.35it/s]"
          ]
        },
        {
          "name": "stdout",
          "output_type": "stream",
          "text": [
            "Episode 1900/5000, Avg Reward (Last 100): -120.77, Epsilon: 0.0001\n"
          ]
        },
        {
          "name": "stderr",
          "output_type": "stream",
          "text": [
            "Run 4/5:  40%|████      | 2002/5000 [02:58<03:52, 12.88it/s]"
          ]
        },
        {
          "name": "stdout",
          "output_type": "stream",
          "text": [
            "Episode 2000/5000, Avg Reward (Last 100): -115.04, Epsilon: 0.0001\n"
          ]
        },
        {
          "name": "stderr",
          "output_type": "stream",
          "text": [
            "Run 4/5:  42%|████▏     | 2103/5000 [03:06<03:33, 13.59it/s]"
          ]
        },
        {
          "name": "stdout",
          "output_type": "stream",
          "text": [
            "Episode 2100/5000, Avg Reward (Last 100): -116.98, Epsilon: 0.0001\n"
          ]
        },
        {
          "name": "stderr",
          "output_type": "stream",
          "text": [
            "Run 4/5:  44%|████▍     | 2202/5000 [03:14<06:00,  7.75it/s]"
          ]
        },
        {
          "name": "stdout",
          "output_type": "stream",
          "text": [
            "Episode 2200/5000, Avg Reward (Last 100): -115.02, Epsilon: 0.0001\n"
          ]
        },
        {
          "name": "stderr",
          "output_type": "stream",
          "text": [
            "Run 4/5:  46%|████▌     | 2303/5000 [03:20<03:04, 14.60it/s]"
          ]
        },
        {
          "name": "stdout",
          "output_type": "stream",
          "text": [
            "Episode 2300/5000, Avg Reward (Last 100): -106.83, Epsilon: 0.0001\n"
          ]
        },
        {
          "name": "stderr",
          "output_type": "stream",
          "text": [
            "Run 4/5:  48%|████▊     | 2404/5000 [03:28<02:54, 14.88it/s]"
          ]
        },
        {
          "name": "stdout",
          "output_type": "stream",
          "text": [
            "Episode 2400/5000, Avg Reward (Last 100): -111.36, Epsilon: 0.0001\n"
          ]
        },
        {
          "name": "stderr",
          "output_type": "stream",
          "text": [
            "Run 4/5:  50%|█████     | 2504/5000 [03:35<02:40, 15.55it/s]"
          ]
        },
        {
          "name": "stdout",
          "output_type": "stream",
          "text": [
            "Episode 2500/5000, Avg Reward (Last 100): -113.78, Epsilon: 0.0001\n"
          ]
        },
        {
          "name": "stderr",
          "output_type": "stream",
          "text": [
            "Run 4/5:  52%|█████▏    | 2603/5000 [03:43<02:35, 15.40it/s]"
          ]
        },
        {
          "name": "stdout",
          "output_type": "stream",
          "text": [
            "Episode 2600/5000, Avg Reward (Last 100): -108.83, Epsilon: 0.0001\n"
          ]
        },
        {
          "name": "stderr",
          "output_type": "stream",
          "text": [
            "Run 4/5:  54%|█████▍    | 2701/5000 [03:49<02:30, 15.31it/s]"
          ]
        },
        {
          "name": "stdout",
          "output_type": "stream",
          "text": [
            "Episode 2700/5000, Avg Reward (Last 100): -108.13, Epsilon: 0.0001\n"
          ]
        },
        {
          "name": "stderr",
          "output_type": "stream",
          "text": [
            "Run 4/5:  56%|█████▌    | 2802/5000 [03:57<02:17, 15.99it/s]"
          ]
        },
        {
          "name": "stdout",
          "output_type": "stream",
          "text": [
            "Episode 2800/5000, Avg Reward (Last 100): -112.55, Epsilon: 0.0001\n"
          ]
        },
        {
          "name": "stderr",
          "output_type": "stream",
          "text": [
            "Run 4/5:  58%|█████▊    | 2903/5000 [04:05<02:42, 12.91it/s]"
          ]
        },
        {
          "name": "stdout",
          "output_type": "stream",
          "text": [
            "Episode 2900/5000, Avg Reward (Last 100): -114.23, Epsilon: 0.0001\n"
          ]
        },
        {
          "name": "stderr",
          "output_type": "stream",
          "text": [
            "Run 4/5:  60%|██████    | 3003/5000 [04:12<02:03, 16.21it/s]"
          ]
        },
        {
          "name": "stdout",
          "output_type": "stream",
          "text": [
            "Episode 3000/5000, Avg Reward (Last 100): -111.17, Epsilon: 0.0001\n"
          ]
        },
        {
          "name": "stderr",
          "output_type": "stream",
          "text": [
            "Run 4/5:  62%|██████▏   | 3102/5000 [04:19<02:00, 15.69it/s]"
          ]
        },
        {
          "name": "stdout",
          "output_type": "stream",
          "text": [
            "Episode 3100/5000, Avg Reward (Last 100): -103.32, Epsilon: 0.0001\n"
          ]
        },
        {
          "name": "stderr",
          "output_type": "stream",
          "text": [
            "Run 4/5:  64%|██████▍   | 3202/5000 [04:26<02:18, 12.99it/s]"
          ]
        },
        {
          "name": "stdout",
          "output_type": "stream",
          "text": [
            "Episode 3200/5000, Avg Reward (Last 100): -112.49, Epsilon: 0.0001\n"
          ]
        },
        {
          "name": "stderr",
          "output_type": "stream",
          "text": [
            "Run 4/5:  66%|██████▌   | 3303/5000 [04:33<01:58, 14.32it/s]"
          ]
        },
        {
          "name": "stdout",
          "output_type": "stream",
          "text": [
            "Episode 3300/5000, Avg Reward (Last 100): -112.25, Epsilon: 0.0001\n"
          ]
        },
        {
          "name": "stderr",
          "output_type": "stream",
          "text": [
            "Run 4/5:  68%|██████▊   | 3402/5000 [04:40<03:06,  8.55it/s]"
          ]
        },
        {
          "name": "stdout",
          "output_type": "stream",
          "text": [
            "Episode 3400/5000, Avg Reward (Last 100): -107.39, Epsilon: 0.0001\n"
          ]
        },
        {
          "name": "stderr",
          "output_type": "stream",
          "text": [
            "Run 4/5:  70%|███████   | 3504/5000 [04:47<01:35, 15.65it/s]"
          ]
        },
        {
          "name": "stdout",
          "output_type": "stream",
          "text": [
            "Episode 3500/5000, Avg Reward (Last 100): -110.51, Epsilon: 0.0001\n"
          ]
        },
        {
          "name": "stderr",
          "output_type": "stream",
          "text": [
            "Run 4/5:  72%|███████▏  | 3603/5000 [04:55<01:24, 16.63it/s]"
          ]
        },
        {
          "name": "stdout",
          "output_type": "stream",
          "text": [
            "Episode 3600/5000, Avg Reward (Last 100): -110.96, Epsilon: 0.0001\n"
          ]
        },
        {
          "name": "stderr",
          "output_type": "stream",
          "text": [
            "Run 4/5:  74%|███████▍  | 3703/5000 [05:01<01:27, 14.84it/s]"
          ]
        },
        {
          "name": "stdout",
          "output_type": "stream",
          "text": [
            "Episode 3700/5000, Avg Reward (Last 100): -111.57, Epsilon: 0.0001\n"
          ]
        },
        {
          "name": "stderr",
          "output_type": "stream",
          "text": [
            "Run 4/5:  76%|███████▌  | 3804/5000 [05:09<01:14, 16.07it/s]"
          ]
        },
        {
          "name": "stdout",
          "output_type": "stream",
          "text": [
            "Episode 3800/5000, Avg Reward (Last 100): -107.45, Epsilon: 0.0001\n"
          ]
        },
        {
          "name": "stderr",
          "output_type": "stream",
          "text": [
            "Run 4/5:  78%|███████▊  | 3904/5000 [05:15<01:09, 15.88it/s]"
          ]
        },
        {
          "name": "stdout",
          "output_type": "stream",
          "text": [
            "Episode 3900/5000, Avg Reward (Last 100): -108.57, Epsilon: 0.0001\n"
          ]
        },
        {
          "name": "stderr",
          "output_type": "stream",
          "text": [
            "Run 4/5:  80%|████████  | 4003/5000 [05:23<01:13, 13.47it/s]"
          ]
        },
        {
          "name": "stdout",
          "output_type": "stream",
          "text": [
            "Episode 4000/5000, Avg Reward (Last 100): -110.26, Epsilon: 0.0001\n"
          ]
        },
        {
          "name": "stderr",
          "output_type": "stream",
          "text": [
            "Run 4/5:  82%|████████▏ | 4103/5000 [05:30<01:11, 12.57it/s]"
          ]
        },
        {
          "name": "stdout",
          "output_type": "stream",
          "text": [
            "Episode 4100/5000, Avg Reward (Last 100): -110.96, Epsilon: 0.0001\n"
          ]
        },
        {
          "name": "stderr",
          "output_type": "stream",
          "text": [
            "Run 4/5:  84%|████████▍ | 4204/5000 [05:37<00:47, 16.70it/s]"
          ]
        },
        {
          "name": "stdout",
          "output_type": "stream",
          "text": [
            "Episode 4200/5000, Avg Reward (Last 100): -106.50, Epsilon: 0.0001\n"
          ]
        },
        {
          "name": "stderr",
          "output_type": "stream",
          "text": [
            "Run 4/5:  86%|████████▌ | 4304/5000 [05:44<00:42, 16.28it/s]"
          ]
        },
        {
          "name": "stdout",
          "output_type": "stream",
          "text": [
            "Episode 4300/5000, Avg Reward (Last 100): -106.29, Epsilon: 0.0001\n"
          ]
        },
        {
          "name": "stderr",
          "output_type": "stream",
          "text": [
            "Run 4/5:  88%|████████▊ | 4404/5000 [05:51<00:37, 15.97it/s]"
          ]
        },
        {
          "name": "stdout",
          "output_type": "stream",
          "text": [
            "Episode 4400/5000, Avg Reward (Last 100): -111.05, Epsilon: 0.0001\n"
          ]
        },
        {
          "name": "stderr",
          "output_type": "stream",
          "text": [
            "Run 4/5:  90%|█████████ | 4504/5000 [05:58<00:32, 15.46it/s]"
          ]
        },
        {
          "name": "stdout",
          "output_type": "stream",
          "text": [
            "Episode 4500/5000, Avg Reward (Last 100): -108.18, Epsilon: 0.0001\n"
          ]
        },
        {
          "name": "stderr",
          "output_type": "stream",
          "text": [
            "Run 4/5:  92%|█████████▏| 4604/5000 [06:05<00:25, 15.77it/s]"
          ]
        },
        {
          "name": "stdout",
          "output_type": "stream",
          "text": [
            "Episode 4600/5000, Avg Reward (Last 100): -107.46, Epsilon: 0.0001\n"
          ]
        },
        {
          "name": "stderr",
          "output_type": "stream",
          "text": [
            "Run 4/5:  94%|█████████▍| 4702/5000 [06:12<00:20, 14.90it/s]"
          ]
        },
        {
          "name": "stdout",
          "output_type": "stream",
          "text": [
            "Episode 4700/5000, Avg Reward (Last 100): -111.43, Epsilon: 0.0001\n"
          ]
        },
        {
          "name": "stderr",
          "output_type": "stream",
          "text": [
            "Run 4/5:  96%|█████████▌| 4804/5000 [06:20<00:16, 11.95it/s]"
          ]
        },
        {
          "name": "stdout",
          "output_type": "stream",
          "text": [
            "Episode 4800/5000, Avg Reward (Last 100): -110.39, Epsilon: 0.0001\n"
          ]
        },
        {
          "name": "stderr",
          "output_type": "stream",
          "text": [
            "Run 4/5:  98%|█████████▊| 4904/5000 [06:26<00:06, 15.64it/s]"
          ]
        },
        {
          "name": "stdout",
          "output_type": "stream",
          "text": [
            "Episode 4900/5000, Avg Reward (Last 100): -112.60, Epsilon: 0.0001\n"
          ]
        },
        {
          "name": "stderr",
          "output_type": "stream",
          "text": [
            "Run 4/5: 100%|██████████| 5000/5000 [06:34<00:00, 12.69it/s]\n"
          ]
        },
        {
          "name": "stdout",
          "output_type": "stream",
          "text": [
            "Run:5\n"
          ]
        },
        {
          "name": "stderr",
          "output_type": "stream",
          "text": [
            "Run 5/5:   0%|          | 2/5000 [00:00<05:18, 15.70it/s]"
          ]
        },
        {
          "name": "stdout",
          "output_type": "stream",
          "text": [
            "Episode 0/5000, Avg Reward (Last 100): -200.00, Epsilon: 0.9950\n"
          ]
        },
        {
          "name": "stderr",
          "output_type": "stream",
          "text": [
            "Run 5/5:   2%|▏         | 102/5000 [00:07<07:00, 11.66it/s]"
          ]
        },
        {
          "name": "stdout",
          "output_type": "stream",
          "text": [
            "Episode 100/5000, Avg Reward (Last 100): -200.00, Epsilon: 0.6027\n"
          ]
        },
        {
          "name": "stderr",
          "output_type": "stream",
          "text": [
            "Run 5/5:   4%|▍         | 202/5000 [00:17<07:29, 10.68it/s]"
          ]
        },
        {
          "name": "stdout",
          "output_type": "stream",
          "text": [
            "Episode 200/5000, Avg Reward (Last 100): -199.66, Epsilon: 0.3651\n"
          ]
        },
        {
          "name": "stderr",
          "output_type": "stream",
          "text": [
            "Run 5/5:   6%|▌         | 303/5000 [00:29<07:37, 10.27it/s]"
          ]
        },
        {
          "name": "stdout",
          "output_type": "stream",
          "text": [
            "Episode 300/5000, Avg Reward (Last 100): -197.76, Epsilon: 0.2212\n"
          ]
        },
        {
          "name": "stderr",
          "output_type": "stream",
          "text": [
            "Run 5/5:   8%|▊         | 402/5000 [00:41<07:38, 10.03it/s]"
          ]
        },
        {
          "name": "stdout",
          "output_type": "stream",
          "text": [
            "Episode 400/5000, Avg Reward (Last 100): -188.39, Epsilon: 0.1340\n"
          ]
        },
        {
          "name": "stderr",
          "output_type": "stream",
          "text": [
            "Run 5/5:  10%|█         | 502/5000 [00:51<06:58, 10.74it/s]"
          ]
        },
        {
          "name": "stdout",
          "output_type": "stream",
          "text": [
            "Episode 500/5000, Avg Reward (Last 100): -171.11, Epsilon: 0.0812\n"
          ]
        },
        {
          "name": "stderr",
          "output_type": "stream",
          "text": [
            "Run 5/5:  12%|█▏        | 603/5000 [01:02<06:53, 10.63it/s]"
          ]
        },
        {
          "name": "stdout",
          "output_type": "stream",
          "text": [
            "Episode 600/5000, Avg Reward (Last 100): -157.23, Epsilon: 0.0492\n"
          ]
        },
        {
          "name": "stderr",
          "output_type": "stream",
          "text": [
            "Run 5/5:  14%|█▍        | 702/5000 [01:12<08:56,  8.01it/s]"
          ]
        },
        {
          "name": "stdout",
          "output_type": "stream",
          "text": [
            "Episode 700/5000, Avg Reward (Last 100): -158.73, Epsilon: 0.0298\n"
          ]
        },
        {
          "name": "stderr",
          "output_type": "stream",
          "text": [
            "Run 5/5:  16%|█▌        | 803/5000 [01:21<06:04, 11.52it/s]"
          ]
        },
        {
          "name": "stdout",
          "output_type": "stream",
          "text": [
            "Episode 800/5000, Avg Reward (Last 100): -153.74, Epsilon: 0.0180\n"
          ]
        },
        {
          "name": "stderr",
          "output_type": "stream",
          "text": [
            "Run 5/5:  18%|█▊        | 902/5000 [01:30<05:28, 12.49it/s]"
          ]
        },
        {
          "name": "stdout",
          "output_type": "stream",
          "text": [
            "Episode 900/5000, Avg Reward (Last 100): -150.48, Epsilon: 0.0109\n"
          ]
        },
        {
          "name": "stderr",
          "output_type": "stream",
          "text": [
            "Run 5/5:  20%|██        | 1003/5000 [01:40<06:11, 10.77it/s]"
          ]
        },
        {
          "name": "stdout",
          "output_type": "stream",
          "text": [
            "Episode 1000/5000, Avg Reward (Last 100): -138.64, Epsilon: 0.0066\n"
          ]
        },
        {
          "name": "stderr",
          "output_type": "stream",
          "text": [
            "Run 5/5:  22%|██▏       | 1103/5000 [01:49<06:32,  9.94it/s]"
          ]
        },
        {
          "name": "stdout",
          "output_type": "stream",
          "text": [
            "Episode 1100/5000, Avg Reward (Last 100): -142.86, Epsilon: 0.0040\n"
          ]
        },
        {
          "name": "stderr",
          "output_type": "stream",
          "text": [
            "Run 5/5:  24%|██▍       | 1203/5000 [01:56<04:42, 13.44it/s]"
          ]
        },
        {
          "name": "stdout",
          "output_type": "stream",
          "text": [
            "Episode 1200/5000, Avg Reward (Last 100): -129.51, Epsilon: 0.0024\n"
          ]
        },
        {
          "name": "stderr",
          "output_type": "stream",
          "text": [
            "Run 5/5:  26%|██▌       | 1304/5000 [02:05<04:12, 14.65it/s]"
          ]
        },
        {
          "name": "stdout",
          "output_type": "stream",
          "text": [
            "Episode 1300/5000, Avg Reward (Last 100): -125.94, Epsilon: 0.0015\n"
          ]
        },
        {
          "name": "stderr",
          "output_type": "stream",
          "text": [
            "Run 5/5:  28%|██▊       | 1402/5000 [02:13<07:24,  8.10it/s]"
          ]
        },
        {
          "name": "stdout",
          "output_type": "stream",
          "text": [
            "Episode 1400/5000, Avg Reward (Last 100): -122.89, Epsilon: 0.0009\n"
          ]
        },
        {
          "name": "stderr",
          "output_type": "stream",
          "text": [
            "Run 5/5:  30%|███       | 1503/5000 [02:21<04:05, 14.26it/s]"
          ]
        },
        {
          "name": "stdout",
          "output_type": "stream",
          "text": [
            "Episode 1500/5000, Avg Reward (Last 100): -127.86, Epsilon: 0.0005\n"
          ]
        },
        {
          "name": "stderr",
          "output_type": "stream",
          "text": [
            "Run 5/5:  32%|███▏      | 1602/5000 [02:28<04:02, 14.04it/s]"
          ]
        },
        {
          "name": "stdout",
          "output_type": "stream",
          "text": [
            "Episode 1600/5000, Avg Reward (Last 100): -114.53, Epsilon: 0.0003\n"
          ]
        },
        {
          "name": "stderr",
          "output_type": "stream",
          "text": [
            "Run 5/5:  34%|███▍      | 1702/5000 [02:35<03:47, 14.50it/s]"
          ]
        },
        {
          "name": "stdout",
          "output_type": "stream",
          "text": [
            "Episode 1700/5000, Avg Reward (Last 100): -121.63, Epsilon: 0.0002\n"
          ]
        },
        {
          "name": "stderr",
          "output_type": "stream",
          "text": [
            "Run 5/5:  36%|███▌      | 1802/5000 [02:43<03:50, 13.87it/s]"
          ]
        },
        {
          "name": "stdout",
          "output_type": "stream",
          "text": [
            "Episode 1800/5000, Avg Reward (Last 100): -114.71, Epsilon: 0.0001\n"
          ]
        },
        {
          "name": "stderr",
          "output_type": "stream",
          "text": [
            "Run 5/5:  38%|███▊      | 1903/5000 [02:51<03:08, 16.47it/s]"
          ]
        },
        {
          "name": "stdout",
          "output_type": "stream",
          "text": [
            "Episode 1900/5000, Avg Reward (Last 100): -111.12, Epsilon: 0.0001\n"
          ]
        },
        {
          "name": "stderr",
          "output_type": "stream",
          "text": [
            "Run 5/5:  40%|████      | 2003/5000 [02:58<03:38, 13.70it/s]"
          ]
        },
        {
          "name": "stdout",
          "output_type": "stream",
          "text": [
            "Episode 2000/5000, Avg Reward (Last 100): -114.57, Epsilon: 0.0001\n"
          ]
        },
        {
          "name": "stderr",
          "output_type": "stream",
          "text": [
            "Run 5/5:  42%|████▏     | 2103/5000 [03:05<03:30, 13.78it/s]"
          ]
        },
        {
          "name": "stdout",
          "output_type": "stream",
          "text": [
            "Episode 2100/5000, Avg Reward (Last 100): -115.72, Epsilon: 0.0001\n"
          ]
        },
        {
          "name": "stderr",
          "output_type": "stream",
          "text": [
            "Run 5/5:  44%|████▍     | 2202/5000 [03:12<02:59, 15.55it/s]"
          ]
        },
        {
          "name": "stdout",
          "output_type": "stream",
          "text": [
            "Episode 2200/5000, Avg Reward (Last 100): -115.08, Epsilon: 0.0001\n"
          ]
        },
        {
          "name": "stderr",
          "output_type": "stream",
          "text": [
            "Run 5/5:  46%|████▌     | 2303/5000 [03:21<03:01, 14.86it/s]"
          ]
        },
        {
          "name": "stdout",
          "output_type": "stream",
          "text": [
            "Episode 2300/5000, Avg Reward (Last 100): -124.01, Epsilon: 0.0001\n"
          ]
        },
        {
          "name": "stderr",
          "output_type": "stream",
          "text": [
            "Run 5/5:  48%|████▊     | 2402/5000 [03:28<03:10, 13.63it/s]"
          ]
        },
        {
          "name": "stdout",
          "output_type": "stream",
          "text": [
            "Episode 2400/5000, Avg Reward (Last 100): -115.05, Epsilon: 0.0001\n"
          ]
        },
        {
          "name": "stderr",
          "output_type": "stream",
          "text": [
            "Run 5/5:  50%|█████     | 2504/5000 [03:35<02:43, 15.29it/s]"
          ]
        },
        {
          "name": "stdout",
          "output_type": "stream",
          "text": [
            "Episode 2500/5000, Avg Reward (Last 100): -111.15, Epsilon: 0.0001\n"
          ]
        },
        {
          "name": "stderr",
          "output_type": "stream",
          "text": [
            "Run 5/5:  52%|█████▏    | 2604/5000 [03:43<02:25, 16.51it/s]"
          ]
        },
        {
          "name": "stdout",
          "output_type": "stream",
          "text": [
            "Episode 2600/5000, Avg Reward (Last 100): -114.58, Epsilon: 0.0001\n"
          ]
        },
        {
          "name": "stderr",
          "output_type": "stream",
          "text": [
            "Run 5/5:  54%|█████▍    | 2702/5000 [03:49<02:20, 16.30it/s]"
          ]
        },
        {
          "name": "stdout",
          "output_type": "stream",
          "text": [
            "Episode 2700/5000, Avg Reward (Last 100): -106.49, Epsilon: 0.0001\n"
          ]
        },
        {
          "name": "stderr",
          "output_type": "stream",
          "text": [
            "Run 5/5:  56%|█████▌    | 2803/5000 [03:57<02:16, 16.13it/s]"
          ]
        },
        {
          "name": "stdout",
          "output_type": "stream",
          "text": [
            "Episode 2800/5000, Avg Reward (Last 100): -110.32, Epsilon: 0.0001\n"
          ]
        },
        {
          "name": "stderr",
          "output_type": "stream",
          "text": [
            "Run 5/5:  58%|█████▊    | 2904/5000 [04:04<02:55, 11.95it/s]"
          ]
        },
        {
          "name": "stdout",
          "output_type": "stream",
          "text": [
            "Episode 2900/5000, Avg Reward (Last 100): -112.12, Epsilon: 0.0001\n"
          ]
        },
        {
          "name": "stderr",
          "output_type": "stream",
          "text": [
            "Run 5/5:  60%|██████    | 3004/5000 [04:11<02:13, 14.98it/s]"
          ]
        },
        {
          "name": "stdout",
          "output_type": "stream",
          "text": [
            "Episode 3000/5000, Avg Reward (Last 100): -111.47, Epsilon: 0.0001\n"
          ]
        },
        {
          "name": "stderr",
          "output_type": "stream",
          "text": [
            "Run 5/5:  62%|██████▏   | 3104/5000 [04:18<01:58, 16.01it/s]"
          ]
        },
        {
          "name": "stdout",
          "output_type": "stream",
          "text": [
            "Episode 3100/5000, Avg Reward (Last 100): -104.73, Epsilon: 0.0001\n"
          ]
        },
        {
          "name": "stderr",
          "output_type": "stream",
          "text": [
            "Run 5/5:  64%|██████▍   | 3203/5000 [04:24<01:50, 16.30it/s]"
          ]
        },
        {
          "name": "stdout",
          "output_type": "stream",
          "text": [
            "Episode 3200/5000, Avg Reward (Last 100): -104.52, Epsilon: 0.0001\n"
          ]
        },
        {
          "name": "stderr",
          "output_type": "stream",
          "text": [
            "Run 5/5:  66%|██████▌   | 3302/5000 [04:32<01:58, 14.28it/s]"
          ]
        },
        {
          "name": "stdout",
          "output_type": "stream",
          "text": [
            "Episode 3300/5000, Avg Reward (Last 100): -115.38, Epsilon: 0.0001\n"
          ]
        },
        {
          "name": "stderr",
          "output_type": "stream",
          "text": [
            "Run 5/5:  68%|██████▊   | 3402/5000 [04:39<01:42, 15.57it/s]"
          ]
        },
        {
          "name": "stdout",
          "output_type": "stream",
          "text": [
            "Episode 3400/5000, Avg Reward (Last 100): -114.45, Epsilon: 0.0001\n"
          ]
        },
        {
          "name": "stderr",
          "output_type": "stream",
          "text": [
            "Run 5/5:  70%|███████   | 3504/5000 [04:46<01:33, 16.07it/s]"
          ]
        },
        {
          "name": "stdout",
          "output_type": "stream",
          "text": [
            "Episode 3500/5000, Avg Reward (Last 100): -106.21, Epsilon: 0.0001\n"
          ]
        },
        {
          "name": "stderr",
          "output_type": "stream",
          "text": [
            "Run 5/5:  72%|███████▏  | 3602/5000 [04:53<02:39,  8.78it/s]"
          ]
        },
        {
          "name": "stdout",
          "output_type": "stream",
          "text": [
            "Episode 3600/5000, Avg Reward (Last 100): -106.20, Epsilon: 0.0001\n"
          ]
        },
        {
          "name": "stderr",
          "output_type": "stream",
          "text": [
            "Run 5/5:  74%|███████▍  | 3703/5000 [05:01<01:27, 14.84it/s]"
          ]
        },
        {
          "name": "stdout",
          "output_type": "stream",
          "text": [
            "Episode 3700/5000, Avg Reward (Last 100): -108.42, Epsilon: 0.0001\n"
          ]
        },
        {
          "name": "stderr",
          "output_type": "stream",
          "text": [
            "Run 5/5:  76%|███████▌  | 3803/5000 [05:08<01:12, 16.58it/s]"
          ]
        },
        {
          "name": "stdout",
          "output_type": "stream",
          "text": [
            "Episode 3800/5000, Avg Reward (Last 100): -113.74, Epsilon: 0.0001\n"
          ]
        },
        {
          "name": "stderr",
          "output_type": "stream",
          "text": [
            "Run 5/5:  78%|███████▊  | 3903/5000 [05:15<01:19, 13.85it/s]"
          ]
        },
        {
          "name": "stdout",
          "output_type": "stream",
          "text": [
            "Episode 3900/5000, Avg Reward (Last 100): -112.50, Epsilon: 0.0001\n"
          ]
        },
        {
          "name": "stderr",
          "output_type": "stream",
          "text": [
            "Run 5/5:  80%|████████  | 4003/5000 [05:22<01:03, 15.66it/s]"
          ]
        },
        {
          "name": "stdout",
          "output_type": "stream",
          "text": [
            "Episode 4000/5000, Avg Reward (Last 100): -107.75, Epsilon: 0.0001\n"
          ]
        },
        {
          "name": "stderr",
          "output_type": "stream",
          "text": [
            "Run 5/5:  82%|████████▏ | 4102/5000 [05:30<01:44,  8.63it/s]"
          ]
        },
        {
          "name": "stdout",
          "output_type": "stream",
          "text": [
            "Episode 4100/5000, Avg Reward (Last 100): -113.25, Epsilon: 0.0001\n"
          ]
        },
        {
          "name": "stderr",
          "output_type": "stream",
          "text": [
            "Run 5/5:  84%|████████▍ | 4204/5000 [05:37<00:52, 15.08it/s]"
          ]
        },
        {
          "name": "stdout",
          "output_type": "stream",
          "text": [
            "Episode 4200/5000, Avg Reward (Last 100): -110.81, Epsilon: 0.0001\n"
          ]
        },
        {
          "name": "stderr",
          "output_type": "stream",
          "text": [
            "Run 5/5:  86%|████████▌ | 4303/5000 [05:44<00:48, 14.26it/s]"
          ]
        },
        {
          "name": "stdout",
          "output_type": "stream",
          "text": [
            "Episode 4300/5000, Avg Reward (Last 100): -109.50, Epsilon: 0.0001\n"
          ]
        },
        {
          "name": "stderr",
          "output_type": "stream",
          "text": [
            "Run 5/5:  88%|████████▊ | 4403/5000 [05:51<00:39, 15.16it/s]"
          ]
        },
        {
          "name": "stdout",
          "output_type": "stream",
          "text": [
            "Episode 4400/5000, Avg Reward (Last 100): -112.54, Epsilon: 0.0001\n"
          ]
        },
        {
          "name": "stderr",
          "output_type": "stream",
          "text": [
            "Run 5/5:  90%|█████████ | 4503/5000 [05:58<00:34, 14.23it/s]"
          ]
        },
        {
          "name": "stdout",
          "output_type": "stream",
          "text": [
            "Episode 4500/5000, Avg Reward (Last 100): -111.78, Epsilon: 0.0001\n"
          ]
        },
        {
          "name": "stderr",
          "output_type": "stream",
          "text": [
            "Run 5/5:  92%|█████████▏| 4601/5000 [06:05<00:29, 13.48it/s]"
          ]
        },
        {
          "name": "stdout",
          "output_type": "stream",
          "text": [
            "Episode 4600/5000, Avg Reward (Last 100): -111.34, Epsilon: 0.0001\n"
          ]
        },
        {
          "name": "stderr",
          "output_type": "stream",
          "text": [
            "Run 5/5:  94%|█████████▍| 4704/5000 [06:13<00:19, 15.14it/s]"
          ]
        },
        {
          "name": "stdout",
          "output_type": "stream",
          "text": [
            "Episode 4700/5000, Avg Reward (Last 100): -111.50, Epsilon: 0.0001\n"
          ]
        },
        {
          "name": "stderr",
          "output_type": "stream",
          "text": [
            "Run 5/5:  96%|█████████▌| 4804/5000 [06:20<00:13, 14.08it/s]"
          ]
        },
        {
          "name": "stdout",
          "output_type": "stream",
          "text": [
            "Episode 4800/5000, Avg Reward (Last 100): -109.27, Epsilon: 0.0001\n"
          ]
        },
        {
          "name": "stderr",
          "output_type": "stream",
          "text": [
            "Run 5/5:  98%|█████████▊| 4904/5000 [06:27<00:06, 14.34it/s]"
          ]
        },
        {
          "name": "stdout",
          "output_type": "stream",
          "text": [
            "Episode 4900/5000, Avg Reward (Last 100): -110.55, Epsilon: 0.0001\n"
          ]
        },
        {
          "name": "stderr",
          "output_type": "stream",
          "text": [
            "Run 5/5: 100%|██████████| 5000/5000 [06:34<00:00, 12.67it/s]"
          ]
        },
        {
          "name": "stdout",
          "output_type": "stream",
          "text": [
            "Training complete. Mean rewards and standard deviations computed.\n"
          ]
        },
        {
          "name": "stderr",
          "output_type": "stream",
          "text": [
            "\n"
          ]
        }
      ],
      "source": [
        "import gymnasium as gym\n",
        "import numpy as np\n",
        "from tqdm import tqdm\n",
        "\n",
        "class Tiling:\n",
        "    def __init__(self, env, numTilings=8, numTiles=10):\n",
        "        self.numTilings = numTilings\n",
        "        self.numTiles = numTiles\n",
        "\n",
        "        position_min, position_max = -1.2, 0.6\n",
        "        velocity_min, velocity_max = -0.07, 0.07\n",
        "        self.low = np.array([position_min, velocity_min])\n",
        "        self.high = np.array([position_max, velocity_max])\n",
        "\n",
        "        self.offsets = [\n",
        "            (high - low) / self.numTiles * np.linspace(0, 1, self.numTilings, endpoint=False)\n",
        "            for low, high in zip(self.low, self.high)\n",
        "        ]\n",
        "\n",
        "        self.tilings = self.createTilings()\n",
        "\n",
        "    def createTilingGrid(self, low, high, bins, offsets):\n",
        "        return [np.linspace(low[dim], high[dim], bins + 1)[1:-1] + offsets[dim] for dim in range(len(low))]\n",
        "\n",
        "    def createTilings(self):\n",
        "        return [self.createTilingGrid(self.low, self.high, self.numTiles, [offset[i] for offset in self.offsets]) for i in range(self.numTilings)]\n",
        "\n",
        "    def discretize(self, state):\n",
        "        return [tuple(np.digitize(state[dim], bins) for dim, bins in enumerate(tiling)) for tiling in self.tilings]\n",
        "\n",
        "class sarsaAgent:\n",
        "    def __init__(self, env, alpha=0.1, gamma=0.99, epsilon_start=1.0, epsilon_decay=0.995, epsilon_min=0.0001, numTilings=8, numTiles=10):\n",
        "        self.env = env\n",
        "        self.alpha = alpha\n",
        "        self.gamma = gamma\n",
        "        self.epsilon_start = epsilon_start\n",
        "        self.epsilon_decay = epsilon_decay\n",
        "        self.epsilon_min = epsilon_min\n",
        "        self.numTilings = numTilings\n",
        "        self.numTiles = numTiles\n",
        "\n",
        "        self.tiling = Tiling(env, numTilings, numTiles)\n",
        "        self.numActions = self.env.action_space.n\n",
        "        self.numFeatures = self.numTilings * self.numTiles**2\n",
        "        self.weights = np.zeros((self.numActions, self.numFeatures))\n",
        "\n",
        "    def reset_weights(self):\n",
        "        \"\"\" Reset weights and epsilon before each independent training run \"\"\"\n",
        "        self.weights = np.zeros((self.numActions, self.numFeatures))\n",
        "        self.epsilon = self.epsilon_start\n",
        "\n",
        "    def featureVector(self, state, action):\n",
        "        discretized_indices = self.tiling.discretize(state)\n",
        "        featureVector = np.zeros(self.numFeatures)\n",
        "\n",
        "        for i, ds in enumerate(discretized_indices):\n",
        "            index = ds[0] * self.numTiles + ds[1]\n",
        "            feature_index = i * self.numTiles**2 + index\n",
        "            featureVector[feature_index] = 1\n",
        "\n",
        "        return featureVector\n",
        "\n",
        "    def getQvalues(self, state, action):\n",
        "        return np.dot(self.weights[action], self.featureVector(state, action))\n",
        "\n",
        "    def choose_epsilonGreedy_action(self, state):\n",
        "        if np.random.rand() < self.epsilon:\n",
        "            return self.env.action_space.sample()\n",
        "        q_values = [self.getQvalues(state, a) for a in range(self.numActions)]\n",
        "        return np.argmax(q_values)\n",
        "\n",
        "    def update(self, state, action, reward, next_state, next_action):\n",
        "        phi = self.featureVector(state, action)\n",
        "        q_sa = self.getQvalues(state, action)\n",
        "        q_next = self.getQvalues(next_state, next_action)\n",
        "\n",
        "        td_target = reward + self.gamma * q_next\n",
        "        td_error = td_target - q_sa\n",
        "        self.weights[action] += (self.alpha / self.numTilings) * td_error * phi\n",
        "\n",
        "    def train(self, num_episodes, num_runs=5):\n",
        "        all_rewards = np.zeros((num_runs, num_episodes))\n",
        "        all_steps = np.zeros((num_runs, num_episodes))\n",
        "\n",
        "        for run in range(num_runs):\n",
        "            print(f\"Run:{run+1}\")\n",
        "            self.reset_weights()  # Reset weights for each independent run\n",
        "\n",
        "            for i in tqdm(range(num_episodes), desc=f\"Run {run+1}/{num_runs}\"):\n",
        "                totalReward, steps = 0, 0\n",
        "                state, _ = self.env.reset()\n",
        "                action = self.choose_epsilonGreedy_action(state)\n",
        "                done = False\n",
        "\n",
        "                while not done:\n",
        "                    next_state, reward, terminated, truncated, _ = self.env.step(action)\n",
        "                    next_action = self.choose_epsilonGreedy_action(next_state)\n",
        "\n",
        "                    self.update(state, action, reward, next_state, next_action)\n",
        "\n",
        "                    state, action = next_state, next_action\n",
        "                    totalReward += reward\n",
        "                    steps += 1\n",
        "                    done = terminated or truncated\n",
        "\n",
        "                all_rewards[run, i] = totalReward\n",
        "                all_steps[run, i] = steps\n",
        "\n",
        "                self.epsilon = max(self.epsilon_min, self.epsilon * self.epsilon_decay)\n",
        "                if i % 100 == 0:\n",
        "                    avg_reward = np.mean(all_rewards[run, max(0, i-100):i+1])\n",
        "                    print(f\"Episode {i}/{num_episodes}, Avg Reward (Last 100): {avg_reward:.2f}, Epsilon: {self.epsilon:.4f}\")\n",
        "\n",
        "        # Compute mean and standard deviation across runs\n",
        "        mean_rewards = np.mean(all_rewards, axis=0)\n",
        "        std_rewards = np.std(all_rewards, axis=0)\n",
        "        mean_steps = np.mean(all_steps, axis=0)\n",
        "        std_steps = np.std(all_steps, axis=0)\n",
        "\n",
        "        return mean_rewards, std_rewards, mean_steps, std_steps\n",
        "\n",
        "# Initialize environment and agent for MountainCar-v0\n",
        "env = gym.make(\"MountainCar-v0\")\n",
        "agent = sarsaAgent(env, alpha=0.1, gamma=0.99, epsilon_start=1.0, epsilon_decay=0.995, epsilon_min=0.0001, numTilings=8, numTiles=10)\n",
        "\n",
        "# Train the agent over multiple runs\n",
        "mean_rewards, std_rewards, mean_steps, std_steps = agent.train(5000, num_runs=5)\n",
        "\n",
        "print(\"Training complete. Mean rewards and standard deviations computed.\")\n"
      ]
    },
    {
      "cell_type": "code",
      "execution_count": null,
      "metadata": {
        "colab": {
          "base_uri": "https://localhost:8080/",
          "height": 449
        },
        "id": "ZWahBcSe_ZkL",
        "outputId": "3a55d77c-df80-41f5-b1f4-1df06c8f8fd1"
      },
      "outputs": [
        {
          "data": {
            "text/plain": [
              "<matplotlib.collections.FillBetweenPolyCollection at 0x7ebc770d8a50>"
            ]
          },
          "execution_count": 5,
          "metadata": {},
          "output_type": "execute_result"
        },
        {
          "data": {
            "image/png": "[encoded data removed]",
            "text/plain": [
              "<Figure size 640x480 with 1 Axes>"
            ]
          },
          "metadata": {},
          "output_type": "display_data"
        }
      ],
      "source": [
        "plt.plot(mean_rewards)\n",
        "plt.fill_between(range(len(mean_rewards)), mean_rewards - std_rewards, mean_rewards + std_rewards, alpha=0.2)"
      ]
    },
    {
      "cell_type": "code",
      "execution_count": null,
      "metadata": {
        "colab": {
          "base_uri": "https://localhost:8080/",
          "height": 472
        },
        "id": "lCqxBgxx_eYw",
        "outputId": "d8b34749-4fae-4fbd-813e-71b423fd67ce"
      },
      "outputs": [
        {
          "data": {
            "image/png": "[encoded data removed]",
            "text/plain": [
              "<Figure size 640x480 with 1 Axes>"
            ]
          },
          "metadata": {},
          "output_type": "display_data"
        }
      ],
      "source": [
        "import matplotlib.pyplot as plt\n",
        "import numpy as np\n",
        "\n",
        "\n",
        "# Example usage\n",
        "window_size = 100\n",
        "smoothed_rewards = running_average(mean_rewards, window_size)\n",
        "\n",
        "plt.plot(smoothed_rewards)\n",
        "plt.xlabel(\"Episodes\")\n",
        "\n",
        "plt.axhline(y=-110, color='r', linestyle='--', label=\"Target Reward (-110)\")\n",
        "plt.ylabel(\"Running Average Reward (Window=100)\")\n",
        "plt.title(\"Smoothed Reward Curve\")\n",
        "plt.show()\n"
      ]
    },
    {
      "cell_type": "code",
      "execution_count": null,
      "metadata": {
        "colab": {
          "base_uri": "https://localhost:8080/",
          "height": 429
        },
        "id": "O9iMEM2GeHH3",
        "outputId": "87a683f2-a5ff-46ef-d534-3bb3c3df9ddd"
      },
      "outputs": [
        {
          "name": "stdout",
          "output_type": "stream",
          "text": [
            "Run:1\n"
          ]
        },
        {
          "name": "stderr",
          "output_type": "stream",
          "text": [
            "Run 1/5:   0%|          | 17/5000 [00:03<17:10,  4.84it/s]\n"
          ]
        },
        {
          "ename": "KeyboardInterrupt",
          "evalue": "",
          "output_type": "error",
          "traceback": [
            "\u001b[0;31m---------------------------------------------------------------------------\u001b[0m",
            "\u001b[0;31mKeyboardInterrupt\u001b[0m                         Traceback (most recent call last)",
            "\u001b[0;32m<ipython-input-12-01cb908b35a2>\u001b[0m in \u001b[0;36m<cell line: 0>\u001b[0;34m()\u001b[0m\n\u001b[1;32m    126\u001b[0m \u001b[0;34m\u001b[0m\u001b[0m\n\u001b[1;32m    127\u001b[0m \u001b[0;31m# Train the agent over multiple runs\u001b[0m\u001b[0;34m\u001b[0m\u001b[0;34m\u001b[0m\u001b[0m\n\u001b[0;32m--> 128\u001b[0;31m \u001b[0mQ_mean_rewards\u001b[0m\u001b[0;34m,\u001b[0m \u001b[0mQ_std_rewards\u001b[0m\u001b[0;34m,\u001b[0m \u001b[0mQ_mean_steps\u001b[0m\u001b[0;34m,\u001b[0m \u001b[0mQ_std_steps\u001b[0m \u001b[0;34m=\u001b[0m \u001b[0mtrain\u001b[0m\u001b[0;34m(\u001b[0m\u001b[0magent\u001b[0m\u001b[0;34m,\u001b[0m \u001b[0menv\u001b[0m\u001b[0;34m,\u001b[0m \u001b[0;36m5000\u001b[0m\u001b[0;34m,\u001b[0m \u001b[0mnum_runs\u001b[0m\u001b[0;34m=\u001b[0m\u001b[0;36m5\u001b[0m\u001b[0;34m)\u001b[0m\u001b[0;34m\u001b[0m\u001b[0;34m\u001b[0m\u001b[0m\n\u001b[0m\u001b[1;32m    129\u001b[0m \u001b[0;34m\u001b[0m\u001b[0m\n\u001b[1;32m    130\u001b[0m \u001b[0mprint\u001b[0m\u001b[0;34m(\u001b[0m\u001b[0;34m\"Training complete. Mean rewards and standard deviations computed.\"\u001b[0m\u001b[0;34m)\u001b[0m\u001b[0;34m\u001b[0m\u001b[0;34m\u001b[0m\u001b[0m\n",
            "\u001b[0;32m<ipython-input-12-01cb908b35a2>\u001b[0m in \u001b[0;36mtrain\u001b[0;34m(agent, env, num_episodes, num_runs)\u001b[0m\n\u001b[1;32m     98\u001b[0m                 \u001b[0mdone\u001b[0m \u001b[0;34m=\u001b[0m \u001b[0mterminated\u001b[0m \u001b[0;32mor\u001b[0m \u001b[0mtruncated\u001b[0m\u001b[0;34m\u001b[0m\u001b[0;34m\u001b[0m\u001b[0m\n\u001b[1;32m     99\u001b[0m \u001b[0;34m\u001b[0m\u001b[0m\n\u001b[0;32m--> 100\u001b[0;31m                 \u001b[0magent\u001b[0m\u001b[0;34m.\u001b[0m\u001b[0mupdate\u001b[0m\u001b[0;34m(\u001b[0m\u001b[0mstate\u001b[0m\u001b[0;34m,\u001b[0m \u001b[0maction\u001b[0m\u001b[0;34m,\u001b[0m \u001b[0mreward\u001b[0m\u001b[0;34m,\u001b[0m \u001b[0mnext_state\u001b[0m\u001b[0;34m)\u001b[0m\u001b[0;34m\u001b[0m\u001b[0;34m\u001b[0m\u001b[0m\n\u001b[0m\u001b[1;32m    101\u001b[0m \u001b[0;34m\u001b[0m\u001b[0m\n\u001b[1;32m    102\u001b[0m                 \u001b[0mstate\u001b[0m \u001b[0;34m=\u001b[0m \u001b[0mnext_state\u001b[0m\u001b[0;34m\u001b[0m\u001b[0;34m\u001b[0m\u001b[0m\n",
            "\u001b[0;32m<ipython-input-12-01cb908b35a2>\u001b[0m in \u001b[0;36mupdate\u001b[0;34m(self, state, action, reward, next_state)\u001b[0m\n\u001b[1;32m     73\u001b[0m         \u001b[0mphi\u001b[0m \u001b[0;34m=\u001b[0m \u001b[0mself\u001b[0m\u001b[0;34m.\u001b[0m\u001b[0mfeatureVector\u001b[0m\u001b[0;34m(\u001b[0m\u001b[0mstate\u001b[0m\u001b[0;34m,\u001b[0m \u001b[0maction\u001b[0m\u001b[0;34m)\u001b[0m\u001b[0;34m\u001b[0m\u001b[0;34m\u001b[0m\u001b[0m\n\u001b[1;32m     74\u001b[0m         \u001b[0mq_sa\u001b[0m \u001b[0;34m=\u001b[0m \u001b[0mself\u001b[0m\u001b[0;34m.\u001b[0m\u001b[0mgetQvalue\u001b[0m\u001b[0;34m(\u001b[0m\u001b[0mstate\u001b[0m\u001b[0;34m,\u001b[0m \u001b[0maction\u001b[0m\u001b[0;34m)\u001b[0m\u001b[0;34m\u001b[0m\u001b[0;34m\u001b[0m\u001b[0m\n\u001b[0;32m---> 75\u001b[0;31m         \u001b[0mq_next_max\u001b[0m \u001b[0;34m=\u001b[0m \u001b[0mmax\u001b[0m\u001b[0;34m(\u001b[0m\u001b[0;34m[\u001b[0m\u001b[0mself\u001b[0m\u001b[0;34m.\u001b[0m\u001b[0mgetQvalue\u001b[0m\u001b[0;34m(\u001b[0m\u001b[0mnext_state\u001b[0m\u001b[0;34m,\u001b[0m \u001b[0ma\u001b[0m\u001b[0;34m)\u001b[0m \u001b[0;32mfor\u001b[0m \u001b[0ma\u001b[0m \u001b[0;32min\u001b[0m \u001b[0mrange\u001b[0m\u001b[0;34m(\u001b[0m\u001b[0mself\u001b[0m\u001b[0;34m.\u001b[0m\u001b[0mnumActions\u001b[0m\u001b[0;34m)\u001b[0m\u001b[0;34m]\u001b[0m\u001b[0;34m)\u001b[0m\u001b[0;34m\u001b[0m\u001b[0;34m\u001b[0m\u001b[0m\n\u001b[0m\u001b[1;32m     76\u001b[0m         \u001b[0mtd_target\u001b[0m \u001b[0;34m=\u001b[0m \u001b[0mreward\u001b[0m \u001b[0;34m+\u001b[0m \u001b[0mself\u001b[0m\u001b[0;34m.\u001b[0m\u001b[0mgamma\u001b[0m \u001b[0;34m*\u001b[0m \u001b[0mq_next_max\u001b[0m\u001b[0;34m\u001b[0m\u001b[0;34m\u001b[0m\u001b[0m\n\u001b[1;32m     77\u001b[0m         \u001b[0mtd_error\u001b[0m \u001b[0;34m=\u001b[0m \u001b[0mtd_target\u001b[0m \u001b[0;34m-\u001b[0m \u001b[0mq_sa\u001b[0m\u001b[0;34m\u001b[0m\u001b[0;34m\u001b[0m\u001b[0m\n",
            "\u001b[0;32m<ipython-input-12-01cb908b35a2>\u001b[0m in \u001b[0;36m<listcomp>\u001b[0;34m(.0)\u001b[0m\n\u001b[1;32m     73\u001b[0m         \u001b[0mphi\u001b[0m \u001b[0;34m=\u001b[0m \u001b[0mself\u001b[0m\u001b[0;34m.\u001b[0m\u001b[0mfeatureVector\u001b[0m\u001b[0;34m(\u001b[0m\u001b[0mstate\u001b[0m\u001b[0;34m,\u001b[0m \u001b[0maction\u001b[0m\u001b[0;34m)\u001b[0m\u001b[0;34m\u001b[0m\u001b[0;34m\u001b[0m\u001b[0m\n\u001b[1;32m     74\u001b[0m         \u001b[0mq_sa\u001b[0m \u001b[0;34m=\u001b[0m \u001b[0mself\u001b[0m\u001b[0;34m.\u001b[0m\u001b[0mgetQvalue\u001b[0m\u001b[0;34m(\u001b[0m\u001b[0mstate\u001b[0m\u001b[0;34m,\u001b[0m \u001b[0maction\u001b[0m\u001b[0;34m)\u001b[0m\u001b[0;34m\u001b[0m\u001b[0;34m\u001b[0m\u001b[0m\n\u001b[0;32m---> 75\u001b[0;31m         \u001b[0mq_next_max\u001b[0m \u001b[0;34m=\u001b[0m \u001b[0mmax\u001b[0m\u001b[0;34m(\u001b[0m\u001b[0;34m[\u001b[0m\u001b[0mself\u001b[0m\u001b[0;34m.\u001b[0m\u001b[0mgetQvalue\u001b[0m\u001b[0;34m(\u001b[0m\u001b[0mnext_state\u001b[0m\u001b[0;34m,\u001b[0m \u001b[0ma\u001b[0m\u001b[0;34m)\u001b[0m \u001b[0;32mfor\u001b[0m \u001b[0ma\u001b[0m \u001b[0;32min\u001b[0m \u001b[0mrange\u001b[0m\u001b[0;34m(\u001b[0m\u001b[0mself\u001b[0m\u001b[0;34m.\u001b[0m\u001b[0mnumActions\u001b[0m\u001b[0;34m)\u001b[0m\u001b[0;34m]\u001b[0m\u001b[0;34m)\u001b[0m\u001b[0;34m\u001b[0m\u001b[0;34m\u001b[0m\u001b[0m\n\u001b[0m\u001b[1;32m     76\u001b[0m         \u001b[0mtd_target\u001b[0m \u001b[0;34m=\u001b[0m \u001b[0mreward\u001b[0m \u001b[0;34m+\u001b[0m \u001b[0mself\u001b[0m\u001b[0;34m.\u001b[0m\u001b[0mgamma\u001b[0m \u001b[0;34m*\u001b[0m \u001b[0mq_next_max\u001b[0m\u001b[0;34m\u001b[0m\u001b[0;34m\u001b[0m\u001b[0m\n\u001b[1;32m     77\u001b[0m         \u001b[0mtd_error\u001b[0m \u001b[0;34m=\u001b[0m \u001b[0mtd_target\u001b[0m \u001b[0;34m-\u001b[0m \u001b[0mq_sa\u001b[0m\u001b[0;34m\u001b[0m\u001b[0;34m\u001b[0m\u001b[0m\n",
            "\u001b[0;32m<ipython-input-12-01cb908b35a2>\u001b[0m in \u001b[0;36mgetQvalue\u001b[0;34m(self, state, action)\u001b[0m\n\u001b[1;32m     62\u001b[0m \u001b[0;34m\u001b[0m\u001b[0m\n\u001b[1;32m     63\u001b[0m     \u001b[0;32mdef\u001b[0m \u001b[0mgetQvalue\u001b[0m\u001b[0;34m(\u001b[0m\u001b[0mself\u001b[0m\u001b[0;34m,\u001b[0m \u001b[0mstate\u001b[0m\u001b[0;34m,\u001b[0m \u001b[0maction\u001b[0m\u001b[0;34m)\u001b[0m\u001b[0;34m:\u001b[0m\u001b[0;34m\u001b[0m\u001b[0;34m\u001b[0m\u001b[0m\n\u001b[0;32m---> 64\u001b[0;31m         \u001b[0;32mreturn\u001b[0m \u001b[0mnp\u001b[0m\u001b[0;34m.\u001b[0m\u001b[0mdot\u001b[0m\u001b[0;34m(\u001b[0m\u001b[0mself\u001b[0m\u001b[0;34m.\u001b[0m\u001b[0mweights\u001b[0m\u001b[0;34m[\u001b[0m\u001b[0maction\u001b[0m\u001b[0;34m]\u001b[0m\u001b[0;34m,\u001b[0m \u001b[0mself\u001b[0m\u001b[0;34m.\u001b[0m\u001b[0mfeatureVector\u001b[0m\u001b[0;34m(\u001b[0m\u001b[0mstate\u001b[0m\u001b[0;34m,\u001b[0m \u001b[0maction\u001b[0m\u001b[0;34m)\u001b[0m\u001b[0;34m)\u001b[0m\u001b[0;34m\u001b[0m\u001b[0;34m\u001b[0m\u001b[0m\n\u001b[0m\u001b[1;32m     65\u001b[0m \u001b[0;34m\u001b[0m\u001b[0m\n\u001b[1;32m     66\u001b[0m     \u001b[0;32mdef\u001b[0m \u001b[0mchoose_action_softmax\u001b[0m\u001b[0;34m(\u001b[0m\u001b[0mself\u001b[0m\u001b[0;34m,\u001b[0m \u001b[0mstate\u001b[0m\u001b[0;34m)\u001b[0m\u001b[0;34m:\u001b[0m\u001b[0;34m\u001b[0m\u001b[0;34m\u001b[0m\u001b[0m\n",
            "\u001b[0;32m<ipython-input-12-01cb908b35a2>\u001b[0m in \u001b[0;36mfeatureVector\u001b[0;34m(self, state, action)\u001b[0m\n\u001b[1;32m     48\u001b[0m \u001b[0;34m\u001b[0m\u001b[0m\n\u001b[1;32m     49\u001b[0m     \u001b[0;32mdef\u001b[0m \u001b[0mfeatureVector\u001b[0m\u001b[0;34m(\u001b[0m\u001b[0mself\u001b[0m\u001b[0;34m,\u001b[0m \u001b[0mstate\u001b[0m\u001b[0;34m,\u001b[0m \u001b[0maction\u001b[0m\u001b[0;34m)\u001b[0m\u001b[0;34m:\u001b[0m\u001b[0;34m\u001b[0m\u001b[0;34m\u001b[0m\u001b[0m\n\u001b[0;32m---> 50\u001b[0;31m         \u001b[0mdiscretized_indices\u001b[0m \u001b[0;34m=\u001b[0m \u001b[0mself\u001b[0m\u001b[0;34m.\u001b[0m\u001b[0mtiling\u001b[0m\u001b[0;34m.\u001b[0m\u001b[0mdiscretize\u001b[0m\u001b[0;34m(\u001b[0m\u001b[0mstate\u001b[0m\u001b[0;34m)\u001b[0m\u001b[0;34m\u001b[0m\u001b[0;34m\u001b[0m\u001b[0m\n\u001b[0m\u001b[1;32m     51\u001b[0m         \u001b[0mfeatureVector\u001b[0m \u001b[0;34m=\u001b[0m \u001b[0mnp\u001b[0m\u001b[0;34m.\u001b[0m\u001b[0mzeros\u001b[0m\u001b[0;34m(\u001b[0m\u001b[0mself\u001b[0m\u001b[0;34m.\u001b[0m\u001b[0mnumFeatures\u001b[0m\u001b[0;34m)\u001b[0m\u001b[0;34m\u001b[0m\u001b[0;34m\u001b[0m\u001b[0m\n\u001b[1;32m     52\u001b[0m \u001b[0;34m\u001b[0m\u001b[0m\n",
            "\u001b[0;32m<ipython-input-12-01cb908b35a2>\u001b[0m in \u001b[0;36mdiscretize\u001b[0;34m(self, state)\u001b[0m\n\u001b[1;32m     27\u001b[0m \u001b[0;34m\u001b[0m\u001b[0m\n\u001b[1;32m     28\u001b[0m     \u001b[0;32mdef\u001b[0m \u001b[0mdiscretize\u001b[0m\u001b[0;34m(\u001b[0m\u001b[0mself\u001b[0m\u001b[0;34m,\u001b[0m \u001b[0mstate\u001b[0m\u001b[0;34m)\u001b[0m\u001b[0;34m:\u001b[0m\u001b[0;34m\u001b[0m\u001b[0;34m\u001b[0m\u001b[0m\n\u001b[0;32m---> 29\u001b[0;31m         \u001b[0;32mreturn\u001b[0m \u001b[0;34m[\u001b[0m\u001b[0mtuple\u001b[0m\u001b[0;34m(\u001b[0m\u001b[0mnp\u001b[0m\u001b[0;34m.\u001b[0m\u001b[0mdigitize\u001b[0m\u001b[0;34m(\u001b[0m\u001b[0mstate\u001b[0m\u001b[0;34m[\u001b[0m\u001b[0mdim\u001b[0m\u001b[0;34m]\u001b[0m\u001b[0;34m,\u001b[0m \u001b[0mbins\u001b[0m\u001b[0;34m)\u001b[0m \u001b[0;32mfor\u001b[0m \u001b[0mdim\u001b[0m\u001b[0;34m,\u001b[0m \u001b[0mbins\u001b[0m \u001b[0;32min\u001b[0m \u001b[0menumerate\u001b[0m\u001b[0;34m(\u001b[0m\u001b[0mtiling\u001b[0m\u001b[0;34m)\u001b[0m\u001b[0;34m)\u001b[0m \u001b[0;32mfor\u001b[0m \u001b[0mtiling\u001b[0m \u001b[0;32min\u001b[0m \u001b[0mself\u001b[0m\u001b[0;34m.\u001b[0m\u001b[0mtilings\u001b[0m\u001b[0;34m]\u001b[0m\u001b[0;34m\u001b[0m\u001b[0;34m\u001b[0m\u001b[0m\n\u001b[0m\u001b[1;32m     30\u001b[0m \u001b[0;34m\u001b[0m\u001b[0m\n\u001b[1;32m     31\u001b[0m \u001b[0;32mclass\u001b[0m \u001b[0mQLearningAgent\u001b[0m\u001b[0;34m:\u001b[0m\u001b[0;34m\u001b[0m\u001b[0;34m\u001b[0m\u001b[0m\n",
            "\u001b[0;32m<ipython-input-12-01cb908b35a2>\u001b[0m in \u001b[0;36m<listcomp>\u001b[0;34m(.0)\u001b[0m\n\u001b[1;32m     27\u001b[0m \u001b[0;34m\u001b[0m\u001b[0m\n\u001b[1;32m     28\u001b[0m     \u001b[0;32mdef\u001b[0m \u001b[0mdiscretize\u001b[0m\u001b[0;34m(\u001b[0m\u001b[0mself\u001b[0m\u001b[0;34m,\u001b[0m \u001b[0mstate\u001b[0m\u001b[0;34m)\u001b[0m\u001b[0;34m:\u001b[0m\u001b[0;34m\u001b[0m\u001b[0;34m\u001b[0m\u001b[0m\n\u001b[0;32m---> 29\u001b[0;31m         \u001b[0;32mreturn\u001b[0m \u001b[0;34m[\u001b[0m\u001b[0mtuple\u001b[0m\u001b[0;34m(\u001b[0m\u001b[0mnp\u001b[0m\u001b[0;34m.\u001b[0m\u001b[0mdigitize\u001b[0m\u001b[0;34m(\u001b[0m\u001b[0mstate\u001b[0m\u001b[0;34m[\u001b[0m\u001b[0mdim\u001b[0m\u001b[0;34m]\u001b[0m\u001b[0;34m,\u001b[0m \u001b[0mbins\u001b[0m\u001b[0;34m)\u001b[0m \u001b[0;32mfor\u001b[0m \u001b[0mdim\u001b[0m\u001b[0;34m,\u001b[0m \u001b[0mbins\u001b[0m \u001b[0;32min\u001b[0m \u001b[0menumerate\u001b[0m\u001b[0;34m(\u001b[0m\u001b[0mtiling\u001b[0m\u001b[0;34m)\u001b[0m\u001b[0;34m)\u001b[0m \u001b[0;32mfor\u001b[0m \u001b[0mtiling\u001b[0m \u001b[0;32min\u001b[0m \u001b[0mself\u001b[0m\u001b[0;34m.\u001b[0m\u001b[0mtilings\u001b[0m\u001b[0;34m]\u001b[0m\u001b[0;34m\u001b[0m\u001b[0;34m\u001b[0m\u001b[0m\n\u001b[0m\u001b[1;32m     30\u001b[0m \u001b[0;34m\u001b[0m\u001b[0m\n\u001b[1;32m     31\u001b[0m \u001b[0;32mclass\u001b[0m \u001b[0mQLearningAgent\u001b[0m\u001b[0;34m:\u001b[0m\u001b[0;34m\u001b[0m\u001b[0;34m\u001b[0m\u001b[0m\n",
            "\u001b[0;32m<ipython-input-12-01cb908b35a2>\u001b[0m in \u001b[0;36m<genexpr>\u001b[0;34m(.0)\u001b[0m\n\u001b[1;32m     27\u001b[0m \u001b[0;34m\u001b[0m\u001b[0m\n\u001b[1;32m     28\u001b[0m     \u001b[0;32mdef\u001b[0m \u001b[0mdiscretize\u001b[0m\u001b[0;34m(\u001b[0m\u001b[0mself\u001b[0m\u001b[0;34m,\u001b[0m \u001b[0mstate\u001b[0m\u001b[0;34m)\u001b[0m\u001b[0;34m:\u001b[0m\u001b[0;34m\u001b[0m\u001b[0;34m\u001b[0m\u001b[0m\n\u001b[0;32m---> 29\u001b[0;31m         \u001b[0;32mreturn\u001b[0m \u001b[0;34m[\u001b[0m\u001b[0mtuple\u001b[0m\u001b[0;34m(\u001b[0m\u001b[0mnp\u001b[0m\u001b[0;34m.\u001b[0m\u001b[0mdigitize\u001b[0m\u001b[0;34m(\u001b[0m\u001b[0mstate\u001b[0m\u001b[0;34m[\u001b[0m\u001b[0mdim\u001b[0m\u001b[0;34m]\u001b[0m\u001b[0;34m,\u001b[0m \u001b[0mbins\u001b[0m\u001b[0;34m)\u001b[0m \u001b[0;32mfor\u001b[0m \u001b[0mdim\u001b[0m\u001b[0;34m,\u001b[0m \u001b[0mbins\u001b[0m \u001b[0;32min\u001b[0m \u001b[0menumerate\u001b[0m\u001b[0;34m(\u001b[0m\u001b[0mtiling\u001b[0m\u001b[0;34m)\u001b[0m\u001b[0;34m)\u001b[0m \u001b[0;32mfor\u001b[0m \u001b[0mtiling\u001b[0m \u001b[0;32min\u001b[0m \u001b[0mself\u001b[0m\u001b[0;34m.\u001b[0m\u001b[0mtilings\u001b[0m\u001b[0;34m]\u001b[0m\u001b[0;34m\u001b[0m\u001b[0;34m\u001b[0m\u001b[0m\n\u001b[0m\u001b[1;32m     30\u001b[0m \u001b[0;34m\u001b[0m\u001b[0m\n\u001b[1;32m     31\u001b[0m \u001b[0;32mclass\u001b[0m \u001b[0mQLearningAgent\u001b[0m\u001b[0;34m:\u001b[0m\u001b[0;34m\u001b[0m\u001b[0;34m\u001b[0m\u001b[0m\n",
            "\u001b[0;32m/usr/local/lib/python3.11/dist-packages/numpy/lib/_function_base_impl.py\u001b[0m in \u001b[0;36m_digitize_dispatcher\u001b[0;34m(x, bins, right)\u001b[0m\n\u001b[1;32m   5822\u001b[0m \u001b[0;34m\u001b[0m\u001b[0m\n\u001b[1;32m   5823\u001b[0m \u001b[0;34m\u001b[0m\u001b[0m\n\u001b[0;32m-> 5824\u001b[0;31m \u001b[0;32mdef\u001b[0m \u001b[0m_digitize_dispatcher\u001b[0m\u001b[0;34m(\u001b[0m\u001b[0mx\u001b[0m\u001b[0;34m,\u001b[0m \u001b[0mbins\u001b[0m\u001b[0;34m,\u001b[0m \u001b[0mright\u001b[0m\u001b[0;34m=\u001b[0m\u001b[0;32mNone\u001b[0m\u001b[0;34m)\u001b[0m\u001b[0;34m:\u001b[0m\u001b[0;34m\u001b[0m\u001b[0;34m\u001b[0m\u001b[0m\n\u001b[0m\u001b[1;32m   5825\u001b[0m     \u001b[0;32mreturn\u001b[0m \u001b[0;34m(\u001b[0m\u001b[0mx\u001b[0m\u001b[0;34m,\u001b[0m \u001b[0mbins\u001b[0m\u001b[0;34m)\u001b[0m\u001b[0;34m\u001b[0m\u001b[0;34m\u001b[0m\u001b[0m\n\u001b[1;32m   5826\u001b[0m \u001b[0;34m\u001b[0m\u001b[0m\n",
            "\u001b[0;31mKeyboardInterrupt\u001b[0m: "
          ]
        }
      ],
      "source": [
        "import gymnasium as gym\n",
        "import numpy as np\n",
        "from tqdm import tqdm\n",
        "\n",
        "class Tiling:\n",
        "    def __init__(self, env, numTilings=8, numTiles=10):\n",
        "        self.numTilings = numTilings\n",
        "        self.numTiles = numTiles\n",
        "\n",
        "        position_min, position_max = -1.2, 0.6\n",
        "        velocity_min, velocity_max = -0.07, 0.07\n",
        "        self.low = np.array([position_min, velocity_min])\n",
        "        self.high = np.array([position_max, velocity_max])\n",
        "\n",
        "        self.offsets = [\n",
        "            (high - low) / self.numTiles * np.linspace(0, 1, self.numTilings, endpoint=False)\n",
        "            for low, high in zip(self.low, self.high)\n",
        "        ]\n",
        "\n",
        "        self.tilings = self.createTilings()\n",
        "\n",
        "    def createTilingGrid(self, low, high, bins, offsets):\n",
        "        return [np.linspace(low[dim], high[dim], bins + 1)[1:-1] + offsets[dim] for dim in range(len(low))]\n",
        "\n",
        "    def createTilings(self):\n",
        "        return [self.createTilingGrid(self.low, self.high, self.numTiles, [offset[i] for offset in self.offsets]) for i in range(self.numTilings)]\n",
        "\n",
        "    def discretize(self, state):\n",
        "        return [tuple(np.digitize(state[dim], bins) for dim, bins in enumerate(tiling)) for tiling in self.tilings]\n",
        "\n",
        "class QLearningAgent:\n",
        "    def __init__(self, env, alpha=0.1, gamma=0.99, tau_start=1.0, tau_decay=0.995, tau_min=0.05, numTilings=8, numTiles=10):\n",
        "        self.env = env\n",
        "        self.alpha = alpha\n",
        "        self.gamma = gamma\n",
        "        self.tau_start = tau_start\n",
        "        self.tau_decay = tau_decay\n",
        "        self.tau_min = tau_min\n",
        "\n",
        "        self.numTilings = numTilings\n",
        "        self.numTiles = numTiles\n",
        "\n",
        "        self.tiling = Tiling(env, numTilings, numTiles)\n",
        "        self.numActions = self.env.action_space.n\n",
        "\n",
        "        self.numFeatures = self.numTilings * self.numTiles**2\n",
        "        self.weights = np.zeros((self.numActions, self.numFeatures))\n",
        "\n",
        "    def featureVector(self, state, action):\n",
        "        discretized_indices = self.tiling.discretize(state)\n",
        "        featureVector = np.zeros(self.numFeatures)\n",
        "\n",
        "        for i, ds in enumerate(discretized_indices):\n",
        "            index = ds[0] * self.numTiles + ds[1]\n",
        "            feature_index = i * self.numTiles**2 + index\n",
        "            featureVector[feature_index] = 1\n",
        "\n",
        "        return featureVector\n",
        "    def reset_weights(self):\n",
        "        self.weights = np.zeros((self.numActions, self.numFeatures))\n",
        "        self.tau = self.tau_start\n",
        "\n",
        "    def getQvalue(self, state, action):\n",
        "        return np.dot(self.weights[action], self.featureVector(state, action))\n",
        "\n",
        "    def choose_action_softmax(self, state):\n",
        "        q_values = np.array([self.getQvalue(state, a) for a in range(self.numActions)])\n",
        "        exp_values = np.exp((q_values - np.max(q_values)) / self.tau)\n",
        "        probs = exp_values / np.sum(exp_values)\n",
        "        return np.random.choice(self.numActions, p=probs)\n",
        "\n",
        "    def update(self, state, action, reward, next_state):\n",
        "        phi = self.featureVector(state, action)\n",
        "        q_sa = self.getQvalue(state, action)\n",
        "        q_next_max = max([self.getQvalue(next_state, a) for a in range(self.numActions)])\n",
        "        td_target = reward + self.gamma * q_next_max\n",
        "        td_error = td_target - q_sa\n",
        "        self.weights[action] += (self.alpha / self.numTilings) * td_error * phi\n",
        "\n",
        "def train(agent, env, num_episodes, num_runs=5):\n",
        "    episode_rewards = np.zeros((num_runs, num_episodes))\n",
        "    steps_to_completion = np.zeros((num_runs, num_episodes))\n",
        "\n",
        "    for run in range(num_runs):\n",
        "        print(f\"Run:{run+1}\")\n",
        "        agent.reset_weights()\n",
        "        # agent.weights = np.zeros((agent.numActions, agent.numFeatures))  # Reset weights for each run\n",
        "        # tau = agent.tau_start  # Reset temperature for each run\n",
        "        np.random.seed(run)\n",
        "        for i in tqdm(range(num_episodes),desc=f\"Run {run+1}/{num_runs}\"):\n",
        "            totalReward, steps = 0, 0\n",
        "            state, _ = env.reset()\n",
        "            done = False\n",
        "\n",
        "            while not done:\n",
        "                action = agent.choose_action_softmax(state)\n",
        "                next_state, reward, terminated, truncated, _ = env.step(action)\n",
        "                done = terminated or truncated\n",
        "\n",
        "                agent.update(state, action, reward, next_state)\n",
        "\n",
        "                state = next_state\n",
        "                totalReward += reward\n",
        "                steps += 1\n",
        "\n",
        "            episode_rewards[run, i] = totalReward\n",
        "            steps_to_completion[run, i] = steps\n",
        "\n",
        "            agent.tau = max(agent.tau_min, agent.tau * agent.tau_decay)\n",
        "            # if i % 100 == 0:\n",
        "            #     avg_reward = np.mean(episode_rewards[run, max(0, i-100):i+1])\n",
        "            #     print(f\"Episode {i}/{num_episodes}, Avg Reward (Last 100): {avg_reward:.2f}, Tau: {agent.tau:.4f}\")\n",
        "        print(f\"Final average reward;{np.mean(episode_rewards[run],axis=1)}\")\n",
        "\n",
        "    # Compute mean and standard deviation across runs\n",
        "    mean_rewards = np.mean(episode_rewards, axis=0)\n",
        "    std_rewards = np.std(episode_rewards, axis=0)\n",
        "    mean_steps = np.mean(steps_to_completion, axis=0)\n",
        "    std_steps = np.std(steps_to_completion, axis=0)\n",
        "\n",
        "    return mean_rewards, std_rewards, mean_steps, std_steps\n",
        "\n",
        "# Initialize environment and agent for MountainCar-v0\n",
        "env = gym.make(\"MountainCar-v0\")\n",
        "agent = QLearningAgent(env, alpha=0.1, gamma=0.99, tau_start=1.0, tau_decay=0.995, tau_min=0.05, numTilings=8, numTiles=10)\n",
        "\n",
        "# Train the agent over multiple runs\n",
        "Q_mean_rewards, Q_std_rewards, Q_mean_steps, Q_std_steps = train(agent, env, 5000, num_runs=5)\n",
        "\n",
        "print(\"Training complete. Mean rewards and standard deviations computed.\")\n"
      ]
    },
    {
      "cell_type": "code",
      "execution_count": null,
      "metadata": {
        "colab": {
          "base_uri": "https://localhost:8080/"
        },
        "id": "A1VC-PFYev8g",
        "outputId": "0efd61ae-3893-419a-bb07-8acd876f4095"
      },
      "outputs": [
        {
          "name": "stderr",
          "output_type": "stream",
          "text": [
            "Run 1/1: 100%|██████████| 500/500 [01:02<00:00,  7.96it/s]"
          ]
        },
        {
          "name": "stdout",
          "output_type": "stream",
          "text": [
            "Training complete. Mean rewards and standard deviations computed.\n"
          ]
        },
        {
          "name": "stderr",
          "output_type": "stream",
          "text": [
            "\n"
          ]
        }
      ],
      "source": [
        "import gymnasium as gym\n",
        "import numpy as np\n",
        "from tqdm import tqdm\n",
        "\n",
        "class Tiling:\n",
        "    def __init__(self, numTilings=8, numTiles=10):\n",
        "        self.numTilings = numTilings\n",
        "        self.numTiles = numTiles\n",
        "\n",
        "        position_min, position_max = -1.2, 0.6\n",
        "        velocity_min, velocity_max = -0.07, 0.07\n",
        "        self.low = np.array([position_min, velocity_min])\n",
        "        self.high = np.array([position_max, velocity_max])\n",
        "\n",
        "        self.offsets = [\n",
        "            (high - low) / self.numTiles * np.linspace(0, 1, self.numTilings, endpoint=False)\n",
        "            for low, high in zip(self.low, self.high)\n",
        "        ]\n",
        "\n",
        "        self.tilings = self.createTilings()\n",
        "\n",
        "    def createTilingGrid(self, low, high, bins, offsets):\n",
        "        return [np.linspace(low[dim], high[dim], bins + 1)[1:-1] + offsets[dim] for dim in range(len(low))]\n",
        "\n",
        "    def createTilings(self):\n",
        "        return [self.createTilingGrid(self.low, self.high, self.numTiles, [offset[i] for offset in self.offsets]) for i in range(self.numTilings)]\n",
        "\n",
        "    def discretize(self, state):\n",
        "        return [tuple(np.digitize(state[dim], bins) for dim, bins in enumerate(tiling)) for tiling in self.tilings]\n",
        "\n",
        "class sarsaAgent:\n",
        "    def __init__(self, env, alpha=0.1, gamma=0.99, epsilon_start=1.0, epsilon_decay=0.995, epsilon_min=0.0001, numTilings=8, numTiles=10):\n",
        "        self.env = env\n",
        "        self.alpha = alpha\n",
        "        self.gamma = gamma\n",
        "        self.epsilon_start = epsilon_start\n",
        "        self.epsilon_decay = epsilon_decay\n",
        "        self.epsilon_min = epsilon_min\n",
        "        self.numTilings = numTilings\n",
        "        self.numTiles = numTiles\n",
        "        self.epsilon = epsilon_start\n",
        "\n",
        "        self.tiling = Tiling(numTilings, numTiles)\n",
        "        self.numActions = self.env.action_space.n\n",
        "        self.numFeatures = self.numTilings * self.numTiles**2\n",
        "        self.weights = np.zeros((self.numActions, self.numFeatures))\n",
        "\n",
        "    def reset_weights(self):\n",
        "        self.weights = np.zeros((self.numActions, self.numFeatures))\n",
        "        self.epsilon = self.epsilon_start\n",
        "\n",
        "    def featureVector(self, state, action):\n",
        "        discretized_indices = self.tiling.discretize(state)\n",
        "        featureVector = np.zeros(self.numFeatures)\n",
        "\n",
        "        for i, ds in enumerate(discretized_indices):\n",
        "            index = ds[0] * self.numTiles + ds[1]\n",
        "            feature_index = i * self.numTiles**2 + index\n",
        "            featureVector[feature_index] = 1\n",
        "\n",
        "        return featureVector\n",
        "\n",
        "    def getQvalues(self, state, action):\n",
        "        return np.dot(self.weights[action], self.featureVector(state, action))\n",
        "\n",
        "    def choose_epsilonGreedy_action(self, state):\n",
        "        if np.random.rand() < self.epsilon:\n",
        "            return self.env.action_space.sample()\n",
        "        q_values = [self.getQvalues(state, a) for a in range(self.numActions)]\n",
        "        return np.argmax(q_values)\n",
        "\n",
        "    def update(self, state, action, reward, next_state, next_action):\n",
        "        phi = self.featureVector(state, action)\n",
        "        q_sa = self.getQvalues(state, action)\n",
        "        q_next = self.getQvalues(next_state, next_action)\n",
        "\n",
        "        td_target = reward + self.gamma * q_next\n",
        "        td_error = td_target - q_sa\n",
        "        self.weights[action] += (self.alpha / self.numTilings) * td_error * phi\n",
        "\n",
        "# Independent training function\n",
        "def train(agent, env, num_episodes, num_runs=5):\n",
        "    all_rewards = np.zeros((num_runs, num_episodes))\n",
        "    all_steps = np.zeros((num_runs, num_episodes))\n",
        "\n",
        "    for run in range(num_runs):\n",
        "        # print(f\"Run:{run+1}\")\n",
        "        agent.reset_weights()\n",
        "        np.random.seed(run)\n",
        "        for i in tqdm(range(num_episodes), desc=f\"Run {run+1}/{num_runs}\"):\n",
        "            totalReward, steps = 0, 0\n",
        "            state, _ = env.reset()\n",
        "            action = agent.choose_epsilonGreedy_action(state)\n",
        "            done = False\n",
        "\n",
        "            while not done:\n",
        "                next_state, reward, terminated, truncated, _ = env.step(action)\n",
        "                next_action = agent.choose_epsilonGreedy_action(next_state)\n",
        "\n",
        "                agent.update(state, action, reward, next_state, next_action)\n",
        "\n",
        "                state, action = next_state, next_action\n",
        "                totalReward += reward\n",
        "                steps += 1\n",
        "                done = terminated or truncated\n",
        "\n",
        "            all_rewards[run, i] = totalReward\n",
        "            all_steps[run, i] = steps\n",
        "\n",
        "            agent.epsilon = max(agent.epsilon_min, agent.epsilon * agent.epsilon_decay)\n",
        "            # if i % 100 == 0:\n",
        "            #     avg_reward = np.mean(all_rewards[run, max(0, i-100):i+1])\n",
        "            #     print(f\"Episode {i}/{num_episodes}, Avg Reward (Last 100): {avg_reward:.2f}, Epsilon: {agent.epsilon:.4f}\")\n",
        "        print(f\"Final average reward;{np.mean(all_rewards[run],axis=1)}\")\n",
        "    mean_rewards = np.mean(all_rewards, axis=0)\n",
        "    std_rewards = np.std(all_rewards, axis=0)\n",
        "    mean_steps = np.mean(all_steps, axis=0)\n",
        "    std_steps = np.std(all_steps, axis=0)\n",
        "\n",
        "    return mean_rewards, std_rewards, mean_steps, std_steps\n",
        "\n",
        "# Initialize environment and agent\n",
        "env = gym.make(\"MountainCar-v0\")\n",
        "agent = sarsaAgent(env, alpha=0.1, gamma=0.99, epsilon_start=1.0, epsilon_decay=0.995, epsilon_min=0.0001, numTilings=8, numTiles=10)\n",
        "\n",
        "# Train the agent using the independent train function\n",
        "sarsa_mean_rewards, sarsa_std_rewards, sarsa_mean_steps, sarsa_std_steps = train(agent, env, num_episodes=5000, num_runs=5)\n",
        "\n",
        "print(\"Training complete. Mean rewards and standard deviations computed.\")\n"
      ]
    },
    {
      "cell_type": "code",
      "execution_count": null,
      "metadata": {
        "colab": {
          "base_uri": "https://localhost:8080/",
          "height": 472
        },
        "id": "K0OELj_6e1vD",
        "outputId": "5a751edb-4af4-4874-ebd3-5080f4e2abae"
      },
      "outputs": [
        {
          "data": {
            "image/png": "[encoded data removed]",
            "text/plain": [
              "<Figure size 640x480 with 1 Axes>"
            ]
          },
          "metadata": {},
          "output_type": "display_data"
        }
      ],
      "source": [
        "import matplotlib.pyplot as plt\n",
        "\n",
        "plt.plot(sarsa_mean_rewards,label=\"Sarsa reward avg over 5 runs\")\n",
        "plt.fill_between(range(len(sarsa_mean_rewards)), sarsa_mean_rewards - sarsa_std_rewards, sarsa_mean_rewards + sarsa_std_rewards, alpha=0.5,label=\"Sarsa\")\n",
        "# plt.plot(Q_mean_rewards,label=\"Q learning reward avg over 5 runs\")\n",
        "# plt.fill_between(range(len(Q_mean_rewards)), Q_mean_rewards - Q_std_rewards, Q_mean_rewards + Q_std_rewards, alpha=0.5,label=\"Q-Learning\")\n",
        "plt.xlabel(\"Episodes\")\n",
        "\n",
        "plt.axhline(y=-110, color='r', linestyle='--', label=\"Target Reward (-110)\")\n",
        "plt.ylabel(\"Running Average Reward (Window=100)\")\n",
        "plt.title(\"Smoothed Reward Curve\")\n",
        "\n",
        "plt.legend()\n",
        "plt.show()\n"
      ]
    },
    {
      "cell_type": "code",
      "execution_count": null,
      "metadata": {
        "id": "dgLZp2-fLUnf"
      },
      "outputs": [],
      "source": [
        "def running_average(data, window_size=100):\n",
        "    return np.convolve(data, np.ones(window_size)/window_size, mode='valid')\n"
      ]
    },
    {
      "cell_type": "code",
      "execution_count": null,
      "metadata": {
        "colab": {
          "base_uri": "https://localhost:8080/",
          "height": 472
        },
        "id": "qcKl60i1fPtm",
        "outputId": "0a2316ad-8c05-4f6c-daff-14a0ae962bb1"
      },
      "outputs": [
        {
          "data": {
            "image/png": "[encoded data removed]",
            "text/plain": [
              "<Figure size 640x480 with 1 Axes>"
            ]
          },
          "metadata": {},
          "output_type": "display_data"
        }
      ],
      "source": [
        "plt.plot(running_average(sarsa_mean_rewards),label=\"Sarsa\")\n",
        "plt.plot(running_average(Q_mean_rewards),label=\"Q learning\")\n",
        "plt.axhline(y=-110, color='r', linestyle='--', label=\"Target Reward (-110)\")\n",
        "plt.xlabel(\"Episodes\")\n",
        "plt.ylabel(\"Running Average Reward (Window=100)\")\n",
        "plt.title(\"Running Average Reward Curve\")\n",
        "plt.legend()\n",
        "plt.show()"
      ]
    },
    {
      "cell_type": "code",
      "execution_count": null,
      "metadata": {
        "colab": {
          "base_uri": "https://localhost:8080/",
          "height": 472
        },
        "id": "93o_b_2dzXDx",
        "outputId": "633c1735-3886-4e28-fcb3-029f4b8340e8"
      },
      "outputs": [
        {
          "data": {
            "image/png": "[encoded data removed]",
            "text/plain": [
              "<Figure size 640x480 with 1 Axes>"
            ]
          },
          "metadata": {},
          "output_type": "display_data"
        }
      ],
      "source": [
        "sarsa_cumulative_regret = np.cumsum([-110 - i for i in sarsa_mean_rewards])\n",
        "Q_cumulative_regret = np.cumsum([-110 - i for i in Q_mean_rewards])\n",
        "\n",
        "# Plot results\n",
        "plt.plot(sarsa_cumulative_regret, label=\"Sarsa\")\n",
        "plt.plot(Q_cumulative_regret, label=\"Q learning\")\n",
        "plt.xlabel(\"Episodes\")\n",
        "plt.ylabel(\"Cumulative Regret\")\n",
        "plt.title(\"Cumulative Regret Curve\")\n",
        "plt.legend()\n",
        "plt.show()"
      ]
    },
    {
      "cell_type": "code",
      "execution_count": null,
      "metadata": {
        "id": "6SA-EXMSRKr5"
      },
      "outputs": [],
      "source": []
    },
    {
      "cell_type": "code",
      "execution_count": null,
      "metadata": {
        "colab": {
          "base_uri": "https://localhost:8080/",
          "height": 366
        },
        "id": "gxvagYvzRKpC",
        "outputId": "56f18189-5e71-4ed5-f594-b68db7ab143a"
      },
      "outputs": [
        {
          "ename": "TypeError",
          "evalue": "Tiling.__init__() takes from 1 to 3 positional arguments but 4 were given",
          "output_type": "error",
          "traceback": [
            "\u001b[0;31m---------------------------------------------------------------------------\u001b[0m",
            "\u001b[0;31mTypeError\u001b[0m                                 Traceback (most recent call last)",
            "\u001b[0;32m<ipython-input-14-086fbe68be46>\u001b[0m in \u001b[0;36m<cell line: 0>\u001b[0;34m()\u001b[0m\n\u001b[1;32m      1\u001b[0m \u001b[0;31m# Initialize environment and agent for MountainCar-v0\u001b[0m\u001b[0;34m\u001b[0m\u001b[0;34m\u001b[0m\u001b[0m\n\u001b[1;32m      2\u001b[0m \u001b[0menv\u001b[0m \u001b[0;34m=\u001b[0m \u001b[0mgym\u001b[0m\u001b[0;34m.\u001b[0m\u001b[0mmake\u001b[0m\u001b[0;34m(\u001b[0m\u001b[0;34m\"MountainCar-v0\"\u001b[0m\u001b[0;34m)\u001b[0m\u001b[0;34m\u001b[0m\u001b[0;34m\u001b[0m\u001b[0m\n\u001b[0;32m----> 3\u001b[0;31m \u001b[0magent\u001b[0m \u001b[0;34m=\u001b[0m \u001b[0mQLearningAgent\u001b[0m\u001b[0;34m(\u001b[0m\u001b[0menv\u001b[0m\u001b[0;34m,\u001b[0m \u001b[0malpha\u001b[0m\u001b[0;34m=\u001b[0m\u001b[0;36m0.1\u001b[0m\u001b[0;34m,\u001b[0m \u001b[0mgamma\u001b[0m\u001b[0;34m=\u001b[0m\u001b[0;36m0.99\u001b[0m\u001b[0;34m,\u001b[0m \u001b[0mtau_start\u001b[0m\u001b[0;34m=\u001b[0m\u001b[0;36m5.0\u001b[0m\u001b[0;34m,\u001b[0m \u001b[0mtau_decay\u001b[0m\u001b[0;34m=\u001b[0m\u001b[0;36m0.9\u001b[0m\u001b[0;34m,\u001b[0m \u001b[0mtau_min\u001b[0m\u001b[0;34m=\u001b[0m\u001b[0;36m0.005\u001b[0m\u001b[0;34m,\u001b[0m \u001b[0mnumTilings\u001b[0m\u001b[0;34m=\u001b[0m\u001b[0;36m8\u001b[0m\u001b[0;34m,\u001b[0m \u001b[0mnumTiles\u001b[0m\u001b[0;34m=\u001b[0m\u001b[0;36m10\u001b[0m\u001b[0;34m)\u001b[0m\u001b[0;34m\u001b[0m\u001b[0;34m\u001b[0m\u001b[0m\n\u001b[0m\u001b[1;32m      4\u001b[0m \u001b[0;34m\u001b[0m\u001b[0m\n\u001b[1;32m      5\u001b[0m \u001b[0;31m# Train the agent over multiple runs\u001b[0m\u001b[0;34m\u001b[0m\u001b[0;34m\u001b[0m\u001b[0m\n",
            "\u001b[0;32m<ipython-input-12-01cb908b35a2>\u001b[0m in \u001b[0;36m__init__\u001b[0;34m(self, env, alpha, gamma, tau_start, tau_decay, tau_min, numTilings, numTiles)\u001b[0m\n\u001b[1;32m     41\u001b[0m         \u001b[0mself\u001b[0m\u001b[0;34m.\u001b[0m\u001b[0mnumTiles\u001b[0m \u001b[0;34m=\u001b[0m \u001b[0mnumTiles\u001b[0m\u001b[0;34m\u001b[0m\u001b[0;34m\u001b[0m\u001b[0m\n\u001b[1;32m     42\u001b[0m \u001b[0;34m\u001b[0m\u001b[0m\n\u001b[0;32m---> 43\u001b[0;31m         \u001b[0mself\u001b[0m\u001b[0;34m.\u001b[0m\u001b[0mtiling\u001b[0m \u001b[0;34m=\u001b[0m \u001b[0mTiling\u001b[0m\u001b[0;34m(\u001b[0m\u001b[0menv\u001b[0m\u001b[0;34m,\u001b[0m \u001b[0mnumTilings\u001b[0m\u001b[0;34m,\u001b[0m \u001b[0mnumTiles\u001b[0m\u001b[0;34m)\u001b[0m\u001b[0;34m\u001b[0m\u001b[0;34m\u001b[0m\u001b[0m\n\u001b[0m\u001b[1;32m     44\u001b[0m         \u001b[0mself\u001b[0m\u001b[0;34m.\u001b[0m\u001b[0mnumActions\u001b[0m \u001b[0;34m=\u001b[0m \u001b[0mself\u001b[0m\u001b[0;34m.\u001b[0m\u001b[0menv\u001b[0m\u001b[0;34m.\u001b[0m\u001b[0maction_space\u001b[0m\u001b[0;34m.\u001b[0m\u001b[0mn\u001b[0m\u001b[0;34m\u001b[0m\u001b[0;34m\u001b[0m\u001b[0m\n\u001b[1;32m     45\u001b[0m \u001b[0;34m\u001b[0m\u001b[0m\n",
            "\u001b[0;31mTypeError\u001b[0m: Tiling.__init__() takes from 1 to 3 positional arguments but 4 were given"
          ]
        }
      ],
      "source": [
        "\n",
        "# Initialize environment and agent for MountainCar-v0\n",
        "env = gym.make(\"MountainCar-v0\")\n",
        "agent = QLearningAgent(env, alpha=0.1, gamma=0.99, tau_start=5.0, tau_decay=0.9, tau_min=0.005, numTilings=8, numTiles=10)\n",
        "\n",
        "# Train the agent over multiple runs\n",
        "Q_mean_rewards, Q_std_rewards, Q_mean_steps, Q_std_steps = train(agent, env, 5000, num_runs=5)\n",
        "\n",
        "print(\"Training complete. Mean rewards and standard deviations computed.\")\n"
      ]
    },
    {
      "cell_type": "code",
      "execution_count": null,
      "metadata": {
        "id": "WNQD0xAYRKmm"
      },
      "outputs": [],
      "source": [
        "\n",
        "# Initialize environment and agent\n",
        "env = gym.make(\"MountainCar-v0\")\n",
        "agent = sarsaAgent(env, alpha=0.1, gamma=0.99, epsilon_start=1.0, epsilon_decay=0.9, epsilon_min=0.005, numTilings=8, numTiles=10)\n",
        "\n",
        "# Train the agent using the independent train function\n",
        "sarsa_mean_rewards, sarsa_std_rewards, sarsa_mean_steps, sarsa_std_steps = train(agent, env, num_episodes=5000, num_runs=5)\n",
        "\n",
        "print(\"Training complete. Mean rewards and standard deviations computed.\")\n"
      ]
    },
    {
      "cell_type": "code",
      "execution_count": null,
      "metadata": {
        "colab": {
          "base_uri": "https://localhost:8080/"
        },
        "id": "2157R4bsbaf4",
        "outputId": "42162328-7448-48eb-d35f-844910c098b2"
      },
      "outputs": [
        {
          "name": "stdout",
          "output_type": "stream",
          "text": [
            "\n",
            "Running Q-Learning...\n",
            "Run: 1\n",
            "Run 1/1: 100% 1000/1000 [02:54<00:00,  5.72it/s]\n",
            "Final average reward: -192.453\n",
            "Training complete. Mean rewards and standard deviations computed.\n",
            "Q-Learning Completed!\n",
            "\n",
            "Saved plot: training_performance_1.png\n",
            "Saved plot: running_average_1.png\n",
            "Saved plot: cumulative_regret_1.png\n"
          ]
        }
      ],
      "source": [
        "!python mountain_car.py --algo q_learning --type tiling --n_episodes 1000 --n_runs 1"
      ]
    },
    {
      "cell_type": "code",
      "execution_count": null,
      "metadata": {
        "id": "g5m8itdjbadD"
      },
      "outputs": [],
      "source": []
    },
    {
      "cell_type": "code",
      "execution_count": null,
      "metadata": {
        "id": "1in3VaCWbaaZ"
      },
      "outputs": [],
      "source": []
    },
    {
      "cell_type": "code",
      "execution_count": null,
      "metadata": {
        "id": "Mi7tk7hWbaX0"
      },
      "outputs": [],
      "source": []
    },
    {
      "cell_type": "code",
      "execution_count": null,
      "metadata": {
        "id": "n_BKJfLCbaVK"
      },
      "outputs": [],
      "source": []
    },
    {
      "cell_type": "code",
      "execution_count": null,
      "metadata": {
        "id": "A0AUewWbbaSh"
      },
      "outputs": [],
      "source": []
    },
    {
      "cell_type": "code",
      "execution_count": null,
      "metadata": {
        "id": "EJdAFyLebaQ6"
      },
      "outputs": [],
      "source": []
    },
    {
      "cell_type": "code",
      "execution_count": null,
      "metadata": {
        "id": "TNgI4WBxbaPL"
      },
      "outputs": [],
      "source": []
    },
    {
      "cell_type": "code",
      "execution_count": null,
      "metadata": {
        "id": "dSYbxV-AbaNm"
      },
      "outputs": [],
      "source": []
    },
    {
      "cell_type": "code",
      "execution_count": null,
      "metadata": {
        "id": "87uXFOKGbaL_"
      },
      "outputs": [],
      "source": []
    },
    {
      "cell_type": "code",
      "execution_count": null,
      "metadata": {
        "id": "Cc-fsbkmbaKV"
      },
      "outputs": [],
      "source": []
    },
    {
      "cell_type": "code",
      "execution_count": null,
      "metadata": {
        "id": "FCY_VLLXbaCb"
      },
      "outputs": [],
      "source": []
    },
    {
      "cell_type": "code",
      "execution_count": null,
      "metadata": {
        "colab": {
          "base_uri": "https://localhost:8080/",
          "height": 487
        },
        "id": "w6nT8STkRKj7",
        "outputId": "0bd4f2eb-6b21-4283-a8c5-3efca71c059b"
      },
      "outputs": [
        {
          "name": "stdout",
          "output_type": "stream",
          "text": [
            "Run: 1\n"
          ]
        },
        {
          "name": "stderr",
          "output_type": "stream",
          "text": [
            "Run 1/5: 100%|██████████| 3500/3500 [11:59<00:00,  4.87it/s]\n"
          ]
        },
        {
          "name": "stdout",
          "output_type": "stream",
          "text": [
            "Final average reward: -127.92885714285714\n",
            "Run: 2\n"
          ]
        },
        {
          "name": "stderr",
          "output_type": "stream",
          "text": [
            "Run 2/5:  81%|████████▏ | 2850/3500 [10:06<02:18,  4.70it/s]\n"
          ]
        },
        {
          "ename": "KeyboardInterrupt",
          "evalue": "",
          "output_type": "error",
          "traceback": [
            "\u001b[0;31m---------------------------------------------------------------------------\u001b[0m",
            "\u001b[0;31mKeyboardInterrupt\u001b[0m                         Traceback (most recent call last)",
            "\u001b[0;32m<ipython-input-19-6ef458176b26>\u001b[0m in \u001b[0;36m<cell line: 0>\u001b[0;34m()\u001b[0m\n\u001b[1;32m    125\u001b[0m \u001b[0;34m\u001b[0m\u001b[0m\n\u001b[1;32m    126\u001b[0m \u001b[0;31m# Train the agent over multiple runs\u001b[0m\u001b[0;34m\u001b[0m\u001b[0;34m\u001b[0m\u001b[0m\n\u001b[0;32m--> 127\u001b[0;31m \u001b[0mQ_mean_rewards\u001b[0m\u001b[0;34m,\u001b[0m \u001b[0mQ_std_rewards\u001b[0m\u001b[0;34m,\u001b[0m \u001b[0mQ_mean_steps\u001b[0m\u001b[0;34m,\u001b[0m \u001b[0mQ_std_steps\u001b[0m \u001b[0;34m=\u001b[0m \u001b[0mtrain\u001b[0m\u001b[0;34m(\u001b[0m\u001b[0magent\u001b[0m\u001b[0;34m,\u001b[0m \u001b[0menv\u001b[0m\u001b[0;34m,\u001b[0m \u001b[0;36m3500\u001b[0m\u001b[0;34m,\u001b[0m \u001b[0mnum_runs\u001b[0m\u001b[0;34m=\u001b[0m\u001b[0;36m5\u001b[0m\u001b[0;34m)\u001b[0m\u001b[0;34m\u001b[0m\u001b[0;34m\u001b[0m\u001b[0m\n\u001b[0m\u001b[1;32m    128\u001b[0m \u001b[0;34m\u001b[0m\u001b[0m\n\u001b[1;32m    129\u001b[0m \u001b[0mprint\u001b[0m\u001b[0;34m(\u001b[0m\u001b[0;34m\"Training complete. Mean rewards and standard deviations computed.\"\u001b[0m\u001b[0;34m)\u001b[0m\u001b[0;34m\u001b[0m\u001b[0;34m\u001b[0m\u001b[0m\n",
            "\u001b[0;32m<ipython-input-19-6ef458176b26>\u001b[0m in \u001b[0;36mtrain\u001b[0;34m(agent, env, num_episodes, num_runs)\u001b[0m\n\u001b[1;32m     95\u001b[0m \u001b[0;34m\u001b[0m\u001b[0m\n\u001b[1;32m     96\u001b[0m             \u001b[0;32mwhile\u001b[0m \u001b[0;32mnot\u001b[0m \u001b[0mdone\u001b[0m\u001b[0;34m:\u001b[0m\u001b[0;34m\u001b[0m\u001b[0;34m\u001b[0m\u001b[0m\n\u001b[0;32m---> 97\u001b[0;31m                 \u001b[0maction\u001b[0m \u001b[0;34m=\u001b[0m \u001b[0magent\u001b[0m\u001b[0;34m.\u001b[0m\u001b[0mchoose_action_softmax\u001b[0m\u001b[0;34m(\u001b[0m\u001b[0mstate\u001b[0m\u001b[0;34m)\u001b[0m\u001b[0;34m\u001b[0m\u001b[0;34m\u001b[0m\u001b[0m\n\u001b[0m\u001b[1;32m     98\u001b[0m                 \u001b[0mnext_state\u001b[0m\u001b[0;34m,\u001b[0m \u001b[0mreward\u001b[0m\u001b[0;34m,\u001b[0m \u001b[0mterminated\u001b[0m\u001b[0;34m,\u001b[0m \u001b[0mtruncated\u001b[0m\u001b[0;34m,\u001b[0m \u001b[0m_\u001b[0m \u001b[0;34m=\u001b[0m \u001b[0menv\u001b[0m\u001b[0;34m.\u001b[0m\u001b[0mstep\u001b[0m\u001b[0;34m(\u001b[0m\u001b[0maction\u001b[0m\u001b[0;34m)\u001b[0m\u001b[0;34m\u001b[0m\u001b[0;34m\u001b[0m\u001b[0m\n\u001b[1;32m     99\u001b[0m                 \u001b[0mdone\u001b[0m \u001b[0;34m=\u001b[0m \u001b[0mterminated\u001b[0m \u001b[0;32mor\u001b[0m \u001b[0mtruncated\u001b[0m\u001b[0;34m\u001b[0m\u001b[0;34m\u001b[0m\u001b[0m\n",
            "\u001b[0;32m<ipython-input-19-6ef458176b26>\u001b[0m in \u001b[0;36mchoose_action_softmax\u001b[0;34m(self, state)\u001b[0m\n\u001b[1;32m     67\u001b[0m \u001b[0;34m\u001b[0m\u001b[0m\n\u001b[1;32m     68\u001b[0m     \u001b[0;32mdef\u001b[0m \u001b[0mchoose_action_softmax\u001b[0m\u001b[0;34m(\u001b[0m\u001b[0mself\u001b[0m\u001b[0;34m,\u001b[0m \u001b[0mstate\u001b[0m\u001b[0;34m)\u001b[0m\u001b[0;34m:\u001b[0m\u001b[0;34m\u001b[0m\u001b[0;34m\u001b[0m\u001b[0m\n\u001b[0;32m---> 69\u001b[0;31m         \u001b[0mq_values\u001b[0m \u001b[0;34m=\u001b[0m \u001b[0mnp\u001b[0m\u001b[0;34m.\u001b[0m\u001b[0marray\u001b[0m\u001b[0;34m(\u001b[0m\u001b[0;34m[\u001b[0m\u001b[0mself\u001b[0m\u001b[0;34m.\u001b[0m\u001b[0mgetQvalue\u001b[0m\u001b[0;34m(\u001b[0m\u001b[0mstate\u001b[0m\u001b[0;34m,\u001b[0m \u001b[0ma\u001b[0m\u001b[0;34m)\u001b[0m \u001b[0;32mfor\u001b[0m \u001b[0ma\u001b[0m \u001b[0;32min\u001b[0m \u001b[0mrange\u001b[0m\u001b[0;34m(\u001b[0m\u001b[0mself\u001b[0m\u001b[0;34m.\u001b[0m\u001b[0mnumActions\u001b[0m\u001b[0;34m)\u001b[0m\u001b[0;34m]\u001b[0m\u001b[0;34m)\u001b[0m\u001b[0;34m\u001b[0m\u001b[0;34m\u001b[0m\u001b[0m\n\u001b[0m\u001b[1;32m     70\u001b[0m         \u001b[0mexp_values\u001b[0m \u001b[0;34m=\u001b[0m \u001b[0mnp\u001b[0m\u001b[0;34m.\u001b[0m\u001b[0mexp\u001b[0m\u001b[0;34m(\u001b[0m\u001b[0;34m(\u001b[0m\u001b[0mq_values\u001b[0m \u001b[0;34m-\u001b[0m \u001b[0mnp\u001b[0m\u001b[0;34m.\u001b[0m\u001b[0mmax\u001b[0m\u001b[0;34m(\u001b[0m\u001b[0mq_values\u001b[0m\u001b[0;34m)\u001b[0m\u001b[0;34m)\u001b[0m \u001b[0;34m/\u001b[0m \u001b[0mself\u001b[0m\u001b[0;34m.\u001b[0m\u001b[0mtau\u001b[0m\u001b[0;34m)\u001b[0m\u001b[0;34m\u001b[0m\u001b[0;34m\u001b[0m\u001b[0m\n\u001b[1;32m     71\u001b[0m         \u001b[0mprobs\u001b[0m \u001b[0;34m=\u001b[0m \u001b[0mexp_values\u001b[0m \u001b[0;34m/\u001b[0m \u001b[0mnp\u001b[0m\u001b[0;34m.\u001b[0m\u001b[0msum\u001b[0m\u001b[0;34m(\u001b[0m\u001b[0mexp_values\u001b[0m\u001b[0;34m)\u001b[0m\u001b[0;34m\u001b[0m\u001b[0;34m\u001b[0m\u001b[0m\n",
            "\u001b[0;32m<ipython-input-19-6ef458176b26>\u001b[0m in \u001b[0;36m<listcomp>\u001b[0;34m(.0)\u001b[0m\n\u001b[1;32m     67\u001b[0m \u001b[0;34m\u001b[0m\u001b[0m\n\u001b[1;32m     68\u001b[0m     \u001b[0;32mdef\u001b[0m \u001b[0mchoose_action_softmax\u001b[0m\u001b[0;34m(\u001b[0m\u001b[0mself\u001b[0m\u001b[0;34m,\u001b[0m \u001b[0mstate\u001b[0m\u001b[0;34m)\u001b[0m\u001b[0;34m:\u001b[0m\u001b[0;34m\u001b[0m\u001b[0;34m\u001b[0m\u001b[0m\n\u001b[0;32m---> 69\u001b[0;31m         \u001b[0mq_values\u001b[0m \u001b[0;34m=\u001b[0m \u001b[0mnp\u001b[0m\u001b[0;34m.\u001b[0m\u001b[0marray\u001b[0m\u001b[0;34m(\u001b[0m\u001b[0;34m[\u001b[0m\u001b[0mself\u001b[0m\u001b[0;34m.\u001b[0m\u001b[0mgetQvalue\u001b[0m\u001b[0;34m(\u001b[0m\u001b[0mstate\u001b[0m\u001b[0;34m,\u001b[0m \u001b[0ma\u001b[0m\u001b[0;34m)\u001b[0m \u001b[0;32mfor\u001b[0m \u001b[0ma\u001b[0m \u001b[0;32min\u001b[0m \u001b[0mrange\u001b[0m\u001b[0;34m(\u001b[0m\u001b[0mself\u001b[0m\u001b[0;34m.\u001b[0m\u001b[0mnumActions\u001b[0m\u001b[0;34m)\u001b[0m\u001b[0;34m]\u001b[0m\u001b[0;34m)\u001b[0m\u001b[0;34m\u001b[0m\u001b[0;34m\u001b[0m\u001b[0m\n\u001b[0m\u001b[1;32m     70\u001b[0m         \u001b[0mexp_values\u001b[0m \u001b[0;34m=\u001b[0m \u001b[0mnp\u001b[0m\u001b[0;34m.\u001b[0m\u001b[0mexp\u001b[0m\u001b[0;34m(\u001b[0m\u001b[0;34m(\u001b[0m\u001b[0mq_values\u001b[0m \u001b[0;34m-\u001b[0m \u001b[0mnp\u001b[0m\u001b[0;34m.\u001b[0m\u001b[0mmax\u001b[0m\u001b[0;34m(\u001b[0m\u001b[0mq_values\u001b[0m\u001b[0;34m)\u001b[0m\u001b[0;34m)\u001b[0m \u001b[0;34m/\u001b[0m \u001b[0mself\u001b[0m\u001b[0;34m.\u001b[0m\u001b[0mtau\u001b[0m\u001b[0;34m)\u001b[0m\u001b[0;34m\u001b[0m\u001b[0;34m\u001b[0m\u001b[0m\n\u001b[1;32m     71\u001b[0m         \u001b[0mprobs\u001b[0m \u001b[0;34m=\u001b[0m \u001b[0mexp_values\u001b[0m \u001b[0;34m/\u001b[0m \u001b[0mnp\u001b[0m\u001b[0;34m.\u001b[0m\u001b[0msum\u001b[0m\u001b[0;34m(\u001b[0m\u001b[0mexp_values\u001b[0m\u001b[0;34m)\u001b[0m\u001b[0;34m\u001b[0m\u001b[0;34m\u001b[0m\u001b[0m\n",
            "\u001b[0;32m<ipython-input-19-6ef458176b26>\u001b[0m in \u001b[0;36mgetQvalue\u001b[0;34m(self, state, action)\u001b[0m\n\u001b[1;32m     64\u001b[0m \u001b[0;34m\u001b[0m\u001b[0m\n\u001b[1;32m     65\u001b[0m     \u001b[0;32mdef\u001b[0m \u001b[0mgetQvalue\u001b[0m\u001b[0;34m(\u001b[0m\u001b[0mself\u001b[0m\u001b[0;34m,\u001b[0m \u001b[0mstate\u001b[0m\u001b[0;34m,\u001b[0m \u001b[0maction\u001b[0m\u001b[0;34m)\u001b[0m\u001b[0;34m:\u001b[0m\u001b[0;34m\u001b[0m\u001b[0;34m\u001b[0m\u001b[0m\n\u001b[0;32m---> 66\u001b[0;31m         \u001b[0;32mreturn\u001b[0m \u001b[0mnp\u001b[0m\u001b[0;34m.\u001b[0m\u001b[0mdot\u001b[0m\u001b[0;34m(\u001b[0m\u001b[0mself\u001b[0m\u001b[0;34m.\u001b[0m\u001b[0mweights\u001b[0m\u001b[0;34m[\u001b[0m\u001b[0maction\u001b[0m\u001b[0;34m]\u001b[0m\u001b[0;34m,\u001b[0m \u001b[0mself\u001b[0m\u001b[0;34m.\u001b[0m\u001b[0mfeatureVector\u001b[0m\u001b[0;34m(\u001b[0m\u001b[0mstate\u001b[0m\u001b[0;34m,\u001b[0m \u001b[0maction\u001b[0m\u001b[0;34m)\u001b[0m\u001b[0;34m)\u001b[0m\u001b[0;34m\u001b[0m\u001b[0;34m\u001b[0m\u001b[0m\n\u001b[0m\u001b[1;32m     67\u001b[0m \u001b[0;34m\u001b[0m\u001b[0m\n\u001b[1;32m     68\u001b[0m     \u001b[0;32mdef\u001b[0m \u001b[0mchoose_action_softmax\u001b[0m\u001b[0;34m(\u001b[0m\u001b[0mself\u001b[0m\u001b[0;34m,\u001b[0m \u001b[0mstate\u001b[0m\u001b[0;34m)\u001b[0m\u001b[0;34m:\u001b[0m\u001b[0;34m\u001b[0m\u001b[0;34m\u001b[0m\u001b[0m\n",
            "\u001b[0;32m<ipython-input-19-6ef458176b26>\u001b[0m in \u001b[0;36mfeatureVector\u001b[0;34m(self, state, action)\u001b[0m\n\u001b[1;32m     49\u001b[0m \u001b[0;34m\u001b[0m\u001b[0m\n\u001b[1;32m     50\u001b[0m     \u001b[0;32mdef\u001b[0m \u001b[0mfeatureVector\u001b[0m\u001b[0;34m(\u001b[0m\u001b[0mself\u001b[0m\u001b[0;34m,\u001b[0m \u001b[0mstate\u001b[0m\u001b[0;34m,\u001b[0m \u001b[0maction\u001b[0m\u001b[0;34m)\u001b[0m\u001b[0;34m:\u001b[0m\u001b[0;34m\u001b[0m\u001b[0;34m\u001b[0m\u001b[0m\n\u001b[0;32m---> 51\u001b[0;31m         \u001b[0mdiscretized_indices\u001b[0m \u001b[0;34m=\u001b[0m \u001b[0mself\u001b[0m\u001b[0;34m.\u001b[0m\u001b[0mtiling\u001b[0m\u001b[0;34m.\u001b[0m\u001b[0mdiscretize\u001b[0m\u001b[0;34m(\u001b[0m\u001b[0mstate\u001b[0m\u001b[0;34m)\u001b[0m\u001b[0;34m\u001b[0m\u001b[0;34m\u001b[0m\u001b[0m\n\u001b[0m\u001b[1;32m     52\u001b[0m         \u001b[0mfeatureVector\u001b[0m \u001b[0;34m=\u001b[0m \u001b[0mnp\u001b[0m\u001b[0;34m.\u001b[0m\u001b[0mzeros\u001b[0m\u001b[0;34m(\u001b[0m\u001b[0mself\u001b[0m\u001b[0;34m.\u001b[0m\u001b[0mnumFeatures\u001b[0m\u001b[0;34m)\u001b[0m\u001b[0;34m\u001b[0m\u001b[0;34m\u001b[0m\u001b[0m\n\u001b[1;32m     53\u001b[0m \u001b[0;34m\u001b[0m\u001b[0m\n",
            "\u001b[0;32m<ipython-input-19-6ef458176b26>\u001b[0m in \u001b[0;36mdiscretize\u001b[0;34m(self, state)\u001b[0m\n\u001b[1;32m     27\u001b[0m \u001b[0;34m\u001b[0m\u001b[0m\n\u001b[1;32m     28\u001b[0m     \u001b[0;32mdef\u001b[0m \u001b[0mdiscretize\u001b[0m\u001b[0;34m(\u001b[0m\u001b[0mself\u001b[0m\u001b[0;34m,\u001b[0m \u001b[0mstate\u001b[0m\u001b[0;34m)\u001b[0m\u001b[0;34m:\u001b[0m\u001b[0;34m\u001b[0m\u001b[0;34m\u001b[0m\u001b[0m\n\u001b[0;32m---> 29\u001b[0;31m         \u001b[0;32mreturn\u001b[0m \u001b[0;34m[\u001b[0m\u001b[0mtuple\u001b[0m\u001b[0;34m(\u001b[0m\u001b[0mnp\u001b[0m\u001b[0;34m.\u001b[0m\u001b[0mdigitize\u001b[0m\u001b[0;34m(\u001b[0m\u001b[0mstate\u001b[0m\u001b[0;34m[\u001b[0m\u001b[0mdim\u001b[0m\u001b[0;34m]\u001b[0m\u001b[0;34m,\u001b[0m \u001b[0mbins\u001b[0m\u001b[0;34m)\u001b[0m \u001b[0;32mfor\u001b[0m \u001b[0mdim\u001b[0m\u001b[0;34m,\u001b[0m \u001b[0mbins\u001b[0m \u001b[0;32min\u001b[0m \u001b[0menumerate\u001b[0m\u001b[0;34m(\u001b[0m\u001b[0mtiling\u001b[0m\u001b[0;34m)\u001b[0m\u001b[0;34m)\u001b[0m \u001b[0;32mfor\u001b[0m \u001b[0mtiling\u001b[0m \u001b[0;32min\u001b[0m \u001b[0mself\u001b[0m\u001b[0;34m.\u001b[0m\u001b[0mtilings\u001b[0m\u001b[0;34m]\u001b[0m\u001b[0;34m\u001b[0m\u001b[0;34m\u001b[0m\u001b[0m\n\u001b[0m\u001b[1;32m     30\u001b[0m \u001b[0;34m\u001b[0m\u001b[0m\n\u001b[1;32m     31\u001b[0m \u001b[0;32mclass\u001b[0m \u001b[0mQLearningAgent\u001b[0m\u001b[0;34m:\u001b[0m\u001b[0;34m\u001b[0m\u001b[0;34m\u001b[0m\u001b[0m\n",
            "\u001b[0;32m<ipython-input-19-6ef458176b26>\u001b[0m in \u001b[0;36m<listcomp>\u001b[0;34m(.0)\u001b[0m\n\u001b[1;32m     27\u001b[0m \u001b[0;34m\u001b[0m\u001b[0m\n\u001b[1;32m     28\u001b[0m     \u001b[0;32mdef\u001b[0m \u001b[0mdiscretize\u001b[0m\u001b[0;34m(\u001b[0m\u001b[0mself\u001b[0m\u001b[0;34m,\u001b[0m \u001b[0mstate\u001b[0m\u001b[0;34m)\u001b[0m\u001b[0;34m:\u001b[0m\u001b[0;34m\u001b[0m\u001b[0;34m\u001b[0m\u001b[0m\n\u001b[0;32m---> 29\u001b[0;31m         \u001b[0;32mreturn\u001b[0m \u001b[0;34m[\u001b[0m\u001b[0mtuple\u001b[0m\u001b[0;34m(\u001b[0m\u001b[0mnp\u001b[0m\u001b[0;34m.\u001b[0m\u001b[0mdigitize\u001b[0m\u001b[0;34m(\u001b[0m\u001b[0mstate\u001b[0m\u001b[0;34m[\u001b[0m\u001b[0mdim\u001b[0m\u001b[0;34m]\u001b[0m\u001b[0;34m,\u001b[0m \u001b[0mbins\u001b[0m\u001b[0;34m)\u001b[0m \u001b[0;32mfor\u001b[0m \u001b[0mdim\u001b[0m\u001b[0;34m,\u001b[0m \u001b[0mbins\u001b[0m \u001b[0;32min\u001b[0m \u001b[0menumerate\u001b[0m\u001b[0;34m(\u001b[0m\u001b[0mtiling\u001b[0m\u001b[0;34m)\u001b[0m\u001b[0;34m)\u001b[0m \u001b[0;32mfor\u001b[0m \u001b[0mtiling\u001b[0m \u001b[0;32min\u001b[0m \u001b[0mself\u001b[0m\u001b[0;34m.\u001b[0m\u001b[0mtilings\u001b[0m\u001b[0;34m]\u001b[0m\u001b[0;34m\u001b[0m\u001b[0;34m\u001b[0m\u001b[0m\n\u001b[0m\u001b[1;32m     30\u001b[0m \u001b[0;34m\u001b[0m\u001b[0m\n\u001b[1;32m     31\u001b[0m \u001b[0;32mclass\u001b[0m \u001b[0mQLearningAgent\u001b[0m\u001b[0;34m:\u001b[0m\u001b[0;34m\u001b[0m\u001b[0;34m\u001b[0m\u001b[0m\n",
            "\u001b[0;32m<ipython-input-19-6ef458176b26>\u001b[0m in \u001b[0;36m<genexpr>\u001b[0;34m(.0)\u001b[0m\n\u001b[1;32m     27\u001b[0m \u001b[0;34m\u001b[0m\u001b[0m\n\u001b[1;32m     28\u001b[0m     \u001b[0;32mdef\u001b[0m \u001b[0mdiscretize\u001b[0m\u001b[0;34m(\u001b[0m\u001b[0mself\u001b[0m\u001b[0;34m,\u001b[0m \u001b[0mstate\u001b[0m\u001b[0;34m)\u001b[0m\u001b[0;34m:\u001b[0m\u001b[0;34m\u001b[0m\u001b[0;34m\u001b[0m\u001b[0m\n\u001b[0;32m---> 29\u001b[0;31m         \u001b[0;32mreturn\u001b[0m \u001b[0;34m[\u001b[0m\u001b[0mtuple\u001b[0m\u001b[0;34m(\u001b[0m\u001b[0mnp\u001b[0m\u001b[0;34m.\u001b[0m\u001b[0mdigitize\u001b[0m\u001b[0;34m(\u001b[0m\u001b[0mstate\u001b[0m\u001b[0;34m[\u001b[0m\u001b[0mdim\u001b[0m\u001b[0;34m]\u001b[0m\u001b[0;34m,\u001b[0m \u001b[0mbins\u001b[0m\u001b[0;34m)\u001b[0m \u001b[0;32mfor\u001b[0m \u001b[0mdim\u001b[0m\u001b[0;34m,\u001b[0m \u001b[0mbins\u001b[0m \u001b[0;32min\u001b[0m \u001b[0menumerate\u001b[0m\u001b[0;34m(\u001b[0m\u001b[0mtiling\u001b[0m\u001b[0;34m)\u001b[0m\u001b[0;34m)\u001b[0m \u001b[0;32mfor\u001b[0m \u001b[0mtiling\u001b[0m \u001b[0;32min\u001b[0m \u001b[0mself\u001b[0m\u001b[0;34m.\u001b[0m\u001b[0mtilings\u001b[0m\u001b[0;34m]\u001b[0m\u001b[0;34m\u001b[0m\u001b[0;34m\u001b[0m\u001b[0m\n\u001b[0m\u001b[1;32m     30\u001b[0m \u001b[0;34m\u001b[0m\u001b[0m\n\u001b[1;32m     31\u001b[0m \u001b[0;32mclass\u001b[0m \u001b[0mQLearningAgent\u001b[0m\u001b[0;34m:\u001b[0m\u001b[0;34m\u001b[0m\u001b[0;34m\u001b[0m\u001b[0m\n",
            "\u001b[0;32m/usr/local/lib/python3.11/dist-packages/numpy/lib/_function_base_impl.py\u001b[0m in \u001b[0;36mdigitize\u001b[0;34m(x, bins, right)\u001b[0m\n\u001b[1;32m   5934\u001b[0m         \u001b[0;32mreturn\u001b[0m \u001b[0mlen\u001b[0m\u001b[0;34m(\u001b[0m\u001b[0mbins\u001b[0m\u001b[0;34m)\u001b[0m \u001b[0;34m-\u001b[0m \u001b[0m_nx\u001b[0m\u001b[0;34m.\u001b[0m\u001b[0msearchsorted\u001b[0m\u001b[0;34m(\u001b[0m\u001b[0mbins\u001b[0m\u001b[0;34m[\u001b[0m\u001b[0;34m:\u001b[0m\u001b[0;34m:\u001b[0m\u001b[0;34m-\u001b[0m\u001b[0;36m1\u001b[0m\u001b[0;34m]\u001b[0m\u001b[0;34m,\u001b[0m \u001b[0mx\u001b[0m\u001b[0;34m,\u001b[0m \u001b[0mside\u001b[0m\u001b[0;34m=\u001b[0m\u001b[0mside\u001b[0m\u001b[0;34m)\u001b[0m\u001b[0;34m\u001b[0m\u001b[0;34m\u001b[0m\u001b[0m\n\u001b[1;32m   5935\u001b[0m     \u001b[0;32melse\u001b[0m\u001b[0;34m:\u001b[0m\u001b[0;34m\u001b[0m\u001b[0;34m\u001b[0m\u001b[0m\n\u001b[0;32m-> 5936\u001b[0;31m         \u001b[0;32mreturn\u001b[0m \u001b[0m_nx\u001b[0m\u001b[0;34m.\u001b[0m\u001b[0msearchsorted\u001b[0m\u001b[0;34m(\u001b[0m\u001b[0mbins\u001b[0m\u001b[0;34m,\u001b[0m \u001b[0mx\u001b[0m\u001b[0;34m,\u001b[0m \u001b[0mside\u001b[0m\u001b[0;34m=\u001b[0m\u001b[0mside\u001b[0m\u001b[0;34m)\u001b[0m\u001b[0;34m\u001b[0m\u001b[0;34m\u001b[0m\u001b[0m\n\u001b[0m",
            "\u001b[0;32m/usr/local/lib/python3.11/dist-packages/numpy/_core/fromnumeric.py\u001b[0m in \u001b[0;36msearchsorted\u001b[0;34m(a, v, side, sorter)\u001b[0m\n\u001b[1;32m   1469\u001b[0m \u001b[0;34m\u001b[0m\u001b[0m\n\u001b[1;32m   1470\u001b[0m     \"\"\"\n\u001b[0;32m-> 1471\u001b[0;31m     \u001b[0;32mreturn\u001b[0m \u001b[0m_wrapfunc\u001b[0m\u001b[0;34m(\u001b[0m\u001b[0ma\u001b[0m\u001b[0;34m,\u001b[0m \u001b[0;34m'searchsorted'\u001b[0m\u001b[0;34m,\u001b[0m \u001b[0mv\u001b[0m\u001b[0;34m,\u001b[0m \u001b[0mside\u001b[0m\u001b[0;34m=\u001b[0m\u001b[0mside\u001b[0m\u001b[0;34m,\u001b[0m \u001b[0msorter\u001b[0m\u001b[0;34m=\u001b[0m\u001b[0msorter\u001b[0m\u001b[0;34m)\u001b[0m\u001b[0;34m\u001b[0m\u001b[0;34m\u001b[0m\u001b[0m\n\u001b[0m\u001b[1;32m   1472\u001b[0m \u001b[0;34m\u001b[0m\u001b[0m\n\u001b[1;32m   1473\u001b[0m \u001b[0;34m\u001b[0m\u001b[0m\n",
            "\u001b[0;32m/usr/local/lib/python3.11/dist-packages/numpy/_core/fromnumeric.py\u001b[0m in \u001b[0;36m_wrapfunc\u001b[0;34m(obj, method, *args, **kwds)\u001b[0m\n\u001b[1;32m     55\u001b[0m \u001b[0;34m\u001b[0m\u001b[0m\n\u001b[1;32m     56\u001b[0m     \u001b[0;32mtry\u001b[0m\u001b[0;34m:\u001b[0m\u001b[0;34m\u001b[0m\u001b[0;34m\u001b[0m\u001b[0m\n\u001b[0;32m---> 57\u001b[0;31m         \u001b[0;32mreturn\u001b[0m \u001b[0mbound\u001b[0m\u001b[0;34m(\u001b[0m\u001b[0;34m*\u001b[0m\u001b[0margs\u001b[0m\u001b[0;34m,\u001b[0m \u001b[0;34m**\u001b[0m\u001b[0mkwds\u001b[0m\u001b[0;34m)\u001b[0m\u001b[0;34m\u001b[0m\u001b[0;34m\u001b[0m\u001b[0m\n\u001b[0m\u001b[1;32m     58\u001b[0m     \u001b[0;32mexcept\u001b[0m \u001b[0mTypeError\u001b[0m\u001b[0;34m:\u001b[0m\u001b[0;34m\u001b[0m\u001b[0;34m\u001b[0m\u001b[0m\n\u001b[1;32m     59\u001b[0m         \u001b[0;31m# A TypeError occurs if the object does have such a method in its\u001b[0m\u001b[0;34m\u001b[0m\u001b[0;34m\u001b[0m\u001b[0m\n",
            "\u001b[0;31mKeyboardInterrupt\u001b[0m: "
          ]
        }
      ],
      "source": [
        "import gymnasium as gym\n",
        "import numpy as np\n",
        "from tqdm import tqdm\n",
        "\n",
        "class Tiling:\n",
        "    def __init__(self, env, numTilings=8, numTiles=10):\n",
        "        self.numTilings = numTilings\n",
        "        self.numTiles = numTiles\n",
        "\n",
        "        position_min, position_max = -1.2, 0.6\n",
        "        velocity_min, velocity_max = -0.07, 0.07\n",
        "        self.low = np.array([position_min, velocity_min])\n",
        "        self.high = np.array([position_max, velocity_max])\n",
        "\n",
        "        self.offsets = [\n",
        "            (high - low) / self.numTiles * np.linspace(0, 1, self.numTilings, endpoint=False)\n",
        "            for low, high in zip(self.low, self.high)\n",
        "        ]\n",
        "\n",
        "        self.tilings = self.createTilings()\n",
        "\n",
        "    def createTilingGrid(self, low, high, bins, offsets):\n",
        "        return [np.linspace(low[dim], high[dim], bins + 1)[1:-1] + offsets[dim] for dim in range(len(low))]\n",
        "\n",
        "    def createTilings(self):\n",
        "        return [self.createTilingGrid(self.low, self.high, self.numTiles, [offset[i] for offset in self.offsets]) for i in range(self.numTilings)]\n",
        "\n",
        "    def discretize(self, state):\n",
        "        return [tuple(np.digitize(state[dim], bins) for dim, bins in enumerate(tiling)) for tiling in self.tilings]\n",
        "\n",
        "class QLearningAgent:\n",
        "    def __init__(self, env, alpha=0.1, gamma=0.99, tau_start=1.0, tau_decay=0.995, tau_min=0.05, numTilings=8, numTiles=10):\n",
        "        self.env = env\n",
        "        self.alpha = alpha\n",
        "        self.gamma = gamma\n",
        "        self.tau_start = tau_start\n",
        "        self.tau_decay = tau_decay\n",
        "        self.tau_min = tau_min\n",
        "        self.tau = tau_start  # Initialize tau\n",
        "\n",
        "        self.numTilings = numTilings\n",
        "        self.numTiles = numTiles\n",
        "\n",
        "        self.tiling = Tiling(env, numTilings, numTiles)\n",
        "        self.numActions = self.env.action_space.n\n",
        "\n",
        "        self.numFeatures = self.numTilings * self.numTiles**2\n",
        "        self.weights = np.zeros((self.numActions, self.numFeatures))\n",
        "\n",
        "    def featureVector(self, state, action):\n",
        "        discretized_indices = self.tiling.discretize(state)\n",
        "        featureVector = np.zeros(self.numFeatures)\n",
        "\n",
        "        for i, ds in enumerate(discretized_indices):\n",
        "            index = ds[0] * self.numTiles + ds[1]\n",
        "            feature_index = i * self.numTiles**2 + index\n",
        "            featureVector[feature_index] = 1\n",
        "\n",
        "        return featureVector\n",
        "\n",
        "    def reset_weights(self):\n",
        "        self.weights = np.zeros((self.numActions, self.numFeatures))\n",
        "        self.tau = self.tau_start  # Reset tau\n",
        "\n",
        "    def getQvalue(self, state, action):\n",
        "        return np.dot(self.weights[action], self.featureVector(state, action))\n",
        "\n",
        "    def choose_action_softmax(self, state):\n",
        "        q_values = np.array([self.getQvalue(state, a) for a in range(self.numActions)])\n",
        "        exp_values = np.exp((q_values - np.max(q_values)) / self.tau)\n",
        "        probs = exp_values / np.sum(exp_values)\n",
        "        return np.random.choice(self.numActions, p=probs)\n",
        "\n",
        "    def update(self, state, action, reward, next_state):\n",
        "        phi = self.featureVector(state, action)\n",
        "        q_sa = self.getQvalue(state, action)\n",
        "        q_next_max = max([self.getQvalue(next_state, a) for a in range(self.numActions)])\n",
        "        td_target = reward + self.gamma * q_next_max\n",
        "        td_error = td_target - q_sa\n",
        "        self.weights[action] += (self.alpha / self.numTilings) * td_error * phi\n",
        "\n",
        "def train(agent, env, num_episodes, num_runs=5):\n",
        "    episode_rewards = np.zeros((num_runs, num_episodes))\n",
        "    steps_to_completion = np.zeros((num_runs, num_episodes))\n",
        "\n",
        "    for run in range(num_runs):\n",
        "        print(f\"Run: {run+1}\")\n",
        "        agent.reset_weights()\n",
        "        np.random.seed(run)\n",
        "\n",
        "        for i in tqdm(range(num_episodes), desc=f\"Run {run+1}/{num_runs}\"):\n",
        "            totalReward, steps = 0, 0\n",
        "            state, _ = env.reset()\n",
        "            done = False\n",
        "\n",
        "            while not done:\n",
        "                action = agent.choose_action_softmax(state)\n",
        "                next_state, reward, terminated, truncated, _ = env.step(action)\n",
        "                done = terminated or truncated\n",
        "\n",
        "                agent.update(state, action, reward, next_state)\n",
        "\n",
        "                state = next_state\n",
        "                totalReward += reward\n",
        "                steps += 1\n",
        "\n",
        "            episode_rewards[run, i] = totalReward\n",
        "            steps_to_completion[run, i] = steps\n",
        "\n",
        "            agent.tau = max(agent.tau_min, agent.tau * agent.tau_decay)\n",
        "\n",
        "        print(f\"Final average reward: {np.mean(episode_rewards[run])}\")\n",
        "\n",
        "    # Compute mean and standard deviation across runs\n",
        "    mean_rewards = np.mean(episode_rewards, axis=0)\n",
        "    std_rewards = np.std(episode_rewards, axis=0)\n",
        "    mean_steps = np.mean(steps_to_completion, axis=0)\n",
        "    std_steps = np.std(steps_to_completion, axis=0)\n",
        "\n",
        "    return mean_rewards, std_rewards, mean_steps, std_steps\n",
        "\n",
        "# Initialize environment and agent for MountainCar-v0\n",
        "env = gym.make(\"MountainCar-v0\")\n",
        "agent = QLearningAgent(env, alpha=0.1, gamma=0.99, tau_start=1.0, tau_decay=0.9, tau_min=0.005, numTilings=15, numTiles=10)\n",
        "\n",
        "# Train the agent over multiple runs\n",
        "Q_mean_rewards, Q_std_rewards, Q_mean_steps, Q_std_steps = train(agent, env, 3500, num_runs=5)\n",
        "\n",
        "print(\"Training complete. Mean rewards and standard deviations computed.\")\n"
      ]
    },
    {
      "cell_type": "code",
      "execution_count": null,
      "metadata": {
        "colab": {
          "base_uri": "https://localhost:8080/"
        },
        "id": "gF-QJUake6xw",
        "outputId": "794f13c0-ecea-4c73-be1f-fbee34def2d7"
      },
      "outputs": [
        {
          "name": "stderr",
          "output_type": "stream",
          "text": [
            "Run 1/5: 100%|██████████| 3500/3500 [08:30<00:00,  6.86it/s]\n"
          ]
        },
        {
          "name": "stdout",
          "output_type": "stream",
          "text": [
            "Final average reward: -128.51542857142857\n"
          ]
        },
        {
          "name": "stderr",
          "output_type": "stream",
          "text": [
            "Run 2/5: 100%|██████████| 3500/3500 [08:33<00:00,  6.82it/s]\n"
          ]
        },
        {
          "name": "stdout",
          "output_type": "stream",
          "text": [
            "Final average reward: -128.59514285714286\n"
          ]
        },
        {
          "name": "stderr",
          "output_type": "stream",
          "text": [
            "Run 3/5: 100%|██████████| 3500/3500 [08:28<00:00,  6.89it/s]\n"
          ]
        },
        {
          "name": "stdout",
          "output_type": "stream",
          "text": [
            "Final average reward: -128.55485714285714\n"
          ]
        },
        {
          "name": "stderr",
          "output_type": "stream",
          "text": [
            "Run 4/5: 100%|██████████| 3500/3500 [08:24<00:00,  6.94it/s]\n"
          ]
        },
        {
          "name": "stdout",
          "output_type": "stream",
          "text": [
            "Final average reward: -127.746\n"
          ]
        },
        {
          "name": "stderr",
          "output_type": "stream",
          "text": [
            "Run 5/5: 100%|██████████| 3500/3500 [08:28<00:00,  6.88it/s]"
          ]
        },
        {
          "name": "stdout",
          "output_type": "stream",
          "text": [
            "Final average reward: -128.80971428571428\n",
            "Training complete. Mean rewards and standard deviations computed.\n"
          ]
        },
        {
          "name": "stderr",
          "output_type": "stream",
          "text": [
            "\n"
          ]
        }
      ],
      "source": [
        "import gymnasium as gym\n",
        "import numpy as np\n",
        "from tqdm import tqdm\n",
        "\n",
        "class Tiling:\n",
        "    def __init__(self, numTilings=8, numTiles=10):\n",
        "        self.numTilings = numTilings\n",
        "        self.numTiles = numTiles\n",
        "\n",
        "        position_min, position_max = -1.2, 0.6\n",
        "        velocity_min, velocity_max = -0.07, 0.07\n",
        "        self.low = np.array([position_min, velocity_min])\n",
        "        self.high = np.array([position_max, velocity_max])\n",
        "\n",
        "        self.offsets = [\n",
        "            (high - low) / self.numTiles * np.linspace(0, 1, self.numTilings, endpoint=False)\n",
        "            for low, high in zip(self.low, self.high)\n",
        "        ]\n",
        "\n",
        "        self.tilings = self.createTilings()\n",
        "\n",
        "    def createTilingGrid(self, low, high, bins, offsets):\n",
        "        return [np.linspace(low[dim], high[dim], bins + 1)[1:-1] + offsets[dim] for dim in range(len(low))]\n",
        "\n",
        "    def createTilings(self):\n",
        "        return [self.createTilingGrid(self.low, self.high, self.numTiles, [offset[i] for offset in self.offsets]) for i in range(self.numTilings)]\n",
        "\n",
        "    def discretize(self, state):\n",
        "        return [tuple(np.digitize(state[dim], bins) for dim, bins in enumerate(tiling)) for tiling in self.tilings]\n",
        "\n",
        "class sarsaAgent:\n",
        "    def __init__(self, env, alpha=0.1, gamma=0.99, epsilon_start=1.0, epsilon_decay=0.995, epsilon_min=0.0001, numTilings=8, numTiles=10):\n",
        "        self.env = env\n",
        "        self.alpha = alpha\n",
        "        self.gamma = gamma\n",
        "        self.epsilon_start = epsilon_start\n",
        "        self.epsilon_decay = epsilon_decay\n",
        "        self.epsilon_min = epsilon_min\n",
        "        self.numTilings = numTilings\n",
        "        self.numTiles = numTiles\n",
        "        self.epsilon = epsilon_start\n",
        "\n",
        "        self.tiling = Tiling(numTilings, numTiles)\n",
        "        self.numActions = self.env.action_space.n\n",
        "        self.numFeatures = self.numTilings * self.numTiles**2\n",
        "        self.weights = np.zeros((self.numActions, self.numFeatures))\n",
        "\n",
        "    def reset_weights(self):\n",
        "        self.weights = np.zeros((self.numActions, self.numFeatures))\n",
        "        self.epsilon = self.epsilon_start\n",
        "\n",
        "    def featureVector(self, state, action):\n",
        "        discretized_indices = self.tiling.discretize(state)\n",
        "        featureVector = np.zeros(self.numFeatures)\n",
        "\n",
        "        for i, ds in enumerate(discretized_indices):\n",
        "            index = ds[0] * self.numTiles + ds[1]\n",
        "            feature_index = i * self.numTiles**2 + index\n",
        "            featureVector[feature_index] = 1\n",
        "\n",
        "        return featureVector\n",
        "\n",
        "    def getQvalues(self, state, action):\n",
        "        return np.dot(self.weights[action], self.featureVector(state, action))\n",
        "\n",
        "    def choose_epsilonGreedy_action(self, state):\n",
        "        if np.random.rand() < self.epsilon:\n",
        "            return self.env.action_space.sample()\n",
        "        q_values = [self.getQvalues(state, a) for a in range(self.numActions)]\n",
        "        return np.argmax(q_values)\n",
        "\n",
        "    def update(self, state, action, reward, next_state, next_action):\n",
        "        phi = self.featureVector(state, action)\n",
        "        q_sa = self.getQvalues(state, action)\n",
        "        q_next = self.getQvalues(next_state, next_action)\n",
        "\n",
        "        td_target = reward + self.gamma * q_next\n",
        "        td_error = td_target - q_sa\n",
        "        self.weights[action] += (self.alpha / self.numTilings) * td_error * phi\n",
        "\n",
        "# Independent training function\n",
        "def train(agent, env, num_episodes, num_runs=5):\n",
        "    all_rewards = np.zeros((num_runs, num_episodes))\n",
        "    all_steps = np.zeros((num_runs, num_episodes))\n",
        "\n",
        "    for run in range(num_runs):\n",
        "        # print(f\"Run:{run+1}\")\n",
        "        agent.reset_weights()\n",
        "        np.random.seed(run)\n",
        "        for i in tqdm(range(num_episodes), desc=f\"Run {run+1}/{num_runs}\"):\n",
        "            totalReward, steps = 0, 0\n",
        "            state, _ = env.reset()\n",
        "            action = agent.choose_epsilonGreedy_action(state)\n",
        "            done = False\n",
        "\n",
        "            while not done:\n",
        "                next_state, reward, terminated, truncated, _ = env.step(action)\n",
        "                next_action = agent.choose_epsilonGreedy_action(next_state)\n",
        "\n",
        "                agent.update(state, action, reward, next_state, next_action)\n",
        "\n",
        "                state, action = next_state, next_action\n",
        "                totalReward += reward\n",
        "                steps += 1\n",
        "                done = terminated or truncated\n",
        "\n",
        "            all_rewards[run, i] = totalReward\n",
        "            all_steps[run, i] = steps\n",
        "\n",
        "            agent.epsilon = max(agent.epsilon_min, agent.epsilon * agent.epsilon_decay)\n",
        "            # if i % 100 == 0:\n",
        "            #     avg_reward = np.mean(all_rewards[run, max(0, i-100):i+1])\n",
        "            #     print(f\"Episode {i}/{num_episodes}, Avg Reward (Last 100): {avg_reward:.2f}, Epsilon: {agent.epsilon:.4f}\")\n",
        "        print(f\"Final average reward: {np.mean(all_rewards[run])}\")\n",
        "    mean_rewards = np.mean(all_rewards, axis=0)\n",
        "    std_rewards = np.std(all_rewards, axis=0)\n",
        "    mean_steps = np.mean(all_steps, axis=0)\n",
        "    std_steps = np.std(all_steps, axis=0)\n",
        "\n",
        "    return mean_rewards, std_rewards, mean_steps, std_steps\n",
        "\n",
        "# Initialize environment and agent\n",
        "env = gym.make(\"MountainCar-v0\")\n",
        "agent = sarsaAgent(env, alpha=0.1, gamma=0.99, epsilon_start=1.0, epsilon_decay=0.995, epsilon_min=0.0001, numTilings=15, numTiles=10)\n",
        "\n",
        "# Train the agent using the independent train function\n",
        "sarsa_mean_rewards, sarsa_std_rewards, sarsa_mean_steps, sarsa_std_steps = train(agent, env, num_episodes=3500, num_runs=5)\n",
        "\n",
        "print(\"Training complete. Mean rewards and standard deviations computed.\")\n"
      ]
    },
    {
      "cell_type": "code",
      "execution_count": null,
      "metadata": {
        "colab": {
          "base_uri": "https://localhost:8080/"
        },
        "id": "gvDnLTMgpAr9",
        "outputId": "1d831052-1de3-461f-ecf6-b26b3e592f33"
      },
      "outputs": [
        {
          "name": "stdout",
          "output_type": "stream",
          "text": [
            "Saved requirements to requirements.txt\n"
          ]
        }
      ],
      "source": [
        "import subprocess\n",
        "\n",
        "def generate_requirements(output_file=\"requirements.txt\"):\n",
        "    try:\n",
        "        # Get list of installed packages\n",
        "        result = subprocess.run([\"pip\", \"freeze\"], capture_output=True, text=True, check=True)\n",
        "\n",
        "        # Save to requirements.txt if it doesn't exist\n",
        "        try:\n",
        "            with open(output_file, \"x\") as f:  # \"x\" mode ensures file is not overwritten\n",
        "                f.write(result.stdout)\n",
        "            print(f\"Saved requirements to {output_file}\")\n",
        "        except FileExistsError:\n",
        "            print(f\"{output_file} already exists. Not overwriting.\")\n",
        "\n",
        "    except subprocess.CalledProcessError as e:\n",
        "        print(f\"Error generating requirements: {e}\")\n",
        "\n",
        "# Run the function\n",
        "generate_requirements()\n"
      ]
    },
    {
      "cell_type": "code",
      "execution_count": null,
      "metadata": {
        "id": "90pZ8ntQpApG"
      },
      "outputs": [],
      "source": [
        "|"
      ]
    },
    {
      "cell_type": "code",
      "execution_count": null,
      "metadata": {
        "id": "Mk8gIKoNpAbG"
      },
      "outputs": [],
      "source": []
    },
    {
      "cell_type": "code",
      "execution_count": null,
      "metadata": {
        "id": "4fA1FcaKpAYT"
      },
      "outputs": [],
      "source": []
    },
    {
      "cell_type": "code",
      "execution_count": null,
      "metadata": {
        "id": "FrvQD_Efe6vE"
      },
      "outputs": [],
      "source": [
        "def running_average(data, window_size=100):\n",
        "    return np.convolve(data, np.ones(window_size)/window_size, mode='valid')\n"
      ]
    },
    {
      "cell_type": "code",
      "execution_count": null,
      "metadata": {
        "id": "OjA_7hJhe6s1"
      },
      "outputs": [],
      "source": [
        "import matplotlib.pyplot as plt\n",
        "plt.plot(running_average(sarsa_mean_rewards),label=\"Sarsa\")\n",
        "plt.plot(running_average(Q_mean_rewards),label=\"Q learning\")\n",
        "plt.axhline(y=-110, color='r', linestyle='--', label=\"Target Reward (-110)\")\n",
        "plt.xlabel(\"Episodes\")\n",
        "plt.ylabel(\"Running Average Reward (Window=100)\")\n",
        "plt.title(\"Running Average Reward Curve\")\n",
        "plt.legend()\n",
        "plt.show()"
      ]
    },
    {
      "cell_type": "code",
      "execution_count": null,
      "metadata": {
        "id": "I_A446IJe6qG"
      },
      "outputs": [],
      "source": [
        "sarsa_cumulative_regret = np.cumsum([-110 - i for i in sarsa_mean_rewards])\n",
        "Q_cumulative_regret = np.cumsum([-110 - i for i in Q_mean_rewards])\n",
        "\n",
        "# Plot results\n",
        "plt.plot(sarsa_cumulative_regret, label=\"Sarsa\")\n",
        "plt.plot(Q_cumulative_regret, label=\"Q learning\")\n",
        "plt.xlabel(\"Episodes\")\n",
        "plt.ylabel(\"Cumulative Regret\")\n",
        "plt.title(\"Cumulative Regret Curve\")\n",
        "plt.legend()\n",
        "plt.show()"
      ]
    },
    {
      "cell_type": "code",
      "execution_count": null,
      "metadata": {
        "id": "J7LSonIEe6nm"
      },
      "outputs": [],
      "source": [
        "import matplotlib.pyplot as plt\n",
        "\n",
        "plt.plot(sarsa_mean_rewards,label=\"Sarsa reward avg over 5 runs\")\n",
        "plt.fill_between(range(len(sarsa_mean_rewards)), sarsa_mean_rewards - sarsa_std_rewards, sarsa_mean_rewards + sarsa_std_rewards, alpha=0.5,label=\"Sarsa +/-1std\")\n",
        "plt.plot(Q_mean_rewards,label=\"Q learning reward avg over 5 runs\")\n",
        "plt.fill_between(range(len(Q_mean_rewards)), Q_mean_rewards - Q_std_rewards, Q_mean_rewards + Q_std_rewards, alpha=0.5,label=\"Q-Learning +/-1std\")\n",
        "plt.xlabel(\"Episodes\")\n",
        "\n",
        "plt.axhline(y=-110, color='r', linestyle='--', label=\"Target Reward (-110)\")\n",
        "plt.ylabel(\"Running Average Reward (Window=100)\")\n",
        "plt.title(\"Smoothed Reward Curve\")\n",
        "\n",
        "plt.legend()\n",
        "plt.show()\n"
      ]
    },
    {
      "cell_type": "code",
      "execution_count": null,
      "metadata": {
        "id": "5tQHvA89dnjN"
      },
      "outputs": [],
      "source": []
    },
    {
      "cell_type": "markdown",
      "source": [],
      "metadata": {
        "id": "SErACkq2_oa3"
      }
    },
    {
      "cell_type": "code",
      "execution_count": null,
      "metadata": {
        "colab": {
          "background_save": true,
          "base_uri": "https://localhost:8080/"
        },
        "id": "N7vEqwChdndx",
        "outputId": "42e61825-c291-4b54-a200-3856cd9f7141"
      },
      "outputs": [
        {
          "name": "stdout",
          "output_type": "stream",
          "text": [
            "\n",
            "Running SARSA...\n",
            "Run 1/5: 100% 1000/1000 [03:32<00:00,  4.70it/s]\n",
            "Final average reward: -165.91\n",
            "Run 2/5: 100% 1000/1000 [03:22<00:00,  4.94it/s]\n",
            "Final average reward: -165.446\n",
            "Run 3/5: 100% 1000/1000 [03:21<00:00,  4.96it/s]\n",
            "Final average reward: -165.101\n",
            "Run 4/5: 100% 1000/1000 [03:22<00:00,  4.95it/s]\n",
            "Final average reward: -166.093\n",
            "Run 5/5: 100% 1000/1000 [03:21<00:00,  4.96it/s]\n",
            "Final average reward: -165.781\n",
            "Training complete. Mean rewards and standard deviations computed.\n",
            "SARSA Completed!\n",
            "\n",
            "Saved plot: training_performance_1.png\n",
            "Saved plot: running_average_1.png\n",
            "Saved plot: cumulative_regret_1.png\n"
          ]
        }
      ],
      "source": [
        "!python main.py --algo q_learning --type tiling --env_name MountainCar-v0 --n_episodes 1000"
      ]
    },
    {
      "cell_type": "code",
      "execution_count": null,
      "metadata": {
        "id": "NdVm3v7KdnbV"
      },
      "outputs": [],
      "source": [
        "!python main.py --algo sarsa --type tiling --env_name MountainCar-v0 --n_episodes 1000"
      ]
    },
    {
      "cell_type": "code",
      "execution_count": null,
      "metadata": {
        "id": "Pny3O9FkdnYo",
        "colab": {
          "base_uri": "https://localhost:8080/"
        },
        "outputId": "93bb2984-861f-416a-dc52-23cf13f0fab8"
      },
      "outputs": [
        {
          "output_type": "stream",
          "name": "stdout",
          "text": [
            "\n",
            "Running Q-Learning...\n",
            "Run: 1\n",
            "Run 1/5: 100% 1000/1000 [04:35<00:00,  3.63it/s]\n",
            "Final average reward: -165.142\n",
            "Run: 2\n",
            "Run 2/5: 100% 1000/1000 [04:34<00:00,  3.64it/s]\n",
            "Final average reward: -165.285\n",
            "Run: 3\n",
            "Run 3/5: 100% 1000/1000 [04:34<00:00,  3.65it/s]\n",
            "Final average reward: -165.668\n",
            "Run: 4\n",
            "Run 4/5: 100% 1000/1000 [04:36<00:00,  3.62it/s]\n",
            "Final average reward: -166.54\n",
            "Run: 5\n",
            "Run 5/5: 100% 1000/1000 [04:35<00:00,  3.63it/s]\n",
            "Final average reward: -166.227\n",
            "Training complete. Mean rewards and standard deviations computed.\n",
            "Q-Learning Completed!\n",
            "\n",
            "Saved plot: training_performance_2.png\n",
            "Saved plot: running_average_2.png\n",
            "Saved plot: cumulative_regret_2.png\n"
          ]
        }
      ],
      "source": [
        "!python main.py --algo q_learning --type tiling --env_name MountainCar-v0 --n_episodes 1000"
      ]
    },
    {
      "cell_type": "code",
      "execution_count": null,
      "metadata": {
        "id": "j9YPaCQaRKhU"
      },
      "outputs": [],
      "source": []
    },
    {
      "cell_type": "markdown",
      "source": [
        "# Wandb\n"
      ],
      "metadata": {
        "id": "PVgc6H5I_jO7"
      }
    },
    {
      "cell_type": "code",
      "execution_count": null,
      "metadata": {
        "colab": {
          "base_uri": "https://localhost:8080/"
        },
        "id": "qYlKsLf6RKeo",
        "outputId": "8a8976fb-a62a-4335-eacc-10f46f2e8fe0"
      },
      "outputs": [
        {
          "name": "stdout",
          "output_type": "stream",
          "text": [
            "\u001b[34m\u001b[1mwandb\u001b[0m: Logging into wandb.ai. (Learn how to deploy a W&B server locally: https://wandb.me/wandb-server)\n",
            "\u001b[34m\u001b[1mwandb\u001b[0m: You can find your API key in your browser here: https://wandb.ai/authorize\n",
            "\u001b[34m\u001b[1mwandb\u001b[0m: Paste an API key from your profile and hit enter, or press ctrl+c to quit: \n",
            "\u001b[34m\u001b[1mwandb\u001b[0m: No netrc file found, creating one.\n",
            "\u001b[34m\u001b[1mwandb\u001b[0m: Appending key for api.wandb.ai to your netrc file: /root/.netrc\n",
            "\u001b[34m\u001b[1mwandb\u001b[0m: Currently logged in as: \u001b[33mcs24m041\u001b[0m (\u001b[33mcs24m041-iit-madras\u001b[0m) to \u001b[32mhttps://api.wandb.ai\u001b[0m. Use \u001b[1m`wandb login --relogin`\u001b[0m to force relogin\n"
          ]
        }
      ],
      "source": [
        "!wandb login"
      ]
    },
    {
      "cell_type": "code",
      "execution_count": null,
      "metadata": {
        "colab": {
          "base_uri": "https://localhost:8080/"
        },
        "id": "nr7SW_pdRKcE",
        "outputId": "ab0eac1b-201a-46e9-8736-6aca0e47b5a0"
      },
      "outputs": [
        {
          "name": "stderr",
          "output_type": "stream",
          "text": [
            "\u001b[34m\u001b[1mwandb\u001b[0m: Using wandb-core as the SDK backend.  Please refer to https://wandb.me/wandb-core for more information.\n"
          ]
        },
        {
          "name": "stdout",
          "output_type": "stream",
          "text": [
            "Create sweep with ID: qjrunylm\n",
            "Sweep URL: https://wandb.ai/cs24m041-iit-madras/Mountain%20car%20linear/sweeps/qjrunylm\n"
          ]
        }
      ],
      "source": [
        "import wandb\n",
        "sweep_config = {\n",
        "    \"method\": \"bayes\",  # Can be \"grid\", \"random\", or \"bayes\"\n",
        "    \"metric\": {\n",
        "        \"name\": \"cumulative regret\",\n",
        "        \"goal\": \"minimize\"\n",
        "    },\n",
        "    \"parameters\": {\n",
        "        \"algorithm\": {\n",
        "            \"values\": [\"sarsa\"]\n",
        "        },\n",
        "        \"alpha\": {\n",
        "            \"distribution\": \"log_uniform_values\",\n",
        "            \"min\": 0.0001,\n",
        "            \"max\": 0.2\n",
        "        },\n",
        "        \"gamma\": {\n",
        "            \"distribution\": \"uniform\",\n",
        "            \"min\": 0.89,\n",
        "            \"max\": 1.0\n",
        "        },\n",
        "        \"epsilon_start\": {\n",
        "            \"distribution\": \"uniform\",\n",
        "            \"min\": 0.6,\n",
        "            \"max\": 1.0\n",
        "        },\n",
        "        \"epsilon_decay\": {\n",
        "            \"distribution\": \"log_uniform_values\",\n",
        "            \"min\": 0.9,\n",
        "            \"max\": 0.9999\n",
        "        },\n",
        "        \"epsilon_min\": {\n",
        "            \"distribution\": \"uniform\",\n",
        "            \"min\": 0.0001,\n",
        "            \"max\": 0.1\n",
        "        },\n",
        "        \"numTilings\": {\n",
        "            \"values\": [4, 8, 16]\n",
        "        },\n",
        "        \"numTiles\": {\n",
        "            \"values\": [5, 10, 20]\n",
        "        },\n",
        "        \"num_episodes\": {\n",
        "            \"distribution\": \"int_uniform\",\n",
        "            \"min\": 500,\n",
        "            \"max\": 4999\n",
        "        }\n",
        "    }\n",
        "}\n",
        "sweep_id = wandb.sweep(sweep_config, project=\"Mountain car linear\")  # Replace with your project name"
      ]
    },
    {
      "cell_type": "code",
      "execution_count": null,
      "metadata": {
        "id": "ZB1xKVsVRKZd"
      },
      "outputs": [],
      "source": [
        "import gymnasium as gym\n",
        "import numpy as np\n",
        "from tqdm import tqdm\n",
        "\n",
        "class Tiling:\n",
        "    def __init__(self, numTilings=8, numTiles=10):\n",
        "        self.numTilings = numTilings\n",
        "        self.numTiles = numTiles\n",
        "\n",
        "        position_min, position_max = -1.2, 0.6\n",
        "        velocity_min, velocity_max = -0.07, 0.07\n",
        "        self.low = np.array([position_min, velocity_min])\n",
        "        self.high = np.array([position_max, velocity_max])\n",
        "\n",
        "        self.offsets = [\n",
        "            (high - low) / self.numTiles * np.linspace(0, 1, self.numTilings, endpoint=False)\n",
        "            for low, high in zip(self.low, self.high)\n",
        "        ]\n",
        "\n",
        "        self.tilings = self.createTilings()\n",
        "\n",
        "    def createTilingGrid(self, low, high, bins, offsets):\n",
        "        return [np.linspace(low[dim], high[dim], bins + 1)[1:-1] + offsets[dim] for dim in range(len(low))]\n",
        "\n",
        "    def createTilings(self):\n",
        "        return [self.createTilingGrid(self.low, self.high, self.numTiles, [offset[i] for offset in self.offsets]) for i in range(self.numTilings)]\n",
        "\n",
        "    def discretize(self, state):\n",
        "        return [tuple(np.digitize(state[dim], bins) for dim, bins in enumerate(tiling)) for tiling in self.tilings]\n",
        "\n",
        "class sarsaAgent:\n",
        "    def __init__(self, env, alpha=0.1, gamma=0.99, epsilon_start=1.0, epsilon_decay=0.995, epsilon_min=0.0001, numTilings=8, numTiles=10):\n",
        "        self.env = env\n",
        "        self.alpha = alpha\n",
        "        self.gamma = gamma\n",
        "        self.epsilon_start = epsilon_start\n",
        "        self.epsilon_decay = epsilon_decay\n",
        "        self.epsilon_min = epsilon_min\n",
        "        self.numTilings = numTilings\n",
        "        self.numTiles = numTiles\n",
        "        self.epsilon = epsilon_start\n",
        "\n",
        "        self.tiling = Tiling(numTilings, numTiles)\n",
        "        self.numActions = self.env.action_space.n\n",
        "        self.numFeatures = self.numTilings * self.numTiles**2\n",
        "        self.weights = np.zeros((self.numActions, self.numFeatures))\n",
        "\n",
        "    def reset_weights(self):\n",
        "        self.weights = np.zeros((self.numActions, self.numFeatures))\n",
        "        self.epsilon = self.epsilon_start\n",
        "\n",
        "    def featureVector(self, state, action):\n",
        "        discretized_indices = self.tiling.discretize(state)\n",
        "        featureVector = np.zeros(self.numFeatures)\n",
        "\n",
        "        for i, ds in enumerate(discretized_indices):\n",
        "            index = ds[0] * self.numTiles + ds[1]\n",
        "            feature_index = i * self.numTiles**2 + index\n",
        "            featureVector[feature_index] = 1\n",
        "\n",
        "        return featureVector\n",
        "\n",
        "    def getQvalues(self, state, action):\n",
        "        return np.dot(self.weights[action], self.featureVector(state, action))\n",
        "\n",
        "    def choose_epsilonGreedy_action(self, state):\n",
        "        if np.random.rand() < self.epsilon:\n",
        "            return self.env.action_space.sample()\n",
        "        q_values = [self.getQvalues(state, a) for a in range(self.numActions)]\n",
        "        return np.argmax(q_values)\n",
        "\n",
        "    def update(self, state, action, reward, next_state, next_action):\n",
        "        phi = self.featureVector(state, action)\n",
        "        q_sa = self.getQvalues(state, action)\n",
        "        q_next = self.getQvalues(next_state, next_action)\n",
        "\n",
        "        td_target = reward + self.gamma * q_next\n",
        "        td_error = td_target - q_sa\n",
        "        self.weights[action] += (self.alpha / self.numTilings) * td_error * phi\n",
        "\n",
        "# Independent training function\n",
        "def train(agent, env, num_episodes, num_runs=5):\n",
        "    all_rewards = np.zeros((num_runs, num_episodes))\n",
        "    all_steps = np.zeros((num_runs, num_episodes))\n",
        "\n",
        "    for run in range(num_runs):\n",
        "        # print(f\"Run:{run+1}\")\n",
        "        agent.reset_weights()\n",
        "        np.random.seed(run)\n",
        "        for i in tqdm(range(num_episodes), desc=f\"Run {run+1}/{num_runs}\"):\n",
        "            totalReward, steps = 0, 0\n",
        "            state, _ = env.reset()\n",
        "            action = agent.choose_epsilonGreedy_action(state)\n",
        "            done = False\n",
        "\n",
        "            while not done:\n",
        "                next_state, reward, terminated, truncated, _ = env.step(action)\n",
        "                next_action = agent.choose_epsilonGreedy_action(next_state)\n",
        "\n",
        "                agent.update(state, action, reward, next_state, next_action)\n",
        "\n",
        "                state, action = next_state, next_action\n",
        "                totalReward += reward\n",
        "                steps += 1\n",
        "                done = terminated or truncated\n",
        "\n",
        "            all_rewards[run, i] = totalReward\n",
        "            all_steps[run, i] = steps\n",
        "\n",
        "            agent.epsilon = max(agent.epsilon_min, agent.epsilon * agent.epsilon_decay)\n",
        "            # if i % 100 == 0:\n",
        "            #     avg_reward = np.mean(all_rewards[run, max(0, i-100):i+1])\n",
        "            #     print(f\"Episode {i}/{num_episodes}, Avg Reward (Last 100): {avg_reward:.2f}, Epsilon: {agent.epsilon:.4f}\")\n",
        "        # print(f\"Final average reward;{np.mean(all_rewards[run],axis=1)}\")\n",
        "        print(f\"Final average reward: {np.mean(all_rewards[run])}\")\n",
        "    mean_rewards = np.mean(all_rewards, axis=0)\n",
        "    std_rewards = np.std(all_rewards, axis=0)\n",
        "    mean_steps = np.mean(all_steps, axis=0)\n",
        "    std_steps = np.std(all_steps, axis=0)\n",
        "\n",
        "    return mean_rewards, std_rewards, mean_steps, std_steps\n",
        "\n",
        "\n",
        "def wandb_run_sarsa():\n",
        "    # Initialize wandb run\n",
        "    wandb.init()\n",
        "    config = wandb.config  # Access sweep parameters\n",
        "\n",
        "    # Create environment\n",
        "    env = gym.make(\"MountainCar-v0\")\n",
        "\n",
        "    # Sweep parameter: number of episodes\n",
        "    num_episodes = config.num_episodes\n",
        "\n",
        "    # Initialize agent\n",
        "    agent = sarsaAgent(\n",
        "        env,\n",
        "        alpha=config.alpha,\n",
        "        gamma=config.gamma,\n",
        "        epsilon_start=config.epsilon_start,\n",
        "        epsilon_decay=config.epsilon_decay,\n",
        "        epsilon_min=config.epsilon_min,\n",
        "        numTilings=config.numTilings,\n",
        "        numTiles=config.numTiles\n",
        "    )\n",
        "\n",
        "    # Train the agent\n",
        "    sarsa_mean_rewards, sarsa_std_rewards, sarsa_mean_steps, sarsa_std_steps = train(agent, env, num_episodes=num_episodes, num_runs=5)\n",
        "\n",
        "    # Log averaged metrics to wandb at each episode\n",
        "    cum_regret = 0\n",
        "    for i in range(num_episodes):\n",
        "        instant_regret = -110 - sarsa_mean_rewards[i]\n",
        "        cum_regret += instant_regret\n",
        "        wandb.log({\n",
        "            \"avg_reward\": sarsa_mean_rewards[i],\n",
        "            \"reward_std\": sarsa_std_rewards[i],\n",
        "            \"avg_cumulative_regret\": cum_regret,\n",
        "            \"instantaneous_regret\": instant_regret\n",
        "        })\n",
        "\n",
        "    # Log final results\n",
        "    wandb.log({\"final average reward\": np.mean(sarsa_mean_rewards, axis=0)})\n",
        "    wandb.log({\"cumulative regret\": cum_regret})\n",
        "\n",
        "    # Return the results\n",
        "    return sarsa_mean_rewards, sarsa_std_rewards, sarsa_mean_steps, sarsa_std_steps\n"
      ]
    },
    {
      "cell_type": "code",
      "execution_count": null,
      "metadata": {
        "colab": {
          "base_uri": "https://localhost:8080/",
          "height": 968
        },
        "id": "78yv4nycRKW3",
        "outputId": "2a2ff214-2a50-4018-8f43-eb679b073954"
      },
      "outputs": [
        {
          "name": "stderr",
          "output_type": "stream",
          "text": [
            "\u001b[34m\u001b[1mwandb\u001b[0m: Agent Starting Run: 6ma3n2ib with config:\n",
            "\u001b[34m\u001b[1mwandb\u001b[0m: \talgorithm: sarsa\n",
            "\u001b[34m\u001b[1mwandb\u001b[0m: \talpha: 0.06211426351267313\n",
            "\u001b[34m\u001b[1mwandb\u001b[0m: \tepsilon_decay: 0.9654221506492277\n",
            "\u001b[34m\u001b[1mwandb\u001b[0m: \tepsilon_min: 0.02284168850582345\n",
            "\u001b[34m\u001b[1mwandb\u001b[0m: \tepsilon_start: 0.6861309582703312\n",
            "\u001b[34m\u001b[1mwandb\u001b[0m: \tgamma: 0.9799657278959236\n",
            "\u001b[34m\u001b[1mwandb\u001b[0m: \tnumTiles: 5\n",
            "\u001b[34m\u001b[1mwandb\u001b[0m: \tnumTilings: 8\n",
            "\u001b[34m\u001b[1mwandb\u001b[0m: \tnum_episodes: 4905\n",
            "\u001b[34m\u001b[1mwandb\u001b[0m: Currently logged in as: \u001b[33mcs24m041\u001b[0m (\u001b[33mcs24m041-iit-madras\u001b[0m) to \u001b[32mhttps://api.wandb.ai\u001b[0m. Use \u001b[1m`wandb login --relogin`\u001b[0m to force relogin\n"
          ]
        },
        {
          "data": {
            "text/html": [
              "Tracking run with wandb version 0.19.8"
            ],
            "text/plain": [
              "<IPython.core.display.HTML object>"
            ]
          },
          "metadata": {},
          "output_type": "display_data"
        },
        {
          "data": {
            "text/html": [
              "Run data is saved locally in <code>/content/wandb/run-20250327_082847-6ma3n2ib</code>"
            ],
            "text/plain": [
              "<IPython.core.display.HTML object>"
            ]
          },
          "metadata": {},
          "output_type": "display_data"
        },
        {
          "data": {
            "text/html": [
              "Syncing run <strong><a href='https://wandb.ai/cs24m041-iit-madras/Mountain%20car%20linear/runs/6ma3n2ib' target=\"_blank\">summer-sweep-1</a></strong> to <a href='https://wandb.ai/cs24m041-iit-madras/Mountain%20car%20linear' target=\"_blank\">Weights & Biases</a> (<a href='https://wandb.me/developer-guide' target=\"_blank\">docs</a>)<br>Sweep page: <a href='https://wandb.ai/cs24m041-iit-madras/Mountain%20car%20linear/sweeps/qjrunylm' target=\"_blank\">https://wandb.ai/cs24m041-iit-madras/Mountain%20car%20linear/sweeps/qjrunylm</a>"
            ],
            "text/plain": [
              "<IPython.core.display.HTML object>"
            ]
          },
          "metadata": {},
          "output_type": "display_data"
        },
        {
          "data": {
            "text/html": [
              " View project at <a href='https://wandb.ai/cs24m041-iit-madras/Mountain%20car%20linear' target=\"_blank\">https://wandb.ai/cs24m041-iit-madras/Mountain%20car%20linear</a>"
            ],
            "text/plain": [
              "<IPython.core.display.HTML object>"
            ]
          },
          "metadata": {},
          "output_type": "display_data"
        },
        {
          "data": {
            "text/html": [
              " View sweep at <a href='https://wandb.ai/cs24m041-iit-madras/Mountain%20car%20linear/sweeps/qjrunylm' target=\"_blank\">https://wandb.ai/cs24m041-iit-madras/Mountain%20car%20linear/sweeps/qjrunylm</a>"
            ],
            "text/plain": [
              "<IPython.core.display.HTML object>"
            ]
          },
          "metadata": {},
          "output_type": "display_data"
        },
        {
          "data": {
            "text/html": [
              " View run at <a href='https://wandb.ai/cs24m041-iit-madras/Mountain%20car%20linear/runs/6ma3n2ib' target=\"_blank\">https://wandb.ai/cs24m041-iit-madras/Mountain%20car%20linear/runs/6ma3n2ib</a>"
            ],
            "text/plain": [
              "<IPython.core.display.HTML object>"
            ]
          },
          "metadata": {},
          "output_type": "display_data"
        },
        {
          "name": "stderr",
          "output_type": "stream",
          "text": [
            "Run 1/5: 100%|██████████| 4905/4905 [09:05<00:00,  8.99it/s]\n",
            "Run 2/5: 100%|██████████| 4905/4905 [08:55<00:00,  9.16it/s]\n",
            "Run 3/5: 100%|██████████| 4905/4905 [08:32<00:00,  9.58it/s]\n",
            "Run 4/5: 100%|██████████| 4905/4905 [09:02<00:00,  9.04it/s]\n",
            "Run 5/5: 100%|██████████| 4905/4905 [08:58<00:00,  9.11it/s]\n"
          ]
        },
        {
          "data": {
            "text/html": [],
            "text/plain": [
              "<IPython.core.display.HTML object>"
            ]
          },
          "metadata": {},
          "output_type": "display_data"
        },
        {
          "data": {
            "text/html": [
              "<br>    <style><br>        .wandb-row {<br>            display: flex;<br>            flex-direction: row;<br>            flex-wrap: wrap;<br>            justify-content: flex-start;<br>            width: 100%;<br>        }<br>        .wandb-col {<br>            display: flex;<br>            flex-direction: column;<br>            flex-basis: 100%;<br>            flex: 1;<br>            padding: 10px;<br>        }<br>    </style><br><div class=\"wandb-row\"><div class=\"wandb-col\"><h3>Run history:</h3><br/><table class=\"wandb\"><tr><td>avg_cumulative_regret</td><td>▁▁▁▁▁▂▂▂▂▂▂▂▂▃▃▃▃▃▃▄▄▄▄▄▅▅▅▅▆▆▆▆▆▆▇▇████</td></tr><tr><td>avg_reward</td><td>█▇▂▆▂▆▃▄▄▃▄▇▅▅▂▄▅▁▆▆▅█▄▄▇▇▆▇▂▃▄▆▄▄▆▅▄▆▇▃</td></tr><tr><td>cumulative regret</td><td>▁</td></tr><tr><td>final average reward</td><td>▁</td></tr><tr><td>instantaneous_regret</td><td>█▆▃▂▄▅▄▅▄▆▂▃▅▅▅▅▄▄▃▁▅▅▄▃▃▄▂▄▄▅▃▄▃▃▂▃▄▃▄▄</td></tr><tr><td>reward_std</td><td>▁▃▄▃▆▂▅▆▆▅▄▄▄▅▂█▂▅▅▄▆▅▆▃▂▅▅▅▄▄▄▅▂▃▇▂▅▅▄▂</td></tr></table><br/></div><div class=\"wandb-col\"><h3>Run summary:</h3><br/><table class=\"wandb\"><tr><td>avg_cumulative_regret</td><td>201416.8</td></tr><tr><td>avg_reward</td><td>-146</td></tr><tr><td>cumulative regret</td><td>201416.8</td></tr><tr><td>final average reward</td><td>-151.06357</td></tr><tr><td>instantaneous_regret</td><td>36</td></tr><tr><td>reward_std</td><td>29.77247</td></tr></table><br/></div></div>"
            ],
            "text/plain": [
              "<IPython.core.display.HTML object>"
            ]
          },
          "metadata": {},
          "output_type": "display_data"
        },
        {
          "data": {
            "text/html": [
              " View run <strong style=\"color:#cdcd00\">summer-sweep-1</strong> at: <a href='https://wandb.ai/cs24m041-iit-madras/Mountain%20car%20linear/runs/6ma3n2ib' target=\"_blank\">https://wandb.ai/cs24m041-iit-madras/Mountain%20car%20linear/runs/6ma3n2ib</a><br> View project at: <a href='https://wandb.ai/cs24m041-iit-madras/Mountain%20car%20linear' target=\"_blank\">https://wandb.ai/cs24m041-iit-madras/Mountain%20car%20linear</a><br>Synced 5 W&B file(s), 0 media file(s), 0 artifact file(s) and 0 other file(s)"
            ],
            "text/plain": [
              "<IPython.core.display.HTML object>"
            ]
          },
          "metadata": {},
          "output_type": "display_data"
        },
        {
          "data": {
            "text/html": [
              "Find logs at: <code>./wandb/run-20250327_082847-6ma3n2ib/logs</code>"
            ],
            "text/plain": [
              "<IPython.core.display.HTML object>"
            ]
          },
          "metadata": {},
          "output_type": "display_data"
        }
      ],
      "source": [
        "\n",
        "wandb.agent(sweep_id, function=wandb_run_sarsa, count=1)"
      ]
    },
    {
      "cell_type": "code",
      "execution_count": null,
      "metadata": {
        "colab": {
          "background_save": true,
          "base_uri": "https://localhost:8080/",
          "height": 1000
        },
        "id": "pebS4iSYRKUL",
        "outputId": "2eed1ada-c94d-4773-eead-b9ca59ad544f"
      },
      "outputs": [
        {
          "name": "stderr",
          "output_type": "stream",
          "text": [
            "\u001b[34m\u001b[1mwandb\u001b[0m: Agent Starting Run: f2twp0v5 with config:\n",
            "\u001b[34m\u001b[1mwandb\u001b[0m: \talgorithm: sarsa\n",
            "\u001b[34m\u001b[1mwandb\u001b[0m: \talpha: 0.055988336643702306\n",
            "\u001b[34m\u001b[1mwandb\u001b[0m: \tepsilon_decay: 0.9164912079734392\n",
            "\u001b[34m\u001b[1mwandb\u001b[0m: \tepsilon_min: 0.013867901226069975\n",
            "\u001b[34m\u001b[1mwandb\u001b[0m: \tepsilon_start: 0.6632728225826862\n",
            "\u001b[34m\u001b[1mwandb\u001b[0m: \tgamma: 0.9426091587921318\n",
            "\u001b[34m\u001b[1mwandb\u001b[0m: \tnumTiles: 20\n",
            "\u001b[34m\u001b[1mwandb\u001b[0m: \tnumTilings: 4\n",
            "\u001b[34m\u001b[1mwandb\u001b[0m: \tnum_episodes: 2472\n"
          ]
        },
        {
          "data": {
            "text/html": [
              "Tracking run with wandb version 0.19.8"
            ],
            "text/plain": [
              "<IPython.core.display.HTML object>"
            ]
          },
          "metadata": {},
          "output_type": "display_data"
        },
        {
          "data": {
            "text/html": [
              "Run data is saved locally in <code>/content/wandb/run-20250327_091326-f2twp0v5</code>"
            ],
            "text/plain": [
              "<IPython.core.display.HTML object>"
            ]
          },
          "metadata": {},
          "output_type": "display_data"
        },
        {
          "data": {
            "text/html": [
              "Syncing run <strong><a href='https://wandb.ai/cs24m041-iit-madras/Mountain%20car%20linear/runs/f2twp0v5' target=\"_blank\">super-sweep-2</a></strong> to <a href='https://wandb.ai/cs24m041-iit-madras/Mountain%20car%20linear' target=\"_blank\">Weights & Biases</a> (<a href='https://wandb.me/developer-guide' target=\"_blank\">docs</a>)<br>Sweep page: <a href='https://wandb.ai/cs24m041-iit-madras/Mountain%20car%20linear/sweeps/qjrunylm' target=\"_blank\">https://wandb.ai/cs24m041-iit-madras/Mountain%20car%20linear/sweeps/qjrunylm</a>"
            ],
            "text/plain": [
              "<IPython.core.display.HTML object>"
            ]
          },
          "metadata": {},
          "output_type": "display_data"
        },
        {
          "data": {
            "text/html": [
              " View project at <a href='https://wandb.ai/cs24m041-iit-madras/Mountain%20car%20linear' target=\"_blank\">https://wandb.ai/cs24m041-iit-madras/Mountain%20car%20linear</a>"
            ],
            "text/plain": [
              "<IPython.core.display.HTML object>"
            ]
          },
          "metadata": {},
          "output_type": "display_data"
        },
        {
          "data": {
            "text/html": [
              " View sweep at <a href='https://wandb.ai/cs24m041-iit-madras/Mountain%20car%20linear/sweeps/qjrunylm' target=\"_blank\">https://wandb.ai/cs24m041-iit-madras/Mountain%20car%20linear/sweeps/qjrunylm</a>"
            ],
            "text/plain": [
              "<IPython.core.display.HTML object>"
            ]
          },
          "metadata": {},
          "output_type": "display_data"
        },
        {
          "data": {
            "text/html": [
              " View run at <a href='https://wandb.ai/cs24m041-iit-madras/Mountain%20car%20linear/runs/f2twp0v5' target=\"_blank\">https://wandb.ai/cs24m041-iit-madras/Mountain%20car%20linear/runs/f2twp0v5</a>"
            ],
            "text/plain": [
              "<IPython.core.display.HTML object>"
            ]
          },
          "metadata": {},
          "output_type": "display_data"
        },
        {
          "name": "stderr",
          "output_type": "stream",
          "text": [
            "Run 1/5: 100%|██████████| 2472/2472 [03:28<00:00, 11.86it/s]\n",
            "Run 2/5: 100%|██████████| 2472/2472 [03:28<00:00, 11.88it/s]\n",
            "Run 3/5: 100%|██████████| 2472/2472 [03:28<00:00, 11.84it/s]\n",
            "Run 4/5: 100%|██████████| 2472/2472 [03:26<00:00, 11.95it/s]\n",
            "Run 5/5: 100%|██████████| 2472/2472 [03:27<00:00, 11.91it/s]\n"
          ]
        },
        {
          "data": {
            "text/html": [],
            "text/plain": [
              "<IPython.core.display.HTML object>"
            ]
          },
          "metadata": {},
          "output_type": "display_data"
        },
        {
          "data": {
            "text/html": [
              "<br>    <style><br>        .wandb-row {<br>            display: flex;<br>            flex-direction: row;<br>            flex-wrap: wrap;<br>            justify-content: flex-start;<br>            width: 100%;<br>        }<br>        .wandb-col {<br>            display: flex;<br>            flex-direction: column;<br>            flex-basis: 100%;<br>            flex: 1;<br>            padding: 10px;<br>        }<br>    </style><br><div class=\"wandb-row\"><div class=\"wandb-col\"><h3>Run history:</h3><br/><table class=\"wandb\"><tr><td>avg_cumulative_regret</td><td>▁▁▂▂▂▂▂▂▂▃▃▃▃▃▄▄▄▄▄▄▄▄▄▄▅▆▆▆▇▇▇▇▇▇▇▇▇███</td></tr><tr><td>avg_reward</td><td>▁▁▁▁▁▁▁▁▁▁▁▁▁▁▁▁▂▁▁▁▂▁▁▃▁▃▁▂▃▄▂▂▂▁▃▂▄█▅▅</td></tr><tr><td>cumulative regret</td><td>▁</td></tr><tr><td>final average reward</td><td>▁</td></tr><tr><td>instantaneous_regret</td><td>████████████████▆█▄███▃█▅██▃▇█▄▅█▅▇▂▁▆▃▃</td></tr><tr><td>reward_std</td><td>▁▁▁▁▁▁▁▁▁▁▁▁▁▁▅▅▄▁▁▁▄▄▁▅▁▁▁▅▁▅▅▆▅▅█▆█▅▅▇</td></tr></table><br/></div><div class=\"wandb-col\"><h3>Run summary:</h3><br/><table class=\"wandb\"><tr><td>avg_cumulative_regret</td><td>208505.6</td></tr><tr><td>avg_reward</td><td>-177.4</td></tr><tr><td>cumulative regret</td><td>208505.6</td></tr><tr><td>final average reward</td><td>-194.34693</td></tr><tr><td>instantaneous_regret</td><td>67.4</td></tr><tr><td>reward_std</td><td>19.09555</td></tr></table><br/></div></div>"
            ],
            "text/plain": [
              "<IPython.core.display.HTML object>"
            ]
          },
          "metadata": {},
          "output_type": "display_data"
        },
        {
          "data": {
            "text/html": [
              " View run <strong style=\"color:#cdcd00\">super-sweep-2</strong> at: <a href='https://wandb.ai/cs24m041-iit-madras/Mountain%20car%20linear/runs/f2twp0v5' target=\"_blank\">https://wandb.ai/cs24m041-iit-madras/Mountain%20car%20linear/runs/f2twp0v5</a><br> View project at: <a href='https://wandb.ai/cs24m041-iit-madras/Mountain%20car%20linear' target=\"_blank\">https://wandb.ai/cs24m041-iit-madras/Mountain%20car%20linear</a><br>Synced 5 W&B file(s), 0 media file(s), 0 artifact file(s) and 0 other file(s)"
            ],
            "text/plain": [
              "<IPython.core.display.HTML object>"
            ]
          },
          "metadata": {},
          "output_type": "display_data"
        },
        {
          "data": {
            "text/html": [
              "Find logs at: <code>./wandb/run-20250327_091326-f2twp0v5/logs</code>"
            ],
            "text/plain": [
              "<IPython.core.display.HTML object>"
            ]
          },
          "metadata": {},
          "output_type": "display_data"
        },
        {
          "name": "stderr",
          "output_type": "stream",
          "text": [
            "\u001b[34m\u001b[1mwandb\u001b[0m: Agent Starting Run: b9p48h46 with config:\n",
            "\u001b[34m\u001b[1mwandb\u001b[0m: \talgorithm: sarsa\n",
            "\u001b[34m\u001b[1mwandb\u001b[0m: \talpha: 0.013681405539653076\n",
            "\u001b[34m\u001b[1mwandb\u001b[0m: \tepsilon_decay: 0.998618106264548\n",
            "\u001b[34m\u001b[1mwandb\u001b[0m: \tepsilon_min: 0.09693012253673104\n",
            "\u001b[34m\u001b[1mwandb\u001b[0m: \tepsilon_start: 0.600434443435253\n",
            "\u001b[34m\u001b[1mwandb\u001b[0m: \tgamma: 0.9037386575919296\n",
            "\u001b[34m\u001b[1mwandb\u001b[0m: \tnumTiles: 5\n",
            "\u001b[34m\u001b[1mwandb\u001b[0m: \tnumTilings: 16\n",
            "\u001b[34m\u001b[1mwandb\u001b[0m: \tnum_episodes: 2552\n"
          ]
        },
        {
          "data": {
            "text/html": [
              "Tracking run with wandb version 0.19.8"
            ],
            "text/plain": [
              "<IPython.core.display.HTML object>"
            ]
          },
          "metadata": {},
          "output_type": "display_data"
        },
        {
          "data": {
            "text/html": [
              "Run data is saved locally in <code>/content/wandb/run-20250327_093054-b9p48h46</code>"
            ],
            "text/plain": [
              "<IPython.core.display.HTML object>"
            ]
          },
          "metadata": {},
          "output_type": "display_data"
        },
        {
          "data": {
            "text/html": [
              "Syncing run <strong><a href='https://wandb.ai/cs24m041-iit-madras/Mountain%20car%20linear/runs/b9p48h46' target=\"_blank\">firm-sweep-3</a></strong> to <a href='https://wandb.ai/cs24m041-iit-madras/Mountain%20car%20linear' target=\"_blank\">Weights & Biases</a> (<a href='https://wandb.me/developer-guide' target=\"_blank\">docs</a>)<br>Sweep page: <a href='https://wandb.ai/cs24m041-iit-madras/Mountain%20car%20linear/sweeps/qjrunylm' target=\"_blank\">https://wandb.ai/cs24m041-iit-madras/Mountain%20car%20linear/sweeps/qjrunylm</a>"
            ],
            "text/plain": [
              "<IPython.core.display.HTML object>"
            ]
          },
          "metadata": {},
          "output_type": "display_data"
        },
        {
          "data": {
            "text/html": [
              " View project at <a href='https://wandb.ai/cs24m041-iit-madras/Mountain%20car%20linear' target=\"_blank\">https://wandb.ai/cs24m041-iit-madras/Mountain%20car%20linear</a>"
            ],
            "text/plain": [
              "<IPython.core.display.HTML object>"
            ]
          },
          "metadata": {},
          "output_type": "display_data"
        },
        {
          "data": {
            "text/html": [
              " View sweep at <a href='https://wandb.ai/cs24m041-iit-madras/Mountain%20car%20linear/sweeps/qjrunylm' target=\"_blank\">https://wandb.ai/cs24m041-iit-madras/Mountain%20car%20linear/sweeps/qjrunylm</a>"
            ],
            "text/plain": [
              "<IPython.core.display.HTML object>"
            ]
          },
          "metadata": {},
          "output_type": "display_data"
        },
        {
          "data": {
            "text/html": [
              " View run at <a href='https://wandb.ai/cs24m041-iit-madras/Mountain%20car%20linear/runs/b9p48h46' target=\"_blank\">https://wandb.ai/cs24m041-iit-madras/Mountain%20car%20linear/runs/b9p48h46</a>"
            ],
            "text/plain": [
              "<IPython.core.display.HTML object>"
            ]
          },
          "metadata": {},
          "output_type": "display_data"
        },
        {
          "name": "stderr",
          "output_type": "stream",
          "text": [
            "Run 1/5: 100%|██████████| 2552/2552 [10:42<00:00,  3.97it/s]\n",
            "Run 2/5: 100%|██████████| 2552/2552 [10:21<00:00,  4.11it/s]\n",
            "Run 3/5: 100%|██████████| 2552/2552 [10:40<00:00,  3.99it/s]\n",
            "Run 4/5: 100%|██████████| 2552/2552 [10:25<00:00,  4.08it/s]\n",
            "Run 5/5: 100%|██████████| 2552/2552 [10:38<00:00,  4.00it/s]\n"
          ]
        },
        {
          "data": {
            "text/html": [],
            "text/plain": [
              "<IPython.core.display.HTML object>"
            ]
          },
          "metadata": {},
          "output_type": "display_data"
        },
        {
          "data": {
            "text/html": [
              "<br>    <style><br>        .wandb-row {<br>            display: flex;<br>            flex-direction: row;<br>            flex-wrap: wrap;<br>            justify-content: flex-start;<br>            width: 100%;<br>        }<br>        .wandb-col {<br>            display: flex;<br>            flex-direction: column;<br>            flex-basis: 100%;<br>            flex: 1;<br>            padding: 10px;<br>        }<br>    </style><br><div class=\"wandb-row\"><div class=\"wandb-col\"><h3>Run history:</h3><br/><table class=\"wandb\"><tr><td>avg_cumulative_regret</td><td>▁▁▁▁▁▂▂▂▂▂▃▄▄▄▄▅▅▅▅▅▅▅▅▅▆▆▆▆▆▇▇▇▇▇▇█████</td></tr><tr><td>avg_reward</td><td>▁▁▁▁▁▁▁▁▁▁▁▁▁▁▁▁▁▁▁▁▁▁▁▁▁▁▁▁▁▁▁█▁▁▁▁▁▁▁▁</td></tr><tr><td>cumulative regret</td><td>▁</td></tr><tr><td>final average reward</td><td>▁</td></tr><tr><td>instantaneous_regret</td><td>████████████████████████▄████▅▁███████▆█</td></tr><tr><td>reward_std</td><td>▁▁▁▁▁▁▁▁▁▁▁▁▇▃▁▇▁▁▁▁▁▁▁▇▁▁█▁▁▁▁▁▁▁█▁▁▁▃▁</td></tr></table><br/></div><div class=\"wandb-col\"><h3>Run summary:</h3><br/><table class=\"wandb\"><tr><td>avg_cumulative_regret</td><td>226481.6</td></tr><tr><td>avg_reward</td><td>-199.6</td></tr><tr><td>cumulative regret</td><td>226481.6</td></tr><tr><td>final average reward</td><td>-198.74671</td></tr><tr><td>instantaneous_regret</td><td>89.6</td></tr><tr><td>reward_std</td><td>0.8</td></tr></table><br/></div></div>"
            ],
            "text/plain": [
              "<IPython.core.display.HTML object>"
            ]
          },
          "metadata": {},
          "output_type": "display_data"
        },
        {
          "data": {
            "text/html": [
              " View run <strong style=\"color:#cdcd00\">firm-sweep-3</strong> at: <a href='https://wandb.ai/cs24m041-iit-madras/Mountain%20car%20linear/runs/b9p48h46' target=\"_blank\">https://wandb.ai/cs24m041-iit-madras/Mountain%20car%20linear/runs/b9p48h46</a><br> View project at: <a href='https://wandb.ai/cs24m041-iit-madras/Mountain%20car%20linear' target=\"_blank\">https://wandb.ai/cs24m041-iit-madras/Mountain%20car%20linear</a><br>Synced 5 W&B file(s), 0 media file(s), 0 artifact file(s) and 0 other file(s)"
            ],
            "text/plain": [
              "<IPython.core.display.HTML object>"
            ]
          },
          "metadata": {},
          "output_type": "display_data"
        },
        {
          "data": {
            "text/html": [
              "Find logs at: <code>./wandb/run-20250327_093054-b9p48h46/logs</code>"
            ],
            "text/plain": [
              "<IPython.core.display.HTML object>"
            ]
          },
          "metadata": {},
          "output_type": "display_data"
        },
        {
          "name": "stderr",
          "output_type": "stream",
          "text": [
            "\u001b[34m\u001b[1mwandb\u001b[0m: Agent Starting Run: 6rscypns with config:\n",
            "\u001b[34m\u001b[1mwandb\u001b[0m: \talgorithm: sarsa\n",
            "\u001b[34m\u001b[1mwandb\u001b[0m: \talpha: 0.04251379384742619\n",
            "\u001b[34m\u001b[1mwandb\u001b[0m: \tepsilon_decay: 0.952303139874206\n",
            "\u001b[34m\u001b[1mwandb\u001b[0m: \tepsilon_min: 0.034495701913544445\n",
            "\u001b[34m\u001b[1mwandb\u001b[0m: \tepsilon_start: 0.6605975936169727\n",
            "\u001b[34m\u001b[1mwandb\u001b[0m: \tgamma: 0.9720170190277796\n",
            "\u001b[34m\u001b[1mwandb\u001b[0m: \tnumTiles: 10\n",
            "\u001b[34m\u001b[1mwandb\u001b[0m: \tnumTilings: 16\n",
            "\u001b[34m\u001b[1mwandb\u001b[0m: \tnum_episodes: 4113\n"
          ]
        },
        {
          "data": {
            "text/html": [
              "Tracking run with wandb version 0.19.8"
            ],
            "text/plain": [
              "<IPython.core.display.HTML object>"
            ]
          },
          "metadata": {},
          "output_type": "display_data"
        },
        {
          "data": {
            "text/html": [
              "Run data is saved locally in <code>/content/wandb/run-20250327_102348-6rscypns</code>"
            ],
            "text/plain": [
              "<IPython.core.display.HTML object>"
            ]
          },
          "metadata": {},
          "output_type": "display_data"
        },
        {
          "data": {
            "text/html": [
              "Syncing run <strong><a href='https://wandb.ai/cs24m041-iit-madras/Mountain%20car%20linear/runs/6rscypns' target=\"_blank\">stoic-sweep-4</a></strong> to <a href='https://wandb.ai/cs24m041-iit-madras/Mountain%20car%20linear' target=\"_blank\">Weights & Biases</a> (<a href='https://wandb.me/developer-guide' target=\"_blank\">docs</a>)<br>Sweep page: <a href='https://wandb.ai/cs24m041-iit-madras/Mountain%20car%20linear/sweeps/qjrunylm' target=\"_blank\">https://wandb.ai/cs24m041-iit-madras/Mountain%20car%20linear/sweeps/qjrunylm</a>"
            ],
            "text/plain": [
              "<IPython.core.display.HTML object>"
            ]
          },
          "metadata": {},
          "output_type": "display_data"
        },
        {
          "data": {
            "text/html": [
              " View project at <a href='https://wandb.ai/cs24m041-iit-madras/Mountain%20car%20linear' target=\"_blank\">https://wandb.ai/cs24m041-iit-madras/Mountain%20car%20linear</a>"
            ],
            "text/plain": [
              "<IPython.core.display.HTML object>"
            ]
          },
          "metadata": {},
          "output_type": "display_data"
        },
        {
          "data": {
            "text/html": [
              " View sweep at <a href='https://wandb.ai/cs24m041-iit-madras/Mountain%20car%20linear/sweeps/qjrunylm' target=\"_blank\">https://wandb.ai/cs24m041-iit-madras/Mountain%20car%20linear/sweeps/qjrunylm</a>"
            ],
            "text/plain": [
              "<IPython.core.display.HTML object>"
            ]
          },
          "metadata": {},
          "output_type": "display_data"
        },
        {
          "data": {
            "text/html": [
              " View run at <a href='https://wandb.ai/cs24m041-iit-madras/Mountain%20car%20linear/runs/6rscypns' target=\"_blank\">https://wandb.ai/cs24m041-iit-madras/Mountain%20car%20linear/runs/6rscypns</a>"
            ],
            "text/plain": [
              "<IPython.core.display.HTML object>"
            ]
          },
          "metadata": {},
          "output_type": "display_data"
        },
        {
          "name": "stderr",
          "output_type": "stream",
          "text": [
            "Run 1/5: 100%|██████████| 4113/4113 [14:29<00:00,  4.73it/s]\n",
            "Run 2/5: 100%|██████████| 4113/4113 [14:14<00:00,  4.81it/s]\n",
            "Run 3/5: 100%|██████████| 4113/4113 [14:00<00:00,  4.89it/s]\n",
            "Run 4/5: 100%|██████████| 4113/4113 [14:10<00:00,  4.84it/s]\n",
            "Run 5/5: 100%|██████████| 4113/4113 [14:06<00:00,  4.86it/s]\n"
          ]
        },
        {
          "data": {
            "text/html": [],
            "text/plain": [
              "<IPython.core.display.HTML object>"
            ]
          },
          "metadata": {},
          "output_type": "display_data"
        },
        {
          "data": {
            "text/html": [
              "<br>    <style><br>        .wandb-row {<br>            display: flex;<br>            flex-direction: row;<br>            flex-wrap: wrap;<br>            justify-content: flex-start;<br>            width: 100%;<br>        }<br>        .wandb-col {<br>            display: flex;<br>            flex-direction: column;<br>            flex-basis: 100%;<br>            flex: 1;<br>            padding: 10px;<br>        }<br>    </style><br><div class=\"wandb-row\"><div class=\"wandb-col\"><h3>Run history:</h3><br/><table class=\"wandb\"><tr><td>avg_cumulative_regret</td><td>▁▁▁▂▂▃▃▃▃▄▄▅▅▅▆▆▆▆▆▆▆▇▇▇▇▇▇▇▇▇▇▇████████</td></tr><tr><td>avg_reward</td><td>▁▁▂▁▁▃▅▃▃▆▆▅▅▅▅▅▅▆▅▄▅▅▇▆▆▇▆█▆▆█▆███▆███▇</td></tr><tr><td>cumulative regret</td><td>▁</td></tr><tr><td>final average reward</td><td>▁</td></tr><tr><td>instantaneous_regret</td><td>███████▆▅▅▄▅▄▄▃▄▄▄▃▂▄▁▂▃▁▂▁▃▄▂▂▃▃▂▂▂▁▁▄▁</td></tr><tr><td>reward_std</td><td>▁▁▁▁▁▁▁▁▁▅▇▆▅▇▅▅▅▅▄▆▆▅▇▅▃▃▃▇▅▆▂▄▃▇▆▅▅▆█▇</td></tr></table><br/></div><div class=\"wandb-col\"><h3>Run summary:</h3><br/><table class=\"wandb\"><tr><td>avg_cumulative_regret</td><td>170975.4</td></tr><tr><td>avg_reward</td><td>-138.6</td></tr><tr><td>cumulative regret</td><td>170975.4</td></tr><tr><td>final average reward</td><td>-151.56951</td></tr><tr><td>instantaneous_regret</td><td>28.6</td></tr><tr><td>reward_std</td><td>26.31045</td></tr></table><br/></div></div>"
            ],
            "text/plain": [
              "<IPython.core.display.HTML object>"
            ]
          },
          "metadata": {},
          "output_type": "display_data"
        },
        {
          "data": {
            "text/html": [
              " View run <strong style=\"color:#cdcd00\">stoic-sweep-4</strong> at: <a href='https://wandb.ai/cs24m041-iit-madras/Mountain%20car%20linear/runs/6rscypns' target=\"_blank\">https://wandb.ai/cs24m041-iit-madras/Mountain%20car%20linear/runs/6rscypns</a><br> View project at: <a href='https://wandb.ai/cs24m041-iit-madras/Mountain%20car%20linear' target=\"_blank\">https://wandb.ai/cs24m041-iit-madras/Mountain%20car%20linear</a><br>Synced 5 W&B file(s), 0 media file(s), 0 artifact file(s) and 0 other file(s)"
            ],
            "text/plain": [
              "<IPython.core.display.HTML object>"
            ]
          },
          "metadata": {},
          "output_type": "display_data"
        },
        {
          "data": {
            "text/html": [
              "Find logs at: <code>./wandb/run-20250327_102348-6rscypns/logs</code>"
            ],
            "text/plain": [
              "<IPython.core.display.HTML object>"
            ]
          },
          "metadata": {},
          "output_type": "display_data"
        },
        {
          "name": "stderr",
          "output_type": "stream",
          "text": [
            "\u001b[34m\u001b[1mwandb\u001b[0m: Agent Starting Run: 1j8xwm8g with config:\n",
            "\u001b[34m\u001b[1mwandb\u001b[0m: \talgorithm: sarsa\n",
            "\u001b[34m\u001b[1mwandb\u001b[0m: \talpha: 0.008535384100848066\n",
            "\u001b[34m\u001b[1mwandb\u001b[0m: \tepsilon_decay: 0.918760704559469\n",
            "\u001b[34m\u001b[1mwandb\u001b[0m: \tepsilon_min: 0.010149703576369684\n",
            "\u001b[34m\u001b[1mwandb\u001b[0m: \tepsilon_start: 0.629718534789562\n",
            "\u001b[34m\u001b[1mwandb\u001b[0m: \tgamma: 0.9737786569732636\n",
            "\u001b[34m\u001b[1mwandb\u001b[0m: \tnumTiles: 20\n",
            "\u001b[34m\u001b[1mwandb\u001b[0m: \tnumTilings: 16\n",
            "\u001b[34m\u001b[1mwandb\u001b[0m: \tnum_episodes: 3043\n"
          ]
        },
        {
          "data": {
            "text/html": [
              "Tracking run with wandb version 0.19.8"
            ],
            "text/plain": [
              "<IPython.core.display.HTML object>"
            ]
          },
          "metadata": {},
          "output_type": "display_data"
        },
        {
          "data": {
            "text/html": [
              "Run data is saved locally in <code>/content/wandb/run-20250327_113457-1j8xwm8g</code>"
            ],
            "text/plain": [
              "<IPython.core.display.HTML object>"
            ]
          },
          "metadata": {},
          "output_type": "display_data"
        },
        {
          "data": {
            "text/html": [
              "Syncing run <strong><a href='https://wandb.ai/cs24m041-iit-madras/Mountain%20car%20linear/runs/1j8xwm8g' target=\"_blank\">dandy-sweep-5</a></strong> to <a href='https://wandb.ai/cs24m041-iit-madras/Mountain%20car%20linear' target=\"_blank\">Weights & Biases</a> (<a href='https://wandb.me/developer-guide' target=\"_blank\">docs</a>)<br>Sweep page: <a href='https://wandb.ai/cs24m041-iit-madras/Mountain%20car%20linear/sweeps/qjrunylm' target=\"_blank\">https://wandb.ai/cs24m041-iit-madras/Mountain%20car%20linear/sweeps/qjrunylm</a>"
            ],
            "text/plain": [
              "<IPython.core.display.HTML object>"
            ]
          },
          "metadata": {},
          "output_type": "display_data"
        },
        {
          "data": {
            "text/html": [
              " View project at <a href='https://wandb.ai/cs24m041-iit-madras/Mountain%20car%20linear' target=\"_blank\">https://wandb.ai/cs24m041-iit-madras/Mountain%20car%20linear</a>"
            ],
            "text/plain": [
              "<IPython.core.display.HTML object>"
            ]
          },
          "metadata": {},
          "output_type": "display_data"
        },
        {
          "data": {
            "text/html": [
              " View sweep at <a href='https://wandb.ai/cs24m041-iit-madras/Mountain%20car%20linear/sweeps/qjrunylm' target=\"_blank\">https://wandb.ai/cs24m041-iit-madras/Mountain%20car%20linear/sweeps/qjrunylm</a>"
            ],
            "text/plain": [
              "<IPython.core.display.HTML object>"
            ]
          },
          "metadata": {},
          "output_type": "display_data"
        },
        {
          "data": {
            "text/html": [
              " View run at <a href='https://wandb.ai/cs24m041-iit-madras/Mountain%20car%20linear/runs/1j8xwm8g' target=\"_blank\">https://wandb.ai/cs24m041-iit-madras/Mountain%20car%20linear/runs/1j8xwm8g</a>"
            ],
            "text/plain": [
              "<IPython.core.display.HTML object>"
            ]
          },
          "metadata": {},
          "output_type": "display_data"
        },
        {
          "name": "stderr",
          "output_type": "stream",
          "text": [
            "Run 1/5: 100%|██████████| 3043/3043 [14:00<00:00,  3.62it/s]\n",
            "Run 2/5: 100%|██████████| 3043/3043 [14:03<00:00,  3.61it/s]\n",
            "Run 3/5: 100%|██████████| 3043/3043 [14:05<00:00,  3.60it/s]\n",
            "Run 4/5: 100%|██████████| 3043/3043 [14:34<00:00,  3.48it/s]\n",
            "Run 5/5: 100%|██████████| 3043/3043 [14:12<00:00,  3.57it/s]\n"
          ]
        },
        {
          "data": {
            "text/html": [],
            "text/plain": [
              "<IPython.core.display.HTML object>"
            ]
          },
          "metadata": {},
          "output_type": "display_data"
        },
        {
          "data": {
            "text/html": [
              "<br>    <style><br>        .wandb-row {<br>            display: flex;<br>            flex-direction: row;<br>            flex-wrap: wrap;<br>            justify-content: flex-start;<br>            width: 100%;<br>        }<br>        .wandb-col {<br>            display: flex;<br>            flex-direction: column;<br>            flex-basis: 100%;<br>            flex: 1;<br>            padding: 10px;<br>        }<br>    </style><br><div class=\"wandb-row\"><div class=\"wandb-col\"><h3>Run history:</h3><br/><table class=\"wandb\"><tr><td>avg_cumulative_regret</td><td>▁▁▁▁▁▂▂▂▂▂▂▃▃▃▃▃▄▄▄▄▄▄▅▅▅▅▅▅▆▆▆▆▆▇▇▇▇▇▇█</td></tr><tr><td>avg_reward</td><td>▁▁▁▁▁▁▁▁▁▁▁▁▁▁▁▁▁▁▁▁▁▁▁▁▁▁▁▁▁▁▁▁▁▁▁▁▁▁▁▁</td></tr><tr><td>cumulative regret</td><td>▁</td></tr><tr><td>final average reward</td><td>▁</td></tr><tr><td>instantaneous_regret</td><td>▁▁▁▁▁▁▁▁▁▁▁▁▁▁▁▁▁▁▁▁▁▁▁▁▁▁▁▁▁▁▁▁▁▁▁▁▁▁▁▁</td></tr><tr><td>reward_std</td><td>▁▁▁▁▁▁▁▁▁▁▁▁▁▁▁▁▁▁▁▁▁▁▁▁▁▁▁▁▁▁▁▁▁▁▁▁▁▁▁▁</td></tr></table><br/></div><div class=\"wandb-col\"><h3>Run summary:</h3><br/><table class=\"wandb\"><tr><td>avg_cumulative_regret</td><td>273863</td></tr><tr><td>avg_reward</td><td>-200</td></tr><tr><td>cumulative regret</td><td>273863</td></tr><tr><td>final average reward</td><td>-199.9977</td></tr><tr><td>instantaneous_regret</td><td>90</td></tr><tr><td>reward_std</td><td>0</td></tr></table><br/></div></div>"
            ],
            "text/plain": [
              "<IPython.core.display.HTML object>"
            ]
          },
          "metadata": {},
          "output_type": "display_data"
        },
        {
          "data": {
            "text/html": [
              " View run <strong style=\"color:#cdcd00\">dandy-sweep-5</strong> at: <a href='https://wandb.ai/cs24m041-iit-madras/Mountain%20car%20linear/runs/1j8xwm8g' target=\"_blank\">https://wandb.ai/cs24m041-iit-madras/Mountain%20car%20linear/runs/1j8xwm8g</a><br> View project at: <a href='https://wandb.ai/cs24m041-iit-madras/Mountain%20car%20linear' target=\"_blank\">https://wandb.ai/cs24m041-iit-madras/Mountain%20car%20linear</a><br>Synced 5 W&B file(s), 0 media file(s), 0 artifact file(s) and 0 other file(s)"
            ],
            "text/plain": [
              "<IPython.core.display.HTML object>"
            ]
          },
          "metadata": {},
          "output_type": "display_data"
        },
        {
          "data": {
            "text/html": [
              "Find logs at: <code>./wandb/run-20250327_113457-1j8xwm8g/logs</code>"
            ],
            "text/plain": [
              "<IPython.core.display.HTML object>"
            ]
          },
          "metadata": {},
          "output_type": "display_data"
        },
        {
          "name": "stderr",
          "output_type": "stream",
          "text": [
            "\u001b[34m\u001b[1mwandb\u001b[0m: Agent Starting Run: m7kxpmrc with config:\n",
            "\u001b[34m\u001b[1mwandb\u001b[0m: \talgorithm: sarsa\n",
            "\u001b[34m\u001b[1mwandb\u001b[0m: \talpha: 0.01357694450280427\n",
            "\u001b[34m\u001b[1mwandb\u001b[0m: \tepsilon_decay: 0.9763852990720614\n",
            "\u001b[34m\u001b[1mwandb\u001b[0m: \tepsilon_min: 0.0567873415526896\n",
            "\u001b[34m\u001b[1mwandb\u001b[0m: \tepsilon_start: 0.6581646658732963\n",
            "\u001b[34m\u001b[1mwandb\u001b[0m: \tgamma: 0.9875373586291306\n",
            "\u001b[34m\u001b[1mwandb\u001b[0m: \tnumTiles: 20\n",
            "\u001b[34m\u001b[1mwandb\u001b[0m: \tnumTilings: 16\n",
            "\u001b[34m\u001b[1mwandb\u001b[0m: \tnum_episodes: 3950\n"
          ]
        },
        {
          "data": {
            "text/html": [
              "Tracking run with wandb version 0.19.8"
            ],
            "text/plain": [
              "<IPython.core.display.HTML object>"
            ]
          },
          "metadata": {},
          "output_type": "display_data"
        },
        {
          "data": {
            "text/html": [
              "Run data is saved locally in <code>/content/wandb/run-20250327_124601-m7kxpmrc</code>"
            ],
            "text/plain": [
              "<IPython.core.display.HTML object>"
            ]
          },
          "metadata": {},
          "output_type": "display_data"
        },
        {
          "data": {
            "text/html": [
              "Syncing run <strong><a href='https://wandb.ai/cs24m041-iit-madras/Mountain%20car%20linear/runs/m7kxpmrc' target=\"_blank\">drawn-sweep-6</a></strong> to <a href='https://wandb.ai/cs24m041-iit-madras/Mountain%20car%20linear' target=\"_blank\">Weights & Biases</a> (<a href='https://wandb.me/developer-guide' target=\"_blank\">docs</a>)<br>Sweep page: <a href='https://wandb.ai/cs24m041-iit-madras/Mountain%20car%20linear/sweeps/qjrunylm' target=\"_blank\">https://wandb.ai/cs24m041-iit-madras/Mountain%20car%20linear/sweeps/qjrunylm</a>"
            ],
            "text/plain": [
              "<IPython.core.display.HTML object>"
            ]
          },
          "metadata": {},
          "output_type": "display_data"
        },
        {
          "data": {
            "text/html": [
              " View project at <a href='https://wandb.ai/cs24m041-iit-madras/Mountain%20car%20linear' target=\"_blank\">https://wandb.ai/cs24m041-iit-madras/Mountain%20car%20linear</a>"
            ],
            "text/plain": [
              "<IPython.core.display.HTML object>"
            ]
          },
          "metadata": {},
          "output_type": "display_data"
        },
        {
          "data": {
            "text/html": [
              " View sweep at <a href='https://wandb.ai/cs24m041-iit-madras/Mountain%20car%20linear/sweeps/qjrunylm' target=\"_blank\">https://wandb.ai/cs24m041-iit-madras/Mountain%20car%20linear/sweeps/qjrunylm</a>"
            ],
            "text/plain": [
              "<IPython.core.display.HTML object>"
            ]
          },
          "metadata": {},
          "output_type": "display_data"
        },
        {
          "data": {
            "text/html": [
              " View run at <a href='https://wandb.ai/cs24m041-iit-madras/Mountain%20car%20linear/runs/m7kxpmrc' target=\"_blank\">https://wandb.ai/cs24m041-iit-madras/Mountain%20car%20linear/runs/m7kxpmrc</a>"
            ],
            "text/plain": [
              "<IPython.core.display.HTML object>"
            ]
          },
          "metadata": {},
          "output_type": "display_data"
        },
        {
          "name": "stderr",
          "output_type": "stream",
          "text": [
            "Run 1/5: 100%|██████████| 3950/3950 [18:13<00:00,  3.61it/s]\n",
            "Run 2/5: 100%|██████████| 3950/3950 [18:03<00:00,  3.64it/s]\n",
            "Run 3/5: 100%|██████████| 3950/3950 [17:35<00:00,  3.74it/s]\n",
            "Run 4/5: 100%|██████████| 3950/3950 [17:30<00:00,  3.76it/s]\n",
            "Run 5/5: 100%|██████████| 3950/3950 [17:44<00:00,  3.71it/s]\n"
          ]
        },
        {
          "data": {
            "text/html": [],
            "text/plain": [
              "<IPython.core.display.HTML object>"
            ]
          },
          "metadata": {},
          "output_type": "display_data"
        },
        {
          "data": {
            "text/html": [
              "<br>    <style><br>        .wandb-row {<br>            display: flex;<br>            flex-direction: row;<br>            flex-wrap: wrap;<br>            justify-content: flex-start;<br>            width: 100%;<br>        }<br>        .wandb-col {<br>            display: flex;<br>            flex-direction: column;<br>            flex-basis: 100%;<br>            flex: 1;<br>            padding: 10px;<br>        }<br>    </style><br><div class=\"wandb-row\"><div class=\"wandb-col\"><h3>Run history:</h3><br/><table class=\"wandb\"><tr><td>avg_cumulative_regret</td><td>▁▁▁▂▂▂▂▂▂▂▃▃▃▃▃▄▄▄▄▄▄▄▄▅▅▅▅▆▆▆▆▆▆▆▆▇▇▇▇█</td></tr><tr><td>avg_reward</td><td>▁▁▁▁▁▁▁▁▁▁▁▁▁▁▁▁▁▁▁▁▁▁▁▁▁▁▁▁█▁▁▁▁▁▁▁▁▁█▁</td></tr><tr><td>cumulative regret</td><td>▁</td></tr><tr><td>final average reward</td><td>▁</td></tr><tr><td>instantaneous_regret</td><td>███████████████████████████▃████████▂██▁</td></tr><tr><td>reward_std</td><td>▁▁▁▁▁▁▁▁▁▁▁▁▁▁▁▁▁▁▁▁▁▁▁▁▁▁▁▁▁▁█▁█▁▁▁▁▁▁▁</td></tr></table><br/></div><div class=\"wandb-col\"><h3>Run summary:</h3><br/><table class=\"wandb\"><tr><td>avg_cumulative_regret</td><td>354623.8</td></tr><tr><td>avg_reward</td><td>-193.6</td></tr><tr><td>cumulative regret</td><td>354623.8</td></tr><tr><td>final average reward</td><td>-199.77818</td></tr><tr><td>instantaneous_regret</td><td>83.6</td></tr><tr><td>reward_std</td><td>12.8</td></tr></table><br/></div></div>"
            ],
            "text/plain": [
              "<IPython.core.display.HTML object>"
            ]
          },
          "metadata": {},
          "output_type": "display_data"
        },
        {
          "data": {
            "text/html": [
              " View run <strong style=\"color:#cdcd00\">drawn-sweep-6</strong> at: <a href='https://wandb.ai/cs24m041-iit-madras/Mountain%20car%20linear/runs/m7kxpmrc' target=\"_blank\">https://wandb.ai/cs24m041-iit-madras/Mountain%20car%20linear/runs/m7kxpmrc</a><br> View project at: <a href='https://wandb.ai/cs24m041-iit-madras/Mountain%20car%20linear' target=\"_blank\">https://wandb.ai/cs24m041-iit-madras/Mountain%20car%20linear</a><br>Synced 5 W&B file(s), 0 media file(s), 0 artifact file(s) and 0 other file(s)"
            ],
            "text/plain": [
              "<IPython.core.display.HTML object>"
            ]
          },
          "metadata": {},
          "output_type": "display_data"
        },
        {
          "data": {
            "text/html": [
              "Find logs at: <code>./wandb/run-20250327_124601-m7kxpmrc/logs</code>"
            ],
            "text/plain": [
              "<IPython.core.display.HTML object>"
            ]
          },
          "metadata": {},
          "output_type": "display_data"
        },
        {
          "name": "stderr",
          "output_type": "stream",
          "text": [
            "\u001b[34m\u001b[1mwandb\u001b[0m: Agent Starting Run: 1pluti2y with config:\n",
            "\u001b[34m\u001b[1mwandb\u001b[0m: \talgorithm: sarsa\n",
            "\u001b[34m\u001b[1mwandb\u001b[0m: \talpha: 0.005394141199086574\n",
            "\u001b[34m\u001b[1mwandb\u001b[0m: \tepsilon_decay: 0.9886603710331896\n",
            "\u001b[34m\u001b[1mwandb\u001b[0m: \tepsilon_min: 0.012580856287565483\n",
            "\u001b[34m\u001b[1mwandb\u001b[0m: \tepsilon_start: 0.9460395896458328\n",
            "\u001b[34m\u001b[1mwandb\u001b[0m: \tgamma: 0.9739443134351592\n",
            "\u001b[34m\u001b[1mwandb\u001b[0m: \tnumTiles: 5\n",
            "\u001b[34m\u001b[1mwandb\u001b[0m: \tnumTilings: 16\n",
            "\u001b[34m\u001b[1mwandb\u001b[0m: \tnum_episodes: 2323\n"
          ]
        },
        {
          "data": {
            "text/html": [
              "Tracking run with wandb version 0.19.8"
            ],
            "text/plain": [
              "<IPython.core.display.HTML object>"
            ]
          },
          "metadata": {},
          "output_type": "display_data"
        },
        {
          "data": {
            "text/html": [
              "Run data is saved locally in <code>/content/wandb/run-20250327_141520-1pluti2y</code>"
            ],
            "text/plain": [
              "<IPython.core.display.HTML object>"
            ]
          },
          "metadata": {},
          "output_type": "display_data"
        },
        {
          "data": {
            "text/html": [
              "Syncing run <strong><a href='https://wandb.ai/cs24m041-iit-madras/Mountain%20car%20linear/runs/1pluti2y' target=\"_blank\">sunny-sweep-7</a></strong> to <a href='https://wandb.ai/cs24m041-iit-madras/Mountain%20car%20linear' target=\"_blank\">Weights & Biases</a> (<a href='https://wandb.me/developer-guide' target=\"_blank\">docs</a>)<br>Sweep page: <a href='https://wandb.ai/cs24m041-iit-madras/Mountain%20car%20linear/sweeps/qjrunylm' target=\"_blank\">https://wandb.ai/cs24m041-iit-madras/Mountain%20car%20linear/sweeps/qjrunylm</a>"
            ],
            "text/plain": [
              "<IPython.core.display.HTML object>"
            ]
          },
          "metadata": {},
          "output_type": "display_data"
        },
        {
          "data": {
            "text/html": [
              " View project at <a href='https://wandb.ai/cs24m041-iit-madras/Mountain%20car%20linear' target=\"_blank\">https://wandb.ai/cs24m041-iit-madras/Mountain%20car%20linear</a>"
            ],
            "text/plain": [
              "<IPython.core.display.HTML object>"
            ]
          },
          "metadata": {},
          "output_type": "display_data"
        },
        {
          "data": {
            "text/html": [
              " View sweep at <a href='https://wandb.ai/cs24m041-iit-madras/Mountain%20car%20linear/sweeps/qjrunylm' target=\"_blank\">https://wandb.ai/cs24m041-iit-madras/Mountain%20car%20linear/sweeps/qjrunylm</a>"
            ],
            "text/plain": [
              "<IPython.core.display.HTML object>"
            ]
          },
          "metadata": {},
          "output_type": "display_data"
        },
        {
          "data": {
            "text/html": [
              " View run at <a href='https://wandb.ai/cs24m041-iit-madras/Mountain%20car%20linear/runs/1pluti2y' target=\"_blank\">https://wandb.ai/cs24m041-iit-madras/Mountain%20car%20linear/runs/1pluti2y</a>"
            ],
            "text/plain": [
              "<IPython.core.display.HTML object>"
            ]
          },
          "metadata": {},
          "output_type": "display_data"
        },
        {
          "name": "stderr",
          "output_type": "stream",
          "text": [
            "Run 1/5: 100%|██████████| 2323/2323 [09:40<00:00,  4.00it/s]\n",
            "Run 2/5: 100%|██████████| 2323/2323 [09:40<00:00,  4.00it/s]\n",
            "Run 3/5: 100%|██████████| 2323/2323 [09:44<00:00,  3.98it/s]\n",
            "Run 4/5: 100%|██████████| 2323/2323 [09:40<00:00,  4.00it/s]\n",
            "Run 5/5: 100%|██████████| 2323/2323 [09:34<00:00,  4.04it/s]\n"
          ]
        },
        {
          "data": {
            "text/html": [],
            "text/plain": [
              "<IPython.core.display.HTML object>"
            ]
          },
          "metadata": {},
          "output_type": "display_data"
        },
        {
          "data": {
            "text/html": [
              "<br>    <style><br>        .wandb-row {<br>            display: flex;<br>            flex-direction: row;<br>            flex-wrap: wrap;<br>            justify-content: flex-start;<br>            width: 100%;<br>        }<br>        .wandb-col {<br>            display: flex;<br>            flex-direction: column;<br>            flex-basis: 100%;<br>            flex: 1;<br>            padding: 10px;<br>        }<br>    </style><br><div class=\"wandb-row\"><div class=\"wandb-col\"><h3>Run history:</h3><br/><table class=\"wandb\"><tr><td>avg_cumulative_regret</td><td>▁▁▁▁▁▂▂▂▂▃▃▃▃▃▃▄▄▄▄▄▄▄▅▅▅▅▅▅▅▆▇▇▇▇▇▇████</td></tr><tr><td>avg_reward</td><td>▁▁▁▁▁▁▁▁▂▁▁▂▁▁▁▃▁▂▄▁▅▅▄▅▅▅▃▆▄▂▇▇█▂▃▇▇▆▇▆</td></tr><tr><td>cumulative regret</td><td>▁</td></tr><tr><td>final average reward</td><td>▁</td></tr><tr><td>instantaneous_regret</td><td>████████████████▇█▇▆▅▇█▅▆▄▄▃▆▂▅▃▃▁▇▁▄▂▄▄</td></tr><tr><td>reward_std</td><td>▁▁▁▁▁▁▁▁▁▁▁▁▁▁▁▁▂▁▁▄▆█▁▁▄█▆▇▇▇█▇▂▆█▇▇▆▆▃</td></tr></table><br/></div><div class=\"wandb-col\"><h3>Run summary:</h3><br/><table class=\"wandb\"><tr><td>avg_cumulative_regret</td><td>179974.2</td></tr><tr><td>avg_reward</td><td>-153.4</td></tr><tr><td>cumulative regret</td><td>179974.2</td></tr><tr><td>final average reward</td><td>-187.4749</td></tr><tr><td>instantaneous_regret</td><td>43.4</td></tr><tr><td>reward_std</td><td>3.00666</td></tr></table><br/></div></div>"
            ],
            "text/plain": [
              "<IPython.core.display.HTML object>"
            ]
          },
          "metadata": {},
          "output_type": "display_data"
        },
        {
          "data": {
            "text/html": [
              " View run <strong style=\"color:#cdcd00\">sunny-sweep-7</strong> at: <a href='https://wandb.ai/cs24m041-iit-madras/Mountain%20car%20linear/runs/1pluti2y' target=\"_blank\">https://wandb.ai/cs24m041-iit-madras/Mountain%20car%20linear/runs/1pluti2y</a><br> View project at: <a href='https://wandb.ai/cs24m041-iit-madras/Mountain%20car%20linear' target=\"_blank\">https://wandb.ai/cs24m041-iit-madras/Mountain%20car%20linear</a><br>Synced 5 W&B file(s), 0 media file(s), 0 artifact file(s) and 0 other file(s)"
            ],
            "text/plain": [
              "<IPython.core.display.HTML object>"
            ]
          },
          "metadata": {},
          "output_type": "display_data"
        },
        {
          "data": {
            "text/html": [
              "Find logs at: <code>./wandb/run-20250327_141520-1pluti2y/logs</code>"
            ],
            "text/plain": [
              "<IPython.core.display.HTML object>"
            ]
          },
          "metadata": {},
          "output_type": "display_data"
        },
        {
          "name": "stderr",
          "output_type": "stream",
          "text": [
            "\u001b[34m\u001b[1mwandb\u001b[0m: Agent Starting Run: d28k27w9 with config:\n",
            "\u001b[34m\u001b[1mwandb\u001b[0m: \talgorithm: sarsa\n",
            "\u001b[34m\u001b[1mwandb\u001b[0m: \talpha: 0.005998106401960647\n",
            "\u001b[34m\u001b[1mwandb\u001b[0m: \tepsilon_decay: 0.9285818388755334\n",
            "\u001b[34m\u001b[1mwandb\u001b[0m: \tepsilon_min: 0.02460807273528204\n",
            "\u001b[34m\u001b[1mwandb\u001b[0m: \tepsilon_start: 0.9640937247180654\n",
            "\u001b[34m\u001b[1mwandb\u001b[0m: \tgamma: 0.937836596337511\n",
            "\u001b[34m\u001b[1mwandb\u001b[0m: \tnumTiles: 20\n",
            "\u001b[34m\u001b[1mwandb\u001b[0m: \tnumTilings: 4\n",
            "\u001b[34m\u001b[1mwandb\u001b[0m: \tnum_episodes: 3984\n"
          ]
        },
        {
          "data": {
            "text/html": [
              "Tracking run with wandb version 0.19.8"
            ],
            "text/plain": [
              "<IPython.core.display.HTML object>"
            ]
          },
          "metadata": {},
          "output_type": "display_data"
        },
        {
          "data": {
            "text/html": [
              "Run data is saved locally in <code>/content/wandb/run-20250327_150356-d28k27w9</code>"
            ],
            "text/plain": [
              "<IPython.core.display.HTML object>"
            ]
          },
          "metadata": {},
          "output_type": "display_data"
        },
        {
          "data": {
            "text/html": [
              "Syncing run <strong><a href='https://wandb.ai/cs24m041-iit-madras/Mountain%20car%20linear/runs/d28k27w9' target=\"_blank\">zesty-sweep-8</a></strong> to <a href='https://wandb.ai/cs24m041-iit-madras/Mountain%20car%20linear' target=\"_blank\">Weights & Biases</a> (<a href='https://wandb.me/developer-guide' target=\"_blank\">docs</a>)<br>Sweep page: <a href='https://wandb.ai/cs24m041-iit-madras/Mountain%20car%20linear/sweeps/qjrunylm' target=\"_blank\">https://wandb.ai/cs24m041-iit-madras/Mountain%20car%20linear/sweeps/qjrunylm</a>"
            ],
            "text/plain": [
              "<IPython.core.display.HTML object>"
            ]
          },
          "metadata": {},
          "output_type": "display_data"
        },
        {
          "data": {
            "text/html": [
              " View project at <a href='https://wandb.ai/cs24m041-iit-madras/Mountain%20car%20linear' target=\"_blank\">https://wandb.ai/cs24m041-iit-madras/Mountain%20car%20linear</a>"
            ],
            "text/plain": [
              "<IPython.core.display.HTML object>"
            ]
          },
          "metadata": {},
          "output_type": "display_data"
        },
        {
          "data": {
            "text/html": [
              " View sweep at <a href='https://wandb.ai/cs24m041-iit-madras/Mountain%20car%20linear/sweeps/qjrunylm' target=\"_blank\">https://wandb.ai/cs24m041-iit-madras/Mountain%20car%20linear/sweeps/qjrunylm</a>"
            ],
            "text/plain": [
              "<IPython.core.display.HTML object>"
            ]
          },
          "metadata": {},
          "output_type": "display_data"
        },
        {
          "data": {
            "text/html": [
              " View run at <a href='https://wandb.ai/cs24m041-iit-madras/Mountain%20car%20linear/runs/d28k27w9' target=\"_blank\">https://wandb.ai/cs24m041-iit-madras/Mountain%20car%20linear/runs/d28k27w9</a>"
            ],
            "text/plain": [
              "<IPython.core.display.HTML object>"
            ]
          },
          "metadata": {},
          "output_type": "display_data"
        },
        {
          "name": "stderr",
          "output_type": "stream",
          "text": [
            "Run 1/5: 100%|██████████| 3984/3984 [05:32<00:00, 11.96it/s]\n",
            "Run 2/5:  69%|██████▊   | 2733/3984 [03:52<01:39, 12.59it/s]"
          ]
        }
      ],
      "source": [
        "\n",
        "wandb.agent(sweep_id, function=wandb_run_sarsa, count=25)"
      ]
    },
    {
      "cell_type": "code",
      "execution_count": null,
      "metadata": {
        "id": "ZsMyZgGaRKRn"
      },
      "outputs": [],
      "source": [
        "\n",
        "wandb.agent(sweep_id, function=wandb_run_sarsa, count=25)"
      ]
    },
    {
      "cell_type": "code",
      "execution_count": null,
      "metadata": {
        "id": "8A7RW1eQRKO0"
      },
      "outputs": [],
      "source": [
        "\n",
        "wandb.agent(sweep_id, function=wandb_run_sarsa)"
      ]
    },
    {
      "cell_type": "code",
      "execution_count": null,
      "metadata": {
        "id": "9Xh7sUZNRKMg"
      },
      "outputs": [],
      "source": []
    },
    {
      "cell_type": "code",
      "execution_count": null,
      "metadata": {
        "id": "n2EiA_ovRKKH"
      },
      "outputs": [],
      "source": []
    },
    {
      "cell_type": "code",
      "execution_count": null,
      "metadata": {
        "id": "lR37pjL0RKHW"
      },
      "outputs": [],
      "source": []
    },
    {
      "cell_type": "code",
      "execution_count": null,
      "metadata": {
        "id": "JQ5qfUaVRKE4"
      },
      "outputs": [],
      "source": []
    },
    {
      "cell_type": "code",
      "execution_count": null,
      "metadata": {
        "id": "NkWAFRidfj2D"
      },
      "outputs": [],
      "source": [
        "import wandb\n",
        "import numpy as np\n",
        "import gymnasium as gym\n",
        "\n",
        "def wandb_run_sarsa():\n",
        "    # Initialize wandb run\n",
        "    wandb.init()\n",
        "    config = wandb.config  # Access sweep parameters\n",
        "\n",
        "    # Create environment\n",
        "    env = gym.make(\"MountainCar-v0\")\n",
        "\n",
        "    # Sweep parameter: number of episodes\n",
        "    num_episodes = config.num_episodes\n",
        "    num_runs = 5  # Average over 5 runs\n",
        "\n",
        "    # Storage for averaging across runs\n",
        "    all_rewards = np.zeros((num_runs, num_episodes))\n",
        "    all_steps = np.zeros((num_runs, num_episodes))\n",
        "    all_cumulative_regrets = np.zeros((num_runs, num_episodes))\n",
        "\n",
        "    # Run multiple independent trials\n",
        "    for run in range(num_runs):\n",
        "        print(f\"Run:{run+1}\")\n",
        "        agent = sarsaAgent(\n",
        "            env,\n",
        "            alpha=config.alpha,\n",
        "            gamma=config.gamma,\n",
        "            epsilon_start=config.epsilon_start,\n",
        "            epsilon_decay=config.epsilon_decay,\n",
        "            epsilon_min=config.epsilon_min,\n",
        "            numTilings=config.numTilings,\n",
        "            numTiles=config.numTiles\n",
        "        )\n",
        "\n",
        "        # Reset agent weights\n",
        "        agent.reset_weights()\n",
        "        cumulative_regret = 0  # Reset cumulative regret per run\n",
        "\n",
        "        for i in range(num_episodes):\n",
        "            totalReward, steps = 0, 0\n",
        "            state, _ = env.reset()\n",
        "            action = agent.choose_epsilonGreedy_action(state)\n",
        "            done = False\n",
        "\n",
        "            while not done:\n",
        "                next_state, reward, terminated, truncated, info = env.step(action)\n",
        "                next_action = agent.choose_epsilonGreedy_action(next_state)\n",
        "\n",
        "                agent.update(state, action, reward, next_state, next_action)\n",
        "\n",
        "                state, action = next_state, next_action\n",
        "                totalReward += reward\n",
        "                steps += 1\n",
        "                done = terminated or truncated\n",
        "\n",
        "            # Store rewards, steps, and regrets for averaging later\n",
        "            all_rewards[run, i] = totalReward\n",
        "            all_steps[run, i] = steps\n",
        "\n",
        "            # Compute regret for this episode\n",
        "            regret = -110 - totalReward  # Regret based on optimal policy\n",
        "            cumulative_regret += regret\n",
        "            all_cumulative_regrets[run, i] = cumulative_regret\n",
        "\n",
        "            # Decay epsilon\n",
        "            agent.epsilon = max(agent.epsilon_min, agent.epsilon * agent.epsilon_decay)\n",
        "            if i % 1000 == 0:\n",
        "                avg_reward = np.mean(all_rewards[run, max(0, i-100):i+1])\n",
        "                print(f\"Episode {i}/{num_episodes}, Avg Reward (Last 100): {avg_reward:.2f}, Epsilon: {agent.epsilon:.4f}\")\n",
        "\n",
        "    # Compute mean & std across runs at each episode\n",
        "    mean_rewards = np.mean(all_rewards, axis=0)\n",
        "    std_rewards = np.std(all_rewards, axis=0)\n",
        "    mean_steps = np.mean(all_steps, axis=0)\n",
        "    std_steps = np.std(all_steps, axis=0)\n",
        "    mean_cumulative_regrets = np.mean(all_cumulative_regrets, axis=0)\n",
        "    std_cumulative_regrets = np.std(all_cumulative_regrets, axis=0)\n",
        "\n",
        "    # Log averaged metrics to wandb at each episode\n",
        "    for i in range(num_episodes):\n",
        "        wandb.log({\n",
        "            \"episode\": i,\n",
        "            \"avg_reward\": mean_rewards[i],\n",
        "            \"reward_std\": std_rewards[i],\n",
        "            \"avg_cumulative_regret\": mean_cumulative_regrets[i],\n",
        "            \"instantaneous_regret\": mean_cumulative_regrets[i] - (mean_cumulative_regrets[i-1] if i > 0 else 0)\n",
        "        })\n",
        "    wandb.log({\"final average reward\": mean_rewards[-1]})\n",
        "    wandb.log({\"final average cumulative regret\": mean_cumulative_regrets})\n",
        "    return mean_rewards, std_rewards, mean_steps, std_steps\n"
      ]
    },
    {
      "cell_type": "code",
      "execution_count": null,
      "metadata": {
        "colab": {
          "base_uri": "https://localhost:8080/"
        },
        "id": "Ge_lf8YX5Tbr",
        "outputId": "9eb18afe-3eba-49cb-8e6d-459a053a7483"
      },
      "outputs": [
        {
          "name": "stdout",
          "output_type": "stream",
          "text": [
            "\u001b[34m\u001b[1mwandb\u001b[0m: Currently logged in as: \u001b[33mcs24m041\u001b[0m (\u001b[33mcs24m041-iit-madras\u001b[0m) to \u001b[32mhttps://api.wandb.ai\u001b[0m. Use \u001b[1m`wandb login --relogin`\u001b[0m to force relogin\n"
          ]
        }
      ],
      "source": [
        "!wandb login"
      ]
    },
    {
      "cell_type": "code",
      "execution_count": null,
      "metadata": {
        "colab": {
          "base_uri": "https://localhost:8080/"
        },
        "id": "Br-viJsH5XfO",
        "outputId": "60e3ecd8-a438-4c38-d0cf-8567ea60e832"
      },
      "outputs": [
        {
          "name": "stdout",
          "output_type": "stream",
          "text": [
            "Create sweep with ID: dcj3x7sv\n",
            "Sweep URL: https://wandb.ai/cs24m041-iit-madras/Mountain%20car%20linear/sweeps/dcj3x7sv\n"
          ]
        }
      ],
      "source": [
        "sweep_config = {\n",
        "    \"method\": \"bayes\",  # Can be \"grid\", \"random\", or \"bayes\"\n",
        "    \"metric\": {\n",
        "        \"name\": \"final average reward\",\n",
        "        \"goal\": \"maximize\"\n",
        "    },\n",
        "    \"parameters\": {\n",
        "        \"algorithm\": {  # New parameter for flexibility\n",
        "            \"values\": [\"sarsa\"]  # Add different RL algorithms\n",
        "        },\n",
        "        \"alpha\": {\n",
        "            \"distribution\": \"log_uniform_values\",\n",
        "            \"min\": 0.0001,\n",
        "            \"max\": 0.5\n",
        "        },\n",
        "        \"gamma\": {\n",
        "            \"distribution\": \"uniform\",\n",
        "            \"min\": 0.8,\n",
        "            \"max\": 1.0\n",
        "        },\n",
        "        \"epsilon_start\": {\n",
        "            \"distribution\": \"uniform\",\n",
        "            \"min\": 0.1,\n",
        "            \"max\": 1.0\n",
        "        },\n",
        "        \"epsilon_decay\": {\n",
        "            \"distribution\": \"log_uniform_values\",\n",
        "            \"min\": 0.9,\n",
        "            \"max\": 0.9999\n",
        "        },\n",
        "        \"epsilon_min\": {\n",
        "            \"distribution\": \"uniform\",\n",
        "            \"min\": 0.0001,\n",
        "            \"max\": 0.1\n",
        "        },\n",
        "        \"numTilings\": {\n",
        "            \"values\": [4, 8, 16]\n",
        "        },\n",
        "        \"numTiles\": {\n",
        "            \"values\": [5, 10, 20]\n",
        "        },\n",
        "        \"num_episodes\": {\n",
        "            \"distribution\": \"int_uniform\",\n",
        "            \"min\": 500,\n",
        "            \"max\": 4999\n",
        "        }\n",
        "    }\n",
        "}\n",
        "sweep_id = wandb.sweep(sweep_config, project=\"Mountain car linear\")  # Replace with your project name"
      ]
    },
    {
      "cell_type": "code",
      "execution_count": null,
      "metadata": {
        "colab": {
          "base_uri": "https://localhost:8080/",
          "height": 852
        },
        "id": "PglDbsRI5t05",
        "outputId": "8feac89a-fb67-4035-9564-92a8f48c5088"
      },
      "outputs": [
        {
          "name": "stderr",
          "output_type": "stream",
          "text": [
            "\u001b[34m\u001b[1mwandb\u001b[0m: Agent Starting Run: 9xw7a1dd with config:\n",
            "\u001b[34m\u001b[1mwandb\u001b[0m: \talgorithm: sarsa\n",
            "\u001b[34m\u001b[1mwandb\u001b[0m: \talpha: 0.3372417385349124\n",
            "\u001b[34m\u001b[1mwandb\u001b[0m: \tepsilon_decay: 0.9476987915238952\n",
            "\u001b[34m\u001b[1mwandb\u001b[0m: \tepsilon_min: 0.046828365142055024\n",
            "\u001b[34m\u001b[1mwandb\u001b[0m: \tepsilon_start: 0.9113349219806236\n",
            "\u001b[34m\u001b[1mwandb\u001b[0m: \tgamma: 0.8528717391055014\n",
            "\u001b[34m\u001b[1mwandb\u001b[0m: \tnumTiles: 5\n",
            "\u001b[34m\u001b[1mwandb\u001b[0m: \tnumTilings: 16\n",
            "\u001b[34m\u001b[1mwandb\u001b[0m: \tnum_episodes: 500\n"
          ]
        },
        {
          "data": {
            "text/html": [
              "Tracking run with wandb version 0.19.8"
            ],
            "text/plain": [
              "<IPython.core.display.HTML object>"
            ]
          },
          "metadata": {},
          "output_type": "display_data"
        },
        {
          "data": {
            "text/html": [
              "Run data is saved locally in <code>/content/wandb/run-20250325_104623-9xw7a1dd</code>"
            ],
            "text/plain": [
              "<IPython.core.display.HTML object>"
            ]
          },
          "metadata": {},
          "output_type": "display_data"
        },
        {
          "data": {
            "text/html": [
              "Syncing run <strong><a href='https://wandb.ai/cs24m041-iit-madras/Mountain%20car%20linear/runs/9xw7a1dd' target=\"_blank\">fancy-sweep-4</a></strong> to <a href='https://wandb.ai/cs24m041-iit-madras/Mountain%20car%20linear' target=\"_blank\">Weights & Biases</a> (<a href='https://wandb.me/developer-guide' target=\"_blank\">docs</a>)<br>Sweep page: <a href='https://wandb.ai/cs24m041-iit-madras/Mountain%20car%20linear/sweeps/ljctnt3t' target=\"_blank\">https://wandb.ai/cs24m041-iit-madras/Mountain%20car%20linear/sweeps/ljctnt3t</a>"
            ],
            "text/plain": [
              "<IPython.core.display.HTML object>"
            ]
          },
          "metadata": {},
          "output_type": "display_data"
        },
        {
          "data": {
            "text/html": [
              " View project at <a href='https://wandb.ai/cs24m041-iit-madras/Mountain%20car%20linear' target=\"_blank\">https://wandb.ai/cs24m041-iit-madras/Mountain%20car%20linear</a>"
            ],
            "text/plain": [
              "<IPython.core.display.HTML object>"
            ]
          },
          "metadata": {},
          "output_type": "display_data"
        },
        {
          "data": {
            "text/html": [
              " View sweep at <a href='https://wandb.ai/cs24m041-iit-madras/Mountain%20car%20linear/sweeps/ljctnt3t' target=\"_blank\">https://wandb.ai/cs24m041-iit-madras/Mountain%20car%20linear/sweeps/ljctnt3t</a>"
            ],
            "text/plain": [
              "<IPython.core.display.HTML object>"
            ]
          },
          "metadata": {},
          "output_type": "display_data"
        },
        {
          "data": {
            "text/html": [
              " View run at <a href='https://wandb.ai/cs24m041-iit-madras/Mountain%20car%20linear/runs/9xw7a1dd' target=\"_blank\">https://wandb.ai/cs24m041-iit-madras/Mountain%20car%20linear/runs/9xw7a1dd</a>"
            ],
            "text/plain": [
              "<IPython.core.display.HTML object>"
            ]
          },
          "metadata": {},
          "output_type": "display_data"
        },
        {
          "data": {
            "text/html": [],
            "text/plain": [
              "<IPython.core.display.HTML object>"
            ]
          },
          "metadata": {},
          "output_type": "display_data"
        },
        {
          "data": {
            "text/html": [
              "<br>    <style><br>        .wandb-row {<br>            display: flex;<br>            flex-direction: row;<br>            flex-wrap: wrap;<br>            justify-content: flex-start;<br>            width: 100%;<br>        }<br>        .wandb-col {<br>            display: flex;<br>            flex-direction: column;<br>            flex-basis: 100%;<br>            flex: 1;<br>            padding: 10px;<br>        }<br>    </style><br><div class=\"wandb-row\"><div class=\"wandb-col\"><h3>Run history:</h3><br/><table class=\"wandb\"><tr><td>avg_cumulative_regret</td><td>▁▁▁▁▁▂▂▂▃▃▄▄▄▄▅▅▅▅▅▅▅▅▅▆▆▆▆▆▆▆▇▇▇▇▇█████</td></tr><tr><td>avg_reward</td><td>▁▁▁▁▁▁▁▁▁▁▁▁▁▁▁▁▁▁▁▁▁▁▁▁▁▁▁▁▁▁▁▁▁▁▁▁▁▁▁▁</td></tr><tr><td>episode</td><td>▁▁▁▁▂▂▂▂▂▃▃▃▃▃▃▃▄▄▄▄▄▅▅▅▅▅▅▆▆▆▆▆▆▆██████</td></tr><tr><td>final average reward</td><td>▁</td></tr><tr><td>instantaneous_regret</td><td>███████▁████████▅███████████████████████</td></tr><tr><td>reward_std</td><td>▁▁▁▁▁▁▁▁▁▁▁▁▁▁▁▁▁▁▁▁▁▁▁▁▁▁▁▁▁▁▁▁▁▁▁▁▁▁▁▁</td></tr></table><br/></div><div class=\"wandb-col\"><h3>Run summary:</h3><br/><table class=\"wandb\"><tr><td>avg_cumulative_regret</td><td>44901.6</td></tr><tr><td>avg_reward</td><td>-200</td></tr><tr><td>episode</td><td>499</td></tr><tr><td>final average reward</td><td>-200</td></tr><tr><td>instantaneous_regret</td><td>90</td></tr><tr><td>reward_std</td><td>0</td></tr></table><br/></div></div>"
            ],
            "text/plain": [
              "<IPython.core.display.HTML object>"
            ]
          },
          "metadata": {},
          "output_type": "display_data"
        },
        {
          "data": {
            "text/html": [
              " View run <strong style=\"color:#cdcd00\">fancy-sweep-4</strong> at: <a href='https://wandb.ai/cs24m041-iit-madras/Mountain%20car%20linear/runs/9xw7a1dd' target=\"_blank\">https://wandb.ai/cs24m041-iit-madras/Mountain%20car%20linear/runs/9xw7a1dd</a><br> View project at: <a href='https://wandb.ai/cs24m041-iit-madras/Mountain%20car%20linear' target=\"_blank\">https://wandb.ai/cs24m041-iit-madras/Mountain%20car%20linear</a><br>Synced 5 W&B file(s), 0 media file(s), 0 artifact file(s) and 0 other file(s)"
            ],
            "text/plain": [
              "<IPython.core.display.HTML object>"
            ]
          },
          "metadata": {},
          "output_type": "display_data"
        },
        {
          "data": {
            "text/html": [
              "Find logs at: <code>./wandb/run-20250325_104623-9xw7a1dd/logs</code>"
            ],
            "text/plain": [
              "<IPython.core.display.HTML object>"
            ]
          },
          "metadata": {},
          "output_type": "display_data"
        }
      ],
      "source": [
        "\n",
        "wandb.agent(sweep_id, function=wandb_run_sarsa, count=1)"
      ]
    },
    {
      "cell_type": "code",
      "execution_count": null,
      "metadata": {
        "colab": {
          "base_uri": "https://localhost:8080/",
          "height": 1000
        },
        "id": "iZTAFKe96Frc",
        "outputId": "6aeff25c-7d62-4509-d822-4a969f1eabff"
      },
      "outputs": [
        {
          "name": "stderr",
          "output_type": "stream",
          "text": [
            "\u001b[34m\u001b[1mwandb\u001b[0m: Agent Starting Run: jamddjt4 with config:\n",
            "\u001b[34m\u001b[1mwandb\u001b[0m: \talgorithm: sarsa\n",
            "\u001b[34m\u001b[1mwandb\u001b[0m: \talpha: 0.006021540210969228\n",
            "\u001b[34m\u001b[1mwandb\u001b[0m: \tepsilon_decay: 0.9456404009573212\n",
            "\u001b[34m\u001b[1mwandb\u001b[0m: \tepsilon_min: 0.032003123292252876\n",
            "\u001b[34m\u001b[1mwandb\u001b[0m: \tepsilon_start: 0.28861072063367005\n",
            "\u001b[34m\u001b[1mwandb\u001b[0m: \tgamma: 0.8839970289727271\n",
            "\u001b[34m\u001b[1mwandb\u001b[0m: \tnumTiles: 5\n",
            "\u001b[34m\u001b[1mwandb\u001b[0m: \tnumTilings: 16\n",
            "\u001b[34m\u001b[1mwandb\u001b[0m: \tnum_episodes: 500\n"
          ]
        },
        {
          "data": {
            "text/html": [
              "Tracking run with wandb version 0.19.8"
            ],
            "text/plain": [
              "<IPython.core.display.HTML object>"
            ]
          },
          "metadata": {},
          "output_type": "display_data"
        },
        {
          "data": {
            "text/html": [
              "Run data is saved locally in <code>/content/wandb/run-20250325_105828-jamddjt4</code>"
            ],
            "text/plain": [
              "<IPython.core.display.HTML object>"
            ]
          },
          "metadata": {},
          "output_type": "display_data"
        },
        {
          "data": {
            "text/html": [
              "Syncing run <strong><a href='https://wandb.ai/cs24m041-iit-madras/Mountain%20car%20linear/runs/jamddjt4' target=\"_blank\">comfy-sweep-5</a></strong> to <a href='https://wandb.ai/cs24m041-iit-madras/Mountain%20car%20linear' target=\"_blank\">Weights & Biases</a> (<a href='https://wandb.me/developer-guide' target=\"_blank\">docs</a>)<br>Sweep page: <a href='https://wandb.ai/cs24m041-iit-madras/Mountain%20car%20linear/sweeps/ljctnt3t' target=\"_blank\">https://wandb.ai/cs24m041-iit-madras/Mountain%20car%20linear/sweeps/ljctnt3t</a>"
            ],
            "text/plain": [
              "<IPython.core.display.HTML object>"
            ]
          },
          "metadata": {},
          "output_type": "display_data"
        },
        {
          "data": {
            "text/html": [
              " View project at <a href='https://wandb.ai/cs24m041-iit-madras/Mountain%20car%20linear' target=\"_blank\">https://wandb.ai/cs24m041-iit-madras/Mountain%20car%20linear</a>"
            ],
            "text/plain": [
              "<IPython.core.display.HTML object>"
            ]
          },
          "metadata": {},
          "output_type": "display_data"
        },
        {
          "data": {
            "text/html": [
              " View sweep at <a href='https://wandb.ai/cs24m041-iit-madras/Mountain%20car%20linear/sweeps/ljctnt3t' target=\"_blank\">https://wandb.ai/cs24m041-iit-madras/Mountain%20car%20linear/sweeps/ljctnt3t</a>"
            ],
            "text/plain": [
              "<IPython.core.display.HTML object>"
            ]
          },
          "metadata": {},
          "output_type": "display_data"
        },
        {
          "data": {
            "text/html": [
              " View run at <a href='https://wandb.ai/cs24m041-iit-madras/Mountain%20car%20linear/runs/jamddjt4' target=\"_blank\">https://wandb.ai/cs24m041-iit-madras/Mountain%20car%20linear/runs/jamddjt4</a>"
            ],
            "text/plain": [
              "<IPython.core.display.HTML object>"
            ]
          },
          "metadata": {},
          "output_type": "display_data"
        },
        {
          "name": "stdout",
          "output_type": "stream",
          "text": [
            "Run:1\n",
            "Episode 0/500, Avg Reward (Last 100): -200.00, Epsilon: 0.2729\n",
            "Run:2\n",
            "Episode 0/500, Avg Reward (Last 100): -200.00, Epsilon: 0.2729\n",
            "Run:3\n",
            "Episode 0/500, Avg Reward (Last 100): -200.00, Epsilon: 0.2729\n",
            "Run:4\n",
            "Episode 0/500, Avg Reward (Last 100): -200.00, Epsilon: 0.2729\n",
            "Run:5\n",
            "Episode 0/500, Avg Reward (Last 100): -200.00, Epsilon: 0.2729\n"
          ]
        },
        {
          "data": {
            "text/html": [],
            "text/plain": [
              "<IPython.core.display.HTML object>"
            ]
          },
          "metadata": {},
          "output_type": "display_data"
        },
        {
          "data": {
            "text/html": [
              "<br>    <style><br>        .wandb-row {<br>            display: flex;<br>            flex-direction: row;<br>            flex-wrap: wrap;<br>            justify-content: flex-start;<br>            width: 100%;<br>        }<br>        .wandb-col {<br>            display: flex;<br>            flex-direction: column;<br>            flex-basis: 100%;<br>            flex: 1;<br>            padding: 10px;<br>        }<br>    </style><br><div class=\"wandb-row\"><div class=\"wandb-col\"><h3>Run history:</h3><br/><table class=\"wandb\"><tr><td>avg_cumulative_regret</td><td>▁▁▁▁▁▂▂▂▂▂▂▂▂▃▃▄▄▄▄▄▅▅▅▅▅▅▅▅▅▆▆▆▆▆▇▇████</td></tr><tr><td>avg_reward</td><td>▁▁▁▁▁▁▁▁▁▁▁▁▁▁▁▁▁▁▁▁▁▁▁▁▁▁▁▁▁█▁▁▁▁▁▇▁▁▁▁</td></tr><tr><td>episode</td><td>▁▁▁▁▁▂▂▂▂▂▂▂▂▃▃▃▃▃▄▄▄▅▅▅▅▆▆▆▆▆▆▆▆▇▇▇▇▇██</td></tr><tr><td>final average reward</td><td>▁</td></tr><tr><td>instantaneous_regret</td><td>▁▁▁▁▁▁▁▁▁▁▁▁▁▁▁▁▁▁▁▁▁▁▁▁▁▁▁▁▁▁▁▁▁▁▁▁▁▁▁▁</td></tr><tr><td>reward_std</td><td>▁▁▁▁▁▁▁▁▁▁▁▁▁▁▁▁▁▁▁▁▁▁▁▁▁▁▁▁▁▁▁▁▁▁▁▁█▁▁▁</td></tr></table><br/></div><div class=\"wandb-col\"><h3>Run summary:</h3><br/><table class=\"wandb\"><tr><td>avg_cumulative_regret</td><td>44981</td></tr><tr><td>avg_reward</td><td>-199.4</td></tr><tr><td>episode</td><td>499</td></tr><tr><td>final average reward</td><td>-199.4</td></tr><tr><td>instantaneous_regret</td><td>89.4</td></tr><tr><td>reward_std</td><td>1.2</td></tr></table><br/></div></div>"
            ],
            "text/plain": [
              "<IPython.core.display.HTML object>"
            ]
          },
          "metadata": {},
          "output_type": "display_data"
        },
        {
          "data": {
            "text/html": [
              " View run <strong style=\"color:#cdcd00\">comfy-sweep-5</strong> at: <a href='https://wandb.ai/cs24m041-iit-madras/Mountain%20car%20linear/runs/jamddjt4' target=\"_blank\">https://wandb.ai/cs24m041-iit-madras/Mountain%20car%20linear/runs/jamddjt4</a><br> View project at: <a href='https://wandb.ai/cs24m041-iit-madras/Mountain%20car%20linear' target=\"_blank\">https://wandb.ai/cs24m041-iit-madras/Mountain%20car%20linear</a><br>Synced 5 W&B file(s), 0 media file(s), 0 artifact file(s) and 0 other file(s)"
            ],
            "text/plain": [
              "<IPython.core.display.HTML object>"
            ]
          },
          "metadata": {},
          "output_type": "display_data"
        },
        {
          "data": {
            "text/html": [
              "Find logs at: <code>./wandb/run-20250325_105828-jamddjt4/logs</code>"
            ],
            "text/plain": [
              "<IPython.core.display.HTML object>"
            ]
          },
          "metadata": {},
          "output_type": "display_data"
        },
        {
          "name": "stderr",
          "output_type": "stream",
          "text": [
            "\u001b[34m\u001b[1mwandb\u001b[0m: Agent Starting Run: 5ah1u4k3 with config:\n",
            "\u001b[34m\u001b[1mwandb\u001b[0m: \talgorithm: sarsa\n",
            "\u001b[34m\u001b[1mwandb\u001b[0m: \talpha: 0.01266617129101098\n",
            "\u001b[34m\u001b[1mwandb\u001b[0m: \tepsilon_decay: 0.9076896446042192\n",
            "\u001b[34m\u001b[1mwandb\u001b[0m: \tepsilon_min: 0.09809384336239048\n",
            "\u001b[34m\u001b[1mwandb\u001b[0m: \tepsilon_start: 0.6171324632407513\n",
            "\u001b[34m\u001b[1mwandb\u001b[0m: \tgamma: 0.9408204186515045\n",
            "\u001b[34m\u001b[1mwandb\u001b[0m: \tnumTiles: 5\n",
            "\u001b[34m\u001b[1mwandb\u001b[0m: \tnumTilings: 4\n",
            "\u001b[34m\u001b[1mwandb\u001b[0m: \tnum_episodes: 500\n"
          ]
        },
        {
          "data": {
            "text/html": [
              "Tracking run with wandb version 0.19.8"
            ],
            "text/plain": [
              "<IPython.core.display.HTML object>"
            ]
          },
          "metadata": {},
          "output_type": "display_data"
        },
        {
          "data": {
            "text/html": [
              "Run data is saved locally in <code>/content/wandb/run-20250325_110826-5ah1u4k3</code>"
            ],
            "text/plain": [
              "<IPython.core.display.HTML object>"
            ]
          },
          "metadata": {},
          "output_type": "display_data"
        },
        {
          "data": {
            "text/html": [
              "Syncing run <strong><a href='https://wandb.ai/cs24m041-iit-madras/Mountain%20car%20linear/runs/5ah1u4k3' target=\"_blank\">solar-sweep-6</a></strong> to <a href='https://wandb.ai/cs24m041-iit-madras/Mountain%20car%20linear' target=\"_blank\">Weights & Biases</a> (<a href='https://wandb.me/developer-guide' target=\"_blank\">docs</a>)<br>Sweep page: <a href='https://wandb.ai/cs24m041-iit-madras/Mountain%20car%20linear/sweeps/ljctnt3t' target=\"_blank\">https://wandb.ai/cs24m041-iit-madras/Mountain%20car%20linear/sweeps/ljctnt3t</a>"
            ],
            "text/plain": [
              "<IPython.core.display.HTML object>"
            ]
          },
          "metadata": {},
          "output_type": "display_data"
        },
        {
          "data": {
            "text/html": [
              " View project at <a href='https://wandb.ai/cs24m041-iit-madras/Mountain%20car%20linear' target=\"_blank\">https://wandb.ai/cs24m041-iit-madras/Mountain%20car%20linear</a>"
            ],
            "text/plain": [
              "<IPython.core.display.HTML object>"
            ]
          },
          "metadata": {},
          "output_type": "display_data"
        },
        {
          "data": {
            "text/html": [
              " View sweep at <a href='https://wandb.ai/cs24m041-iit-madras/Mountain%20car%20linear/sweeps/ljctnt3t' target=\"_blank\">https://wandb.ai/cs24m041-iit-madras/Mountain%20car%20linear/sweeps/ljctnt3t</a>"
            ],
            "text/plain": [
              "<IPython.core.display.HTML object>"
            ]
          },
          "metadata": {},
          "output_type": "display_data"
        },
        {
          "data": {
            "text/html": [
              " View run at <a href='https://wandb.ai/cs24m041-iit-madras/Mountain%20car%20linear/runs/5ah1u4k3' target=\"_blank\">https://wandb.ai/cs24m041-iit-madras/Mountain%20car%20linear/runs/5ah1u4k3</a>"
            ],
            "text/plain": [
              "<IPython.core.display.HTML object>"
            ]
          },
          "metadata": {},
          "output_type": "display_data"
        },
        {
          "name": "stdout",
          "output_type": "stream",
          "text": [
            "Run:1\n",
            "Episode 0/500, Avg Reward (Last 100): -200.00, Epsilon: 0.5602\n",
            "Run:2\n",
            "Episode 0/500, Avg Reward (Last 100): -200.00, Epsilon: 0.5602\n",
            "Run:3\n",
            "Episode 0/500, Avg Reward (Last 100): -200.00, Epsilon: 0.5602\n",
            "Run:4\n",
            "Episode 0/500, Avg Reward (Last 100): -200.00, Epsilon: 0.5602\n",
            "Run:5\n",
            "Episode 0/500, Avg Reward (Last 100): -200.00, Epsilon: 0.5602\n"
          ]
        },
        {
          "data": {
            "text/html": [],
            "text/plain": [
              "<IPython.core.display.HTML object>"
            ]
          },
          "metadata": {},
          "output_type": "display_data"
        },
        {
          "data": {
            "text/html": [
              "<br>    <style><br>        .wandb-row {<br>            display: flex;<br>            flex-direction: row;<br>            flex-wrap: wrap;<br>            justify-content: flex-start;<br>            width: 100%;<br>        }<br>        .wandb-col {<br>            display: flex;<br>            flex-direction: column;<br>            flex-basis: 100%;<br>            flex: 1;<br>            padding: 10px;<br>        }<br>    </style><br><div class=\"wandb-row\"><div class=\"wandb-col\"><h3>Run history:</h3><br/><table class=\"wandb\"><tr><td>avg_cumulative_regret</td><td>▁▁▁▁▂▂▂▂▂▃▃▃▃▃▃▃▃▄▅▅▅▅▅▅▅▆▆▆▆▆▇▇▇▇▇▇▇▇██</td></tr><tr><td>avg_reward</td><td>▁▁▁▁▁▁▁▁▁▁▁▁▁▁▁▁▁▁▅▁▁▁▁▁▁▁▁▁▁▃▃▁▅▆▁▇▅▄█▁</td></tr><tr><td>episode</td><td>▁▁▁▂▂▂▂▂▂▃▃▃▃▃▃▄▄▄▄▅▅▅▅▅▆▆▆▆▆▆▇▇▇▇▇▇▇███</td></tr><tr><td>final average reward</td><td>▁</td></tr><tr><td>instantaneous_regret</td><td>████████████████▇██████▅█▅████▃▇▇▇▄▁▅█▇█</td></tr><tr><td>reward_std</td><td>▁▁▁▁▁▁▁▁▁▁▁▁▁▁▁▁▁▁▁▁▁▁▁▁▁▄▂▅▁▆▁▁▂▁▁▄▇▁▁█</td></tr></table><br/></div><div class=\"wandb-col\"><h3>Run summary:</h3><br/><table class=\"wandb\"><tr><td>avg_cumulative_regret</td><td>44038.8</td></tr><tr><td>avg_reward</td><td>-189.4</td></tr><tr><td>episode</td><td>499</td></tr><tr><td>final average reward</td><td>-189.4</td></tr><tr><td>instantaneous_regret</td><td>79.4</td></tr><tr><td>reward_std</td><td>21.2</td></tr></table><br/></div></div>"
            ],
            "text/plain": [
              "<IPython.core.display.HTML object>"
            ]
          },
          "metadata": {},
          "output_type": "display_data"
        },
        {
          "data": {
            "text/html": [
              " View run <strong style=\"color:#cdcd00\">solar-sweep-6</strong> at: <a href='https://wandb.ai/cs24m041-iit-madras/Mountain%20car%20linear/runs/5ah1u4k3' target=\"_blank\">https://wandb.ai/cs24m041-iit-madras/Mountain%20car%20linear/runs/5ah1u4k3</a><br> View project at: <a href='https://wandb.ai/cs24m041-iit-madras/Mountain%20car%20linear' target=\"_blank\">https://wandb.ai/cs24m041-iit-madras/Mountain%20car%20linear</a><br>Synced 5 W&B file(s), 0 media file(s), 0 artifact file(s) and 0 other file(s)"
            ],
            "text/plain": [
              "<IPython.core.display.HTML object>"
            ]
          },
          "metadata": {},
          "output_type": "display_data"
        },
        {
          "data": {
            "text/html": [
              "Find logs at: <code>./wandb/run-20250325_110826-5ah1u4k3/logs</code>"
            ],
            "text/plain": [
              "<IPython.core.display.HTML object>"
            ]
          },
          "metadata": {},
          "output_type": "display_data"
        },
        {
          "name": "stderr",
          "output_type": "stream",
          "text": [
            "\u001b[34m\u001b[1mwandb\u001b[0m: Agent Starting Run: gey1es57 with config:\n",
            "\u001b[34m\u001b[1mwandb\u001b[0m: \talgorithm: sarsa\n",
            "\u001b[34m\u001b[1mwandb\u001b[0m: \talpha: 0.011457667065341426\n",
            "\u001b[34m\u001b[1mwandb\u001b[0m: \tepsilon_decay: 0.9047404609517056\n",
            "\u001b[34m\u001b[1mwandb\u001b[0m: \tepsilon_min: 0.09802680126296325\n",
            "\u001b[34m\u001b[1mwandb\u001b[0m: \tepsilon_start: 0.5750439852952116\n",
            "\u001b[34m\u001b[1mwandb\u001b[0m: \tgamma: 0.927245635543783\n",
            "\u001b[34m\u001b[1mwandb\u001b[0m: \tnumTiles: 10\n",
            "\u001b[34m\u001b[1mwandb\u001b[0m: \tnumTilings: 4\n",
            "\u001b[34m\u001b[1mwandb\u001b[0m: \tnum_episodes: 500\n"
          ]
        },
        {
          "data": {
            "text/html": [
              "Tracking run with wandb version 0.19.8"
            ],
            "text/plain": [
              "<IPython.core.display.HTML object>"
            ]
          },
          "metadata": {},
          "output_type": "display_data"
        },
        {
          "data": {
            "text/html": [
              "Run data is saved locally in <code>/content/wandb/run-20250325_111128-gey1es57</code>"
            ],
            "text/plain": [
              "<IPython.core.display.HTML object>"
            ]
          },
          "metadata": {},
          "output_type": "display_data"
        },
        {
          "data": {
            "text/html": [
              "Syncing run <strong><a href='https://wandb.ai/cs24m041-iit-madras/Mountain%20car%20linear/runs/gey1es57' target=\"_blank\">glad-sweep-7</a></strong> to <a href='https://wandb.ai/cs24m041-iit-madras/Mountain%20car%20linear' target=\"_blank\">Weights & Biases</a> (<a href='https://wandb.me/developer-guide' target=\"_blank\">docs</a>)<br>Sweep page: <a href='https://wandb.ai/cs24m041-iit-madras/Mountain%20car%20linear/sweeps/ljctnt3t' target=\"_blank\">https://wandb.ai/cs24m041-iit-madras/Mountain%20car%20linear/sweeps/ljctnt3t</a>"
            ],
            "text/plain": [
              "<IPython.core.display.HTML object>"
            ]
          },
          "metadata": {},
          "output_type": "display_data"
        },
        {
          "data": {
            "text/html": [
              " View project at <a href='https://wandb.ai/cs24m041-iit-madras/Mountain%20car%20linear' target=\"_blank\">https://wandb.ai/cs24m041-iit-madras/Mountain%20car%20linear</a>"
            ],
            "text/plain": [
              "<IPython.core.display.HTML object>"
            ]
          },
          "metadata": {},
          "output_type": "display_data"
        },
        {
          "data": {
            "text/html": [
              " View sweep at <a href='https://wandb.ai/cs24m041-iit-madras/Mountain%20car%20linear/sweeps/ljctnt3t' target=\"_blank\">https://wandb.ai/cs24m041-iit-madras/Mountain%20car%20linear/sweeps/ljctnt3t</a>"
            ],
            "text/plain": [
              "<IPython.core.display.HTML object>"
            ]
          },
          "metadata": {},
          "output_type": "display_data"
        },
        {
          "data": {
            "text/html": [
              " View run at <a href='https://wandb.ai/cs24m041-iit-madras/Mountain%20car%20linear/runs/gey1es57' target=\"_blank\">https://wandb.ai/cs24m041-iit-madras/Mountain%20car%20linear/runs/gey1es57</a>"
            ],
            "text/plain": [
              "<IPython.core.display.HTML object>"
            ]
          },
          "metadata": {},
          "output_type": "display_data"
        },
        {
          "name": "stdout",
          "output_type": "stream",
          "text": [
            "Run:1\n",
            "Episode 0/500, Avg Reward (Last 100): -200.00, Epsilon: 0.5203\n",
            "Run:2\n",
            "Episode 0/500, Avg Reward (Last 100): -200.00, Epsilon: 0.5203\n",
            "Run:3\n",
            "Episode 0/500, Avg Reward (Last 100): -200.00, Epsilon: 0.5203\n",
            "Run:4\n",
            "Episode 0/500, Avg Reward (Last 100): -200.00, Epsilon: 0.5203\n",
            "Run:5\n",
            "Episode 0/500, Avg Reward (Last 100): -200.00, Epsilon: 0.5203\n"
          ]
        },
        {
          "data": {
            "text/html": [],
            "text/plain": [
              "<IPython.core.display.HTML object>"
            ]
          },
          "metadata": {},
          "output_type": "display_data"
        },
        {
          "data": {
            "text/html": [
              "<br>    <style><br>        .wandb-row {<br>            display: flex;<br>            flex-direction: row;<br>            flex-wrap: wrap;<br>            justify-content: flex-start;<br>            width: 100%;<br>        }<br>        .wandb-col {<br>            display: flex;<br>            flex-direction: column;<br>            flex-basis: 100%;<br>            flex: 1;<br>            padding: 10px;<br>        }<br>    </style><br><div class=\"wandb-row\"><div class=\"wandb-col\"><h3>Run history:</h3><br/><table class=\"wandb\"><tr><td>avg_cumulative_regret</td><td>▁▁▂▂▂▂▂▂▂▃▃▃▃▄▄▄▄▄▄▄▄▄▄▄▄▅▅▅▆▆▆▇▇▇▇▇████</td></tr><tr><td>avg_reward</td><td>▁▁▁▁▁▁▁▁▁▁▁▁▁▁▁▁▁▁▁▁▁▁▁▁▁▁▁▁▁▁▁▁▁▁▁▁▁▁▁▁</td></tr><tr><td>episode</td><td>▁▂▂▃▃▃▃▃▃▄▄▄▄▄▄▄▄▅▅▅▅▅▅▅▅▆▆▆▆▆▆▆▆▆▆▇▇▇▇█</td></tr><tr><td>final average reward</td><td>▁</td></tr><tr><td>instantaneous_regret</td><td>▁▁▁▁▁▁▁▁▁▁▁▁▁▁▁▁▁▁▁▁▁▁▁▁▁▁▁▁▁▁▁▁▁▁▁▁▁▁▁▁</td></tr><tr><td>reward_std</td><td>▁▁▁▁▁▁▁▁▁▁▁▁▁▁▁▁▁▁▁▁▁▁▁▁▁▁▁▁▁▁▁▁▁▁▁▁▁▁▁▁</td></tr></table><br/></div><div class=\"wandb-col\"><h3>Run summary:</h3><br/><table class=\"wandb\"><tr><td>avg_cumulative_regret</td><td>45000</td></tr><tr><td>avg_reward</td><td>-200</td></tr><tr><td>episode</td><td>499</td></tr><tr><td>final average reward</td><td>-200</td></tr><tr><td>instantaneous_regret</td><td>90</td></tr><tr><td>reward_std</td><td>0</td></tr></table><br/></div></div>"
            ],
            "text/plain": [
              "<IPython.core.display.HTML object>"
            ]
          },
          "metadata": {},
          "output_type": "display_data"
        },
        {
          "data": {
            "text/html": [
              " View run <strong style=\"color:#cdcd00\">glad-sweep-7</strong> at: <a href='https://wandb.ai/cs24m041-iit-madras/Mountain%20car%20linear/runs/gey1es57' target=\"_blank\">https://wandb.ai/cs24m041-iit-madras/Mountain%20car%20linear/runs/gey1es57</a><br> View project at: <a href='https://wandb.ai/cs24m041-iit-madras/Mountain%20car%20linear' target=\"_blank\">https://wandb.ai/cs24m041-iit-madras/Mountain%20car%20linear</a><br>Synced 5 W&B file(s), 0 media file(s), 0 artifact file(s) and 0 other file(s)"
            ],
            "text/plain": [
              "<IPython.core.display.HTML object>"
            ]
          },
          "metadata": {},
          "output_type": "display_data"
        },
        {
          "data": {
            "text/html": [
              "Find logs at: <code>./wandb/run-20250325_111128-gey1es57/logs</code>"
            ],
            "text/plain": [
              "<IPython.core.display.HTML object>"
            ]
          },
          "metadata": {},
          "output_type": "display_data"
        },
        {
          "name": "stderr",
          "output_type": "stream",
          "text": [
            "\u001b[34m\u001b[1mwandb\u001b[0m: Agent Starting Run: hlgyx470 with config:\n",
            "\u001b[34m\u001b[1mwandb\u001b[0m: \talgorithm: sarsa\n",
            "\u001b[34m\u001b[1mwandb\u001b[0m: \talpha: 0.0012787692055859598\n",
            "\u001b[34m\u001b[1mwandb\u001b[0m: \tepsilon_decay: 0.9447092817105908\n",
            "\u001b[34m\u001b[1mwandb\u001b[0m: \tepsilon_min: 0.003495743028894218\n",
            "\u001b[34m\u001b[1mwandb\u001b[0m: \tepsilon_start: 0.4324108025522406\n",
            "\u001b[34m\u001b[1mwandb\u001b[0m: \tgamma: 0.937241517649352\n",
            "\u001b[34m\u001b[1mwandb\u001b[0m: \tnumTiles: 20\n",
            "\u001b[34m\u001b[1mwandb\u001b[0m: \tnumTilings: 16\n",
            "\u001b[34m\u001b[1mwandb\u001b[0m: \tnum_episodes: 500\n"
          ]
        },
        {
          "data": {
            "text/html": [
              "Tracking run with wandb version 0.19.8"
            ],
            "text/plain": [
              "<IPython.core.display.HTML object>"
            ]
          },
          "metadata": {},
          "output_type": "display_data"
        },
        {
          "data": {
            "text/html": [
              "Run data is saved locally in <code>/content/wandb/run-20250325_111425-hlgyx470</code>"
            ],
            "text/plain": [
              "<IPython.core.display.HTML object>"
            ]
          },
          "metadata": {},
          "output_type": "display_data"
        },
        {
          "data": {
            "text/html": [
              "Syncing run <strong><a href='https://wandb.ai/cs24m041-iit-madras/Mountain%20car%20linear/runs/hlgyx470' target=\"_blank\">solar-sweep-8</a></strong> to <a href='https://wandb.ai/cs24m041-iit-madras/Mountain%20car%20linear' target=\"_blank\">Weights & Biases</a> (<a href='https://wandb.me/developer-guide' target=\"_blank\">docs</a>)<br>Sweep page: <a href='https://wandb.ai/cs24m041-iit-madras/Mountain%20car%20linear/sweeps/ljctnt3t' target=\"_blank\">https://wandb.ai/cs24m041-iit-madras/Mountain%20car%20linear/sweeps/ljctnt3t</a>"
            ],
            "text/plain": [
              "<IPython.core.display.HTML object>"
            ]
          },
          "metadata": {},
          "output_type": "display_data"
        },
        {
          "data": {
            "text/html": [
              " View project at <a href='https://wandb.ai/cs24m041-iit-madras/Mountain%20car%20linear' target=\"_blank\">https://wandb.ai/cs24m041-iit-madras/Mountain%20car%20linear</a>"
            ],
            "text/plain": [
              "<IPython.core.display.HTML object>"
            ]
          },
          "metadata": {},
          "output_type": "display_data"
        },
        {
          "data": {
            "text/html": [
              " View sweep at <a href='https://wandb.ai/cs24m041-iit-madras/Mountain%20car%20linear/sweeps/ljctnt3t' target=\"_blank\">https://wandb.ai/cs24m041-iit-madras/Mountain%20car%20linear/sweeps/ljctnt3t</a>"
            ],
            "text/plain": [
              "<IPython.core.display.HTML object>"
            ]
          },
          "metadata": {},
          "output_type": "display_data"
        },
        {
          "data": {
            "text/html": [
              " View run at <a href='https://wandb.ai/cs24m041-iit-madras/Mountain%20car%20linear/runs/hlgyx470' target=\"_blank\">https://wandb.ai/cs24m041-iit-madras/Mountain%20car%20linear/runs/hlgyx470</a>"
            ],
            "text/plain": [
              "<IPython.core.display.HTML object>"
            ]
          },
          "metadata": {},
          "output_type": "display_data"
        },
        {
          "name": "stdout",
          "output_type": "stream",
          "text": [
            "Run:1\n",
            "Episode 0/500, Avg Reward (Last 100): -200.00, Epsilon: 0.4085\n",
            "Run:2\n",
            "Episode 0/500, Avg Reward (Last 100): -200.00, Epsilon: 0.4085\n",
            "Run:3\n",
            "Episode 0/500, Avg Reward (Last 100): -200.00, Epsilon: 0.4085\n",
            "Run:4\n",
            "Episode 0/500, Avg Reward (Last 100): -200.00, Epsilon: 0.4085\n",
            "Run:5\n",
            "Episode 0/500, Avg Reward (Last 100): -200.00, Epsilon: 0.4085\n"
          ]
        },
        {
          "data": {
            "text/html": [],
            "text/plain": [
              "<IPython.core.display.HTML object>"
            ]
          },
          "metadata": {},
          "output_type": "display_data"
        },
        {
          "data": {
            "text/html": [
              "<br>    <style><br>        .wandb-row {<br>            display: flex;<br>            flex-direction: row;<br>            flex-wrap: wrap;<br>            justify-content: flex-start;<br>            width: 100%;<br>        }<br>        .wandb-col {<br>            display: flex;<br>            flex-direction: column;<br>            flex-basis: 100%;<br>            flex: 1;<br>            padding: 10px;<br>        }<br>    </style><br><div class=\"wandb-row\"><div class=\"wandb-col\"><h3>Run history:</h3><br/><table class=\"wandb\"><tr><td>avg_cumulative_regret</td><td>▁▁▂▂▂▃▃▃▃▃▃▄▄▄▄▄▄▄▅▅▅▅▅▅▅▆▆▆▆▆▆▆▇▇▇▇▇███</td></tr><tr><td>avg_reward</td><td>▁▁▁▁▁▁▁▁▁▁▁▁▁▁▁▁▁▁▁▁▁▁▁▁▁▁▁▁▁▁▁▁▁▁▁▁▁▁▁▁</td></tr><tr><td>episode</td><td>▁▁▁▁▁▂▂▂▂▂▂▂▂▂▃▃▃▄▄▄▄▅▅▅▅▆▆▆▆▆▆▆▇▇▇▇████</td></tr><tr><td>final average reward</td><td>▁</td></tr><tr><td>instantaneous_regret</td><td>▁▁▁▁▁▁▁▁▁▁▁▁▁▁▁▁▁▁▁▁▁▁▁▁▁▁▁▁▁▁▁▁▁▁▁▁▁▁▁▁</td></tr><tr><td>reward_std</td><td>▁▁▁▁▁▁▁▁▁▁▁▁▁▁▁▁▁▁▁▁▁▁▁▁▁▁▁▁▁▁▁▁▁▁▁▁▁▁▁▁</td></tr></table><br/></div><div class=\"wandb-col\"><h3>Run summary:</h3><br/><table class=\"wandb\"><tr><td>avg_cumulative_regret</td><td>45000</td></tr><tr><td>avg_reward</td><td>-200</td></tr><tr><td>episode</td><td>499</td></tr><tr><td>final average reward</td><td>-200</td></tr><tr><td>instantaneous_regret</td><td>90</td></tr><tr><td>reward_std</td><td>0</td></tr></table><br/></div></div>"
            ],
            "text/plain": [
              "<IPython.core.display.HTML object>"
            ]
          },
          "metadata": {},
          "output_type": "display_data"
        },
        {
          "data": {
            "text/html": [
              " View run <strong style=\"color:#cdcd00\">solar-sweep-8</strong> at: <a href='https://wandb.ai/cs24m041-iit-madras/Mountain%20car%20linear/runs/hlgyx470' target=\"_blank\">https://wandb.ai/cs24m041-iit-madras/Mountain%20car%20linear/runs/hlgyx470</a><br> View project at: <a href='https://wandb.ai/cs24m041-iit-madras/Mountain%20car%20linear' target=\"_blank\">https://wandb.ai/cs24m041-iit-madras/Mountain%20car%20linear</a><br>Synced 5 W&B file(s), 0 media file(s), 0 artifact file(s) and 0 other file(s)"
            ],
            "text/plain": [
              "<IPython.core.display.HTML object>"
            ]
          },
          "metadata": {},
          "output_type": "display_data"
        },
        {
          "data": {
            "text/html": [
              "Find logs at: <code>./wandb/run-20250325_111425-hlgyx470/logs</code>"
            ],
            "text/plain": [
              "<IPython.core.display.HTML object>"
            ]
          },
          "metadata": {},
          "output_type": "display_data"
        },
        {
          "name": "stderr",
          "output_type": "stream",
          "text": [
            "\u001b[34m\u001b[1mwandb\u001b[0m: Agent Starting Run: egr003r4 with config:\n",
            "\u001b[34m\u001b[1mwandb\u001b[0m: \talgorithm: sarsa\n",
            "\u001b[34m\u001b[1mwandb\u001b[0m: \talpha: 0.12479414176034397\n",
            "\u001b[34m\u001b[1mwandb\u001b[0m: \tepsilon_decay: 0.9400088937921682\n",
            "\u001b[34m\u001b[1mwandb\u001b[0m: \tepsilon_min: 0.07220622729843705\n",
            "\u001b[34m\u001b[1mwandb\u001b[0m: \tepsilon_start: 0.2926122382563272\n",
            "\u001b[34m\u001b[1mwandb\u001b[0m: \tgamma: 0.860069382085644\n",
            "\u001b[34m\u001b[1mwandb\u001b[0m: \tnumTiles: 5\n",
            "\u001b[34m\u001b[1mwandb\u001b[0m: \tnumTilings: 8\n",
            "\u001b[34m\u001b[1mwandb\u001b[0m: \tnum_episodes: 500\n"
          ]
        },
        {
          "data": {
            "text/html": [
              "Tracking run with wandb version 0.19.8"
            ],
            "text/plain": [
              "<IPython.core.display.HTML object>"
            ]
          },
          "metadata": {},
          "output_type": "display_data"
        },
        {
          "data": {
            "text/html": [
              "Run data is saved locally in <code>/content/wandb/run-20250325_112443-egr003r4</code>"
            ],
            "text/plain": [
              "<IPython.core.display.HTML object>"
            ]
          },
          "metadata": {},
          "output_type": "display_data"
        },
        {
          "data": {
            "text/html": [
              "Syncing run <strong><a href='https://wandb.ai/cs24m041-iit-madras/Mountain%20car%20linear/runs/egr003r4' target=\"_blank\">decent-sweep-9</a></strong> to <a href='https://wandb.ai/cs24m041-iit-madras/Mountain%20car%20linear' target=\"_blank\">Weights & Biases</a> (<a href='https://wandb.me/developer-guide' target=\"_blank\">docs</a>)<br>Sweep page: <a href='https://wandb.ai/cs24m041-iit-madras/Mountain%20car%20linear/sweeps/ljctnt3t' target=\"_blank\">https://wandb.ai/cs24m041-iit-madras/Mountain%20car%20linear/sweeps/ljctnt3t</a>"
            ],
            "text/plain": [
              "<IPython.core.display.HTML object>"
            ]
          },
          "metadata": {},
          "output_type": "display_data"
        },
        {
          "data": {
            "text/html": [
              " View project at <a href='https://wandb.ai/cs24m041-iit-madras/Mountain%20car%20linear' target=\"_blank\">https://wandb.ai/cs24m041-iit-madras/Mountain%20car%20linear</a>"
            ],
            "text/plain": [
              "<IPython.core.display.HTML object>"
            ]
          },
          "metadata": {},
          "output_type": "display_data"
        },
        {
          "data": {
            "text/html": [
              " View sweep at <a href='https://wandb.ai/cs24m041-iit-madras/Mountain%20car%20linear/sweeps/ljctnt3t' target=\"_blank\">https://wandb.ai/cs24m041-iit-madras/Mountain%20car%20linear/sweeps/ljctnt3t</a>"
            ],
            "text/plain": [
              "<IPython.core.display.HTML object>"
            ]
          },
          "metadata": {},
          "output_type": "display_data"
        },
        {
          "data": {
            "text/html": [
              " View run at <a href='https://wandb.ai/cs24m041-iit-madras/Mountain%20car%20linear/runs/egr003r4' target=\"_blank\">https://wandb.ai/cs24m041-iit-madras/Mountain%20car%20linear/runs/egr003r4</a>"
            ],
            "text/plain": [
              "<IPython.core.display.HTML object>"
            ]
          },
          "metadata": {},
          "output_type": "display_data"
        },
        {
          "name": "stdout",
          "output_type": "stream",
          "text": [
            "Run:1\n",
            "Episode 0/500, Avg Reward (Last 100): -200.00, Epsilon: 0.2751\n",
            "Run:2\n",
            "Episode 0/500, Avg Reward (Last 100): -200.00, Epsilon: 0.2751\n",
            "Run:3\n",
            "Episode 0/500, Avg Reward (Last 100): -200.00, Epsilon: 0.2751\n",
            "Run:4\n",
            "Episode 0/500, Avg Reward (Last 100): -200.00, Epsilon: 0.2751\n",
            "Run:5\n",
            "Episode 0/500, Avg Reward (Last 100): -200.00, Epsilon: 0.2751\n"
          ]
        },
        {
          "data": {
            "text/html": [],
            "text/plain": [
              "<IPython.core.display.HTML object>"
            ]
          },
          "metadata": {},
          "output_type": "display_data"
        },
        {
          "data": {
            "text/html": [
              "<br>    <style><br>        .wandb-row {<br>            display: flex;<br>            flex-direction: row;<br>            flex-wrap: wrap;<br>            justify-content: flex-start;<br>            width: 100%;<br>        }<br>        .wandb-col {<br>            display: flex;<br>            flex-direction: column;<br>            flex-basis: 100%;<br>            flex: 1;<br>            padding: 10px;<br>        }<br>    </style><br><div class=\"wandb-row\"><div class=\"wandb-col\"><h3>Run history:</h3><br/><table class=\"wandb\"><tr><td>avg_cumulative_regret</td><td>▁▁▁▁▁▁▂▂▃▃▃▃▃▄▄▄▄▄▄▄▅▅▅▅▅▅▅▅▆▆▆▆▆▇▇▇▇▇██</td></tr><tr><td>avg_reward</td><td>▁▁▁▁▁▁▁▂▁▁▂▁▁▂▁▃▅▃▂▃▆▃▃▁▂▄▂▅▅▁▅▅▂▅█▃▅▄▂▄</td></tr><tr><td>episode</td><td>▁▁▁▁▁▂▂▂▂▂▂▃▃▃▃▄▄▄▄▅▅▅▅▅▅▆▆▆▆▆▇▇▇▇▇▇▇▇▇█</td></tr><tr><td>final average reward</td><td>▁</td></tr><tr><td>instantaneous_regret</td><td>██▇██▅█▄█▇▆██▃▇▃▃█▆▆▇▅▃▅▄▃▃▃▃▁▂▃▇▅█▄▇▅▄▅</td></tr><tr><td>reward_std</td><td>▁▁▂▁▃▁▁▁▁▁▆▇▃▇▆█▁▆█▇▅█▇▇▇▆▄▅▆▇▆▇▆▃▁▇▃▄█▅</td></tr></table><br/></div><div class=\"wandb-col\"><h3>Run summary:</h3><br/><table class=\"wandb\"><tr><td>avg_cumulative_regret</td><td>39211.6</td></tr><tr><td>avg_reward</td><td>-170.6</td></tr><tr><td>episode</td><td>499</td></tr><tr><td>final average reward</td><td>-170.6</td></tr><tr><td>instantaneous_regret</td><td>60.6</td></tr><tr><td>reward_std</td><td>36.0422</td></tr></table><br/></div></div>"
            ],
            "text/plain": [
              "<IPython.core.display.HTML object>"
            ]
          },
          "metadata": {},
          "output_type": "display_data"
        },
        {
          "data": {
            "text/html": [
              " View run <strong style=\"color:#cdcd00\">decent-sweep-9</strong> at: <a href='https://wandb.ai/cs24m041-iit-madras/Mountain%20car%20linear/runs/egr003r4' target=\"_blank\">https://wandb.ai/cs24m041-iit-madras/Mountain%20car%20linear/runs/egr003r4</a><br> View project at: <a href='https://wandb.ai/cs24m041-iit-madras/Mountain%20car%20linear' target=\"_blank\">https://wandb.ai/cs24m041-iit-madras/Mountain%20car%20linear</a><br>Synced 5 W&B file(s), 0 media file(s), 0 artifact file(s) and 0 other file(s)"
            ],
            "text/plain": [
              "<IPython.core.display.HTML object>"
            ]
          },
          "metadata": {},
          "output_type": "display_data"
        },
        {
          "data": {
            "text/html": [
              "Find logs at: <code>./wandb/run-20250325_112443-egr003r4/logs</code>"
            ],
            "text/plain": [
              "<IPython.core.display.HTML object>"
            ]
          },
          "metadata": {},
          "output_type": "display_data"
        },
        {
          "name": "stderr",
          "output_type": "stream",
          "text": [
            "\u001b[34m\u001b[1mwandb\u001b[0m: Agent Starting Run: c9lv9t7t with config:\n",
            "\u001b[34m\u001b[1mwandb\u001b[0m: \talgorithm: sarsa\n",
            "\u001b[34m\u001b[1mwandb\u001b[0m: \talpha: 0.2574459814733116\n",
            "\u001b[34m\u001b[1mwandb\u001b[0m: \tepsilon_decay: 0.9213526221245868\n",
            "\u001b[34m\u001b[1mwandb\u001b[0m: \tepsilon_min: 0.08450029597934622\n",
            "\u001b[34m\u001b[1mwandb\u001b[0m: \tepsilon_start: 0.953285535321717\n",
            "\u001b[34m\u001b[1mwandb\u001b[0m: \tgamma: 0.831853330056691\n",
            "\u001b[34m\u001b[1mwandb\u001b[0m: \tnumTiles: 10\n",
            "\u001b[34m\u001b[1mwandb\u001b[0m: \tnumTilings: 4\n",
            "\u001b[34m\u001b[1mwandb\u001b[0m: \tnum_episodes: 500\n"
          ]
        },
        {
          "data": {
            "text/html": [
              "Tracking run with wandb version 0.19.8"
            ],
            "text/plain": [
              "<IPython.core.display.HTML object>"
            ]
          },
          "metadata": {},
          "output_type": "display_data"
        },
        {
          "data": {
            "text/html": [
              "Run data is saved locally in <code>/content/wandb/run-20250325_112940-c9lv9t7t</code>"
            ],
            "text/plain": [
              "<IPython.core.display.HTML object>"
            ]
          },
          "metadata": {},
          "output_type": "display_data"
        },
        {
          "data": {
            "text/html": [
              "Syncing run <strong><a href='https://wandb.ai/cs24m041-iit-madras/Mountain%20car%20linear/runs/c9lv9t7t' target=\"_blank\">summer-sweep-10</a></strong> to <a href='https://wandb.ai/cs24m041-iit-madras/Mountain%20car%20linear' target=\"_blank\">Weights & Biases</a> (<a href='https://wandb.me/developer-guide' target=\"_blank\">docs</a>)<br>Sweep page: <a href='https://wandb.ai/cs24m041-iit-madras/Mountain%20car%20linear/sweeps/ljctnt3t' target=\"_blank\">https://wandb.ai/cs24m041-iit-madras/Mountain%20car%20linear/sweeps/ljctnt3t</a>"
            ],
            "text/plain": [
              "<IPython.core.display.HTML object>"
            ]
          },
          "metadata": {},
          "output_type": "display_data"
        },
        {
          "data": {
            "text/html": [
              " View project at <a href='https://wandb.ai/cs24m041-iit-madras/Mountain%20car%20linear' target=\"_blank\">https://wandb.ai/cs24m041-iit-madras/Mountain%20car%20linear</a>"
            ],
            "text/plain": [
              "<IPython.core.display.HTML object>"
            ]
          },
          "metadata": {},
          "output_type": "display_data"
        },
        {
          "data": {
            "text/html": [
              " View sweep at <a href='https://wandb.ai/cs24m041-iit-madras/Mountain%20car%20linear/sweeps/ljctnt3t' target=\"_blank\">https://wandb.ai/cs24m041-iit-madras/Mountain%20car%20linear/sweeps/ljctnt3t</a>"
            ],
            "text/plain": [
              "<IPython.core.display.HTML object>"
            ]
          },
          "metadata": {},
          "output_type": "display_data"
        },
        {
          "data": {
            "text/html": [
              " View run at <a href='https://wandb.ai/cs24m041-iit-madras/Mountain%20car%20linear/runs/c9lv9t7t' target=\"_blank\">https://wandb.ai/cs24m041-iit-madras/Mountain%20car%20linear/runs/c9lv9t7t</a>"
            ],
            "text/plain": [
              "<IPython.core.display.HTML object>"
            ]
          },
          "metadata": {},
          "output_type": "display_data"
        },
        {
          "name": "stdout",
          "output_type": "stream",
          "text": [
            "Run:1\n",
            "Episode 0/500, Avg Reward (Last 100): -200.00, Epsilon: 0.8783\n",
            "Run:2\n",
            "Episode 0/500, Avg Reward (Last 100): -200.00, Epsilon: 0.8783\n",
            "Run:3\n",
            "Episode 0/500, Avg Reward (Last 100): -200.00, Epsilon: 0.8783\n",
            "Run:4\n",
            "Episode 0/500, Avg Reward (Last 100): -200.00, Epsilon: 0.8783\n",
            "Run:5\n",
            "Episode 0/500, Avg Reward (Last 100): -200.00, Epsilon: 0.8783\n"
          ]
        },
        {
          "data": {
            "text/html": [],
            "text/plain": [
              "<IPython.core.display.HTML object>"
            ]
          },
          "metadata": {},
          "output_type": "display_data"
        },
        {
          "data": {
            "text/html": [
              "<br>    <style><br>        .wandb-row {<br>            display: flex;<br>            flex-direction: row;<br>            flex-wrap: wrap;<br>            justify-content: flex-start;<br>            width: 100%;<br>        }<br>        .wandb-col {<br>            display: flex;<br>            flex-direction: column;<br>            flex-basis: 100%;<br>            flex: 1;<br>            padding: 10px;<br>        }<br>    </style><br><div class=\"wandb-row\"><div class=\"wandb-col\"><h3>Run history:</h3><br/><table class=\"wandb\"><tr><td>avg_cumulative_regret</td><td>▁▁▁▁▂▂▂▂▂▂▃▃▃▃▃▄▄▄▄▄▅▅▅▆▆▆▆▆▆▆▇▇▇▇▇▇▇▇██</td></tr><tr><td>avg_reward</td><td>▁▁▇▅▃▄▂▃▅▄▅▇▁▄▁▂▁▁▄▄▂▁█▂▂▁▂▂▁▂▅▁▁▄▁▁▁▁▁▁</td></tr><tr><td>episode</td><td>▁▁▁▁▂▂▂▃▃▃▃▃▃▃▄▄▄▅▅▅▆▆▆▆▇▇▇▇▇▇▇▇▇▇▇█████</td></tr><tr><td>final average reward</td><td>▁</td></tr><tr><td>instantaneous_regret</td><td>████▇▅▅▆▂▁▇▅█▇██▆█▆█▆▆██████▃███████▆▅██</td></tr><tr><td>reward_std</td><td>▁▁▁▁▁▁▄▅█▄▃▆█▇▁▂▁▁▁▁▃▁▇▆▃▆▃▁▁▄▇▁▂▁▇▁█▁▁▁</td></tr></table><br/></div><div class=\"wandb-col\"><h3>Run summary:</h3><br/><table class=\"wandb\"><tr><td>avg_cumulative_regret</td><td>43037</td></tr><tr><td>avg_reward</td><td>-200</td></tr><tr><td>episode</td><td>499</td></tr><tr><td>final average reward</td><td>-200</td></tr><tr><td>instantaneous_regret</td><td>90</td></tr><tr><td>reward_std</td><td>0</td></tr></table><br/></div></div>"
            ],
            "text/plain": [
              "<IPython.core.display.HTML object>"
            ]
          },
          "metadata": {},
          "output_type": "display_data"
        },
        {
          "data": {
            "text/html": [
              " View run <strong style=\"color:#cdcd00\">summer-sweep-10</strong> at: <a href='https://wandb.ai/cs24m041-iit-madras/Mountain%20car%20linear/runs/c9lv9t7t' target=\"_blank\">https://wandb.ai/cs24m041-iit-madras/Mountain%20car%20linear/runs/c9lv9t7t</a><br> View project at: <a href='https://wandb.ai/cs24m041-iit-madras/Mountain%20car%20linear' target=\"_blank\">https://wandb.ai/cs24m041-iit-madras/Mountain%20car%20linear</a><br>Synced 5 W&B file(s), 0 media file(s), 0 artifact file(s) and 0 other file(s)"
            ],
            "text/plain": [
              "<IPython.core.display.HTML object>"
            ]
          },
          "metadata": {},
          "output_type": "display_data"
        },
        {
          "data": {
            "text/html": [
              "Find logs at: <code>./wandb/run-20250325_112940-c9lv9t7t/logs</code>"
            ],
            "text/plain": [
              "<IPython.core.display.HTML object>"
            ]
          },
          "metadata": {},
          "output_type": "display_data"
        },
        {
          "name": "stderr",
          "output_type": "stream",
          "text": [
            "\u001b[34m\u001b[1mwandb\u001b[0m: Agent Starting Run: smd946tq with config:\n",
            "\u001b[34m\u001b[1mwandb\u001b[0m: \talgorithm: sarsa\n",
            "\u001b[34m\u001b[1mwandb\u001b[0m: \talpha: 0.0011630656215486966\n",
            "\u001b[34m\u001b[1mwandb\u001b[0m: \tepsilon_decay: 0.9584868978183924\n",
            "\u001b[34m\u001b[1mwandb\u001b[0m: \tepsilon_min: 0.09931534567788532\n",
            "\u001b[34m\u001b[1mwandb\u001b[0m: \tepsilon_start: 0.5406700086455403\n",
            "\u001b[34m\u001b[1mwandb\u001b[0m: \tgamma: 0.9331937045384224\n",
            "\u001b[34m\u001b[1mwandb\u001b[0m: \tnumTiles: 10\n",
            "\u001b[34m\u001b[1mwandb\u001b[0m: \tnumTilings: 4\n",
            "\u001b[34m\u001b[1mwandb\u001b[0m: \tnum_episodes: 500\n"
          ]
        },
        {
          "data": {
            "text/html": [
              "Tracking run with wandb version 0.19.8"
            ],
            "text/plain": [
              "<IPython.core.display.HTML object>"
            ]
          },
          "metadata": {},
          "output_type": "display_data"
        },
        {
          "data": {
            "text/html": [
              "Run data is saved locally in <code>/content/wandb/run-20250325_113232-smd946tq</code>"
            ],
            "text/plain": [
              "<IPython.core.display.HTML object>"
            ]
          },
          "metadata": {},
          "output_type": "display_data"
        },
        {
          "data": {
            "text/html": [
              "Syncing run <strong><a href='https://wandb.ai/cs24m041-iit-madras/Mountain%20car%20linear/runs/smd946tq' target=\"_blank\">sweet-sweep-11</a></strong> to <a href='https://wandb.ai/cs24m041-iit-madras/Mountain%20car%20linear' target=\"_blank\">Weights & Biases</a> (<a href='https://wandb.me/developer-guide' target=\"_blank\">docs</a>)<br>Sweep page: <a href='https://wandb.ai/cs24m041-iit-madras/Mountain%20car%20linear/sweeps/ljctnt3t' target=\"_blank\">https://wandb.ai/cs24m041-iit-madras/Mountain%20car%20linear/sweeps/ljctnt3t</a>"
            ],
            "text/plain": [
              "<IPython.core.display.HTML object>"
            ]
          },
          "metadata": {},
          "output_type": "display_data"
        },
        {
          "data": {
            "text/html": [
              " View project at <a href='https://wandb.ai/cs24m041-iit-madras/Mountain%20car%20linear' target=\"_blank\">https://wandb.ai/cs24m041-iit-madras/Mountain%20car%20linear</a>"
            ],
            "text/plain": [
              "<IPython.core.display.HTML object>"
            ]
          },
          "metadata": {},
          "output_type": "display_data"
        },
        {
          "data": {
            "text/html": [
              " View sweep at <a href='https://wandb.ai/cs24m041-iit-madras/Mountain%20car%20linear/sweeps/ljctnt3t' target=\"_blank\">https://wandb.ai/cs24m041-iit-madras/Mountain%20car%20linear/sweeps/ljctnt3t</a>"
            ],
            "text/plain": [
              "<IPython.core.display.HTML object>"
            ]
          },
          "metadata": {},
          "output_type": "display_data"
        },
        {
          "data": {
            "text/html": [
              " View run at <a href='https://wandb.ai/cs24m041-iit-madras/Mountain%20car%20linear/runs/smd946tq' target=\"_blank\">https://wandb.ai/cs24m041-iit-madras/Mountain%20car%20linear/runs/smd946tq</a>"
            ],
            "text/plain": [
              "<IPython.core.display.HTML object>"
            ]
          },
          "metadata": {},
          "output_type": "display_data"
        },
        {
          "name": "stdout",
          "output_type": "stream",
          "text": [
            "Run:1\n",
            "Episode 0/500, Avg Reward (Last 100): -200.00, Epsilon: 0.5182\n",
            "Run:2\n",
            "Episode 0/500, Avg Reward (Last 100): -200.00, Epsilon: 0.5182\n",
            "Run:3\n",
            "Episode 0/500, Avg Reward (Last 100): -200.00, Epsilon: 0.5182\n",
            "Run:4\n",
            "Episode 0/500, Avg Reward (Last 100): -200.00, Epsilon: 0.5182\n",
            "Run:5\n",
            "Episode 0/500, Avg Reward (Last 100): -200.00, Epsilon: 0.5182\n"
          ]
        },
        {
          "data": {
            "text/html": [],
            "text/plain": [
              "<IPython.core.display.HTML object>"
            ]
          },
          "metadata": {},
          "output_type": "display_data"
        },
        {
          "data": {
            "text/html": [
              "<br>    <style><br>        .wandb-row {<br>            display: flex;<br>            flex-direction: row;<br>            flex-wrap: wrap;<br>            justify-content: flex-start;<br>            width: 100%;<br>        }<br>        .wandb-col {<br>            display: flex;<br>            flex-direction: column;<br>            flex-basis: 100%;<br>            flex: 1;<br>            padding: 10px;<br>        }<br>    </style><br><div class=\"wandb-row\"><div class=\"wandb-col\"><h3>Run history:</h3><br/><table class=\"wandb\"><tr><td>avg_cumulative_regret</td><td>▁▁▁▁▁▂▂▂▂▂▂▂▃▃▃▃▃▃▃▃▄▄▄▄▄▅▅▅▅▅▆▆▇▇▇█████</td></tr><tr><td>avg_reward</td><td>▁▁▁▁▁▁▁▁▁▁▁▁▁▁▁▁▁▁▁▁▁▁▁▁▁▁▁▁▁▁▁▁▁▁▁▁▁▁▁▁</td></tr><tr><td>episode</td><td>▁▁▁▁▁▁▂▂▂▂▂▃▃▃▃▃▃▃▄▄▄▄▄▄▄▅▅▅▅▅▆▆▆▆▇▇▇███</td></tr><tr><td>final average reward</td><td>▁</td></tr><tr><td>instantaneous_regret</td><td>▁▁▁▁▁▁▁▁▁▁▁▁▁▁▁▁▁▁▁▁▁▁▁▁▁▁▁▁▁▁▁▁▁▁▁▁▁▁▁▁</td></tr><tr><td>reward_std</td><td>▁▁▁▁▁▁▁▁▁▁▁▁▁▁▁▁▁▁▁▁▁▁▁▁▁▁▁▁▁▁▁▁▁▁▁▁▁▁▁▁</td></tr></table><br/></div><div class=\"wandb-col\"><h3>Run summary:</h3><br/><table class=\"wandb\"><tr><td>avg_cumulative_regret</td><td>45000</td></tr><tr><td>avg_reward</td><td>-200</td></tr><tr><td>episode</td><td>499</td></tr><tr><td>final average reward</td><td>-200</td></tr><tr><td>instantaneous_regret</td><td>90</td></tr><tr><td>reward_std</td><td>0</td></tr></table><br/></div></div>"
            ],
            "text/plain": [
              "<IPython.core.display.HTML object>"
            ]
          },
          "metadata": {},
          "output_type": "display_data"
        },
        {
          "data": {
            "text/html": [
              " View run <strong style=\"color:#cdcd00\">sweet-sweep-11</strong> at: <a href='https://wandb.ai/cs24m041-iit-madras/Mountain%20car%20linear/runs/smd946tq' target=\"_blank\">https://wandb.ai/cs24m041-iit-madras/Mountain%20car%20linear/runs/smd946tq</a><br> View project at: <a href='https://wandb.ai/cs24m041-iit-madras/Mountain%20car%20linear' target=\"_blank\">https://wandb.ai/cs24m041-iit-madras/Mountain%20car%20linear</a><br>Synced 5 W&B file(s), 0 media file(s), 0 artifact file(s) and 0 other file(s)"
            ],
            "text/plain": [
              "<IPython.core.display.HTML object>"
            ]
          },
          "metadata": {},
          "output_type": "display_data"
        },
        {
          "data": {
            "text/html": [
              "Find logs at: <code>./wandb/run-20250325_113232-smd946tq/logs</code>"
            ],
            "text/plain": [
              "<IPython.core.display.HTML object>"
            ]
          },
          "metadata": {},
          "output_type": "display_data"
        },
        {
          "name": "stderr",
          "output_type": "stream",
          "text": [
            "\u001b[34m\u001b[1mwandb\u001b[0m: Agent Starting Run: hm6lmz4h with config:\n",
            "\u001b[34m\u001b[1mwandb\u001b[0m: \talgorithm: sarsa\n",
            "\u001b[34m\u001b[1mwandb\u001b[0m: \talpha: 0.25647091350901674\n",
            "\u001b[34m\u001b[1mwandb\u001b[0m: \tepsilon_decay: 0.9659388396436422\n",
            "\u001b[34m\u001b[1mwandb\u001b[0m: \tepsilon_min: 0.05664385076258412\n",
            "\u001b[34m\u001b[1mwandb\u001b[0m: \tepsilon_start: 0.5166633201999636\n",
            "\u001b[34m\u001b[1mwandb\u001b[0m: \tgamma: 0.9373498512989996\n",
            "\u001b[34m\u001b[1mwandb\u001b[0m: \tnumTiles: 5\n",
            "\u001b[34m\u001b[1mwandb\u001b[0m: \tnumTilings: 4\n",
            "\u001b[34m\u001b[1mwandb\u001b[0m: \tnum_episodes: 500\n"
          ]
        },
        {
          "data": {
            "text/html": [
              "Tracking run with wandb version 0.19.8"
            ],
            "text/plain": [
              "<IPython.core.display.HTML object>"
            ]
          },
          "metadata": {},
          "output_type": "display_data"
        },
        {
          "data": {
            "text/html": [
              "Run data is saved locally in <code>/content/wandb/run-20250325_113523-hm6lmz4h</code>"
            ],
            "text/plain": [
              "<IPython.core.display.HTML object>"
            ]
          },
          "metadata": {},
          "output_type": "display_data"
        },
        {
          "data": {
            "text/html": [
              "Syncing run <strong><a href='https://wandb.ai/cs24m041-iit-madras/Mountain%20car%20linear/runs/hm6lmz4h' target=\"_blank\">mild-sweep-12</a></strong> to <a href='https://wandb.ai/cs24m041-iit-madras/Mountain%20car%20linear' target=\"_blank\">Weights & Biases</a> (<a href='https://wandb.me/developer-guide' target=\"_blank\">docs</a>)<br>Sweep page: <a href='https://wandb.ai/cs24m041-iit-madras/Mountain%20car%20linear/sweeps/ljctnt3t' target=\"_blank\">https://wandb.ai/cs24m041-iit-madras/Mountain%20car%20linear/sweeps/ljctnt3t</a>"
            ],
            "text/plain": [
              "<IPython.core.display.HTML object>"
            ]
          },
          "metadata": {},
          "output_type": "display_data"
        },
        {
          "data": {
            "text/html": [
              " View project at <a href='https://wandb.ai/cs24m041-iit-madras/Mountain%20car%20linear' target=\"_blank\">https://wandb.ai/cs24m041-iit-madras/Mountain%20car%20linear</a>"
            ],
            "text/plain": [
              "<IPython.core.display.HTML object>"
            ]
          },
          "metadata": {},
          "output_type": "display_data"
        },
        {
          "data": {
            "text/html": [
              " View sweep at <a href='https://wandb.ai/cs24m041-iit-madras/Mountain%20car%20linear/sweeps/ljctnt3t' target=\"_blank\">https://wandb.ai/cs24m041-iit-madras/Mountain%20car%20linear/sweeps/ljctnt3t</a>"
            ],
            "text/plain": [
              "<IPython.core.display.HTML object>"
            ]
          },
          "metadata": {},
          "output_type": "display_data"
        },
        {
          "data": {
            "text/html": [
              " View run at <a href='https://wandb.ai/cs24m041-iit-madras/Mountain%20car%20linear/runs/hm6lmz4h' target=\"_blank\">https://wandb.ai/cs24m041-iit-madras/Mountain%20car%20linear/runs/hm6lmz4h</a>"
            ],
            "text/plain": [
              "<IPython.core.display.HTML object>"
            ]
          },
          "metadata": {},
          "output_type": "display_data"
        },
        {
          "name": "stdout",
          "output_type": "stream",
          "text": [
            "Run:1\n",
            "Episode 0/500, Avg Reward (Last 100): -200.00, Epsilon: 0.4991\n",
            "Run:2\n",
            "Episode 0/500, Avg Reward (Last 100): -200.00, Epsilon: 0.4991\n",
            "Run:3\n",
            "Episode 0/500, Avg Reward (Last 100): -200.00, Epsilon: 0.4991\n",
            "Run:4\n",
            "Episode 0/500, Avg Reward (Last 100): -200.00, Epsilon: 0.4991\n",
            "Run:5\n",
            "Episode 0/500, Avg Reward (Last 100): -200.00, Epsilon: 0.4991\n"
          ]
        },
        {
          "data": {
            "text/html": [],
            "text/plain": [
              "<IPython.core.display.HTML object>"
            ]
          },
          "metadata": {},
          "output_type": "display_data"
        },
        {
          "data": {
            "text/html": [
              "<br>    <style><br>        .wandb-row {<br>            display: flex;<br>            flex-direction: row;<br>            flex-wrap: wrap;<br>            justify-content: flex-start;<br>            width: 100%;<br>        }<br>        .wandb-col {<br>            display: flex;<br>            flex-direction: column;<br>            flex-basis: 100%;<br>            flex: 1;<br>            padding: 10px;<br>        }<br>    </style><br><div class=\"wandb-row\"><div class=\"wandb-col\"><h3>Run history:</h3><br/><table class=\"wandb\"><tr><td>avg_cumulative_regret</td><td>▁▁▂▂▂▂▃▃▃▃▃▃▄▄▄▄▄▄▄▄▅▅▅▅▆▆▆▆▆▆▇▇▇▇▇▇▇▇██</td></tr><tr><td>avg_reward</td><td>▁▁▁▁▁▁▅▃▁▅▃▃▇▇█▄▇▇▆▅▇▄▂▃▃▅▂▄▂▃▅▃▆▆▅▅▇▅▃▃</td></tr><tr><td>episode</td><td>▁▁▁▁▁▂▂▂▂▂▂▃▃▃▃▃▃▃▃▃▄▄▄▄▄▅▅▅▅▅▇▇▇▇▇▇████</td></tr><tr><td>final average reward</td><td>▁</td></tr><tr><td>instantaneous_regret</td><td>█████▇▆▁▇█▅▅▄▃▆▆▇▆▄▅▆▅▆▇▆▇▅▆▆▅██▅▃▄▆▃▆▅▅</td></tr><tr><td>reward_std</td><td>▁▁▁▁▁▂▇▅▄▆▆▅▄██▅▄▅▅▄▅█▅▅▄▅▁▁▃▅▆▅▅▅▆▂▄▄▅▅</td></tr></table><br/></div><div class=\"wandb-col\"><h3>Run summary:</h3><br/><table class=\"wandb\"><tr><td>avg_cumulative_regret</td><td>38329</td></tr><tr><td>avg_reward</td><td>-190.2</td></tr><tr><td>episode</td><td>499</td></tr><tr><td>final average reward</td><td>-190.2</td></tr><tr><td>instantaneous_regret</td><td>80.2</td></tr><tr><td>reward_std</td><td>19.6</td></tr></table><br/></div></div>"
            ],
            "text/plain": [
              "<IPython.core.display.HTML object>"
            ]
          },
          "metadata": {},
          "output_type": "display_data"
        },
        {
          "data": {
            "text/html": [
              " View run <strong style=\"color:#cdcd00\">mild-sweep-12</strong> at: <a href='https://wandb.ai/cs24m041-iit-madras/Mountain%20car%20linear/runs/hm6lmz4h' target=\"_blank\">https://wandb.ai/cs24m041-iit-madras/Mountain%20car%20linear/runs/hm6lmz4h</a><br> View project at: <a href='https://wandb.ai/cs24m041-iit-madras/Mountain%20car%20linear' target=\"_blank\">https://wandb.ai/cs24m041-iit-madras/Mountain%20car%20linear</a><br>Synced 5 W&B file(s), 0 media file(s), 0 artifact file(s) and 0 other file(s)"
            ],
            "text/plain": [
              "<IPython.core.display.HTML object>"
            ]
          },
          "metadata": {},
          "output_type": "display_data"
        },
        {
          "data": {
            "text/html": [
              "Find logs at: <code>./wandb/run-20250325_113523-hm6lmz4h/logs</code>"
            ],
            "text/plain": [
              "<IPython.core.display.HTML object>"
            ]
          },
          "metadata": {},
          "output_type": "display_data"
        },
        {
          "name": "stderr",
          "output_type": "stream",
          "text": [
            "\u001b[34m\u001b[1mwandb\u001b[0m: Agent Starting Run: daw2i2vq with config:\n",
            "\u001b[34m\u001b[1mwandb\u001b[0m: \talgorithm: sarsa\n",
            "\u001b[34m\u001b[1mwandb\u001b[0m: \talpha: 0.003643957522053339\n",
            "\u001b[34m\u001b[1mwandb\u001b[0m: \tepsilon_decay: 0.9589348802613864\n",
            "\u001b[34m\u001b[1mwandb\u001b[0m: \tepsilon_min: 0.08158066792063047\n",
            "\u001b[34m\u001b[1mwandb\u001b[0m: \tepsilon_start: 0.7672322741911642\n",
            "\u001b[34m\u001b[1mwandb\u001b[0m: \tgamma: 0.933520585147735\n",
            "\u001b[34m\u001b[1mwandb\u001b[0m: \tnumTiles: 5\n",
            "\u001b[34m\u001b[1mwandb\u001b[0m: \tnumTilings: 16\n",
            "\u001b[34m\u001b[1mwandb\u001b[0m: \tnum_episodes: 500\n"
          ]
        },
        {
          "data": {
            "text/html": [
              "Tracking run with wandb version 0.19.8"
            ],
            "text/plain": [
              "<IPython.core.display.HTML object>"
            ]
          },
          "metadata": {},
          "output_type": "display_data"
        },
        {
          "data": {
            "text/html": [
              "Run data is saved locally in <code>/content/wandb/run-20250325_113814-daw2i2vq</code>"
            ],
            "text/plain": [
              "<IPython.core.display.HTML object>"
            ]
          },
          "metadata": {},
          "output_type": "display_data"
        },
        {
          "data": {
            "text/html": [
              "Syncing run <strong><a href='https://wandb.ai/cs24m041-iit-madras/Mountain%20car%20linear/runs/daw2i2vq' target=\"_blank\">flowing-sweep-13</a></strong> to <a href='https://wandb.ai/cs24m041-iit-madras/Mountain%20car%20linear' target=\"_blank\">Weights & Biases</a> (<a href='https://wandb.me/developer-guide' target=\"_blank\">docs</a>)<br>Sweep page: <a href='https://wandb.ai/cs24m041-iit-madras/Mountain%20car%20linear/sweeps/ljctnt3t' target=\"_blank\">https://wandb.ai/cs24m041-iit-madras/Mountain%20car%20linear/sweeps/ljctnt3t</a>"
            ],
            "text/plain": [
              "<IPython.core.display.HTML object>"
            ]
          },
          "metadata": {},
          "output_type": "display_data"
        },
        {
          "data": {
            "text/html": [
              " View project at <a href='https://wandb.ai/cs24m041-iit-madras/Mountain%20car%20linear' target=\"_blank\">https://wandb.ai/cs24m041-iit-madras/Mountain%20car%20linear</a>"
            ],
            "text/plain": [
              "<IPython.core.display.HTML object>"
            ]
          },
          "metadata": {},
          "output_type": "display_data"
        },
        {
          "data": {
            "text/html": [
              " View sweep at <a href='https://wandb.ai/cs24m041-iit-madras/Mountain%20car%20linear/sweeps/ljctnt3t' target=\"_blank\">https://wandb.ai/cs24m041-iit-madras/Mountain%20car%20linear/sweeps/ljctnt3t</a>"
            ],
            "text/plain": [
              "<IPython.core.display.HTML object>"
            ]
          },
          "metadata": {},
          "output_type": "display_data"
        },
        {
          "data": {
            "text/html": [
              " View run at <a href='https://wandb.ai/cs24m041-iit-madras/Mountain%20car%20linear/runs/daw2i2vq' target=\"_blank\">https://wandb.ai/cs24m041-iit-madras/Mountain%20car%20linear/runs/daw2i2vq</a>"
            ],
            "text/plain": [
              "<IPython.core.display.HTML object>"
            ]
          },
          "metadata": {},
          "output_type": "display_data"
        },
        {
          "name": "stdout",
          "output_type": "stream",
          "text": [
            "Run:1\n",
            "Episode 0/500, Avg Reward (Last 100): -200.00, Epsilon: 0.7357\n",
            "Run:2\n",
            "Episode 0/500, Avg Reward (Last 100): -200.00, Epsilon: 0.7357\n",
            "Run:3\n",
            "Episode 0/500, Avg Reward (Last 100): -200.00, Epsilon: 0.7357\n",
            "Run:4\n",
            "Episode 0/500, Avg Reward (Last 100): -200.00, Epsilon: 0.7357\n",
            "Run:5\n",
            "Episode 0/500, Avg Reward (Last 100): -200.00, Epsilon: 0.7357\n"
          ]
        },
        {
          "data": {
            "text/html": [],
            "text/plain": [
              "<IPython.core.display.HTML object>"
            ]
          },
          "metadata": {},
          "output_type": "display_data"
        },
        {
          "data": {
            "text/html": [
              "<br>    <style><br>        .wandb-row {<br>            display: flex;<br>            flex-direction: row;<br>            flex-wrap: wrap;<br>            justify-content: flex-start;<br>            width: 100%;<br>        }<br>        .wandb-col {<br>            display: flex;<br>            flex-direction: column;<br>            flex-basis: 100%;<br>            flex: 1;<br>            padding: 10px;<br>        }<br>    </style><br><div class=\"wandb-row\"><div class=\"wandb-col\"><h3>Run history:</h3><br/><table class=\"wandb\"><tr><td>avg_cumulative_regret</td><td>▁▁▁▁▂▂▂▂▂▃▃▃▃▃▃▄▄▄▄▄▅▅▅▅▅▅▆▆▆▆▇▇▇▇▇▇▇███</td></tr><tr><td>avg_reward</td><td>▁▁▁▁▁▁▁▁▁▁▁▁▁▁▁▁▁▁▁▁▁▁▁▁▁▁▁▁▁▁▁▁▁▁▁▁▁▁▁▁</td></tr><tr><td>episode</td><td>▁▁▁▁▁▂▂▂▃▃▃▃▃▃▄▄▄▄▄▄▅▅▅▅▆▆▆▆▆▆▆▇▇▇▇▇▇▇▇█</td></tr><tr><td>final average reward</td><td>▁</td></tr><tr><td>instantaneous_regret</td><td>▁▁▁▁▁▁▁▁▁▁▁▁▁▁▁▁▁▁▁▁▁▁▁▁▁▁▁▁▁▁▁▁▁▁▁▁▁▁▁▁</td></tr><tr><td>reward_std</td><td>▁▁▁▁▁▁▁▁▁▁▁▁▁▁▁▁▁▁▁▁▁▁▁▁▁▁▁▁▁▁▁▁▁▁▁▁▁▁▁▁</td></tr></table><br/></div><div class=\"wandb-col\"><h3>Run summary:</h3><br/><table class=\"wandb\"><tr><td>avg_cumulative_regret</td><td>45000</td></tr><tr><td>avg_reward</td><td>-200</td></tr><tr><td>episode</td><td>499</td></tr><tr><td>final average reward</td><td>-200</td></tr><tr><td>instantaneous_regret</td><td>90</td></tr><tr><td>reward_std</td><td>0</td></tr></table><br/></div></div>"
            ],
            "text/plain": [
              "<IPython.core.display.HTML object>"
            ]
          },
          "metadata": {},
          "output_type": "display_data"
        },
        {
          "data": {
            "text/html": [
              " View run <strong style=\"color:#cdcd00\">flowing-sweep-13</strong> at: <a href='https://wandb.ai/cs24m041-iit-madras/Mountain%20car%20linear/runs/daw2i2vq' target=\"_blank\">https://wandb.ai/cs24m041-iit-madras/Mountain%20car%20linear/runs/daw2i2vq</a><br> View project at: <a href='https://wandb.ai/cs24m041-iit-madras/Mountain%20car%20linear' target=\"_blank\">https://wandb.ai/cs24m041-iit-madras/Mountain%20car%20linear</a><br>Synced 5 W&B file(s), 0 media file(s), 0 artifact file(s) and 0 other file(s)"
            ],
            "text/plain": [
              "<IPython.core.display.HTML object>"
            ]
          },
          "metadata": {},
          "output_type": "display_data"
        },
        {
          "data": {
            "text/html": [
              "Find logs at: <code>./wandb/run-20250325_113814-daw2i2vq/logs</code>"
            ],
            "text/plain": [
              "<IPython.core.display.HTML object>"
            ]
          },
          "metadata": {},
          "output_type": "display_data"
        },
        {
          "name": "stderr",
          "output_type": "stream",
          "text": [
            "\u001b[34m\u001b[1mwandb\u001b[0m: Agent Starting Run: esj50kmo with config:\n",
            "\u001b[34m\u001b[1mwandb\u001b[0m: \talgorithm: sarsa\n",
            "\u001b[34m\u001b[1mwandb\u001b[0m: \talpha: 0.012110239992498405\n",
            "\u001b[34m\u001b[1mwandb\u001b[0m: \tepsilon_decay: 0.9459515421398208\n",
            "\u001b[34m\u001b[1mwandb\u001b[0m: \tepsilon_min: 0.03247904247996813\n",
            "\u001b[34m\u001b[1mwandb\u001b[0m: \tepsilon_start: 0.14252661045234\n",
            "\u001b[34m\u001b[1mwandb\u001b[0m: \tgamma: 0.9399985367927264\n",
            "\u001b[34m\u001b[1mwandb\u001b[0m: \tnumTiles: 5\n",
            "\u001b[34m\u001b[1mwandb\u001b[0m: \tnumTilings: 16\n",
            "\u001b[34m\u001b[1mwandb\u001b[0m: \tnum_episodes: 500\n"
          ]
        },
        {
          "data": {
            "text/html": [
              "Tracking run with wandb version 0.19.8"
            ],
            "text/plain": [
              "<IPython.core.display.HTML object>"
            ]
          },
          "metadata": {},
          "output_type": "display_data"
        },
        {
          "data": {
            "text/html": [
              "Run data is saved locally in <code>/content/wandb/run-20250325_114748-esj50kmo</code>"
            ],
            "text/plain": [
              "<IPython.core.display.HTML object>"
            ]
          },
          "metadata": {},
          "output_type": "display_data"
        },
        {
          "data": {
            "text/html": [
              "Syncing run <strong><a href='https://wandb.ai/cs24m041-iit-madras/Mountain%20car%20linear/runs/esj50kmo' target=\"_blank\">spring-sweep-3</a></strong> to <a href='https://wandb.ai/cs24m041-iit-madras/Mountain%20car%20linear' target=\"_blank\">Weights & Biases</a> (<a href='https://wandb.me/developer-guide' target=\"_blank\">docs</a>)<br>Sweep page: <a href='https://wandb.ai/cs24m041-iit-madras/Mountain%20car%20linear/sweeps/ljctnt3t' target=\"_blank\">https://wandb.ai/cs24m041-iit-madras/Mountain%20car%20linear/sweeps/ljctnt3t</a>"
            ],
            "text/plain": [
              "<IPython.core.display.HTML object>"
            ]
          },
          "metadata": {},
          "output_type": "display_data"
        },
        {
          "data": {
            "text/html": [
              " View project at <a href='https://wandb.ai/cs24m041-iit-madras/Mountain%20car%20linear' target=\"_blank\">https://wandb.ai/cs24m041-iit-madras/Mountain%20car%20linear</a>"
            ],
            "text/plain": [
              "<IPython.core.display.HTML object>"
            ]
          },
          "metadata": {},
          "output_type": "display_data"
        },
        {
          "data": {
            "text/html": [
              " View sweep at <a href='https://wandb.ai/cs24m041-iit-madras/Mountain%20car%20linear/sweeps/ljctnt3t' target=\"_blank\">https://wandb.ai/cs24m041-iit-madras/Mountain%20car%20linear/sweeps/ljctnt3t</a>"
            ],
            "text/plain": [
              "<IPython.core.display.HTML object>"
            ]
          },
          "metadata": {},
          "output_type": "display_data"
        },
        {
          "data": {
            "text/html": [
              " View run at <a href='https://wandb.ai/cs24m041-iit-madras/Mountain%20car%20linear/runs/esj50kmo' target=\"_blank\">https://wandb.ai/cs24m041-iit-madras/Mountain%20car%20linear/runs/esj50kmo</a>"
            ],
            "text/plain": [
              "<IPython.core.display.HTML object>"
            ]
          },
          "metadata": {},
          "output_type": "display_data"
        },
        {
          "name": "stdout",
          "output_type": "stream",
          "text": [
            "Run:1\n",
            "Episode 0/500, Avg Reward (Last 100): -200.00, Epsilon: 0.1348\n",
            "Run:2\n",
            "Episode 0/500, Avg Reward (Last 100): -200.00, Epsilon: 0.1348\n",
            "Run:3\n",
            "Episode 0/500, Avg Reward (Last 100): -200.00, Epsilon: 0.1348\n",
            "Run:4\n",
            "Episode 0/500, Avg Reward (Last 100): -200.00, Epsilon: 0.1348\n",
            "Run:5\n",
            "Episode 0/500, Avg Reward (Last 100): -200.00, Epsilon: 0.1348\n"
          ]
        },
        {
          "data": {
            "text/html": [],
            "text/plain": [
              "<IPython.core.display.HTML object>"
            ]
          },
          "metadata": {},
          "output_type": "display_data"
        },
        {
          "data": {
            "text/html": [
              "<br>    <style><br>        .wandb-row {<br>            display: flex;<br>            flex-direction: row;<br>            flex-wrap: wrap;<br>            justify-content: flex-start;<br>            width: 100%;<br>        }<br>        .wandb-col {<br>            display: flex;<br>            flex-direction: column;<br>            flex-basis: 100%;<br>            flex: 1;<br>            padding: 10px;<br>        }<br>    </style><br><div class=\"wandb-row\"><div class=\"wandb-col\"><h3>Run history:</h3><br/><table class=\"wandb\"><tr><td>avg_cumulative_regret</td><td>▁▁▁▁▂▂▂▂▂▂▃▃▃▃▃▄▄▄▄▄▄▄▄▅▅▅▅▆▆▆▆▆▆▇▇▇▇███</td></tr><tr><td>avg_reward</td><td>▁▁▁▁▁▁▁▁▁▁▁▁▁▁▁▁▁▁▁▁▁▁▁▁▁▃▃▂▁▁▁▁▁▁▁▁▃▁▂█</td></tr><tr><td>episode</td><td>▁▁▁▁▂▂▂▂▃▃▃▃▃▃▃▄▄▄▅▅▅▅▅▅▆▆▆▆▇▇▇▇▇▇▇█████</td></tr><tr><td>final average reward</td><td>▁</td></tr><tr><td>instantaneous_regret</td><td>████████████████████████▇████▇██▇▁█▇███▃</td></tr><tr><td>reward_std</td><td>▁▁▁▁▁▁▁▁▁▁▁▁▁▁▁▁▁▁▁▂▁▁▂▂▁▁▁▁▁▁▆▂█▁▁▆▁▂▇▇</td></tr></table><br/></div><div class=\"wandb-col\"><h3>Run summary:</h3><br/><table class=\"wandb\"><tr><td>avg_cumulative_regret</td><td>44686.4</td></tr><tr><td>avg_reward</td><td>-191</td></tr><tr><td>episode</td><td>499</td></tr><tr><td>final average reward</td><td>-191</td></tr><tr><td>instantaneous_regret</td><td>81</td></tr><tr><td>reward_std</td><td>18</td></tr></table><br/></div></div>"
            ],
            "text/plain": [
              "<IPython.core.display.HTML object>"
            ]
          },
          "metadata": {},
          "output_type": "display_data"
        },
        {
          "data": {
            "text/html": [
              " View run <strong style=\"color:#cdcd00\">spring-sweep-3</strong> at: <a href='https://wandb.ai/cs24m041-iit-madras/Mountain%20car%20linear/runs/esj50kmo' target=\"_blank\">https://wandb.ai/cs24m041-iit-madras/Mountain%20car%20linear/runs/esj50kmo</a><br> View project at: <a href='https://wandb.ai/cs24m041-iit-madras/Mountain%20car%20linear' target=\"_blank\">https://wandb.ai/cs24m041-iit-madras/Mountain%20car%20linear</a><br>Synced 5 W&B file(s), 0 media file(s), 0 artifact file(s) and 0 other file(s)"
            ],
            "text/plain": [
              "<IPython.core.display.HTML object>"
            ]
          },
          "metadata": {},
          "output_type": "display_data"
        },
        {
          "data": {
            "text/html": [
              "Find logs at: <code>./wandb/run-20250325_114748-esj50kmo/logs</code>"
            ],
            "text/plain": [
              "<IPython.core.display.HTML object>"
            ]
          },
          "metadata": {},
          "output_type": "display_data"
        },
        {
          "name": "stderr",
          "output_type": "stream",
          "text": [
            "\u001b[34m\u001b[1mwandb\u001b[0m: Agent Starting Run: ti2rnlmt with config:\n",
            "\u001b[34m\u001b[1mwandb\u001b[0m: \talgorithm: sarsa\n",
            "\u001b[34m\u001b[1mwandb\u001b[0m: \talpha: 0.004128812928871636\n",
            "\u001b[34m\u001b[1mwandb\u001b[0m: \tepsilon_decay: 0.9935386388705384\n",
            "\u001b[34m\u001b[1mwandb\u001b[0m: \tepsilon_min: 0.06549007499882913\n",
            "\u001b[34m\u001b[1mwandb\u001b[0m: \tepsilon_start: 0.6152694705584695\n",
            "\u001b[34m\u001b[1mwandb\u001b[0m: \tgamma: 0.9119860907173144\n",
            "\u001b[34m\u001b[1mwandb\u001b[0m: \tnumTiles: 10\n",
            "\u001b[34m\u001b[1mwandb\u001b[0m: \tnumTilings: 8\n",
            "\u001b[34m\u001b[1mwandb\u001b[0m: \tnum_episodes: 500\n"
          ]
        },
        {
          "data": {
            "text/html": [
              "Tracking run with wandb version 0.19.8"
            ],
            "text/plain": [
              "<IPython.core.display.HTML object>"
            ]
          },
          "metadata": {},
          "output_type": "display_data"
        },
        {
          "data": {
            "text/html": [
              "Run data is saved locally in <code>/content/wandb/run-20250325_115736-ti2rnlmt</code>"
            ],
            "text/plain": [
              "<IPython.core.display.HTML object>"
            ]
          },
          "metadata": {},
          "output_type": "display_data"
        },
        {
          "data": {
            "text/html": [
              "Syncing run <strong><a href='https://wandb.ai/cs24m041-iit-madras/Mountain%20car%20linear/runs/ti2rnlmt' target=\"_blank\">trim-sweep-14</a></strong> to <a href='https://wandb.ai/cs24m041-iit-madras/Mountain%20car%20linear' target=\"_blank\">Weights & Biases</a> (<a href='https://wandb.me/developer-guide' target=\"_blank\">docs</a>)<br>Sweep page: <a href='https://wandb.ai/cs24m041-iit-madras/Mountain%20car%20linear/sweeps/ljctnt3t' target=\"_blank\">https://wandb.ai/cs24m041-iit-madras/Mountain%20car%20linear/sweeps/ljctnt3t</a>"
            ],
            "text/plain": [
              "<IPython.core.display.HTML object>"
            ]
          },
          "metadata": {},
          "output_type": "display_data"
        },
        {
          "data": {
            "text/html": [
              " View project at <a href='https://wandb.ai/cs24m041-iit-madras/Mountain%20car%20linear' target=\"_blank\">https://wandb.ai/cs24m041-iit-madras/Mountain%20car%20linear</a>"
            ],
            "text/plain": [
              "<IPython.core.display.HTML object>"
            ]
          },
          "metadata": {},
          "output_type": "display_data"
        },
        {
          "data": {
            "text/html": [
              " View sweep at <a href='https://wandb.ai/cs24m041-iit-madras/Mountain%20car%20linear/sweeps/ljctnt3t' target=\"_blank\">https://wandb.ai/cs24m041-iit-madras/Mountain%20car%20linear/sweeps/ljctnt3t</a>"
            ],
            "text/plain": [
              "<IPython.core.display.HTML object>"
            ]
          },
          "metadata": {},
          "output_type": "display_data"
        },
        {
          "data": {
            "text/html": [
              " View run at <a href='https://wandb.ai/cs24m041-iit-madras/Mountain%20car%20linear/runs/ti2rnlmt' target=\"_blank\">https://wandb.ai/cs24m041-iit-madras/Mountain%20car%20linear/runs/ti2rnlmt</a>"
            ],
            "text/plain": [
              "<IPython.core.display.HTML object>"
            ]
          },
          "metadata": {},
          "output_type": "display_data"
        },
        {
          "name": "stdout",
          "output_type": "stream",
          "text": [
            "Run:1\n",
            "Episode 0/500, Avg Reward (Last 100): -200.00, Epsilon: 0.6113\n",
            "Run:2\n",
            "Episode 0/500, Avg Reward (Last 100): -200.00, Epsilon: 0.6113\n",
            "Run:3\n",
            "Episode 0/500, Avg Reward (Last 100): -200.00, Epsilon: 0.6113\n",
            "Run:4\n",
            "Episode 0/500, Avg Reward (Last 100): -200.00, Epsilon: 0.6113\n",
            "Run:5\n",
            "Episode 0/500, Avg Reward (Last 100): -200.00, Epsilon: 0.6113\n"
          ]
        },
        {
          "data": {
            "text/html": [],
            "text/plain": [
              "<IPython.core.display.HTML object>"
            ]
          },
          "metadata": {},
          "output_type": "display_data"
        },
        {
          "data": {
            "text/html": [
              "<br>    <style><br>        .wandb-row {<br>            display: flex;<br>            flex-direction: row;<br>            flex-wrap: wrap;<br>            justify-content: flex-start;<br>            width: 100%;<br>        }<br>        .wandb-col {<br>            display: flex;<br>            flex-direction: column;<br>            flex-basis: 100%;<br>            flex: 1;<br>            padding: 10px;<br>        }<br>    </style><br><div class=\"wandb-row\"><div class=\"wandb-col\"><h3>Run history:</h3><br/><table class=\"wandb\"><tr><td>avg_cumulative_regret</td><td>▁▁▁▂▂▂▂▂▂▃▃▃▃▃▄▄▄▄▄▄▄▅▅▅▅▅▅▅▆▆▆▆▇▇▇▇▇▇▇█</td></tr><tr><td>avg_reward</td><td>▁▁▁▁▁▁▁▁▁▁▁▁▁▁▁▁▁▁▁▁▁▁▁▁▁▁▁▁▁▁▁▁▁▁▁▁▁▁▁▁</td></tr><tr><td>episode</td><td>▁▁▁▂▂▂▂▃▃▃▃▃▄▄▄▄▄▄▄▄▅▅▅▅▅▅▅▅▅▆▆▆▆▇▇▇▇███</td></tr><tr><td>final average reward</td><td>▁</td></tr><tr><td>instantaneous_regret</td><td>▁▁▁▁▁▁▁▁▁▁▁▁▁▁▁▁▁▁▁▁▁▁▁▁▁▁▁▁▁▁▁▁▁▁▁▁▁▁▁▁</td></tr><tr><td>reward_std</td><td>▁▁▁▁▁▁▁▁▁▁▁▁▁▁▁▁▁▁▁▁▁▁▁▁▁▁▁▁▁▁▁▁▁▁▁▁▁▁▁▁</td></tr></table><br/></div><div class=\"wandb-col\"><h3>Run summary:</h3><br/><table class=\"wandb\"><tr><td>avg_cumulative_regret</td><td>45000</td></tr><tr><td>avg_reward</td><td>-200</td></tr><tr><td>episode</td><td>499</td></tr><tr><td>final average reward</td><td>-200</td></tr><tr><td>instantaneous_regret</td><td>90</td></tr><tr><td>reward_std</td><td>0</td></tr></table><br/></div></div>"
            ],
            "text/plain": [
              "<IPython.core.display.HTML object>"
            ]
          },
          "metadata": {},
          "output_type": "display_data"
        },
        {
          "data": {
            "text/html": [
              " View run <strong style=\"color:#cdcd00\">trim-sweep-14</strong> at: <a href='https://wandb.ai/cs24m041-iit-madras/Mountain%20car%20linear/runs/ti2rnlmt' target=\"_blank\">https://wandb.ai/cs24m041-iit-madras/Mountain%20car%20linear/runs/ti2rnlmt</a><br> View project at: <a href='https://wandb.ai/cs24m041-iit-madras/Mountain%20car%20linear' target=\"_blank\">https://wandb.ai/cs24m041-iit-madras/Mountain%20car%20linear</a><br>Synced 5 W&B file(s), 0 media file(s), 0 artifact file(s) and 0 other file(s)"
            ],
            "text/plain": [
              "<IPython.core.display.HTML object>"
            ]
          },
          "metadata": {},
          "output_type": "display_data"
        },
        {
          "data": {
            "text/html": [
              "Find logs at: <code>./wandb/run-20250325_115736-ti2rnlmt/logs</code>"
            ],
            "text/plain": [
              "<IPython.core.display.HTML object>"
            ]
          },
          "metadata": {},
          "output_type": "display_data"
        },
        {
          "name": "stderr",
          "output_type": "stream",
          "text": [
            "\u001b[34m\u001b[1mwandb\u001b[0m: Agent Starting Run: gmpv7gib with config:\n",
            "\u001b[34m\u001b[1mwandb\u001b[0m: \talgorithm: sarsa\n",
            "\u001b[34m\u001b[1mwandb\u001b[0m: \talpha: 0.002053084027642072\n",
            "\u001b[34m\u001b[1mwandb\u001b[0m: \tepsilon_decay: 0.9860177756581384\n",
            "\u001b[34m\u001b[1mwandb\u001b[0m: \tepsilon_min: 0.056545126551516\n",
            "\u001b[34m\u001b[1mwandb\u001b[0m: \tepsilon_start: 0.23445572877467696\n",
            "\u001b[34m\u001b[1mwandb\u001b[0m: \tgamma: 0.9843395938457584\n",
            "\u001b[34m\u001b[1mwandb\u001b[0m: \tnumTiles: 10\n",
            "\u001b[34m\u001b[1mwandb\u001b[0m: \tnumTilings: 8\n",
            "\u001b[34m\u001b[1mwandb\u001b[0m: \tnum_episodes: 500\n"
          ]
        },
        {
          "data": {
            "text/html": [
              "Tracking run with wandb version 0.19.8"
            ],
            "text/plain": [
              "<IPython.core.display.HTML object>"
            ]
          },
          "metadata": {},
          "output_type": "display_data"
        },
        {
          "data": {
            "text/html": [
              "Run data is saved locally in <code>/content/wandb/run-20250325_120234-gmpv7gib</code>"
            ],
            "text/plain": [
              "<IPython.core.display.HTML object>"
            ]
          },
          "metadata": {},
          "output_type": "display_data"
        },
        {
          "data": {
            "text/html": [
              "Syncing run <strong><a href='https://wandb.ai/cs24m041-iit-madras/Mountain%20car%20linear/runs/gmpv7gib' target=\"_blank\">glamorous-sweep-15</a></strong> to <a href='https://wandb.ai/cs24m041-iit-madras/Mountain%20car%20linear' target=\"_blank\">Weights & Biases</a> (<a href='https://wandb.me/developer-guide' target=\"_blank\">docs</a>)<br>Sweep page: <a href='https://wandb.ai/cs24m041-iit-madras/Mountain%20car%20linear/sweeps/ljctnt3t' target=\"_blank\">https://wandb.ai/cs24m041-iit-madras/Mountain%20car%20linear/sweeps/ljctnt3t</a>"
            ],
            "text/plain": [
              "<IPython.core.display.HTML object>"
            ]
          },
          "metadata": {},
          "output_type": "display_data"
        },
        {
          "data": {
            "text/html": [
              " View project at <a href='https://wandb.ai/cs24m041-iit-madras/Mountain%20car%20linear' target=\"_blank\">https://wandb.ai/cs24m041-iit-madras/Mountain%20car%20linear</a>"
            ],
            "text/plain": [
              "<IPython.core.display.HTML object>"
            ]
          },
          "metadata": {},
          "output_type": "display_data"
        },
        {
          "data": {
            "text/html": [
              " View sweep at <a href='https://wandb.ai/cs24m041-iit-madras/Mountain%20car%20linear/sweeps/ljctnt3t' target=\"_blank\">https://wandb.ai/cs24m041-iit-madras/Mountain%20car%20linear/sweeps/ljctnt3t</a>"
            ],
            "text/plain": [
              "<IPython.core.display.HTML object>"
            ]
          },
          "metadata": {},
          "output_type": "display_data"
        },
        {
          "data": {
            "text/html": [
              " View run at <a href='https://wandb.ai/cs24m041-iit-madras/Mountain%20car%20linear/runs/gmpv7gib' target=\"_blank\">https://wandb.ai/cs24m041-iit-madras/Mountain%20car%20linear/runs/gmpv7gib</a>"
            ],
            "text/plain": [
              "<IPython.core.display.HTML object>"
            ]
          },
          "metadata": {},
          "output_type": "display_data"
        },
        {
          "name": "stdout",
          "output_type": "stream",
          "text": [
            "Run:1\n",
            "Episode 0/500, Avg Reward (Last 100): -200.00, Epsilon: 0.2312\n",
            "Run:2\n",
            "Episode 0/500, Avg Reward (Last 100): -200.00, Epsilon: 0.2312\n",
            "Run:3\n",
            "Episode 0/500, Avg Reward (Last 100): -200.00, Epsilon: 0.2312\n",
            "Run:4\n",
            "Episode 0/500, Avg Reward (Last 100): -200.00, Epsilon: 0.2312\n",
            "Run:5\n",
            "Episode 0/500, Avg Reward (Last 100): -200.00, Epsilon: 0.2312\n"
          ]
        },
        {
          "data": {
            "text/html": [],
            "text/plain": [
              "<IPython.core.display.HTML object>"
            ]
          },
          "metadata": {},
          "output_type": "display_data"
        },
        {
          "data": {
            "text/html": [
              "<br>    <style><br>        .wandb-row {<br>            display: flex;<br>            flex-direction: row;<br>            flex-wrap: wrap;<br>            justify-content: flex-start;<br>            width: 100%;<br>        }<br>        .wandb-col {<br>            display: flex;<br>            flex-direction: column;<br>            flex-basis: 100%;<br>            flex: 1;<br>            padding: 10px;<br>        }<br>    </style><br><div class=\"wandb-row\"><div class=\"wandb-col\"><h3>Run history:</h3><br/><table class=\"wandb\"><tr><td>avg_cumulative_regret</td><td>▁▂▂▂▂▃▃▃▃▃▃▃▄▄▄▄▄▄▅▅▅▅▅▅▆▆▆▆▆▆▆▆▇▇▇▇▇███</td></tr><tr><td>avg_reward</td><td>▁▁▁▁▁▁▁▁▁▁▁▁▁▁▁▁▁▁▁▁▁▁▁▁▁▁▁▁▁▁▁▁▁▁▁▁▁▁▁▁</td></tr><tr><td>episode</td><td>▁▁▁▁▁▁▂▂▂▂▃▃▃▃▃▄▄▄▅▅▅▅▅▅▅▅▆▆▆▆▆▆▆▆▇█████</td></tr><tr><td>final average reward</td><td>▁</td></tr><tr><td>instantaneous_regret</td><td>▁▁▁▁▁▁▁▁▁▁▁▁▁▁▁▁▁▁▁▁▁▁▁▁▁▁▁▁▁▁▁▁▁▁▁▁▁▁▁▁</td></tr><tr><td>reward_std</td><td>▁▁▁▁▁▁▁▁▁▁▁▁▁▁▁▁▁▁▁▁▁▁▁▁▁▁▁▁▁▁▁▁▁▁▁▁▁▁▁▁</td></tr></table><br/></div><div class=\"wandb-col\"><h3>Run summary:</h3><br/><table class=\"wandb\"><tr><td>avg_cumulative_regret</td><td>45000</td></tr><tr><td>avg_reward</td><td>-200</td></tr><tr><td>episode</td><td>499</td></tr><tr><td>final average reward</td><td>-200</td></tr><tr><td>instantaneous_regret</td><td>90</td></tr><tr><td>reward_std</td><td>0</td></tr></table><br/></div></div>"
            ],
            "text/plain": [
              "<IPython.core.display.HTML object>"
            ]
          },
          "metadata": {},
          "output_type": "display_data"
        },
        {
          "data": {
            "text/html": [
              " View run <strong style=\"color:#cdcd00\">glamorous-sweep-15</strong> at: <a href='https://wandb.ai/cs24m041-iit-madras/Mountain%20car%20linear/runs/gmpv7gib' target=\"_blank\">https://wandb.ai/cs24m041-iit-madras/Mountain%20car%20linear/runs/gmpv7gib</a><br> View project at: <a href='https://wandb.ai/cs24m041-iit-madras/Mountain%20car%20linear' target=\"_blank\">https://wandb.ai/cs24m041-iit-madras/Mountain%20car%20linear</a><br>Synced 5 W&B file(s), 0 media file(s), 0 artifact file(s) and 0 other file(s)"
            ],
            "text/plain": [
              "<IPython.core.display.HTML object>"
            ]
          },
          "metadata": {},
          "output_type": "display_data"
        },
        {
          "data": {
            "text/html": [
              "Find logs at: <code>./wandb/run-20250325_120234-gmpv7gib/logs</code>"
            ],
            "text/plain": [
              "<IPython.core.display.HTML object>"
            ]
          },
          "metadata": {},
          "output_type": "display_data"
        },
        {
          "name": "stderr",
          "output_type": "stream",
          "text": [
            "\u001b[34m\u001b[1mwandb\u001b[0m: Agent Starting Run: hbxb67rv with config:\n",
            "\u001b[34m\u001b[1mwandb\u001b[0m: \talgorithm: sarsa\n",
            "\u001b[34m\u001b[1mwandb\u001b[0m: \talpha: 0.0005993204476920263\n",
            "\u001b[34m\u001b[1mwandb\u001b[0m: \tepsilon_decay: 0.9284958908922006\n",
            "\u001b[34m\u001b[1mwandb\u001b[0m: \tepsilon_min: 0.06531274291196759\n",
            "\u001b[34m\u001b[1mwandb\u001b[0m: \tepsilon_start: 0.3306473443155808\n",
            "\u001b[34m\u001b[1mwandb\u001b[0m: \tgamma: 0.8857424234629144\n",
            "\u001b[34m\u001b[1mwandb\u001b[0m: \tnumTiles: 20\n",
            "\u001b[34m\u001b[1mwandb\u001b[0m: \tnumTilings: 4\n",
            "\u001b[34m\u001b[1mwandb\u001b[0m: \tnum_episodes: 500\n"
          ]
        },
        {
          "data": {
            "text/html": [
              "Tracking run with wandb version 0.19.8"
            ],
            "text/plain": [
              "<IPython.core.display.HTML object>"
            ]
          },
          "metadata": {},
          "output_type": "display_data"
        },
        {
          "data": {
            "text/html": [
              "Run data is saved locally in <code>/content/wandb/run-20250325_120750-hbxb67rv</code>"
            ],
            "text/plain": [
              "<IPython.core.display.HTML object>"
            ]
          },
          "metadata": {},
          "output_type": "display_data"
        },
        {
          "data": {
            "text/html": [
              "Syncing run <strong><a href='https://wandb.ai/cs24m041-iit-madras/Mountain%20car%20linear/runs/hbxb67rv' target=\"_blank\">tough-sweep-16</a></strong> to <a href='https://wandb.ai/cs24m041-iit-madras/Mountain%20car%20linear' target=\"_blank\">Weights & Biases</a> (<a href='https://wandb.me/developer-guide' target=\"_blank\">docs</a>)<br>Sweep page: <a href='https://wandb.ai/cs24m041-iit-madras/Mountain%20car%20linear/sweeps/ljctnt3t' target=\"_blank\">https://wandb.ai/cs24m041-iit-madras/Mountain%20car%20linear/sweeps/ljctnt3t</a>"
            ],
            "text/plain": [
              "<IPython.core.display.HTML object>"
            ]
          },
          "metadata": {},
          "output_type": "display_data"
        },
        {
          "data": {
            "text/html": [
              " View project at <a href='https://wandb.ai/cs24m041-iit-madras/Mountain%20car%20linear' target=\"_blank\">https://wandb.ai/cs24m041-iit-madras/Mountain%20car%20linear</a>"
            ],
            "text/plain": [
              "<IPython.core.display.HTML object>"
            ]
          },
          "metadata": {},
          "output_type": "display_data"
        },
        {
          "data": {
            "text/html": [
              " View sweep at <a href='https://wandb.ai/cs24m041-iit-madras/Mountain%20car%20linear/sweeps/ljctnt3t' target=\"_blank\">https://wandb.ai/cs24m041-iit-madras/Mountain%20car%20linear/sweeps/ljctnt3t</a>"
            ],
            "text/plain": [
              "<IPython.core.display.HTML object>"
            ]
          },
          "metadata": {},
          "output_type": "display_data"
        },
        {
          "data": {
            "text/html": [
              " View run at <a href='https://wandb.ai/cs24m041-iit-madras/Mountain%20car%20linear/runs/hbxb67rv' target=\"_blank\">https://wandb.ai/cs24m041-iit-madras/Mountain%20car%20linear/runs/hbxb67rv</a>"
            ],
            "text/plain": [
              "<IPython.core.display.HTML object>"
            ]
          },
          "metadata": {},
          "output_type": "display_data"
        },
        {
          "name": "stdout",
          "output_type": "stream",
          "text": [
            "Run:1\n",
            "Episode 0/500, Avg Reward (Last 100): -200.00, Epsilon: 0.3070\n",
            "Run:2\n",
            "Episode 0/500, Avg Reward (Last 100): -200.00, Epsilon: 0.3070\n",
            "Run:3\n",
            "Episode 0/500, Avg Reward (Last 100): -200.00, Epsilon: 0.3070\n",
            "Run:4\n",
            "Episode 0/500, Avg Reward (Last 100): -200.00, Epsilon: 0.3070\n",
            "Run:5\n",
            "Episode 0/500, Avg Reward (Last 100): -200.00, Epsilon: 0.3070\n"
          ]
        },
        {
          "data": {
            "text/html": [],
            "text/plain": [
              "<IPython.core.display.HTML object>"
            ]
          },
          "metadata": {},
          "output_type": "display_data"
        },
        {
          "data": {
            "text/html": [
              "<br>    <style><br>        .wandb-row {<br>            display: flex;<br>            flex-direction: row;<br>            flex-wrap: wrap;<br>            justify-content: flex-start;<br>            width: 100%;<br>        }<br>        .wandb-col {<br>            display: flex;<br>            flex-direction: column;<br>            flex-basis: 100%;<br>            flex: 1;<br>            padding: 10px;<br>        }<br>    </style><br><div class=\"wandb-row\"><div class=\"wandb-col\"><h3>Run history:</h3><br/><table class=\"wandb\"><tr><td>avg_cumulative_regret</td><td>▁▁▁▁▁▂▂▂▂▂▃▃▃▃▃▄▄▄▄▄▄▅▅▅▅▅▆▆▆▆▆▆▇▇▇▇▇▇▇█</td></tr><tr><td>avg_reward</td><td>▁▁▁▁▁▁▁▁▁▁▁▁▁▁▁▁▁▁▁▁▁▁▁▁▁▁▁▁▁▁▁▁▁▁▁▁▁▁▁▁</td></tr><tr><td>episode</td><td>▁▁▁▁▁▂▂▂▂▂▂▃▃▃▄▄▄▄▄▄▄▄▅▅▅▅▅▅▅▆▆▇▇▇▇▇▇███</td></tr><tr><td>final average reward</td><td>▁</td></tr><tr><td>instantaneous_regret</td><td>▁▁▁▁▁▁▁▁▁▁▁▁▁▁▁▁▁▁▁▁▁▁▁▁▁▁▁▁▁▁▁▁▁▁▁▁▁▁▁▁</td></tr><tr><td>reward_std</td><td>▁▁▁▁▁▁▁▁▁▁▁▁▁▁▁▁▁▁▁▁▁▁▁▁▁▁▁▁▁▁▁▁▁▁▁▁▁▁▁▁</td></tr></table><br/></div><div class=\"wandb-col\"><h3>Run summary:</h3><br/><table class=\"wandb\"><tr><td>avg_cumulative_regret</td><td>45000</td></tr><tr><td>avg_reward</td><td>-200</td></tr><tr><td>episode</td><td>499</td></tr><tr><td>final average reward</td><td>-200</td></tr><tr><td>instantaneous_regret</td><td>90</td></tr><tr><td>reward_std</td><td>0</td></tr></table><br/></div></div>"
            ],
            "text/plain": [
              "<IPython.core.display.HTML object>"
            ]
          },
          "metadata": {},
          "output_type": "display_data"
        },
        {
          "data": {
            "text/html": [
              " View run <strong style=\"color:#cdcd00\">tough-sweep-16</strong> at: <a href='https://wandb.ai/cs24m041-iit-madras/Mountain%20car%20linear/runs/hbxb67rv' target=\"_blank\">https://wandb.ai/cs24m041-iit-madras/Mountain%20car%20linear/runs/hbxb67rv</a><br> View project at: <a href='https://wandb.ai/cs24m041-iit-madras/Mountain%20car%20linear' target=\"_blank\">https://wandb.ai/cs24m041-iit-madras/Mountain%20car%20linear</a><br>Synced 5 W&B file(s), 0 media file(s), 0 artifact file(s) and 0 other file(s)"
            ],
            "text/plain": [
              "<IPython.core.display.HTML object>"
            ]
          },
          "metadata": {},
          "output_type": "display_data"
        },
        {
          "data": {
            "text/html": [
              "Find logs at: <code>./wandb/run-20250325_120750-hbxb67rv/logs</code>"
            ],
            "text/plain": [
              "<IPython.core.display.HTML object>"
            ]
          },
          "metadata": {},
          "output_type": "display_data"
        },
        {
          "name": "stderr",
          "output_type": "stream",
          "text": [
            "\u001b[34m\u001b[1mwandb\u001b[0m: Agent Starting Run: 3gyylhza with config:\n",
            "\u001b[34m\u001b[1mwandb\u001b[0m: \talgorithm: sarsa\n",
            "\u001b[34m\u001b[1mwandb\u001b[0m: \talpha: 0.00015345915231845412\n",
            "\u001b[34m\u001b[1mwandb\u001b[0m: \tepsilon_decay: 0.9437048006197843\n",
            "\u001b[34m\u001b[1mwandb\u001b[0m: \tepsilon_min: 0.02111069748514243\n",
            "\u001b[34m\u001b[1mwandb\u001b[0m: \tepsilon_start: 0.8298405697505379\n",
            "\u001b[34m\u001b[1mwandb\u001b[0m: \tgamma: 0.8518256110237512\n",
            "\u001b[34m\u001b[1mwandb\u001b[0m: \tnumTiles: 20\n",
            "\u001b[34m\u001b[1mwandb\u001b[0m: \tnumTilings: 4\n",
            "\u001b[34m\u001b[1mwandb\u001b[0m: \tnum_episodes: 500\n"
          ]
        },
        {
          "data": {
            "text/html": [
              "creating run (1.0s)"
            ],
            "text/plain": [
              "<IPython.core.display.HTML object>"
            ]
          },
          "metadata": {},
          "output_type": "display_data"
        },
        {
          "data": {
            "text/html": [
              "Tracking run with wandb version 0.19.8"
            ],
            "text/plain": [
              "<IPython.core.display.HTML object>"
            ]
          },
          "metadata": {},
          "output_type": "display_data"
        },
        {
          "data": {
            "text/html": [
              "Run data is saved locally in <code>/content/wandb/run-20250325_121048-3gyylhza</code>"
            ],
            "text/plain": [
              "<IPython.core.display.HTML object>"
            ]
          },
          "metadata": {},
          "output_type": "display_data"
        },
        {
          "data": {
            "text/html": [
              "Syncing run <strong><a href='https://wandb.ai/cs24m041-iit-madras/Mountain%20car%20linear/runs/3gyylhza' target=\"_blank\">cosmic-sweep-17</a></strong> to <a href='https://wandb.ai/cs24m041-iit-madras/Mountain%20car%20linear' target=\"_blank\">Weights & Biases</a> (<a href='https://wandb.me/developer-guide' target=\"_blank\">docs</a>)<br>Sweep page: <a href='https://wandb.ai/cs24m041-iit-madras/Mountain%20car%20linear/sweeps/ljctnt3t' target=\"_blank\">https://wandb.ai/cs24m041-iit-madras/Mountain%20car%20linear/sweeps/ljctnt3t</a>"
            ],
            "text/plain": [
              "<IPython.core.display.HTML object>"
            ]
          },
          "metadata": {},
          "output_type": "display_data"
        },
        {
          "data": {
            "text/html": [
              " View project at <a href='https://wandb.ai/cs24m041-iit-madras/Mountain%20car%20linear' target=\"_blank\">https://wandb.ai/cs24m041-iit-madras/Mountain%20car%20linear</a>"
            ],
            "text/plain": [
              "<IPython.core.display.HTML object>"
            ]
          },
          "metadata": {},
          "output_type": "display_data"
        },
        {
          "data": {
            "text/html": [
              " View sweep at <a href='https://wandb.ai/cs24m041-iit-madras/Mountain%20car%20linear/sweeps/ljctnt3t' target=\"_blank\">https://wandb.ai/cs24m041-iit-madras/Mountain%20car%20linear/sweeps/ljctnt3t</a>"
            ],
            "text/plain": [
              "<IPython.core.display.HTML object>"
            ]
          },
          "metadata": {},
          "output_type": "display_data"
        },
        {
          "data": {
            "text/html": [
              " View run at <a href='https://wandb.ai/cs24m041-iit-madras/Mountain%20car%20linear/runs/3gyylhza' target=\"_blank\">https://wandb.ai/cs24m041-iit-madras/Mountain%20car%20linear/runs/3gyylhza</a>"
            ],
            "text/plain": [
              "<IPython.core.display.HTML object>"
            ]
          },
          "metadata": {},
          "output_type": "display_data"
        },
        {
          "name": "stdout",
          "output_type": "stream",
          "text": [
            "Run:1\n",
            "Episode 0/500, Avg Reward (Last 100): -200.00, Epsilon: 0.7831\n",
            "Run:2\n",
            "Episode 0/500, Avg Reward (Last 100): -200.00, Epsilon: 0.7831\n",
            "Run:3\n",
            "Episode 0/500, Avg Reward (Last 100): -200.00, Epsilon: 0.7831\n",
            "Run:4\n",
            "Episode 0/500, Avg Reward (Last 100): -200.00, Epsilon: 0.7831\n",
            "Run:5\n",
            "Episode 0/500, Avg Reward (Last 100): -200.00, Epsilon: 0.7831\n"
          ]
        },
        {
          "data": {
            "text/html": [],
            "text/plain": [
              "<IPython.core.display.HTML object>"
            ]
          },
          "metadata": {},
          "output_type": "display_data"
        },
        {
          "data": {
            "text/html": [
              "<br>    <style><br>        .wandb-row {<br>            display: flex;<br>            flex-direction: row;<br>            flex-wrap: wrap;<br>            justify-content: flex-start;<br>            width: 100%;<br>        }<br>        .wandb-col {<br>            display: flex;<br>            flex-direction: column;<br>            flex-basis: 100%;<br>            flex: 1;<br>            padding: 10px;<br>        }<br>    </style><br><div class=\"wandb-row\"><div class=\"wandb-col\"><h3>Run history:</h3><br/><table class=\"wandb\"><tr><td>avg_cumulative_regret</td><td>▁▁▁▂▂▂▂▂▂▂▂▃▃▃▃▄▄▄▄▄▄▄▅▅▆▆▆▇▇▇▇▇████████</td></tr><tr><td>avg_reward</td><td>▁▁▁▁▁▁▁▁▁▁▁▁▁▁▁▁▁▁▁▁▁▁▁▁▁▁▁▁▁▁▁▁▁▁▁▁▁▁▁▁</td></tr><tr><td>episode</td><td>▁▁▁▁▁▂▂▂▃▃▃▃▃▄▄▅▅▅▅▅▅▅▆▆▆▆▆▆▆▇▇▇▇▇▇▇████</td></tr><tr><td>final average reward</td><td>▁</td></tr><tr><td>instantaneous_regret</td><td>▁▁▁▁▁▁▁▁▁▁▁▁▁▁▁▁▁▁▁▁▁▁▁▁▁▁▁▁▁▁▁▁▁▁▁▁▁▁▁▁</td></tr><tr><td>reward_std</td><td>▁▁▁▁▁▁▁▁▁▁▁▁▁▁▁▁▁▁▁▁▁▁▁▁▁▁▁▁▁▁▁▁▁▁▁▁▁▁▁▁</td></tr></table><br/></div><div class=\"wandb-col\"><h3>Run summary:</h3><br/><table class=\"wandb\"><tr><td>avg_cumulative_regret</td><td>45000</td></tr><tr><td>avg_reward</td><td>-200</td></tr><tr><td>episode</td><td>499</td></tr><tr><td>final average reward</td><td>-200</td></tr><tr><td>instantaneous_regret</td><td>90</td></tr><tr><td>reward_std</td><td>0</td></tr></table><br/></div></div>"
            ],
            "text/plain": [
              "<IPython.core.display.HTML object>"
            ]
          },
          "metadata": {},
          "output_type": "display_data"
        },
        {
          "data": {
            "text/html": [
              " View run <strong style=\"color:#cdcd00\">cosmic-sweep-17</strong> at: <a href='https://wandb.ai/cs24m041-iit-madras/Mountain%20car%20linear/runs/3gyylhza' target=\"_blank\">https://wandb.ai/cs24m041-iit-madras/Mountain%20car%20linear/runs/3gyylhza</a><br> View project at: <a href='https://wandb.ai/cs24m041-iit-madras/Mountain%20car%20linear' target=\"_blank\">https://wandb.ai/cs24m041-iit-madras/Mountain%20car%20linear</a><br>Synced 5 W&B file(s), 0 media file(s), 0 artifact file(s) and 0 other file(s)"
            ],
            "text/plain": [
              "<IPython.core.display.HTML object>"
            ]
          },
          "metadata": {},
          "output_type": "display_data"
        },
        {
          "data": {
            "text/html": [
              "Find logs at: <code>./wandb/run-20250325_121048-3gyylhza/logs</code>"
            ],
            "text/plain": [
              "<IPython.core.display.HTML object>"
            ]
          },
          "metadata": {},
          "output_type": "display_data"
        },
        {
          "name": "stderr",
          "output_type": "stream",
          "text": [
            "\u001b[34m\u001b[1mwandb\u001b[0m: Agent Starting Run: tstjspgp with config:\n",
            "\u001b[34m\u001b[1mwandb\u001b[0m: \talgorithm: sarsa\n",
            "\u001b[34m\u001b[1mwandb\u001b[0m: \talpha: 0.00010719477455918832\n",
            "\u001b[34m\u001b[1mwandb\u001b[0m: \tepsilon_decay: 0.950243730629274\n",
            "\u001b[34m\u001b[1mwandb\u001b[0m: \tepsilon_min: 0.04231539159541904\n",
            "\u001b[34m\u001b[1mwandb\u001b[0m: \tepsilon_start: 0.12235095144385263\n",
            "\u001b[34m\u001b[1mwandb\u001b[0m: \tgamma: 0.9996890225119154\n",
            "\u001b[34m\u001b[1mwandb\u001b[0m: \tnumTiles: 5\n",
            "\u001b[34m\u001b[1mwandb\u001b[0m: \tnumTilings: 16\n",
            "\u001b[34m\u001b[1mwandb\u001b[0m: \tnum_episodes: 500\n"
          ]
        },
        {
          "data": {
            "text/html": [
              "Tracking run with wandb version 0.19.8"
            ],
            "text/plain": [
              "<IPython.core.display.HTML object>"
            ]
          },
          "metadata": {},
          "output_type": "display_data"
        },
        {
          "data": {
            "text/html": [
              "Run data is saved locally in <code>/content/wandb/run-20250325_121349-tstjspgp</code>"
            ],
            "text/plain": [
              "<IPython.core.display.HTML object>"
            ]
          },
          "metadata": {},
          "output_type": "display_data"
        },
        {
          "data": {
            "text/html": [
              "Syncing run <strong><a href='https://wandb.ai/cs24m041-iit-madras/Mountain%20car%20linear/runs/tstjspgp' target=\"_blank\">deft-sweep-18</a></strong> to <a href='https://wandb.ai/cs24m041-iit-madras/Mountain%20car%20linear' target=\"_blank\">Weights & Biases</a> (<a href='https://wandb.me/developer-guide' target=\"_blank\">docs</a>)<br>Sweep page: <a href='https://wandb.ai/cs24m041-iit-madras/Mountain%20car%20linear/sweeps/ljctnt3t' target=\"_blank\">https://wandb.ai/cs24m041-iit-madras/Mountain%20car%20linear/sweeps/ljctnt3t</a>"
            ],
            "text/plain": [
              "<IPython.core.display.HTML object>"
            ]
          },
          "metadata": {},
          "output_type": "display_data"
        },
        {
          "data": {
            "text/html": [
              " View project at <a href='https://wandb.ai/cs24m041-iit-madras/Mountain%20car%20linear' target=\"_blank\">https://wandb.ai/cs24m041-iit-madras/Mountain%20car%20linear</a>"
            ],
            "text/plain": [
              "<IPython.core.display.HTML object>"
            ]
          },
          "metadata": {},
          "output_type": "display_data"
        },
        {
          "data": {
            "text/html": [
              " View sweep at <a href='https://wandb.ai/cs24m041-iit-madras/Mountain%20car%20linear/sweeps/ljctnt3t' target=\"_blank\">https://wandb.ai/cs24m041-iit-madras/Mountain%20car%20linear/sweeps/ljctnt3t</a>"
            ],
            "text/plain": [
              "<IPython.core.display.HTML object>"
            ]
          },
          "metadata": {},
          "output_type": "display_data"
        },
        {
          "data": {
            "text/html": [
              " View run at <a href='https://wandb.ai/cs24m041-iit-madras/Mountain%20car%20linear/runs/tstjspgp' target=\"_blank\">https://wandb.ai/cs24m041-iit-madras/Mountain%20car%20linear/runs/tstjspgp</a>"
            ],
            "text/plain": [
              "<IPython.core.display.HTML object>"
            ]
          },
          "metadata": {},
          "output_type": "display_data"
        },
        {
          "name": "stdout",
          "output_type": "stream",
          "text": [
            "Run:1\n",
            "Episode 0/500, Avg Reward (Last 100): -200.00, Epsilon: 0.1163\n",
            "Run:2\n",
            "Episode 0/500, Avg Reward (Last 100): -200.00, Epsilon: 0.1163\n",
            "Run:3\n",
            "Episode 0/500, Avg Reward (Last 100): -200.00, Epsilon: 0.1163\n",
            "Run:4\n",
            "Episode 0/500, Avg Reward (Last 100): -200.00, Epsilon: 0.1163\n",
            "Run:5\n",
            "Episode 0/500, Avg Reward (Last 100): -200.00, Epsilon: 0.1163\n"
          ]
        },
        {
          "data": {
            "text/html": [],
            "text/plain": [
              "<IPython.core.display.HTML object>"
            ]
          },
          "metadata": {},
          "output_type": "display_data"
        },
        {
          "data": {
            "text/html": [
              "<br>    <style><br>        .wandb-row {<br>            display: flex;<br>            flex-direction: row;<br>            flex-wrap: wrap;<br>            justify-content: flex-start;<br>            width: 100%;<br>        }<br>        .wandb-col {<br>            display: flex;<br>            flex-direction: column;<br>            flex-basis: 100%;<br>            flex: 1;<br>            padding: 10px;<br>        }<br>    </style><br><div class=\"wandb-row\"><div class=\"wandb-col\"><h3>Run history:</h3><br/><table class=\"wandb\"><tr><td>avg_cumulative_regret</td><td>▁▁▁▁▂▂▂▂▂▂▃▃▃▃▃▄▄▄▅▅▅▅▆▆▆▆▆▆▆▆▇▇▇▇▇█████</td></tr><tr><td>avg_reward</td><td>▁▁▁▁▁▁▁▁▁▁▁▁▁▁▁▁▁▁▁▁▁▁▁▁▁▁▁▁▁▁▁▁▁▁▁▁▁▁▁▁</td></tr><tr><td>episode</td><td>▁▁▁▁▁▂▂▂▂▂▃▃▃▄▄▄▄▄▅▅▅▅▅▆▆▆▆▆▆▆▇▇▇▇▇▇▇▇██</td></tr><tr><td>final average reward</td><td>▁</td></tr><tr><td>instantaneous_regret</td><td>▁▁▁▁▁▁▁▁▁▁▁▁▁▁▁▁▁▁▁▁▁▁▁▁▁▁▁▁▁▁▁▁▁▁▁▁▁▁▁▁</td></tr><tr><td>reward_std</td><td>▁▁▁▁▁▁▁▁▁▁▁▁▁▁▁▁▁▁▁▁▁▁▁▁▁▁▁▁▁▁▁▁▁▁▁▁▁▁▁▁</td></tr></table><br/></div><div class=\"wandb-col\"><h3>Run summary:</h3><br/><table class=\"wandb\"><tr><td>avg_cumulative_regret</td><td>45000</td></tr><tr><td>avg_reward</td><td>-200</td></tr><tr><td>episode</td><td>499</td></tr><tr><td>final average reward</td><td>-200</td></tr><tr><td>instantaneous_regret</td><td>90</td></tr><tr><td>reward_std</td><td>0</td></tr></table><br/></div></div>"
            ],
            "text/plain": [
              "<IPython.core.display.HTML object>"
            ]
          },
          "metadata": {},
          "output_type": "display_data"
        },
        {
          "data": {
            "text/html": [
              " View run <strong style=\"color:#cdcd00\">deft-sweep-18</strong> at: <a href='https://wandb.ai/cs24m041-iit-madras/Mountain%20car%20linear/runs/tstjspgp' target=\"_blank\">https://wandb.ai/cs24m041-iit-madras/Mountain%20car%20linear/runs/tstjspgp</a><br> View project at: <a href='https://wandb.ai/cs24m041-iit-madras/Mountain%20car%20linear' target=\"_blank\">https://wandb.ai/cs24m041-iit-madras/Mountain%20car%20linear</a><br>Synced 5 W&B file(s), 0 media file(s), 0 artifact file(s) and 0 other file(s)"
            ],
            "text/plain": [
              "<IPython.core.display.HTML object>"
            ]
          },
          "metadata": {},
          "output_type": "display_data"
        },
        {
          "data": {
            "text/html": [
              "Find logs at: <code>./wandb/run-20250325_121349-tstjspgp/logs</code>"
            ],
            "text/plain": [
              "<IPython.core.display.HTML object>"
            ]
          },
          "metadata": {},
          "output_type": "display_data"
        },
        {
          "name": "stderr",
          "output_type": "stream",
          "text": [
            "\u001b[34m\u001b[1mwandb\u001b[0m: Agent Starting Run: ry4yse3c with config:\n",
            "\u001b[34m\u001b[1mwandb\u001b[0m: \talgorithm: sarsa\n",
            "\u001b[34m\u001b[1mwandb\u001b[0m: \talpha: 0.002107298070358025\n",
            "\u001b[34m\u001b[1mwandb\u001b[0m: \tepsilon_decay: 0.9908451785126288\n",
            "\u001b[34m\u001b[1mwandb\u001b[0m: \tepsilon_min: 0.03931739286194832\n",
            "\u001b[34m\u001b[1mwandb\u001b[0m: \tepsilon_start: 0.5559559977683592\n",
            "\u001b[34m\u001b[1mwandb\u001b[0m: \tgamma: 0.8404095733867786\n",
            "\u001b[34m\u001b[1mwandb\u001b[0m: \tnumTiles: 20\n",
            "\u001b[34m\u001b[1mwandb\u001b[0m: \tnumTilings: 8\n",
            "\u001b[34m\u001b[1mwandb\u001b[0m: \tnum_episodes: 500\n"
          ]
        },
        {
          "data": {
            "text/html": [
              "Tracking run with wandb version 0.19.8"
            ],
            "text/plain": [
              "<IPython.core.display.HTML object>"
            ]
          },
          "metadata": {},
          "output_type": "display_data"
        },
        {
          "data": {
            "text/html": [
              "Run data is saved locally in <code>/content/wandb/run-20250325_122344-ry4yse3c</code>"
            ],
            "text/plain": [
              "<IPython.core.display.HTML object>"
            ]
          },
          "metadata": {},
          "output_type": "display_data"
        },
        {
          "data": {
            "text/html": [
              "Syncing run <strong><a href='https://wandb.ai/cs24m041-iit-madras/Mountain%20car%20linear/runs/ry4yse3c' target=\"_blank\">misty-sweep-19</a></strong> to <a href='https://wandb.ai/cs24m041-iit-madras/Mountain%20car%20linear' target=\"_blank\">Weights & Biases</a> (<a href='https://wandb.me/developer-guide' target=\"_blank\">docs</a>)<br>Sweep page: <a href='https://wandb.ai/cs24m041-iit-madras/Mountain%20car%20linear/sweeps/ljctnt3t' target=\"_blank\">https://wandb.ai/cs24m041-iit-madras/Mountain%20car%20linear/sweeps/ljctnt3t</a>"
            ],
            "text/plain": [
              "<IPython.core.display.HTML object>"
            ]
          },
          "metadata": {},
          "output_type": "display_data"
        },
        {
          "data": {
            "text/html": [
              " View project at <a href='https://wandb.ai/cs24m041-iit-madras/Mountain%20car%20linear' target=\"_blank\">https://wandb.ai/cs24m041-iit-madras/Mountain%20car%20linear</a>"
            ],
            "text/plain": [
              "<IPython.core.display.HTML object>"
            ]
          },
          "metadata": {},
          "output_type": "display_data"
        },
        {
          "data": {
            "text/html": [
              " View sweep at <a href='https://wandb.ai/cs24m041-iit-madras/Mountain%20car%20linear/sweeps/ljctnt3t' target=\"_blank\">https://wandb.ai/cs24m041-iit-madras/Mountain%20car%20linear/sweeps/ljctnt3t</a>"
            ],
            "text/plain": [
              "<IPython.core.display.HTML object>"
            ]
          },
          "metadata": {},
          "output_type": "display_data"
        },
        {
          "data": {
            "text/html": [
              " View run at <a href='https://wandb.ai/cs24m041-iit-madras/Mountain%20car%20linear/runs/ry4yse3c' target=\"_blank\">https://wandb.ai/cs24m041-iit-madras/Mountain%20car%20linear/runs/ry4yse3c</a>"
            ],
            "text/plain": [
              "<IPython.core.display.HTML object>"
            ]
          },
          "metadata": {},
          "output_type": "display_data"
        },
        {
          "name": "stdout",
          "output_type": "stream",
          "text": [
            "Run:1\n",
            "Episode 0/500, Avg Reward (Last 100): -200.00, Epsilon: 0.5509\n",
            "Run:2\n",
            "Episode 0/500, Avg Reward (Last 100): -200.00, Epsilon: 0.5509\n",
            "Run:3\n",
            "Episode 0/500, Avg Reward (Last 100): -200.00, Epsilon: 0.5509\n",
            "Run:4\n",
            "Episode 0/500, Avg Reward (Last 100): -200.00, Epsilon: 0.5509\n",
            "Run:5\n",
            "Episode 0/500, Avg Reward (Last 100): -200.00, Epsilon: 0.5509\n"
          ]
        },
        {
          "data": {
            "text/html": [],
            "text/plain": [
              "<IPython.core.display.HTML object>"
            ]
          },
          "metadata": {},
          "output_type": "display_data"
        },
        {
          "data": {
            "text/html": [
              "<br>    <style><br>        .wandb-row {<br>            display: flex;<br>            flex-direction: row;<br>            flex-wrap: wrap;<br>            justify-content: flex-start;<br>            width: 100%;<br>        }<br>        .wandb-col {<br>            display: flex;<br>            flex-direction: column;<br>            flex-basis: 100%;<br>            flex: 1;<br>            padding: 10px;<br>        }<br>    </style><br><div class=\"wandb-row\"><div class=\"wandb-col\"><h3>Run history:</h3><br/><table class=\"wandb\"><tr><td>avg_cumulative_regret</td><td>▁▁▁▁▁▂▂▂▂▂▂▂▂▂▃▃▄▄▄▄▄▅▅▅▅▅▆▆▆▆▆▆▇▇▇▇▇███</td></tr><tr><td>avg_reward</td><td>▁▁▁▁▁▁▁▁▁▁▁▁▁▁▁▁▁▁▁▁▁▁▁▁▁▁▁▁▁▁▁▁▁▁▁▁▁▁▁▁</td></tr><tr><td>episode</td><td>▁▁▁▂▃▃▃▃▃▃▃▃▃▄▄▄▄▄▄▅▅▅▅▅▆▆▆▆▆▆▆▆▇▇▇▇████</td></tr><tr><td>final average reward</td><td>▁</td></tr><tr><td>instantaneous_regret</td><td>▁▁▁▁▁▁▁▁▁▁▁▁▁▁▁▁▁▁▁▁▁▁▁▁▁▁▁▁▁▁▁▁▁▁▁▁▁▁▁▁</td></tr><tr><td>reward_std</td><td>▁▁▁▁▁▁▁▁▁▁▁▁▁▁▁▁▁▁▁▁▁▁▁▁▁▁▁▁▁▁▁▁▁▁▁▁▁▁▁▁</td></tr></table><br/></div><div class=\"wandb-col\"><h3>Run summary:</h3><br/><table class=\"wandb\"><tr><td>avg_cumulative_regret</td><td>45000</td></tr><tr><td>avg_reward</td><td>-200</td></tr><tr><td>episode</td><td>499</td></tr><tr><td>final average reward</td><td>-200</td></tr><tr><td>instantaneous_regret</td><td>90</td></tr><tr><td>reward_std</td><td>0</td></tr></table><br/></div></div>"
            ],
            "text/plain": [
              "<IPython.core.display.HTML object>"
            ]
          },
          "metadata": {},
          "output_type": "display_data"
        },
        {
          "data": {
            "text/html": [
              " View run <strong style=\"color:#cdcd00\">misty-sweep-19</strong> at: <a href='https://wandb.ai/cs24m041-iit-madras/Mountain%20car%20linear/runs/ry4yse3c' target=\"_blank\">https://wandb.ai/cs24m041-iit-madras/Mountain%20car%20linear/runs/ry4yse3c</a><br> View project at: <a href='https://wandb.ai/cs24m041-iit-madras/Mountain%20car%20linear' target=\"_blank\">https://wandb.ai/cs24m041-iit-madras/Mountain%20car%20linear</a><br>Synced 5 W&B file(s), 0 media file(s), 0 artifact file(s) and 0 other file(s)"
            ],
            "text/plain": [
              "<IPython.core.display.HTML object>"
            ]
          },
          "metadata": {},
          "output_type": "display_data"
        },
        {
          "data": {
            "text/html": [
              "Find logs at: <code>./wandb/run-20250325_122344-ry4yse3c/logs</code>"
            ],
            "text/plain": [
              "<IPython.core.display.HTML object>"
            ]
          },
          "metadata": {},
          "output_type": "display_data"
        },
        {
          "name": "stderr",
          "output_type": "stream",
          "text": [
            "\u001b[34m\u001b[1mwandb\u001b[0m: Agent Starting Run: kx1wnszz with config:\n",
            "\u001b[34m\u001b[1mwandb\u001b[0m: \talgorithm: sarsa\n",
            "\u001b[34m\u001b[1mwandb\u001b[0m: \talpha: 0.0007913948809450559\n",
            "\u001b[34m\u001b[1mwandb\u001b[0m: \tepsilon_decay: 0.9697167149855148\n",
            "\u001b[34m\u001b[1mwandb\u001b[0m: \tepsilon_min: 0.019570556498519825\n",
            "\u001b[34m\u001b[1mwandb\u001b[0m: \tepsilon_start: 0.25604679835283595\n",
            "\u001b[34m\u001b[1mwandb\u001b[0m: \tgamma: 0.8432492054957251\n",
            "\u001b[34m\u001b[1mwandb\u001b[0m: \tnumTiles: 10\n",
            "\u001b[34m\u001b[1mwandb\u001b[0m: \tnumTilings: 16\n",
            "\u001b[34m\u001b[1mwandb\u001b[0m: \tnum_episodes: 500\n"
          ]
        },
        {
          "data": {
            "text/html": [
              "Tracking run with wandb version 0.19.8"
            ],
            "text/plain": [
              "<IPython.core.display.HTML object>"
            ]
          },
          "metadata": {},
          "output_type": "display_data"
        },
        {
          "data": {
            "text/html": [
              "Run data is saved locally in <code>/content/wandb/run-20250325_122856-kx1wnszz</code>"
            ],
            "text/plain": [
              "<IPython.core.display.HTML object>"
            ]
          },
          "metadata": {},
          "output_type": "display_data"
        },
        {
          "data": {
            "text/html": [
              "Syncing run <strong><a href='https://wandb.ai/cs24m041-iit-madras/Mountain%20car%20linear/runs/kx1wnszz' target=\"_blank\">driven-sweep-20</a></strong> to <a href='https://wandb.ai/cs24m041-iit-madras/Mountain%20car%20linear' target=\"_blank\">Weights & Biases</a> (<a href='https://wandb.me/developer-guide' target=\"_blank\">docs</a>)<br>Sweep page: <a href='https://wandb.ai/cs24m041-iit-madras/Mountain%20car%20linear/sweeps/ljctnt3t' target=\"_blank\">https://wandb.ai/cs24m041-iit-madras/Mountain%20car%20linear/sweeps/ljctnt3t</a>"
            ],
            "text/plain": [
              "<IPython.core.display.HTML object>"
            ]
          },
          "metadata": {},
          "output_type": "display_data"
        },
        {
          "data": {
            "text/html": [
              " View project at <a href='https://wandb.ai/cs24m041-iit-madras/Mountain%20car%20linear' target=\"_blank\">https://wandb.ai/cs24m041-iit-madras/Mountain%20car%20linear</a>"
            ],
            "text/plain": [
              "<IPython.core.display.HTML object>"
            ]
          },
          "metadata": {},
          "output_type": "display_data"
        },
        {
          "data": {
            "text/html": [
              " View sweep at <a href='https://wandb.ai/cs24m041-iit-madras/Mountain%20car%20linear/sweeps/ljctnt3t' target=\"_blank\">https://wandb.ai/cs24m041-iit-madras/Mountain%20car%20linear/sweeps/ljctnt3t</a>"
            ],
            "text/plain": [
              "<IPython.core.display.HTML object>"
            ]
          },
          "metadata": {},
          "output_type": "display_data"
        },
        {
          "data": {
            "text/html": [
              " View run at <a href='https://wandb.ai/cs24m041-iit-madras/Mountain%20car%20linear/runs/kx1wnszz' target=\"_blank\">https://wandb.ai/cs24m041-iit-madras/Mountain%20car%20linear/runs/kx1wnszz</a>"
            ],
            "text/plain": [
              "<IPython.core.display.HTML object>"
            ]
          },
          "metadata": {},
          "output_type": "display_data"
        },
        {
          "name": "stdout",
          "output_type": "stream",
          "text": [
            "Run:1\n",
            "Episode 0/500, Avg Reward (Last 100): -200.00, Epsilon: 0.2483\n",
            "Run:2\n",
            "Episode 0/500, Avg Reward (Last 100): -200.00, Epsilon: 0.2483\n",
            "Run:3\n",
            "Episode 0/500, Avg Reward (Last 100): -200.00, Epsilon: 0.2483\n",
            "Run:4\n",
            "Episode 0/500, Avg Reward (Last 100): -200.00, Epsilon: 0.2483\n",
            "Run:5\n",
            "Episode 0/500, Avg Reward (Last 100): -200.00, Epsilon: 0.2483\n"
          ]
        },
        {
          "data": {
            "text/html": [],
            "text/plain": [
              "<IPython.core.display.HTML object>"
            ]
          },
          "metadata": {},
          "output_type": "display_data"
        },
        {
          "data": {
            "text/html": [
              "<br>    <style><br>        .wandb-row {<br>            display: flex;<br>            flex-direction: row;<br>            flex-wrap: wrap;<br>            justify-content: flex-start;<br>            width: 100%;<br>        }<br>        .wandb-col {<br>            display: flex;<br>            flex-direction: column;<br>            flex-basis: 100%;<br>            flex: 1;<br>            padding: 10px;<br>        }<br>    </style><br><div class=\"wandb-row\"><div class=\"wandb-col\"><h3>Run history:</h3><br/><table class=\"wandb\"><tr><td>avg_cumulative_regret</td><td>▁▁▁▂▂▂▂▂▂▂▃▃▃▃▃▃▄▄▄▄▄▄▄▅▅▆▆▆▆▆▇▇▇▇▇█████</td></tr><tr><td>avg_reward</td><td>▁▁▁▁▁▁▁▁▁▁▁▁▁▁▁▁▁▁▁▁▁▁▁▁▁▁▁▁▁▁▁▁▁▁▁▁▁▁▁▁</td></tr><tr><td>episode</td><td>▁▁▂▂▂▃▃▃▃▄▄▄▄▅▅▅▅▅▅▅▅▅▅▅▅▆▆▆▇▇▇▇▇▇▇█████</td></tr><tr><td>final average reward</td><td>▁</td></tr><tr><td>instantaneous_regret</td><td>▁▁▁▁▁▁▁▁▁▁▁▁▁▁▁▁▁▁▁▁▁▁▁▁▁▁▁▁▁▁▁▁▁▁▁▁▁▁▁▁</td></tr><tr><td>reward_std</td><td>▁▁▁▁▁▁▁▁▁▁▁▁▁▁▁▁▁▁▁▁▁▁▁▁▁▁▁▁▁▁▁▁▁▁▁▁▁▁▁▁</td></tr></table><br/></div><div class=\"wandb-col\"><h3>Run summary:</h3><br/><table class=\"wandb\"><tr><td>avg_cumulative_regret</td><td>45000</td></tr><tr><td>avg_reward</td><td>-200</td></tr><tr><td>episode</td><td>499</td></tr><tr><td>final average reward</td><td>-200</td></tr><tr><td>instantaneous_regret</td><td>90</td></tr><tr><td>reward_std</td><td>0</td></tr></table><br/></div></div>"
            ],
            "text/plain": [
              "<IPython.core.display.HTML object>"
            ]
          },
          "metadata": {},
          "output_type": "display_data"
        },
        {
          "data": {
            "text/html": [
              " View run <strong style=\"color:#cdcd00\">driven-sweep-20</strong> at: <a href='https://wandb.ai/cs24m041-iit-madras/Mountain%20car%20linear/runs/kx1wnszz' target=\"_blank\">https://wandb.ai/cs24m041-iit-madras/Mountain%20car%20linear/runs/kx1wnszz</a><br> View project at: <a href='https://wandb.ai/cs24m041-iit-madras/Mountain%20car%20linear' target=\"_blank\">https://wandb.ai/cs24m041-iit-madras/Mountain%20car%20linear</a><br>Synced 5 W&B file(s), 0 media file(s), 0 artifact file(s) and 0 other file(s)"
            ],
            "text/plain": [
              "<IPython.core.display.HTML object>"
            ]
          },
          "metadata": {},
          "output_type": "display_data"
        },
        {
          "data": {
            "text/html": [
              "Find logs at: <code>./wandb/run-20250325_122856-kx1wnszz/logs</code>"
            ],
            "text/plain": [
              "<IPython.core.display.HTML object>"
            ]
          },
          "metadata": {},
          "output_type": "display_data"
        },
        {
          "name": "stderr",
          "output_type": "stream",
          "text": [
            "\u001b[34m\u001b[1mwandb\u001b[0m: Agent Starting Run: v5ix7nyu with config:\n",
            "\u001b[34m\u001b[1mwandb\u001b[0m: \talgorithm: sarsa\n",
            "\u001b[34m\u001b[1mwandb\u001b[0m: \talpha: 0.4456228716694619\n",
            "\u001b[34m\u001b[1mwandb\u001b[0m: \tepsilon_decay: 0.990230971250071\n",
            "\u001b[34m\u001b[1mwandb\u001b[0m: \tepsilon_min: 0.01486709550573566\n",
            "\u001b[34m\u001b[1mwandb\u001b[0m: \tepsilon_start: 0.7179229788612933\n",
            "\u001b[34m\u001b[1mwandb\u001b[0m: \tgamma: 0.884003043277154\n",
            "\u001b[34m\u001b[1mwandb\u001b[0m: \tnumTiles: 5\n",
            "\u001b[34m\u001b[1mwandb\u001b[0m: \tnumTilings: 4\n",
            "\u001b[34m\u001b[1mwandb\u001b[0m: \tnum_episodes: 500\n"
          ]
        },
        {
          "data": {
            "text/html": [
              "Tracking run with wandb version 0.19.8"
            ],
            "text/plain": [
              "<IPython.core.display.HTML object>"
            ]
          },
          "metadata": {},
          "output_type": "display_data"
        },
        {
          "data": {
            "text/html": [
              "Run data is saved locally in <code>/content/wandb/run-20250325_123855-v5ix7nyu</code>"
            ],
            "text/plain": [
              "<IPython.core.display.HTML object>"
            ]
          },
          "metadata": {},
          "output_type": "display_data"
        },
        {
          "data": {
            "text/html": [
              "Syncing run <strong><a href='https://wandb.ai/cs24m041-iit-madras/Mountain%20car%20linear/runs/v5ix7nyu' target=\"_blank\">effortless-sweep-21</a></strong> to <a href='https://wandb.ai/cs24m041-iit-madras/Mountain%20car%20linear' target=\"_blank\">Weights & Biases</a> (<a href='https://wandb.me/developer-guide' target=\"_blank\">docs</a>)<br>Sweep page: <a href='https://wandb.ai/cs24m041-iit-madras/Mountain%20car%20linear/sweeps/ljctnt3t' target=\"_blank\">https://wandb.ai/cs24m041-iit-madras/Mountain%20car%20linear/sweeps/ljctnt3t</a>"
            ],
            "text/plain": [
              "<IPython.core.display.HTML object>"
            ]
          },
          "metadata": {},
          "output_type": "display_data"
        },
        {
          "data": {
            "text/html": [
              " View project at <a href='https://wandb.ai/cs24m041-iit-madras/Mountain%20car%20linear' target=\"_blank\">https://wandb.ai/cs24m041-iit-madras/Mountain%20car%20linear</a>"
            ],
            "text/plain": [
              "<IPython.core.display.HTML object>"
            ]
          },
          "metadata": {},
          "output_type": "display_data"
        },
        {
          "data": {
            "text/html": [
              " View sweep at <a href='https://wandb.ai/cs24m041-iit-madras/Mountain%20car%20linear/sweeps/ljctnt3t' target=\"_blank\">https://wandb.ai/cs24m041-iit-madras/Mountain%20car%20linear/sweeps/ljctnt3t</a>"
            ],
            "text/plain": [
              "<IPython.core.display.HTML object>"
            ]
          },
          "metadata": {},
          "output_type": "display_data"
        },
        {
          "data": {
            "text/html": [
              " View run at <a href='https://wandb.ai/cs24m041-iit-madras/Mountain%20car%20linear/runs/v5ix7nyu' target=\"_blank\">https://wandb.ai/cs24m041-iit-madras/Mountain%20car%20linear/runs/v5ix7nyu</a>"
            ],
            "text/plain": [
              "<IPython.core.display.HTML object>"
            ]
          },
          "metadata": {},
          "output_type": "display_data"
        },
        {
          "name": "stdout",
          "output_type": "stream",
          "text": [
            "Run:1\n",
            "Episode 0/500, Avg Reward (Last 100): -200.00, Epsilon: 0.7109\n",
            "Run:2\n",
            "Episode 0/500, Avg Reward (Last 100): -200.00, Epsilon: 0.7109\n",
            "Run:3\n",
            "Episode 0/500, Avg Reward (Last 100): -200.00, Epsilon: 0.7109\n",
            "Run:4\n",
            "Episode 0/500, Avg Reward (Last 100): -200.00, Epsilon: 0.7109\n",
            "Run:5\n",
            "Episode 0/500, Avg Reward (Last 100): -200.00, Epsilon: 0.7109\n"
          ]
        },
        {
          "data": {
            "text/html": [],
            "text/plain": [
              "<IPython.core.display.HTML object>"
            ]
          },
          "metadata": {},
          "output_type": "display_data"
        },
        {
          "data": {
            "text/html": [
              "<br>    <style><br>        .wandb-row {<br>            display: flex;<br>            flex-direction: row;<br>            flex-wrap: wrap;<br>            justify-content: flex-start;<br>            width: 100%;<br>        }<br>        .wandb-col {<br>            display: flex;<br>            flex-direction: column;<br>            flex-basis: 100%;<br>            flex: 1;<br>            padding: 10px;<br>        }<br>    </style><br><div class=\"wandb-row\"><div class=\"wandb-col\"><h3>Run history:</h3><br/><table class=\"wandb\"><tr><td>avg_cumulative_regret</td><td>▁▁▁▁▂▂▂▂▃▃▃▃▃▃▃▄▄▄▄▄▅▅▅▅▅▅▆▆▆▆▇▇▇▇▇▇▇███</td></tr><tr><td>avg_reward</td><td>▁▁▁▁▁▁▁▁▁▁▁▁▁▁▁▁▁▁▁▁▁▁▁█▁▁▁▁▁▁▁▁▁▁▁▁▁▁▁▁</td></tr><tr><td>episode</td><td>▁▁▁▁▁▂▂▂▂▂▃▃▃▃▃▄▄▄▄▄▄▅▅▅▅▅▅▅▅▅▆▆▆▆▆▇▇▇▇█</td></tr><tr><td>final average reward</td><td>▁</td></tr><tr><td>instantaneous_regret</td><td>▁▁▁▁▁▁▁▁▁▁▁▁▁▁▁▁▁▁▁▁▁▁▁▁▁▁▁▁▁▁▁▁▁▁▁▁▁▁▁▁</td></tr><tr><td>reward_std</td><td>▁▁▁▁▁▁▁▁▁▁▁▁▁▁▁▁▁▁▁▁▁▁▁▁▁▁▁▁▁▁▁▁▁▁▁▁▁▁▁▁</td></tr></table><br/></div><div class=\"wandb-col\"><h3>Run summary:</h3><br/><table class=\"wandb\"><tr><td>avg_cumulative_regret</td><td>44910.2</td></tr><tr><td>avg_reward</td><td>-200</td></tr><tr><td>episode</td><td>499</td></tr><tr><td>final average reward</td><td>-200</td></tr><tr><td>instantaneous_regret</td><td>90</td></tr><tr><td>reward_std</td><td>0</td></tr></table><br/></div></div>"
            ],
            "text/plain": [
              "<IPython.core.display.HTML object>"
            ]
          },
          "metadata": {},
          "output_type": "display_data"
        },
        {
          "data": {
            "text/html": [
              " View run <strong style=\"color:#cdcd00\">effortless-sweep-21</strong> at: <a href='https://wandb.ai/cs24m041-iit-madras/Mountain%20car%20linear/runs/v5ix7nyu' target=\"_blank\">https://wandb.ai/cs24m041-iit-madras/Mountain%20car%20linear/runs/v5ix7nyu</a><br> View project at: <a href='https://wandb.ai/cs24m041-iit-madras/Mountain%20car%20linear' target=\"_blank\">https://wandb.ai/cs24m041-iit-madras/Mountain%20car%20linear</a><br>Synced 5 W&B file(s), 0 media file(s), 0 artifact file(s) and 0 other file(s)"
            ],
            "text/plain": [
              "<IPython.core.display.HTML object>"
            ]
          },
          "metadata": {},
          "output_type": "display_data"
        },
        {
          "data": {
            "text/html": [
              "Find logs at: <code>./wandb/run-20250325_123855-v5ix7nyu/logs</code>"
            ],
            "text/plain": [
              "<IPython.core.display.HTML object>"
            ]
          },
          "metadata": {},
          "output_type": "display_data"
        },
        {
          "name": "stderr",
          "output_type": "stream",
          "text": [
            "\u001b[34m\u001b[1mwandb\u001b[0m: Agent Starting Run: 5pfjvn1y with config:\n",
            "\u001b[34m\u001b[1mwandb\u001b[0m: \talgorithm: sarsa\n",
            "\u001b[34m\u001b[1mwandb\u001b[0m: \talpha: 0.0008193191355040448\n",
            "\u001b[34m\u001b[1mwandb\u001b[0m: \tepsilon_decay: 0.95294279570332\n",
            "\u001b[34m\u001b[1mwandb\u001b[0m: \tepsilon_min: 0.07695552512328264\n",
            "\u001b[34m\u001b[1mwandb\u001b[0m: \tepsilon_start: 0.2642468295152129\n",
            "\u001b[34m\u001b[1mwandb\u001b[0m: \tgamma: 0.880433493310659\n",
            "\u001b[34m\u001b[1mwandb\u001b[0m: \tnumTiles: 5\n",
            "\u001b[34m\u001b[1mwandb\u001b[0m: \tnumTilings: 8\n",
            "\u001b[34m\u001b[1mwandb\u001b[0m: \tnum_episodes: 500\n"
          ]
        },
        {
          "data": {
            "text/html": [
              "Tracking run with wandb version 0.19.8"
            ],
            "text/plain": [
              "<IPython.core.display.HTML object>"
            ]
          },
          "metadata": {},
          "output_type": "display_data"
        },
        {
          "data": {
            "text/html": [
              "Run data is saved locally in <code>/content/wandb/run-20250325_124152-5pfjvn1y</code>"
            ],
            "text/plain": [
              "<IPython.core.display.HTML object>"
            ]
          },
          "metadata": {},
          "output_type": "display_data"
        },
        {
          "data": {
            "text/html": [
              "Syncing run <strong><a href='https://wandb.ai/cs24m041-iit-madras/Mountain%20car%20linear/runs/5pfjvn1y' target=\"_blank\">ancient-sweep-22</a></strong> to <a href='https://wandb.ai/cs24m041-iit-madras/Mountain%20car%20linear' target=\"_blank\">Weights & Biases</a> (<a href='https://wandb.me/developer-guide' target=\"_blank\">docs</a>)<br>Sweep page: <a href='https://wandb.ai/cs24m041-iit-madras/Mountain%20car%20linear/sweeps/ljctnt3t' target=\"_blank\">https://wandb.ai/cs24m041-iit-madras/Mountain%20car%20linear/sweeps/ljctnt3t</a>"
            ],
            "text/plain": [
              "<IPython.core.display.HTML object>"
            ]
          },
          "metadata": {},
          "output_type": "display_data"
        },
        {
          "data": {
            "text/html": [
              " View project at <a href='https://wandb.ai/cs24m041-iit-madras/Mountain%20car%20linear' target=\"_blank\">https://wandb.ai/cs24m041-iit-madras/Mountain%20car%20linear</a>"
            ],
            "text/plain": [
              "<IPython.core.display.HTML object>"
            ]
          },
          "metadata": {},
          "output_type": "display_data"
        },
        {
          "data": {
            "text/html": [
              " View sweep at <a href='https://wandb.ai/cs24m041-iit-madras/Mountain%20car%20linear/sweeps/ljctnt3t' target=\"_blank\">https://wandb.ai/cs24m041-iit-madras/Mountain%20car%20linear/sweeps/ljctnt3t</a>"
            ],
            "text/plain": [
              "<IPython.core.display.HTML object>"
            ]
          },
          "metadata": {},
          "output_type": "display_data"
        },
        {
          "data": {
            "text/html": [
              " View run at <a href='https://wandb.ai/cs24m041-iit-madras/Mountain%20car%20linear/runs/5pfjvn1y' target=\"_blank\">https://wandb.ai/cs24m041-iit-madras/Mountain%20car%20linear/runs/5pfjvn1y</a>"
            ],
            "text/plain": [
              "<IPython.core.display.HTML object>"
            ]
          },
          "metadata": {},
          "output_type": "display_data"
        },
        {
          "name": "stdout",
          "output_type": "stream",
          "text": [
            "Run:1\n",
            "Episode 0/500, Avg Reward (Last 100): -200.00, Epsilon: 0.2518\n",
            "Run:2\n",
            "Episode 0/500, Avg Reward (Last 100): -200.00, Epsilon: 0.2518\n",
            "Run:3\n",
            "Episode 0/500, Avg Reward (Last 100): -200.00, Epsilon: 0.2518\n",
            "Run:4\n",
            "Episode 0/500, Avg Reward (Last 100): -200.00, Epsilon: 0.2518\n",
            "Run:5\n",
            "Episode 0/500, Avg Reward (Last 100): -200.00, Epsilon: 0.2518\n"
          ]
        },
        {
          "data": {
            "text/html": [],
            "text/plain": [
              "<IPython.core.display.HTML object>"
            ]
          },
          "metadata": {},
          "output_type": "display_data"
        },
        {
          "data": {
            "text/html": [
              "<br>    <style><br>        .wandb-row {<br>            display: flex;<br>            flex-direction: row;<br>            flex-wrap: wrap;<br>            justify-content: flex-start;<br>            width: 100%;<br>        }<br>        .wandb-col {<br>            display: flex;<br>            flex-direction: column;<br>            flex-basis: 100%;<br>            flex: 1;<br>            padding: 10px;<br>        }<br>    </style><br><div class=\"wandb-row\"><div class=\"wandb-col\"><h3>Run history:</h3><br/><table class=\"wandb\"><tr><td>avg_cumulative_regret</td><td>▁▁▁▁▂▂▂▂▂▂▂▃▃▃▃▄▄▄▄▄▄▄▅▅▅▅▅▅▅▅▅▆▆▆▆▇▇▇██</td></tr><tr><td>avg_reward</td><td>▁▁▁▁▁▁▁▁▁▁▁▁▁▁▁▁▁▁▁▁▁▁▁▁▁▁▁▁▁▁▁▁▁▁▁▁▁▁▁▁</td></tr><tr><td>episode</td><td>▁▁▁▁▁▂▂▂▃▃▃▃▃▃▃▃▃▄▄▄▄▄▄▅▅▆▆▆▆▆▇▇▇▇▇▇▇▇██</td></tr><tr><td>final average reward</td><td>▁</td></tr><tr><td>instantaneous_regret</td><td>▁▁▁▁▁▁▁▁▁▁▁▁▁▁▁▁▁▁▁▁▁▁▁▁▁▁▁▁▁▁▁▁▁▁▁▁▁▁▁▁</td></tr><tr><td>reward_std</td><td>▁▁▁▁▁▁▁▁▁▁▁▁▁▁▁▁▁▁▁▁▁▁▁▁▁▁▁▁▁▁▁▁▁▁▁▁▁▁▁▁</td></tr></table><br/></div><div class=\"wandb-col\"><h3>Run summary:</h3><br/><table class=\"wandb\"><tr><td>avg_cumulative_regret</td><td>45000</td></tr><tr><td>avg_reward</td><td>-200</td></tr><tr><td>episode</td><td>499</td></tr><tr><td>final average reward</td><td>-200</td></tr><tr><td>instantaneous_regret</td><td>90</td></tr><tr><td>reward_std</td><td>0</td></tr></table><br/></div></div>"
            ],
            "text/plain": [
              "<IPython.core.display.HTML object>"
            ]
          },
          "metadata": {},
          "output_type": "display_data"
        },
        {
          "data": {
            "text/html": [
              " View run <strong style=\"color:#cdcd00\">ancient-sweep-22</strong> at: <a href='https://wandb.ai/cs24m041-iit-madras/Mountain%20car%20linear/runs/5pfjvn1y' target=\"_blank\">https://wandb.ai/cs24m041-iit-madras/Mountain%20car%20linear/runs/5pfjvn1y</a><br> View project at: <a href='https://wandb.ai/cs24m041-iit-madras/Mountain%20car%20linear' target=\"_blank\">https://wandb.ai/cs24m041-iit-madras/Mountain%20car%20linear</a><br>Synced 5 W&B file(s), 0 media file(s), 0 artifact file(s) and 0 other file(s)"
            ],
            "text/plain": [
              "<IPython.core.display.HTML object>"
            ]
          },
          "metadata": {},
          "output_type": "display_data"
        },
        {
          "data": {
            "text/html": [
              "Find logs at: <code>./wandb/run-20250325_124152-5pfjvn1y/logs</code>"
            ],
            "text/plain": [
              "<IPython.core.display.HTML object>"
            ]
          },
          "metadata": {},
          "output_type": "display_data"
        },
        {
          "name": "stderr",
          "output_type": "stream",
          "text": [
            "\u001b[34m\u001b[1mwandb\u001b[0m: Agent Starting Run: 4lke9o1n with config:\n",
            "\u001b[34m\u001b[1mwandb\u001b[0m: \talgorithm: sarsa\n",
            "\u001b[34m\u001b[1mwandb\u001b[0m: \talpha: 0.496025342914045\n",
            "\u001b[34m\u001b[1mwandb\u001b[0m: \tepsilon_decay: 0.9779569626530716\n",
            "\u001b[34m\u001b[1mwandb\u001b[0m: \tepsilon_min: 0.028022281640534333\n",
            "\u001b[34m\u001b[1mwandb\u001b[0m: \tepsilon_start: 0.6149900919041684\n",
            "\u001b[34m\u001b[1mwandb\u001b[0m: \tgamma: 0.9042931877194448\n",
            "\u001b[34m\u001b[1mwandb\u001b[0m: \tnumTiles: 10\n",
            "\u001b[34m\u001b[1mwandb\u001b[0m: \tnumTilings: 4\n",
            "\u001b[34m\u001b[1mwandb\u001b[0m: \tnum_episodes: 500\n"
          ]
        },
        {
          "data": {
            "text/html": [
              "Tracking run with wandb version 0.19.8"
            ],
            "text/plain": [
              "<IPython.core.display.HTML object>"
            ]
          },
          "metadata": {},
          "output_type": "display_data"
        },
        {
          "data": {
            "text/html": [
              "Run data is saved locally in <code>/content/wandb/run-20250325_124658-4lke9o1n</code>"
            ],
            "text/plain": [
              "<IPython.core.display.HTML object>"
            ]
          },
          "metadata": {},
          "output_type": "display_data"
        },
        {
          "data": {
            "text/html": [
              "Syncing run <strong><a href='https://wandb.ai/cs24m041-iit-madras/Mountain%20car%20linear/runs/4lke9o1n' target=\"_blank\">lyric-sweep-23</a></strong> to <a href='https://wandb.ai/cs24m041-iit-madras/Mountain%20car%20linear' target=\"_blank\">Weights & Biases</a> (<a href='https://wandb.me/developer-guide' target=\"_blank\">docs</a>)<br>Sweep page: <a href='https://wandb.ai/cs24m041-iit-madras/Mountain%20car%20linear/sweeps/ljctnt3t' target=\"_blank\">https://wandb.ai/cs24m041-iit-madras/Mountain%20car%20linear/sweeps/ljctnt3t</a>"
            ],
            "text/plain": [
              "<IPython.core.display.HTML object>"
            ]
          },
          "metadata": {},
          "output_type": "display_data"
        },
        {
          "data": {
            "text/html": [
              " View project at <a href='https://wandb.ai/cs24m041-iit-madras/Mountain%20car%20linear' target=\"_blank\">https://wandb.ai/cs24m041-iit-madras/Mountain%20car%20linear</a>"
            ],
            "text/plain": [
              "<IPython.core.display.HTML object>"
            ]
          },
          "metadata": {},
          "output_type": "display_data"
        },
        {
          "data": {
            "text/html": [
              " View sweep at <a href='https://wandb.ai/cs24m041-iit-madras/Mountain%20car%20linear/sweeps/ljctnt3t' target=\"_blank\">https://wandb.ai/cs24m041-iit-madras/Mountain%20car%20linear/sweeps/ljctnt3t</a>"
            ],
            "text/plain": [
              "<IPython.core.display.HTML object>"
            ]
          },
          "metadata": {},
          "output_type": "display_data"
        },
        {
          "data": {
            "text/html": [
              " View run at <a href='https://wandb.ai/cs24m041-iit-madras/Mountain%20car%20linear/runs/4lke9o1n' target=\"_blank\">https://wandb.ai/cs24m041-iit-madras/Mountain%20car%20linear/runs/4lke9o1n</a>"
            ],
            "text/plain": [
              "<IPython.core.display.HTML object>"
            ]
          },
          "metadata": {},
          "output_type": "display_data"
        },
        {
          "name": "stdout",
          "output_type": "stream",
          "text": [
            "Run:1\n",
            "Episode 0/500, Avg Reward (Last 100): -200.00, Epsilon: 0.6014\n",
            "Run:2\n",
            "Episode 0/500, Avg Reward (Last 100): -200.00, Epsilon: 0.6014\n",
            "Run:3\n",
            "Episode 0/500, Avg Reward (Last 100): -200.00, Epsilon: 0.6014\n",
            "Run:4\n",
            "Episode 0/500, Avg Reward (Last 100): -200.00, Epsilon: 0.6014\n",
            "Run:5\n",
            "Episode 0/500, Avg Reward (Last 100): -200.00, Epsilon: 0.6014\n"
          ]
        },
        {
          "data": {
            "text/html": [],
            "text/plain": [
              "<IPython.core.display.HTML object>"
            ]
          },
          "metadata": {},
          "output_type": "display_data"
        },
        {
          "data": {
            "text/html": [
              "<br>    <style><br>        .wandb-row {<br>            display: flex;<br>            flex-direction: row;<br>            flex-wrap: wrap;<br>            justify-content: flex-start;<br>            width: 100%;<br>        }<br>        .wandb-col {<br>            display: flex;<br>            flex-direction: column;<br>            flex-basis: 100%;<br>            flex: 1;<br>            padding: 10px;<br>        }<br>    </style><br><div class=\"wandb-row\"><div class=\"wandb-col\"><h3>Run history:</h3><br/><table class=\"wandb\"><tr><td>avg_cumulative_regret</td><td>▁▁▂▂▂▂▂▂▂▃▃▃▃▃▃▄▄▄▄▄▅▅▅▅▅▅▅▆▆▆▆▆▆▆▇▇▇▇▇█</td></tr><tr><td>avg_reward</td><td>▁▁▁▁▁▁▁▁▁▁▄▁▆▂▆▄▁█▅▄▄▁▄▁▂▁▁▄▁▁▂▁▁▄▁▁▂▁▁▁</td></tr><tr><td>episode</td><td>▁▁▁▁▁▁▂▂▂▂▂▂▃▃▃▄▄▄▄▄▅▅▅▅▅▆▆▆▆▆▆▆▇▇▇▇▇▇▇█</td></tr><tr><td>final average reward</td><td>▁</td></tr><tr><td>instantaneous_regret</td><td>████▆███▆▂▇▆▆▆█▅█▃▃▃▁▅▆▁▆███████████▇▅██</td></tr><tr><td>reward_std</td><td>▁▁▁▁▁▁▄▁▂▁▄▅▆▅▄▁▅▅█▅▅▂▆▂▁▁▁▁▁▁▁▁▁▁▁▂▁▁▁▁</td></tr></table><br/></div><div class=\"wandb-col\"><h3>Run summary:</h3><br/><table class=\"wandb\"><tr><td>avg_cumulative_regret</td><td>42923.4</td></tr><tr><td>avg_reward</td><td>-200</td></tr><tr><td>episode</td><td>499</td></tr><tr><td>final average reward</td><td>-200</td></tr><tr><td>instantaneous_regret</td><td>90</td></tr><tr><td>reward_std</td><td>0</td></tr></table><br/></div></div>"
            ],
            "text/plain": [
              "<IPython.core.display.HTML object>"
            ]
          },
          "metadata": {},
          "output_type": "display_data"
        },
        {
          "data": {
            "text/html": [
              " View run <strong style=\"color:#cdcd00\">lyric-sweep-23</strong> at: <a href='https://wandb.ai/cs24m041-iit-madras/Mountain%20car%20linear/runs/4lke9o1n' target=\"_blank\">https://wandb.ai/cs24m041-iit-madras/Mountain%20car%20linear/runs/4lke9o1n</a><br> View project at: <a href='https://wandb.ai/cs24m041-iit-madras/Mountain%20car%20linear' target=\"_blank\">https://wandb.ai/cs24m041-iit-madras/Mountain%20car%20linear</a><br>Synced 5 W&B file(s), 0 media file(s), 0 artifact file(s) and 0 other file(s)"
            ],
            "text/plain": [
              "<IPython.core.display.HTML object>"
            ]
          },
          "metadata": {},
          "output_type": "display_data"
        },
        {
          "data": {
            "text/html": [
              "Find logs at: <code>./wandb/run-20250325_124658-4lke9o1n/logs</code>"
            ],
            "text/plain": [
              "<IPython.core.display.HTML object>"
            ]
          },
          "metadata": {},
          "output_type": "display_data"
        },
        {
          "name": "stderr",
          "output_type": "stream",
          "text": [
            "\u001b[34m\u001b[1mwandb\u001b[0m: Agent Starting Run: 9crcnw9y with config:\n",
            "\u001b[34m\u001b[1mwandb\u001b[0m: \talgorithm: sarsa\n",
            "\u001b[34m\u001b[1mwandb\u001b[0m: \talpha: 0.006191806924451878\n",
            "\u001b[34m\u001b[1mwandb\u001b[0m: \tepsilon_decay: 0.9798385866306064\n",
            "\u001b[34m\u001b[1mwandb\u001b[0m: \tepsilon_min: 0.08691735586358221\n",
            "\u001b[34m\u001b[1mwandb\u001b[0m: \tepsilon_start: 0.8341130877927678\n",
            "\u001b[34m\u001b[1mwandb\u001b[0m: \tgamma: 0.9715123336229108\n",
            "\u001b[34m\u001b[1mwandb\u001b[0m: \tnumTiles: 5\n",
            "\u001b[34m\u001b[1mwandb\u001b[0m: \tnumTilings: 4\n",
            "\u001b[34m\u001b[1mwandb\u001b[0m: \tnum_episodes: 500\n"
          ]
        },
        {
          "data": {
            "text/html": [
              "Tracking run with wandb version 0.19.8"
            ],
            "text/plain": [
              "<IPython.core.display.HTML object>"
            ]
          },
          "metadata": {},
          "output_type": "display_data"
        },
        {
          "data": {
            "text/html": [
              "Run data is saved locally in <code>/content/wandb/run-20250325_124950-9crcnw9y</code>"
            ],
            "text/plain": [
              "<IPython.core.display.HTML object>"
            ]
          },
          "metadata": {},
          "output_type": "display_data"
        },
        {
          "data": {
            "text/html": [
              "Syncing run <strong><a href='https://wandb.ai/cs24m041-iit-madras/Mountain%20car%20linear/runs/9crcnw9y' target=\"_blank\">atomic-sweep-24</a></strong> to <a href='https://wandb.ai/cs24m041-iit-madras/Mountain%20car%20linear' target=\"_blank\">Weights & Biases</a> (<a href='https://wandb.me/developer-guide' target=\"_blank\">docs</a>)<br>Sweep page: <a href='https://wandb.ai/cs24m041-iit-madras/Mountain%20car%20linear/sweeps/ljctnt3t' target=\"_blank\">https://wandb.ai/cs24m041-iit-madras/Mountain%20car%20linear/sweeps/ljctnt3t</a>"
            ],
            "text/plain": [
              "<IPython.core.display.HTML object>"
            ]
          },
          "metadata": {},
          "output_type": "display_data"
        },
        {
          "data": {
            "text/html": [
              " View project at <a href='https://wandb.ai/cs24m041-iit-madras/Mountain%20car%20linear' target=\"_blank\">https://wandb.ai/cs24m041-iit-madras/Mountain%20car%20linear</a>"
            ],
            "text/plain": [
              "<IPython.core.display.HTML object>"
            ]
          },
          "metadata": {},
          "output_type": "display_data"
        },
        {
          "data": {
            "text/html": [
              " View sweep at <a href='https://wandb.ai/cs24m041-iit-madras/Mountain%20car%20linear/sweeps/ljctnt3t' target=\"_blank\">https://wandb.ai/cs24m041-iit-madras/Mountain%20car%20linear/sweeps/ljctnt3t</a>"
            ],
            "text/plain": [
              "<IPython.core.display.HTML object>"
            ]
          },
          "metadata": {},
          "output_type": "display_data"
        },
        {
          "data": {
            "text/html": [
              " View run at <a href='https://wandb.ai/cs24m041-iit-madras/Mountain%20car%20linear/runs/9crcnw9y' target=\"_blank\">https://wandb.ai/cs24m041-iit-madras/Mountain%20car%20linear/runs/9crcnw9y</a>"
            ],
            "text/plain": [
              "<IPython.core.display.HTML object>"
            ]
          },
          "metadata": {},
          "output_type": "display_data"
        },
        {
          "name": "stdout",
          "output_type": "stream",
          "text": [
            "Run:1\n",
            "Episode 0/500, Avg Reward (Last 100): -200.00, Epsilon: 0.8173\n",
            "Run:2\n",
            "Episode 0/500, Avg Reward (Last 100): -200.00, Epsilon: 0.8173\n",
            "Run:3\n",
            "Episode 0/500, Avg Reward (Last 100): -200.00, Epsilon: 0.8173\n",
            "Run:4\n",
            "Episode 0/500, Avg Reward (Last 100): -200.00, Epsilon: 0.8173\n",
            "Run:5\n",
            "Episode 0/500, Avg Reward (Last 100): -200.00, Epsilon: 0.8173\n"
          ]
        },
        {
          "data": {
            "text/html": [],
            "text/plain": [
              "<IPython.core.display.HTML object>"
            ]
          },
          "metadata": {},
          "output_type": "display_data"
        },
        {
          "data": {
            "text/html": [
              "<br>    <style><br>        .wandb-row {<br>            display: flex;<br>            flex-direction: row;<br>            flex-wrap: wrap;<br>            justify-content: flex-start;<br>            width: 100%;<br>        }<br>        .wandb-col {<br>            display: flex;<br>            flex-direction: column;<br>            flex-basis: 100%;<br>            flex: 1;<br>            padding: 10px;<br>        }<br>    </style><br><div class=\"wandb-row\"><div class=\"wandb-col\"><h3>Run history:</h3><br/><table class=\"wandb\"><tr><td>avg_cumulative_regret</td><td>▁▁▁▁▁▂▂▂▂▂▂▃▃▃▃▃▄▄▄▄▄▄▄▅▅▆▆▆▆▆▆▆▇▇▇▇▇███</td></tr><tr><td>avg_reward</td><td>▁▁▁▁▁▁▁▁▁▁▁▁▁▁▁▁▁▁▁▁▁▁▁▁▁▁▁▁▁▁▁▁▁▁▁█▃▁▁▁</td></tr><tr><td>episode</td><td>▁▁▂▂▂▂▂▂▂▂▂▃▃▃▃▃▄▄▄▄▄▄▅▅▅▅▅▅▆▆▆▆▆▆▆▇▇▇██</td></tr><tr><td>final average reward</td><td>▁</td></tr><tr><td>instantaneous_regret</td><td>█████████████████████████████████████▁██</td></tr><tr><td>reward_std</td><td>▁▁▁▁▁▁▁▁▁▁▁▁▁▁▁▁▁▁▁▁▁▂▁▁▁▁▁▁▁▁▁▁▁▁▁▁▁▁▁█</td></tr></table><br/></div><div class=\"wandb-col\"><h3>Run summary:</h3><br/><table class=\"wandb\"><tr><td>avg_cumulative_regret</td><td>44963.8</td></tr><tr><td>avg_reward</td><td>-200</td></tr><tr><td>episode</td><td>499</td></tr><tr><td>final average reward</td><td>-200</td></tr><tr><td>instantaneous_regret</td><td>90</td></tr><tr><td>reward_std</td><td>0</td></tr></table><br/></div></div>"
            ],
            "text/plain": [
              "<IPython.core.display.HTML object>"
            ]
          },
          "metadata": {},
          "output_type": "display_data"
        },
        {
          "data": {
            "text/html": [
              " View run <strong style=\"color:#cdcd00\">atomic-sweep-24</strong> at: <a href='https://wandb.ai/cs24m041-iit-madras/Mountain%20car%20linear/runs/9crcnw9y' target=\"_blank\">https://wandb.ai/cs24m041-iit-madras/Mountain%20car%20linear/runs/9crcnw9y</a><br> View project at: <a href='https://wandb.ai/cs24m041-iit-madras/Mountain%20car%20linear' target=\"_blank\">https://wandb.ai/cs24m041-iit-madras/Mountain%20car%20linear</a><br>Synced 5 W&B file(s), 0 media file(s), 0 artifact file(s) and 0 other file(s)"
            ],
            "text/plain": [
              "<IPython.core.display.HTML object>"
            ]
          },
          "metadata": {},
          "output_type": "display_data"
        },
        {
          "data": {
            "text/html": [
              "Find logs at: <code>./wandb/run-20250325_124950-9crcnw9y/logs</code>"
            ],
            "text/plain": [
              "<IPython.core.display.HTML object>"
            ]
          },
          "metadata": {},
          "output_type": "display_data"
        },
        {
          "name": "stderr",
          "output_type": "stream",
          "text": [
            "\u001b[34m\u001b[1mwandb\u001b[0m: Sweep Agent: Waiting for job.\n",
            "\u001b[34m\u001b[1mwandb\u001b[0m: Sweep Agent: Exiting.\n"
          ]
        }
      ],
      "source": [
        "\n",
        "wandb.agent(sweep_id, function=wandb_run_sarsa, count=50)"
      ]
    },
    {
      "cell_type": "code",
      "execution_count": null,
      "metadata": {
        "colab": {
          "background_save": true,
          "base_uri": "https://localhost:8080/",
          "height": 1000
        },
        "id": "SZYOmKE39CEQ",
        "outputId": "fa616031-c5bb-4281-e6fd-f8361cca2dbc"
      },
      "outputs": [
        {
          "name": "stderr",
          "output_type": "stream",
          "text": [
            "\u001b[34m\u001b[1mwandb\u001b[0m: Agent Starting Run: kr5pp5rr with config:\n",
            "\u001b[34m\u001b[1mwandb\u001b[0m: \talgorithm: sarsa\n",
            "\u001b[34m\u001b[1mwandb\u001b[0m: \talpha: 0.00031493391949764696\n",
            "\u001b[34m\u001b[1mwandb\u001b[0m: \tepsilon_decay: 0.9041791715683706\n",
            "\u001b[34m\u001b[1mwandb\u001b[0m: \tepsilon_min: 0.05460355220443613\n",
            "\u001b[34m\u001b[1mwandb\u001b[0m: \tepsilon_start: 0.377514815317913\n",
            "\u001b[34m\u001b[1mwandb\u001b[0m: \tgamma: 0.8173883360432491\n",
            "\u001b[34m\u001b[1mwandb\u001b[0m: \tnumTiles: 20\n",
            "\u001b[34m\u001b[1mwandb\u001b[0m: \tnumTilings: 4\n",
            "\u001b[34m\u001b[1mwandb\u001b[0m: \tnum_episodes: 1132\n"
          ]
        },
        {
          "data": {
            "text/html": [
              "Tracking run with wandb version 0.19.8"
            ],
            "text/plain": [
              "<IPython.core.display.HTML object>"
            ]
          },
          "metadata": {},
          "output_type": "display_data"
        },
        {
          "data": {
            "text/html": [
              "Run data is saved locally in <code>/content/wandb/run-20250325_125257-kr5pp5rr</code>"
            ],
            "text/plain": [
              "<IPython.core.display.HTML object>"
            ]
          },
          "metadata": {},
          "output_type": "display_data"
        },
        {
          "data": {
            "text/html": [
              "Syncing run <strong><a href='https://wandb.ai/cs24m041-iit-madras/Mountain%20car%20linear/runs/kr5pp5rr' target=\"_blank\">gentle-sweep-1</a></strong> to <a href='https://wandb.ai/cs24m041-iit-madras/Mountain%20car%20linear' target=\"_blank\">Weights & Biases</a> (<a href='https://wandb.me/developer-guide' target=\"_blank\">docs</a>)<br>Sweep page: <a href='https://wandb.ai/cs24m041-iit-madras/Mountain%20car%20linear/sweeps/dcj3x7sv' target=\"_blank\">https://wandb.ai/cs24m041-iit-madras/Mountain%20car%20linear/sweeps/dcj3x7sv</a>"
            ],
            "text/plain": [
              "<IPython.core.display.HTML object>"
            ]
          },
          "metadata": {},
          "output_type": "display_data"
        },
        {
          "data": {
            "text/html": [
              " View project at <a href='https://wandb.ai/cs24m041-iit-madras/Mountain%20car%20linear' target=\"_blank\">https://wandb.ai/cs24m041-iit-madras/Mountain%20car%20linear</a>"
            ],
            "text/plain": [
              "<IPython.core.display.HTML object>"
            ]
          },
          "metadata": {},
          "output_type": "display_data"
        },
        {
          "data": {
            "text/html": [
              " View sweep at <a href='https://wandb.ai/cs24m041-iit-madras/Mountain%20car%20linear/sweeps/dcj3x7sv' target=\"_blank\">https://wandb.ai/cs24m041-iit-madras/Mountain%20car%20linear/sweeps/dcj3x7sv</a>"
            ],
            "text/plain": [
              "<IPython.core.display.HTML object>"
            ]
          },
          "metadata": {},
          "output_type": "display_data"
        },
        {
          "data": {
            "text/html": [
              " View run at <a href='https://wandb.ai/cs24m041-iit-madras/Mountain%20car%20linear/runs/kr5pp5rr' target=\"_blank\">https://wandb.ai/cs24m041-iit-madras/Mountain%20car%20linear/runs/kr5pp5rr</a>"
            ],
            "text/plain": [
              "<IPython.core.display.HTML object>"
            ]
          },
          "metadata": {},
          "output_type": "display_data"
        },
        {
          "name": "stdout",
          "output_type": "stream",
          "text": [
            "Run:1\n",
            "Episode 0/1132, Avg Reward (Last 100): -200.00, Epsilon: 0.3413\n",
            "Episode 1000/1132, Avg Reward (Last 100): -200.00, Epsilon: 0.0546\n",
            "Run:2\n",
            "Episode 0/1132, Avg Reward (Last 100): -200.00, Epsilon: 0.3413\n",
            "Episode 1000/1132, Avg Reward (Last 100): -200.00, Epsilon: 0.0546\n",
            "Run:3\n",
            "Episode 0/1132, Avg Reward (Last 100): -200.00, Epsilon: 0.3413\n",
            "Episode 1000/1132, Avg Reward (Last 100): -200.00, Epsilon: 0.0546\n",
            "Run:4\n",
            "Episode 0/1132, Avg Reward (Last 100): -200.00, Epsilon: 0.3413\n",
            "Episode 1000/1132, Avg Reward (Last 100): -200.00, Epsilon: 0.0546\n",
            "Run:5\n",
            "Episode 0/1132, Avg Reward (Last 100): -200.00, Epsilon: 0.3413\n",
            "Episode 1000/1132, Avg Reward (Last 100): -200.00, Epsilon: 0.0546\n"
          ]
        },
        {
          "data": {
            "text/html": [],
            "text/plain": [
              "<IPython.core.display.HTML object>"
            ]
          },
          "metadata": {},
          "output_type": "display_data"
        },
        {
          "data": {
            "text/html": [
              "<br>    <style><br>        .wandb-row {<br>            display: flex;<br>            flex-direction: row;<br>            flex-wrap: wrap;<br>            justify-content: flex-start;<br>            width: 100%;<br>        }<br>        .wandb-col {<br>            display: flex;<br>            flex-direction: column;<br>            flex-basis: 100%;<br>            flex: 1;<br>            padding: 10px;<br>        }<br>    </style><br><div class=\"wandb-row\"><div class=\"wandb-col\"><h3>Run history:</h3><br/><table class=\"wandb\"><tr><td>avg_cumulative_regret</td><td>▁▁▂▂▂▂▂▃▃▃▃▃▄▄▄▄▅▅▅▅▅▅▅▅▅▆▆▆▆▆▇▇▇▇▇▇████</td></tr><tr><td>avg_reward</td><td>▁▁▁▁▁▁▁▁▁▁▁▁▁▁▁▁▁▁▁▁▁▁▁▁▁▁▁▁▁▁▁▁▁▁▁▁▁▁▁▁</td></tr><tr><td>episode</td><td>▁▁▁▁▁▂▂▃▃▃▃▃▃▃▃▃▃▄▄▄▅▅▅▅▅▅▅▅▆▆▆▆▆▆▆▇▇▇▇█</td></tr><tr><td>final average reward</td><td>▁</td></tr><tr><td>instantaneous_regret</td><td>▁▁▁▁▁▁▁▁▁▁▁▁▁▁▁▁▁▁▁▁▁▁▁▁▁▁▁▁▁▁▁▁▁▁▁▁▁▁▁▁</td></tr><tr><td>reward_std</td><td>▁▁▁▁▁▁▁▁▁▁▁▁▁▁▁▁▁▁▁▁▁▁▁▁▁▁▁▁▁▁▁▁▁▁▁▁▁▁▁▁</td></tr></table><br/></div><div class=\"wandb-col\"><h3>Run summary:</h3><br/><table class=\"wandb\"><tr><td>avg_cumulative_regret</td><td>101880</td></tr><tr><td>avg_reward</td><td>-200</td></tr><tr><td>episode</td><td>1131</td></tr><tr><td>final average reward</td><td>-200</td></tr><tr><td>instantaneous_regret</td><td>90</td></tr><tr><td>reward_std</td><td>0</td></tr></table><br/></div></div>"
            ],
            "text/plain": [
              "<IPython.core.display.HTML object>"
            ]
          },
          "metadata": {},
          "output_type": "display_data"
        },
        {
          "data": {
            "text/html": [
              " View run <strong style=\"color:#cdcd00\">gentle-sweep-1</strong> at: <a href='https://wandb.ai/cs24m041-iit-madras/Mountain%20car%20linear/runs/kr5pp5rr' target=\"_blank\">https://wandb.ai/cs24m041-iit-madras/Mountain%20car%20linear/runs/kr5pp5rr</a><br> View project at: <a href='https://wandb.ai/cs24m041-iit-madras/Mountain%20car%20linear' target=\"_blank\">https://wandb.ai/cs24m041-iit-madras/Mountain%20car%20linear</a><br>Synced 5 W&B file(s), 0 media file(s), 0 artifact file(s) and 0 other file(s)"
            ],
            "text/plain": [
              "<IPython.core.display.HTML object>"
            ]
          },
          "metadata": {},
          "output_type": "display_data"
        },
        {
          "data": {
            "text/html": [
              "Find logs at: <code>./wandb/run-20250325_125257-kr5pp5rr/logs</code>"
            ],
            "text/plain": [
              "<IPython.core.display.HTML object>"
            ]
          },
          "metadata": {},
          "output_type": "display_data"
        },
        {
          "name": "stderr",
          "output_type": "stream",
          "text": [
            "\u001b[34m\u001b[1mwandb\u001b[0m: Agent Starting Run: juodycdt with config:\n",
            "\u001b[34m\u001b[1mwandb\u001b[0m: \talgorithm: sarsa\n",
            "\u001b[34m\u001b[1mwandb\u001b[0m: \talpha: 0.2733882829470447\n",
            "\u001b[34m\u001b[1mwandb\u001b[0m: \tepsilon_decay: 0.9524056291757784\n",
            "\u001b[34m\u001b[1mwandb\u001b[0m: \tepsilon_min: 0.025244391784871045\n",
            "\u001b[34m\u001b[1mwandb\u001b[0m: \tepsilon_start: 0.48347122444052104\n",
            "\u001b[34m\u001b[1mwandb\u001b[0m: \tgamma: 0.8476212599723221\n",
            "\u001b[34m\u001b[1mwandb\u001b[0m: \tnumTiles: 20\n",
            "\u001b[34m\u001b[1mwandb\u001b[0m: \tnumTilings: 4\n",
            "\u001b[34m\u001b[1mwandb\u001b[0m: \tnum_episodes: 4608\n"
          ]
        },
        {
          "data": {
            "text/html": [
              "Tracking run with wandb version 0.19.8"
            ],
            "text/plain": [
              "<IPython.core.display.HTML object>"
            ]
          },
          "metadata": {},
          "output_type": "display_data"
        },
        {
          "data": {
            "text/html": [
              "Run data is saved locally in <code>/content/wandb/run-20250325_125940-juodycdt</code>"
            ],
            "text/plain": [
              "<IPython.core.display.HTML object>"
            ]
          },
          "metadata": {},
          "output_type": "display_data"
        },
        {
          "data": {
            "text/html": [
              "Syncing run <strong><a href='https://wandb.ai/cs24m041-iit-madras/Mountain%20car%20linear/runs/juodycdt' target=\"_blank\">wandering-sweep-2</a></strong> to <a href='https://wandb.ai/cs24m041-iit-madras/Mountain%20car%20linear' target=\"_blank\">Weights & Biases</a> (<a href='https://wandb.me/developer-guide' target=\"_blank\">docs</a>)<br>Sweep page: <a href='https://wandb.ai/cs24m041-iit-madras/Mountain%20car%20linear/sweeps/dcj3x7sv' target=\"_blank\">https://wandb.ai/cs24m041-iit-madras/Mountain%20car%20linear/sweeps/dcj3x7sv</a>"
            ],
            "text/plain": [
              "<IPython.core.display.HTML object>"
            ]
          },
          "metadata": {},
          "output_type": "display_data"
        },
        {
          "data": {
            "text/html": [
              " View project at <a href='https://wandb.ai/cs24m041-iit-madras/Mountain%20car%20linear' target=\"_blank\">https://wandb.ai/cs24m041-iit-madras/Mountain%20car%20linear</a>"
            ],
            "text/plain": [
              "<IPython.core.display.HTML object>"
            ]
          },
          "metadata": {},
          "output_type": "display_data"
        },
        {
          "data": {
            "text/html": [
              " View sweep at <a href='https://wandb.ai/cs24m041-iit-madras/Mountain%20car%20linear/sweeps/dcj3x7sv' target=\"_blank\">https://wandb.ai/cs24m041-iit-madras/Mountain%20car%20linear/sweeps/dcj3x7sv</a>"
            ],
            "text/plain": [
              "<IPython.core.display.HTML object>"
            ]
          },
          "metadata": {},
          "output_type": "display_data"
        },
        {
          "data": {
            "text/html": [
              " View run at <a href='https://wandb.ai/cs24m041-iit-madras/Mountain%20car%20linear/runs/juodycdt' target=\"_blank\">https://wandb.ai/cs24m041-iit-madras/Mountain%20car%20linear/runs/juodycdt</a>"
            ],
            "text/plain": [
              "<IPython.core.display.HTML object>"
            ]
          },
          "metadata": {},
          "output_type": "display_data"
        },
        {
          "name": "stdout",
          "output_type": "stream",
          "text": [
            "Run:1\n",
            "Episode 0/4608, Avg Reward (Last 100): -200.00, Epsilon: 0.4605\n",
            "Episode 1000/4608, Avg Reward (Last 100): -177.85, Epsilon: 0.0252\n",
            "Episode 2000/4608, Avg Reward (Last 100): -190.15, Epsilon: 0.0252\n",
            "Episode 3000/4608, Avg Reward (Last 100): -199.40, Epsilon: 0.0252\n",
            "Episode 4000/4608, Avg Reward (Last 100): -197.76, Epsilon: 0.0252\n",
            "Run:2\n",
            "Episode 0/4608, Avg Reward (Last 100): -200.00, Epsilon: 0.4605\n",
            "Episode 1000/4608, Avg Reward (Last 100): -180.90, Epsilon: 0.0252\n",
            "Episode 2000/4608, Avg Reward (Last 100): -191.89, Epsilon: 0.0252\n",
            "Episode 3000/4608, Avg Reward (Last 100): -198.50, Epsilon: 0.0252\n",
            "Episode 4000/4608, Avg Reward (Last 100): -198.05, Epsilon: 0.0252\n",
            "Run:3\n",
            "Episode 0/4608, Avg Reward (Last 100): -200.00, Epsilon: 0.4605\n",
            "Episode 1000/4608, Avg Reward (Last 100): -185.15, Epsilon: 0.0252\n",
            "Episode 2000/4608, Avg Reward (Last 100): -192.18, Epsilon: 0.0252\n",
            "Episode 3000/4608, Avg Reward (Last 100): -197.93, Epsilon: 0.0252\n",
            "Episode 4000/4608, Avg Reward (Last 100): -199.97, Epsilon: 0.0252\n",
            "Run:4\n",
            "Episode 0/4608, Avg Reward (Last 100): -200.00, Epsilon: 0.4605\n",
            "Episode 1000/4608, Avg Reward (Last 100): -186.93, Epsilon: 0.0252\n",
            "Episode 2000/4608, Avg Reward (Last 100): -199.14, Epsilon: 0.0252\n",
            "Episode 3000/4608, Avg Reward (Last 100): -200.00, Epsilon: 0.0252\n",
            "Episode 4000/4608, Avg Reward (Last 100): -200.00, Epsilon: 0.0252\n",
            "Run:5\n",
            "Episode 0/4608, Avg Reward (Last 100): -200.00, Epsilon: 0.4605\n",
            "Episode 1000/4608, Avg Reward (Last 100): -189.44, Epsilon: 0.0252\n",
            "Episode 2000/4608, Avg Reward (Last 100): -196.54, Epsilon: 0.0252\n",
            "Episode 3000/4608, Avg Reward (Last 100): -200.00, Epsilon: 0.0252\n",
            "Episode 4000/4608, Avg Reward (Last 100): -200.00, Epsilon: 0.0252\n"
          ]
        },
        {
          "data": {
            "text/html": [],
            "text/plain": [
              "<IPython.core.display.HTML object>"
            ]
          },
          "metadata": {},
          "output_type": "display_data"
        },
        {
          "data": {
            "text/html": [
              "<br>    <style><br>        .wandb-row {<br>            display: flex;<br>            flex-direction: row;<br>            flex-wrap: wrap;<br>            justify-content: flex-start;<br>            width: 100%;<br>        }<br>        .wandb-col {<br>            display: flex;<br>            flex-direction: column;<br>            flex-basis: 100%;<br>            flex: 1;<br>            padding: 10px;<br>        }<br>    </style><br><div class=\"wandb-row\"><div class=\"wandb-col\"><h3>Run history:</h3><br/><table class=\"wandb\"><tr><td>avg_cumulative_regret</td><td>▁▁▁▂▂▂▂▂▂▃▃▃▃▄▄▄▅▅▅▅▅▅▆▆▆▆▇▇▇▇▇▇▇▇▇█████</td></tr><tr><td>avg_reward</td><td>▁▃▅▆█▂▄▂▂▃▅▂▁▄▂▁▁▁▂▂▂▁▁▁▁▁▁▁▁▁▂▂▁▁▁▁▁▁▁▁</td></tr><tr><td>episode</td><td>▁▁▁▁▂▂▂▂▂▂▃▃▃▃▃▄▄▄▄▄▄▄▄▅▅▅▅▅▆▆▆▆▇▇▇█████</td></tr><tr><td>final average reward</td><td>▁</td></tr><tr><td>instantaneous_regret</td><td>▄▄▂▁▂▂▁▂▁▃▇▅▅▄█▆█▆▇█▅▆▆████▇█▇█████▇████</td></tr><tr><td>reward_std</td><td>▅▇█▅█▅▅▃▃▂▂▂▆▆▅▃▁▁▄▄▁▅▁▁▁▁▃▁▁▁▁▁▁▁▁▂▁▁▁▁</td></tr></table><br/></div><div class=\"wandb-col\"><h3>Run summary:</h3><br/><table class=\"wandb\"><tr><td>avg_cumulative_regret</td><td>379513.8</td></tr><tr><td>avg_reward</td><td>-200</td></tr><tr><td>episode</td><td>4607</td></tr><tr><td>final average reward</td><td>-200</td></tr><tr><td>instantaneous_regret</td><td>90</td></tr><tr><td>reward_std</td><td>0</td></tr></table><br/></div></div>"
            ],
            "text/plain": [
              "<IPython.core.display.HTML object>"
            ]
          },
          "metadata": {},
          "output_type": "display_data"
        },
        {
          "data": {
            "text/html": [
              " View run <strong style=\"color:#cdcd00\">wandering-sweep-2</strong> at: <a href='https://wandb.ai/cs24m041-iit-madras/Mountain%20car%20linear/runs/juodycdt' target=\"_blank\">https://wandb.ai/cs24m041-iit-madras/Mountain%20car%20linear/runs/juodycdt</a><br> View project at: <a href='https://wandb.ai/cs24m041-iit-madras/Mountain%20car%20linear' target=\"_blank\">https://wandb.ai/cs24m041-iit-madras/Mountain%20car%20linear</a><br>Synced 5 W&B file(s), 0 media file(s), 0 artifact file(s) and 0 other file(s)"
            ],
            "text/plain": [
              "<IPython.core.display.HTML object>"
            ]
          },
          "metadata": {},
          "output_type": "display_data"
        },
        {
          "data": {
            "text/html": [
              "Find logs at: <code>./wandb/run-20250325_125940-juodycdt/logs</code>"
            ],
            "text/plain": [
              "<IPython.core.display.HTML object>"
            ]
          },
          "metadata": {},
          "output_type": "display_data"
        },
        {
          "name": "stderr",
          "output_type": "stream",
          "text": [
            "\u001b[34m\u001b[1mwandb\u001b[0m: Agent Starting Run: 5x5lzj7v with config:\n",
            "\u001b[34m\u001b[1mwandb\u001b[0m: \talgorithm: sarsa\n",
            "\u001b[34m\u001b[1mwandb\u001b[0m: \talpha: 0.10493277347658168\n",
            "\u001b[34m\u001b[1mwandb\u001b[0m: \tepsilon_decay: 0.9653779596207898\n",
            "\u001b[34m\u001b[1mwandb\u001b[0m: \tepsilon_min: 0.08833415568022088\n",
            "\u001b[34m\u001b[1mwandb\u001b[0m: \tepsilon_start: 0.9792598981543305\n",
            "\u001b[34m\u001b[1mwandb\u001b[0m: \tgamma: 0.8035464794679854\n",
            "\u001b[34m\u001b[1mwandb\u001b[0m: \tnumTiles: 5\n",
            "\u001b[34m\u001b[1mwandb\u001b[0m: \tnumTilings: 8\n",
            "\u001b[34m\u001b[1mwandb\u001b[0m: \tnum_episodes: 1626\n"
          ]
        },
        {
          "data": {
            "text/html": [
              "Tracking run with wandb version 0.19.8"
            ],
            "text/plain": [
              "<IPython.core.display.HTML object>"
            ]
          },
          "metadata": {},
          "output_type": "display_data"
        },
        {
          "data": {
            "text/html": [
              "Run data is saved locally in <code>/content/wandb/run-20250325_132619-5x5lzj7v</code>"
            ],
            "text/plain": [
              "<IPython.core.display.HTML object>"
            ]
          },
          "metadata": {},
          "output_type": "display_data"
        },
        {
          "data": {
            "text/html": [
              "Syncing run <strong><a href='https://wandb.ai/cs24m041-iit-madras/Mountain%20car%20linear/runs/5x5lzj7v' target=\"_blank\">ruby-sweep-3</a></strong> to <a href='https://wandb.ai/cs24m041-iit-madras/Mountain%20car%20linear' target=\"_blank\">Weights & Biases</a> (<a href='https://wandb.me/developer-guide' target=\"_blank\">docs</a>)<br>Sweep page: <a href='https://wandb.ai/cs24m041-iit-madras/Mountain%20car%20linear/sweeps/dcj3x7sv' target=\"_blank\">https://wandb.ai/cs24m041-iit-madras/Mountain%20car%20linear/sweeps/dcj3x7sv</a>"
            ],
            "text/plain": [
              "<IPython.core.display.HTML object>"
            ]
          },
          "metadata": {},
          "output_type": "display_data"
        },
        {
          "data": {
            "text/html": [
              " View project at <a href='https://wandb.ai/cs24m041-iit-madras/Mountain%20car%20linear' target=\"_blank\">https://wandb.ai/cs24m041-iit-madras/Mountain%20car%20linear</a>"
            ],
            "text/plain": [
              "<IPython.core.display.HTML object>"
            ]
          },
          "metadata": {},
          "output_type": "display_data"
        },
        {
          "data": {
            "text/html": [
              " View sweep at <a href='https://wandb.ai/cs24m041-iit-madras/Mountain%20car%20linear/sweeps/dcj3x7sv' target=\"_blank\">https://wandb.ai/cs24m041-iit-madras/Mountain%20car%20linear/sweeps/dcj3x7sv</a>"
            ],
            "text/plain": [
              "<IPython.core.display.HTML object>"
            ]
          },
          "metadata": {},
          "output_type": "display_data"
        },
        {
          "data": {
            "text/html": [
              " View run at <a href='https://wandb.ai/cs24m041-iit-madras/Mountain%20car%20linear/runs/5x5lzj7v' target=\"_blank\">https://wandb.ai/cs24m041-iit-madras/Mountain%20car%20linear/runs/5x5lzj7v</a>"
            ],
            "text/plain": [
              "<IPython.core.display.HTML object>"
            ]
          },
          "metadata": {},
          "output_type": "display_data"
        },
        {
          "name": "stdout",
          "output_type": "stream",
          "text": [
            "Run:1\n",
            "Episode 0/1626, Avg Reward (Last 100): -200.00, Epsilon: 0.9454\n",
            "Episode 1000/1626, Avg Reward (Last 100): -199.55, Epsilon: 0.0883\n",
            "Run:2\n",
            "Episode 0/1626, Avg Reward (Last 100): -200.00, Epsilon: 0.9454\n",
            "Episode 1000/1626, Avg Reward (Last 100): -200.00, Epsilon: 0.0883\n",
            "Run:3\n",
            "Episode 0/1626, Avg Reward (Last 100): -200.00, Epsilon: 0.9454\n",
            "Episode 1000/1626, Avg Reward (Last 100): -183.10, Epsilon: 0.0883\n",
            "Run:4\n",
            "Episode 0/1626, Avg Reward (Last 100): -200.00, Epsilon: 0.9454\n",
            "Episode 1000/1626, Avg Reward (Last 100): -189.54, Epsilon: 0.0883\n",
            "Run:5\n",
            "Episode 0/1626, Avg Reward (Last 100): -200.00, Epsilon: 0.9454\n",
            "Episode 1000/1626, Avg Reward (Last 100): -182.90, Epsilon: 0.0883\n"
          ]
        },
        {
          "data": {
            "text/html": [],
            "text/plain": [
              "<IPython.core.display.HTML object>"
            ]
          },
          "metadata": {},
          "output_type": "display_data"
        },
        {
          "data": {
            "text/html": [
              "<br>    <style><br>        .wandb-row {<br>            display: flex;<br>            flex-direction: row;<br>            flex-wrap: wrap;<br>            justify-content: flex-start;<br>            width: 100%;<br>        }<br>        .wandb-col {<br>            display: flex;<br>            flex-direction: column;<br>            flex-basis: 100%;<br>            flex: 1;<br>            padding: 10px;<br>        }<br>    </style><br><div class=\"wandb-row\"><div class=\"wandb-col\"><h3>Run history:</h3><br/><table class=\"wandb\"><tr><td>avg_cumulative_regret</td><td>▁▁▁▁▁▁▂▂▂▂▂▂▂▃▃▃▃▃▃▄▄▄▄▅▅▅▅▅▅▅▆▆▆▆▆▇▇▇██</td></tr><tr><td>avg_reward</td><td>▁▁▁▃▃▅▄▄▇▁▄▅█▄▁▃▃▄▇▅▂▄▆▂▁▂▃▁▁▂▁▁▁▁▁▁▁▃▁▅</td></tr><tr><td>episode</td><td>▁▁▁▁▁▂▂▂▂▂▃▃▃▃▃▃▃▃▄▄▄▄▅▅▅▅▅▅▅▆▆▆▆▆▆▇▇▇██</td></tr><tr><td>final average reward</td><td>▁</td></tr><tr><td>instantaneous_regret</td><td>▆▄▃▁██▃█▅▄▂▂▅▄▂▃▃▂▆▄▇▇▇▆▆█▇█████████████</td></tr><tr><td>reward_std</td><td>▁▁▁▁▁▅▁▁▅▁▅▆██▄▃█▃▃▃▄▆▄▄▃▅▃▃▃▂▃▄▁▁▁▁▁▁▁▁</td></tr></table><br/></div><div class=\"wandb-col\"><h3>Run summary:</h3><br/><table class=\"wandb\"><tr><td>avg_cumulative_regret</td><td>133890.2</td></tr><tr><td>avg_reward</td><td>-200</td></tr><tr><td>episode</td><td>1625</td></tr><tr><td>final average reward</td><td>-200</td></tr><tr><td>instantaneous_regret</td><td>90</td></tr><tr><td>reward_std</td><td>0</td></tr></table><br/></div></div>"
            ],
            "text/plain": [
              "<IPython.core.display.HTML object>"
            ]
          },
          "metadata": {},
          "output_type": "display_data"
        },
        {
          "data": {
            "text/html": [
              " View run <strong style=\"color:#cdcd00\">ruby-sweep-3</strong> at: <a href='https://wandb.ai/cs24m041-iit-madras/Mountain%20car%20linear/runs/5x5lzj7v' target=\"_blank\">https://wandb.ai/cs24m041-iit-madras/Mountain%20car%20linear/runs/5x5lzj7v</a><br> View project at: <a href='https://wandb.ai/cs24m041-iit-madras/Mountain%20car%20linear' target=\"_blank\">https://wandb.ai/cs24m041-iit-madras/Mountain%20car%20linear</a><br>Synced 5 W&B file(s), 0 media file(s), 0 artifact file(s) and 0 other file(s)"
            ],
            "text/plain": [
              "<IPython.core.display.HTML object>"
            ]
          },
          "metadata": {},
          "output_type": "display_data"
        },
        {
          "data": {
            "text/html": [
              "Find logs at: <code>./wandb/run-20250325_132619-5x5lzj7v/logs</code>"
            ],
            "text/plain": [
              "<IPython.core.display.HTML object>"
            ]
          },
          "metadata": {},
          "output_type": "display_data"
        },
        {
          "name": "stderr",
          "output_type": "stream",
          "text": [
            "\u001b[34m\u001b[1mwandb\u001b[0m: Agent Starting Run: yrxsvz2k with config:\n",
            "\u001b[34m\u001b[1mwandb\u001b[0m: \talgorithm: sarsa\n",
            "\u001b[34m\u001b[1mwandb\u001b[0m: \talpha: 0.0044504786770167126\n",
            "\u001b[34m\u001b[1mwandb\u001b[0m: \tepsilon_decay: 0.9731990660209164\n",
            "\u001b[34m\u001b[1mwandb\u001b[0m: \tepsilon_min: 0.015542962448021308\n",
            "\u001b[34m\u001b[1mwandb\u001b[0m: \tepsilon_start: 0.8738743888873262\n",
            "\u001b[34m\u001b[1mwandb\u001b[0m: \tgamma: 0.8959080171854191\n",
            "\u001b[34m\u001b[1mwandb\u001b[0m: \tnumTiles: 5\n",
            "\u001b[34m\u001b[1mwandb\u001b[0m: \tnumTilings: 4\n",
            "\u001b[34m\u001b[1mwandb\u001b[0m: \tnum_episodes: 2399\n"
          ]
        },
        {
          "data": {
            "text/html": [
              "Tracking run with wandb version 0.19.8"
            ],
            "text/plain": [
              "<IPython.core.display.HTML object>"
            ]
          },
          "metadata": {},
          "output_type": "display_data"
        },
        {
          "data": {
            "text/html": [
              "Run data is saved locally in <code>/content/wandb/run-20250325_134210-yrxsvz2k</code>"
            ],
            "text/plain": [
              "<IPython.core.display.HTML object>"
            ]
          },
          "metadata": {},
          "output_type": "display_data"
        },
        {
          "data": {
            "text/html": [
              "Syncing run <strong><a href='https://wandb.ai/cs24m041-iit-madras/Mountain%20car%20linear/runs/yrxsvz2k' target=\"_blank\">dutiful-sweep-4</a></strong> to <a href='https://wandb.ai/cs24m041-iit-madras/Mountain%20car%20linear' target=\"_blank\">Weights & Biases</a> (<a href='https://wandb.me/developer-guide' target=\"_blank\">docs</a>)<br>Sweep page: <a href='https://wandb.ai/cs24m041-iit-madras/Mountain%20car%20linear/sweeps/dcj3x7sv' target=\"_blank\">https://wandb.ai/cs24m041-iit-madras/Mountain%20car%20linear/sweeps/dcj3x7sv</a>"
            ],
            "text/plain": [
              "<IPython.core.display.HTML object>"
            ]
          },
          "metadata": {},
          "output_type": "display_data"
        },
        {
          "data": {
            "text/html": [
              " View project at <a href='https://wandb.ai/cs24m041-iit-madras/Mountain%20car%20linear' target=\"_blank\">https://wandb.ai/cs24m041-iit-madras/Mountain%20car%20linear</a>"
            ],
            "text/plain": [
              "<IPython.core.display.HTML object>"
            ]
          },
          "metadata": {},
          "output_type": "display_data"
        },
        {
          "data": {
            "text/html": [
              " View sweep at <a href='https://wandb.ai/cs24m041-iit-madras/Mountain%20car%20linear/sweeps/dcj3x7sv' target=\"_blank\">https://wandb.ai/cs24m041-iit-madras/Mountain%20car%20linear/sweeps/dcj3x7sv</a>"
            ],
            "text/plain": [
              "<IPython.core.display.HTML object>"
            ]
          },
          "metadata": {},
          "output_type": "display_data"
        },
        {
          "data": {
            "text/html": [
              " View run at <a href='https://wandb.ai/cs24m041-iit-madras/Mountain%20car%20linear/runs/yrxsvz2k' target=\"_blank\">https://wandb.ai/cs24m041-iit-madras/Mountain%20car%20linear/runs/yrxsvz2k</a>"
            ],
            "text/plain": [
              "<IPython.core.display.HTML object>"
            ]
          },
          "metadata": {},
          "output_type": "display_data"
        },
        {
          "name": "stdout",
          "output_type": "stream",
          "text": [
            "Run:1\n",
            "Episode 0/2399, Avg Reward (Last 100): -200.00, Epsilon: 0.8505\n",
            "Episode 1000/2399, Avg Reward (Last 100): -198.29, Epsilon: 0.0155\n",
            "Episode 2000/2399, Avg Reward (Last 100): -193.10, Epsilon: 0.0155\n",
            "Run:2\n",
            "Episode 0/2399, Avg Reward (Last 100): -200.00, Epsilon: 0.8505\n",
            "Episode 1000/2399, Avg Reward (Last 100): -199.15, Epsilon: 0.0155\n",
            "Episode 2000/2399, Avg Reward (Last 100): -182.51, Epsilon: 0.0155\n",
            "Run:3\n",
            "Episode 0/2399, Avg Reward (Last 100): -200.00, Epsilon: 0.8505\n",
            "Episode 1000/2399, Avg Reward (Last 100): -190.39, Epsilon: 0.0155\n",
            "Episode 2000/2399, Avg Reward (Last 100): -138.55, Epsilon: 0.0155\n",
            "Run:4\n",
            "Episode 0/2399, Avg Reward (Last 100): -200.00, Epsilon: 0.8505\n",
            "Episode 1000/2399, Avg Reward (Last 100): -197.68, Epsilon: 0.0155\n",
            "Episode 2000/2399, Avg Reward (Last 100): -148.05, Epsilon: 0.0155\n",
            "Run:5\n",
            "Episode 0/2399, Avg Reward (Last 100): -200.00, Epsilon: 0.8505\n",
            "Episode 1000/2399, Avg Reward (Last 100): -195.11, Epsilon: 0.0155\n",
            "Episode 2000/2399, Avg Reward (Last 100): -124.38, Epsilon: 0.0155\n"
          ]
        },
        {
          "data": {
            "text/html": [],
            "text/plain": [
              "<IPython.core.display.HTML object>"
            ]
          },
          "metadata": {},
          "output_type": "display_data"
        },
        {
          "data": {
            "text/html": [
              "<br>    <style><br>        .wandb-row {<br>            display: flex;<br>            flex-direction: row;<br>            flex-wrap: wrap;<br>            justify-content: flex-start;<br>            width: 100%;<br>        }<br>        .wandb-col {<br>            display: flex;<br>            flex-direction: column;<br>            flex-basis: 100%;<br>            flex: 1;<br>            padding: 10px;<br>        }<br>    </style><br><div class=\"wandb-row\"><div class=\"wandb-col\"><h3>Run history:</h3><br/><table class=\"wandb\"><tr><td>avg_cumulative_regret</td><td>▁▁▁▂▂▂▂▂▂▃▃▃▃▃▄▄▄▅▅▅▅▅▅▅▆▆▆▆▆▆▆▇▇▇▇▇████</td></tr><tr><td>avg_reward</td><td>▁▁▁▁▁▁▁▁▁▁▁▁▁▁▃▃▆▄▁▂▄▅▅▂▅▅▄▄▄▄▅▇▅█▅▇▅▇▅▇</td></tr><tr><td>episode</td><td>▁▁▁▁▂▃▃▃▃▃▃▃▄▄▄▄▄▄▄▄▅▅▅▅▆▆▆▆▆▆▇▇▇▇▇▇▇▇██</td></tr><tr><td>final average reward</td><td>▁</td></tr><tr><td>instantaneous_regret</td><td>███████████████▇█████▆▆▇▄▃▃▆▆▅▆▆▅▄▄▂▁▁▁▄</td></tr><tr><td>reward_std</td><td>▁▁▁▁▁▁▁▁▁▁▁▁▂▁▁▁▃▃▆▁▁▁▇▆▇▁▇█▇▇▇▇▇▃▅▇▆▆▇█</td></tr></table><br/></div><div class=\"wandb-col\"><h3>Run summary:</h3><br/><table class=\"wandb\"><tr><td>avg_cumulative_regret</td><td>170371</td></tr><tr><td>avg_reward</td><td>-142.2</td></tr><tr><td>episode</td><td>2398</td></tr><tr><td>final average reward</td><td>-142.2</td></tr><tr><td>instantaneous_regret</td><td>32.2</td></tr><tr><td>reward_std</td><td>29.43739</td></tr></table><br/></div></div>"
            ],
            "text/plain": [
              "<IPython.core.display.HTML object>"
            ]
          },
          "metadata": {},
          "output_type": "display_data"
        },
        {
          "data": {
            "text/html": [
              " View run <strong style=\"color:#cdcd00\">dutiful-sweep-4</strong> at: <a href='https://wandb.ai/cs24m041-iit-madras/Mountain%20car%20linear/runs/yrxsvz2k' target=\"_blank\">https://wandb.ai/cs24m041-iit-madras/Mountain%20car%20linear/runs/yrxsvz2k</a><br> View project at: <a href='https://wandb.ai/cs24m041-iit-madras/Mountain%20car%20linear' target=\"_blank\">https://wandb.ai/cs24m041-iit-madras/Mountain%20car%20linear</a><br>Synced 5 W&B file(s), 0 media file(s), 0 artifact file(s) and 0 other file(s)"
            ],
            "text/plain": [
              "<IPython.core.display.HTML object>"
            ]
          },
          "metadata": {},
          "output_type": "display_data"
        },
        {
          "data": {
            "text/html": [
              "Find logs at: <code>./wandb/run-20250325_134210-yrxsvz2k/logs</code>"
            ],
            "text/plain": [
              "<IPython.core.display.HTML object>"
            ]
          },
          "metadata": {},
          "output_type": "display_data"
        },
        {
          "name": "stderr",
          "output_type": "stream",
          "text": [
            "\u001b[34m\u001b[1mwandb\u001b[0m: Agent Starting Run: 2vay7yem with config:\n",
            "\u001b[34m\u001b[1mwandb\u001b[0m: \talgorithm: sarsa\n",
            "\u001b[34m\u001b[1mwandb\u001b[0m: \talpha: 0.0008540823387879854\n",
            "\u001b[34m\u001b[1mwandb\u001b[0m: \tepsilon_decay: 0.972381582383912\n",
            "\u001b[34m\u001b[1mwandb\u001b[0m: \tepsilon_min: 0.0797994952195091\n",
            "\u001b[34m\u001b[1mwandb\u001b[0m: \tepsilon_start: 0.33975284161861785\n",
            "\u001b[34m\u001b[1mwandb\u001b[0m: \tgamma: 0.9102360403448196\n",
            "\u001b[34m\u001b[1mwandb\u001b[0m: \tnumTiles: 10\n",
            "\u001b[34m\u001b[1mwandb\u001b[0m: \tnumTilings: 8\n",
            "\u001b[34m\u001b[1mwandb\u001b[0m: \tnum_episodes: 3635\n"
          ]
        },
        {
          "data": {
            "text/html": [
              "Tracking run with wandb version 0.19.8"
            ],
            "text/plain": [
              "<IPython.core.display.HTML object>"
            ]
          },
          "metadata": {},
          "output_type": "display_data"
        },
        {
          "data": {
            "text/html": [
              "Run data is saved locally in <code>/content/wandb/run-20250325_135527-2vay7yem</code>"
            ],
            "text/plain": [
              "<IPython.core.display.HTML object>"
            ]
          },
          "metadata": {},
          "output_type": "display_data"
        },
        {
          "data": {
            "text/html": [
              "Syncing run <strong><a href='https://wandb.ai/cs24m041-iit-madras/Mountain%20car%20linear/runs/2vay7yem' target=\"_blank\">silvery-sweep-5</a></strong> to <a href='https://wandb.ai/cs24m041-iit-madras/Mountain%20car%20linear' target=\"_blank\">Weights & Biases</a> (<a href='https://wandb.me/developer-guide' target=\"_blank\">docs</a>)<br>Sweep page: <a href='https://wandb.ai/cs24m041-iit-madras/Mountain%20car%20linear/sweeps/dcj3x7sv' target=\"_blank\">https://wandb.ai/cs24m041-iit-madras/Mountain%20car%20linear/sweeps/dcj3x7sv</a>"
            ],
            "text/plain": [
              "<IPython.core.display.HTML object>"
            ]
          },
          "metadata": {},
          "output_type": "display_data"
        },
        {
          "data": {
            "text/html": [
              " View project at <a href='https://wandb.ai/cs24m041-iit-madras/Mountain%20car%20linear' target=\"_blank\">https://wandb.ai/cs24m041-iit-madras/Mountain%20car%20linear</a>"
            ],
            "text/plain": [
              "<IPython.core.display.HTML object>"
            ]
          },
          "metadata": {},
          "output_type": "display_data"
        },
        {
          "data": {
            "text/html": [
              " View sweep at <a href='https://wandb.ai/cs24m041-iit-madras/Mountain%20car%20linear/sweeps/dcj3x7sv' target=\"_blank\">https://wandb.ai/cs24m041-iit-madras/Mountain%20car%20linear/sweeps/dcj3x7sv</a>"
            ],
            "text/plain": [
              "<IPython.core.display.HTML object>"
            ]
          },
          "metadata": {},
          "output_type": "display_data"
        },
        {
          "data": {
            "text/html": [
              " View run at <a href='https://wandb.ai/cs24m041-iit-madras/Mountain%20car%20linear/runs/2vay7yem' target=\"_blank\">https://wandb.ai/cs24m041-iit-madras/Mountain%20car%20linear/runs/2vay7yem</a>"
            ],
            "text/plain": [
              "<IPython.core.display.HTML object>"
            ]
          },
          "metadata": {},
          "output_type": "display_data"
        },
        {
          "name": "stdout",
          "output_type": "stream",
          "text": [
            "Run:1\n",
            "Episode 0/3635, Avg Reward (Last 100): -200.00, Epsilon: 0.3304\n",
            "Episode 1000/3635, Avg Reward (Last 100): -200.00, Epsilon: 0.0798\n",
            "Episode 2000/3635, Avg Reward (Last 100): -200.00, Epsilon: 0.0798\n",
            "Episode 3000/3635, Avg Reward (Last 100): -200.00, Epsilon: 0.0798\n",
            "Run:2\n",
            "Episode 0/3635, Avg Reward (Last 100): -200.00, Epsilon: 0.3304\n",
            "Episode 1000/3635, Avg Reward (Last 100): -200.00, Epsilon: 0.0798\n",
            "Episode 2000/3635, Avg Reward (Last 100): -200.00, Epsilon: 0.0798\n",
            "Episode 3000/3635, Avg Reward (Last 100): -200.00, Epsilon: 0.0798\n",
            "Run:3\n",
            "Episode 0/3635, Avg Reward (Last 100): -200.00, Epsilon: 0.3304\n",
            "Episode 1000/3635, Avg Reward (Last 100): -200.00, Epsilon: 0.0798\n",
            "Episode 2000/3635, Avg Reward (Last 100): -200.00, Epsilon: 0.0798\n",
            "Episode 3000/3635, Avg Reward (Last 100): -200.00, Epsilon: 0.0798\n",
            "Run:4\n",
            "Episode 0/3635, Avg Reward (Last 100): -200.00, Epsilon: 0.3304\n",
            "Episode 1000/3635, Avg Reward (Last 100): -200.00, Epsilon: 0.0798\n",
            "Episode 2000/3635, Avg Reward (Last 100): -200.00, Epsilon: 0.0798\n",
            "Episode 3000/3635, Avg Reward (Last 100): -200.00, Epsilon: 0.0798\n",
            "Run:5\n",
            "Episode 0/3635, Avg Reward (Last 100): -200.00, Epsilon: 0.3304\n",
            "Episode 1000/3635, Avg Reward (Last 100): -200.00, Epsilon: 0.0798\n",
            "Episode 2000/3635, Avg Reward (Last 100): -200.00, Epsilon: 0.0798\n",
            "Episode 3000/3635, Avg Reward (Last 100): -200.00, Epsilon: 0.0798\n"
          ]
        },
        {
          "data": {
            "text/html": [],
            "text/plain": [
              "<IPython.core.display.HTML object>"
            ]
          },
          "metadata": {},
          "output_type": "display_data"
        },
        {
          "data": {
            "text/html": [
              "<br>    <style><br>        .wandb-row {<br>            display: flex;<br>            flex-direction: row;<br>            flex-wrap: wrap;<br>            justify-content: flex-start;<br>            width: 100%;<br>        }<br>        .wandb-col {<br>            display: flex;<br>            flex-direction: column;<br>            flex-basis: 100%;<br>            flex: 1;<br>            padding: 10px;<br>        }<br>    </style><br><div class=\"wandb-row\"><div class=\"wandb-col\"><h3>Run history:</h3><br/><table class=\"wandb\"><tr><td>avg_cumulative_regret</td><td>▁▁▂▂▂▂▂▂▂▃▄▄▄▄▅▅▅▅▅▅▆▆▆▇▇▇▇▇▇███████████</td></tr><tr><td>avg_reward</td><td>▁▁▁▁▁▁▁▁▁▁▁▁▁▁▁▁▁▁▁▁▁▁▁▁▁▁▁▁▁▁▁▁▁▁▁▁▁▁▁▁</td></tr><tr><td>episode</td><td>▁▁▂▂▂▂▃▃▃▃▃▃▃▃▄▄▄▄▄▄▅▅▅▅▅▅▅▅▅▆▆▆▆▆▇▇▇███</td></tr><tr><td>final average reward</td><td>▁</td></tr><tr><td>instantaneous_regret</td><td>▁▁▁▁▁▁▁▁▁▁▁▁▁▁▁▁▁▁▁▁▁▁▁▁▁▁▁▁▁▁▁▁▁▁▁▁▁▁▁▁</td></tr><tr><td>reward_std</td><td>▁▁▁▁▁▁▁▁▁▁▁▁▁▁▁▁▁▁▁▁▁▁▁▁▁▁▁▁▁▁▁▁▁▁▁▁▁▁▁▁</td></tr></table><br/></div><div class=\"wandb-col\"><h3>Run summary:</h3><br/><table class=\"wandb\"><tr><td>avg_cumulative_regret</td><td>327150</td></tr><tr><td>avg_reward</td><td>-200</td></tr><tr><td>episode</td><td>3634</td></tr><tr><td>final average reward</td><td>-200</td></tr><tr><td>instantaneous_regret</td><td>90</td></tr><tr><td>reward_std</td><td>0</td></tr></table><br/></div></div>"
            ],
            "text/plain": [
              "<IPython.core.display.HTML object>"
            ]
          },
          "metadata": {},
          "output_type": "display_data"
        },
        {
          "data": {
            "text/html": [
              " View run <strong style=\"color:#cdcd00\">silvery-sweep-5</strong> at: <a href='https://wandb.ai/cs24m041-iit-madras/Mountain%20car%20linear/runs/2vay7yem' target=\"_blank\">https://wandb.ai/cs24m041-iit-madras/Mountain%20car%20linear/runs/2vay7yem</a><br> View project at: <a href='https://wandb.ai/cs24m041-iit-madras/Mountain%20car%20linear' target=\"_blank\">https://wandb.ai/cs24m041-iit-madras/Mountain%20car%20linear</a><br>Synced 5 W&B file(s), 0 media file(s), 0 artifact file(s) and 0 other file(s)"
            ],
            "text/plain": [
              "<IPython.core.display.HTML object>"
            ]
          },
          "metadata": {},
          "output_type": "display_data"
        },
        {
          "data": {
            "text/html": [
              "Find logs at: <code>./wandb/run-20250325_135527-2vay7yem/logs</code>"
            ],
            "text/plain": [
              "<IPython.core.display.HTML object>"
            ]
          },
          "metadata": {},
          "output_type": "display_data"
        },
        {
          "name": "stderr",
          "output_type": "stream",
          "text": [
            "\u001b[34m\u001b[1mwandb\u001b[0m: Agent Starting Run: o41jo9n5 with config:\n",
            "\u001b[34m\u001b[1mwandb\u001b[0m: \talgorithm: sarsa\n",
            "\u001b[34m\u001b[1mwandb\u001b[0m: \talpha: 0.000984182446887826\n",
            "\u001b[34m\u001b[1mwandb\u001b[0m: \tepsilon_decay: 0.9641964957307092\n",
            "\u001b[34m\u001b[1mwandb\u001b[0m: \tepsilon_min: 0.02857781320995158\n",
            "\u001b[34m\u001b[1mwandb\u001b[0m: \tepsilon_start: 0.5969469566934875\n",
            "\u001b[34m\u001b[1mwandb\u001b[0m: \tgamma: 0.905370905612944\n",
            "\u001b[34m\u001b[1mwandb\u001b[0m: \tnumTiles: 5\n",
            "\u001b[34m\u001b[1mwandb\u001b[0m: \tnumTilings: 8\n",
            "\u001b[34m\u001b[1mwandb\u001b[0m: \tnum_episodes: 2093\n"
          ]
        },
        {
          "data": {
            "text/html": [
              "Tracking run with wandb version 0.19.8"
            ],
            "text/plain": [
              "<IPython.core.display.HTML object>"
            ]
          },
          "metadata": {},
          "output_type": "display_data"
        },
        {
          "data": {
            "text/html": [
              "Run data is saved locally in <code>/content/wandb/run-20250325_143247-o41jo9n5</code>"
            ],
            "text/plain": [
              "<IPython.core.display.HTML object>"
            ]
          },
          "metadata": {},
          "output_type": "display_data"
        },
        {
          "data": {
            "text/html": [
              "Syncing run <strong><a href='https://wandb.ai/cs24m041-iit-madras/Mountain%20car%20linear/runs/o41jo9n5' target=\"_blank\">devoted-sweep-6</a></strong> to <a href='https://wandb.ai/cs24m041-iit-madras/Mountain%20car%20linear' target=\"_blank\">Weights & Biases</a> (<a href='https://wandb.me/developer-guide' target=\"_blank\">docs</a>)<br>Sweep page: <a href='https://wandb.ai/cs24m041-iit-madras/Mountain%20car%20linear/sweeps/dcj3x7sv' target=\"_blank\">https://wandb.ai/cs24m041-iit-madras/Mountain%20car%20linear/sweeps/dcj3x7sv</a>"
            ],
            "text/plain": [
              "<IPython.core.display.HTML object>"
            ]
          },
          "metadata": {},
          "output_type": "display_data"
        },
        {
          "data": {
            "text/html": [
              " View project at <a href='https://wandb.ai/cs24m041-iit-madras/Mountain%20car%20linear' target=\"_blank\">https://wandb.ai/cs24m041-iit-madras/Mountain%20car%20linear</a>"
            ],
            "text/plain": [
              "<IPython.core.display.HTML object>"
            ]
          },
          "metadata": {},
          "output_type": "display_data"
        },
        {
          "data": {
            "text/html": [
              " View sweep at <a href='https://wandb.ai/cs24m041-iit-madras/Mountain%20car%20linear/sweeps/dcj3x7sv' target=\"_blank\">https://wandb.ai/cs24m041-iit-madras/Mountain%20car%20linear/sweeps/dcj3x7sv</a>"
            ],
            "text/plain": [
              "<IPython.core.display.HTML object>"
            ]
          },
          "metadata": {},
          "output_type": "display_data"
        },
        {
          "data": {
            "text/html": [
              " View run at <a href='https://wandb.ai/cs24m041-iit-madras/Mountain%20car%20linear/runs/o41jo9n5' target=\"_blank\">https://wandb.ai/cs24m041-iit-madras/Mountain%20car%20linear/runs/o41jo9n5</a>"
            ],
            "text/plain": [
              "<IPython.core.display.HTML object>"
            ]
          },
          "metadata": {},
          "output_type": "display_data"
        },
        {
          "name": "stdout",
          "output_type": "stream",
          "text": [
            "Run:1\n",
            "Episode 0/2093, Avg Reward (Last 100): -200.00, Epsilon: 0.5756\n",
            "Episode 1000/2093, Avg Reward (Last 100): -200.00, Epsilon: 0.0286\n",
            "Episode 2000/2093, Avg Reward (Last 100): -200.00, Epsilon: 0.0286\n",
            "Run:2\n",
            "Episode 0/2093, Avg Reward (Last 100): -200.00, Epsilon: 0.5756\n",
            "Episode 1000/2093, Avg Reward (Last 100): -200.00, Epsilon: 0.0286\n",
            "Episode 2000/2093, Avg Reward (Last 100): -200.00, Epsilon: 0.0286\n",
            "Run:3\n",
            "Episode 0/2093, Avg Reward (Last 100): -200.00, Epsilon: 0.5756\n",
            "Episode 1000/2093, Avg Reward (Last 100): -200.00, Epsilon: 0.0286\n",
            "Episode 2000/2093, Avg Reward (Last 100): -200.00, Epsilon: 0.0286\n",
            "Run:4\n",
            "Episode 0/2093, Avg Reward (Last 100): -200.00, Epsilon: 0.5756\n",
            "Episode 1000/2093, Avg Reward (Last 100): -200.00, Epsilon: 0.0286\n",
            "Episode 2000/2093, Avg Reward (Last 100): -200.00, Epsilon: 0.0286\n",
            "Run:5\n",
            "Episode 0/2093, Avg Reward (Last 100): -200.00, Epsilon: 0.5756\n",
            "Episode 1000/2093, Avg Reward (Last 100): -200.00, Epsilon: 0.0286\n"
          ]
        }
      ],
      "source": [
        "\n",
        "wandb.agent(sweep_id, function=wandb_run_sarsa, count=50)"
      ]
    },
    {
      "cell_type": "code",
      "execution_count": null,
      "metadata": {
        "id": "b9D3B-uiCgln"
      },
      "outputs": [],
      "source": [
        "\n",
        "wandb.agent(sweep_id, function=wandb_run_sarsa)"
      ]
    },
    {
      "cell_type": "code",
      "execution_count": null,
      "metadata": {
        "id": "qOirF1LSbk-X"
      },
      "outputs": [],
      "source": []
    },
    {
      "cell_type": "markdown",
      "source": [
        "# cli\n"
      ],
      "metadata": {
        "id": "kXWcgI-k_s0z"
      }
    },
    {
      "cell_type": "code",
      "execution_count": null,
      "metadata": {
        "colab": {
          "base_uri": "https://localhost:8080/"
        },
        "id": "_y7hyH46dngY",
        "outputId": "e04a2ca5-fd66-4203-81a6-c815be1e5dd3"
      },
      "outputs": [
        {
          "output_type": "stream",
          "name": "stdout",
          "text": [
            "Writing main.py\n"
          ]
        }
      ],
      "source": [
        "%%writefile main.py\n",
        "\n",
        "import numpy as np\n",
        "import argparse\n",
        "from collections import deque\n",
        "\n",
        "import gymnasium as gym\n",
        "from tqdm import tqdm\n",
        "import matplotlib.pyplot as plt\n",
        "import os\n",
        "\n",
        "###############################################################Plotting\n",
        "def get_unique_filename(base_filename):\n",
        "    filename, ext = os.path.splitext(base_filename)\n",
        "    counter = 1\n",
        "    unique_filename = base_filename\n",
        "\n",
        "    while os.path.exists(unique_filename):\n",
        "        unique_filename = f\"{filename}_{counter}{ext}\"\n",
        "        counter += 1\n",
        "\n",
        "    return unique_filename\n",
        "\n",
        "def plot_mean_std(avg_rewards, std_rewards, title=\"Training Performance\", ylabel=\"Reward\", filename=\"training_performance.png\"):\n",
        "    episodes = np.arange(len(avg_rewards))\n",
        "\n",
        "    plt.figure()\n",
        "    plt.plot(episodes, avg_rewards, label=\"Mean Reward\", color=\"b\", linewidth=2)\n",
        "    plt.fill_between(episodes, avg_rewards - std_rewards, avg_rewards + std_rewards, color=\"b\", alpha=0.2, label=\"±1 Std Dev\")\n",
        "    plt.xlabel(\"Episodes\")\n",
        "    plt.ylabel(ylabel)\n",
        "    plt.title(title)\n",
        "    plt.legend()\n",
        "    plt.grid(True, alpha=0.6)\n",
        "\n",
        "    unique_filename = get_unique_filename(filename)\n",
        "    plt.savefig(unique_filename, dpi=300, bbox_inches=\"tight\")\n",
        "    plt.close()\n",
        "    print(f\"Saved plot: {unique_filename}\")\n",
        "\n",
        "def plot_running_average(rewards, window_size=100, title=\"Running Average of Rewards\", ylabel=\"Reward\", filename=\"running_average.png\"):\n",
        "    episodes = np.arange(len(rewards))\n",
        "    running_avg = np.convolve(rewards, np.ones(window_size)/window_size, mode='valid')\n",
        "\n",
        "    plt.figure()\n",
        "    plt.plot(episodes, rewards, label=\"Original Rewards\", color=\"gray\", alpha=0.4)\n",
        "    plt.plot(episodes[:len(running_avg)], running_avg, label=f\"Running Avg ({window_size} episodes)\", color=\"b\", linewidth=2)\n",
        "    plt.xlabel(\"Episodes\")\n",
        "    plt.ylabel(ylabel)\n",
        "    plt.title(title)\n",
        "    plt.legend()\n",
        "    plt.grid(True, linestyle=\"--\", alpha=0.6)\n",
        "\n",
        "    unique_filename = get_unique_filename(filename)\n",
        "    plt.savefig(unique_filename, dpi=300, bbox_inches=\"tight\")\n",
        "    plt.close()\n",
        "    print(f\"Saved plot: {unique_filename}\")\n",
        "\n",
        "def plot_cumulative_regret(target, avg_rw, filename=\"cumulative_regret.png\"):\n",
        "    optimal_rewards = np.full_like(avg_rw, target)\n",
        "    cumulative_regret = np.cumsum(optimal_rewards - avg_rw)\n",
        "\n",
        "    plt.figure()\n",
        "    plt.plot(cumulative_regret, label=\"Cumulative Regret\", color='red')\n",
        "    plt.xlabel(\"Episodes\")\n",
        "    plt.ylabel(\"Cumulative Regret\")\n",
        "    plt.title(\"Cumulative Regret over Episodes\")\n",
        "    plt.legend()\n",
        "    plt.grid()\n",
        "\n",
        "    unique_filename = get_unique_filename(filename)\n",
        "    plt.savefig(unique_filename, dpi=300, bbox_inches=\"tight\")\n",
        "    plt.close()\n",
        "    print(f\"Saved plot: {unique_filename}\")\n",
        "\n",
        "def plot_cumulative_regret_both(target, q_learning_rewards, sarsa_rewards, labels=(\"Q-Learning\", \"SARSA\")):\n",
        "    optimal_rewards = np.full_like(q_learning_rewards, target)\n",
        "    cumulative_regret_q = np.cumsum(optimal_rewards - q_learning_rewards)\n",
        "    cumulative_regret_sarsa = np.cumsum(optimal_rewards - sarsa_rewards)\n",
        "    plt.plot(cumulative_regret_q, label=f\"Cumulative Regret ({labels[0]})\", color='blue')\n",
        "    plt.plot(cumulative_regret_sarsa, label=f\"Cumulative Regret ({labels[1]})\", color='red')\n",
        "    plt.xlabel(\"Episodes\")\n",
        "    plt.ylabel(\"Cumulative Regret\")\n",
        "    plt.title(\"Cumulative Regret over Episodes (Q-Learning vs SARSA)\")\n",
        "    plt.legend()\n",
        "    plt.grid()\n",
        "    plt.show()\n",
        "def plot_running_average_both(q_rewards, sarsa_rewards, window_size=100, labels=(\"Q-Learning\", \"SARSA\")):\n",
        "    episodes_q = np.arange(len(q_rewards))\n",
        "    episodes_sarsa = np.arange(len(sarsa_rewards))\n",
        "    running_avg_q = np.convolve(q_rewards, np.ones(window_size)/window_size, mode='valid')\n",
        "    running_avg_sarsa = np.convolve(sarsa_rewards, np.ones(window_size)/window_size, mode='valid')\n",
        "    plt.plot(episodes_q, q_rewards, label=f\"Original {labels[0]} Rewards\", color=\"gray\", alpha=0.3)\n",
        "    plt.plot(episodes_q[:len(running_avg_q)], running_avg_q, label=f\"Running Avg ({labels[0]})\", color=\"b\", linewidth=2)\n",
        "    plt.plot(episodes_sarsa, sarsa_rewards, label=f\"Original {labels[1]} Rewards\", color=\"gray\", alpha=0.3)\n",
        "    plt.plot(episodes_sarsa[:len(running_avg_sarsa)], running_avg_sarsa, label=f\"Running Avg ({labels[1]})\", color=\"r\", linewidth=2)\n",
        "    plt.xlabel(\"Episodes\")\n",
        "    plt.ylabel(\"Reward\")\n",
        "    plt.title(\"Running Average of Rewards (Q-Learning vs SARSA)\")\n",
        "    plt.legend()\n",
        "    plt.grid(True, linestyle=\"--\", alpha=0.6)\n",
        "    plt.show()\n",
        "\n",
        "\n",
        "\n",
        "\n",
        "\n",
        "\n",
        "\n",
        "\n",
        "###############################################################################Q Table\n",
        "class Split_to_grid:\n",
        "    def __init__(self, env, n_bins=(20, 20)):\n",
        "        self.env = env\n",
        "        self.n_bins = n_bins\n",
        "        self.space_min = env.observation_space.low\n",
        "        self.space_max = env.observation_space.high\n",
        "        self.space_w = (self.space_max - self.space_min) / n_bins\n",
        "    def find_the_cell(self, val):\n",
        "        clip_val = np.clip(val, self.space_min, self.space_max)\n",
        "        bi = np.floor((clip_val - self.space_min) / self.space_w).astype(int)\n",
        "        bi = np.clip(bi, 0, np.array(self.n_bins) - 1)\n",
        "        cell_no = bi[0] * self.n_bins[1] + bi[1]\n",
        "        return cell_no\n",
        "\n",
        "class Qagent:\n",
        "    def __init__(self,num_states,num_actions,alpha,gamma,initial_tau,tau_decay,min_tau):\n",
        "        self.n_states=num_states\n",
        "        self.n_actions=num_actions\n",
        "        self.alpha=alpha\n",
        "        self.gamma= gamma\n",
        "        self.tau = initial_tau\n",
        "        self.tau_decay = tau_decay\n",
        "        self.min_tau = min_tau\n",
        "\n",
        "        self.q_table = np.zeros((num_states, num_actions))\n",
        "    def select_action(self, s):\n",
        "        q_values = self.q_table[s]\n",
        "        q_values = q_values - np.max(q_values)\n",
        "        exp_q = np.exp(q_values / max(self.tau, 1e-10))\n",
        "        if np.any(np.isnan(exp_q)) or np.any(np.isinf(exp_q)):\n",
        "            return np.argmax(self.q_table[s])\n",
        "        sum_exp_q = np.sum(exp_q)\n",
        "        if sum_exp_q == 0:\n",
        "            return np.argmax(self.q_table[s])\n",
        "        probabilities = exp_q / sum_exp_q\n",
        "        try:\n",
        "            action = np.random.choice(self.n_actions, p=probabilities)\n",
        "            return action\n",
        "        except:\n",
        "            return np.argmax(self.q_table[s])\n",
        "    def update(self, s, a, r, ns, done):\n",
        "        if done:\n",
        "            R = r\n",
        "        else:\n",
        "            R = r + self.gamma * np.max(self.q_table[ns])\n",
        "        self.q_table[s, a] += self.alpha * (R - self.q_table[s, a])\n",
        "    def decay_tau(self):\n",
        "        self.tau = max(self.min_tau, self.tau * self.tau_decay)\n",
        "\n",
        "def train_q_learning(env_name='MountainCar-v0', num_episodes=1000, n_bins=(20, 20),alpha=0.1, gamma=0.99, initial_tau=1.0,tau_decay=0.99, min_tau=0.01, num_runs=5):\n",
        "    print(\"starting Qlearning\")\n",
        "    env = gym.make(env_name)\n",
        "    mountain_car_grid = Split_to_grid(env, n_bins)\n",
        "    num_states = np.prod(n_bins)\n",
        "    num_actions = env.action_space.n\n",
        "    avg_run_rewards = np.zeros(num_episodes, dtype=np.float32)\n",
        "    avg_run_lengths = np.zeros(num_episodes, dtype=np.float32)\n",
        "    valid_counts = np.zeros(num_episodes, dtype=np.int32)\n",
        "    all_rewards = np.full((num_runs, num_episodes), np.nan, dtype=np.float32)\n",
        "    for run in range(num_runs):\n",
        "        np.random.seed(run)\n",
        "        agent = Qagent(num_states, num_actions, alpha, gamma,initial_tau, tau_decay, min_tau)\n",
        "        episode_rewards = np.zeros(num_episodes, dtype=np.float32)\n",
        "        episode_lengths = np.zeros(num_episodes, dtype=np.int32)\n",
        "        avg_rewards = deque(maxlen=100)\n",
        "        for episode in range(num_episodes):\n",
        "            r_state, _ = env.reset()\n",
        "            s = mountain_car_grid.find_the_cell(r_state)\n",
        "            ep_r = 0\n",
        "            ep_l = 0\n",
        "            succ = False\n",
        "            t_end = False\n",
        "            while not (succ or t_end):\n",
        "                a = agent.select_action(s)\n",
        "                nxt, r, succ, t_end, _ = env.step(a)\n",
        "                ns = mountain_car_grid.find_the_cell(nxt)\n",
        "                agent.update(s, a, r, ns, succ or t_end)\n",
        "                s = ns\n",
        "                ep_r += r\n",
        "                ep_l += 1\n",
        "            agent.decay_tau()\n",
        "            episode_rewards[episode] = ep_r\n",
        "            episode_lengths[episode] = ep_l\n",
        "            avg_rewards.append(ep_r)\n",
        "            avg_reward = np.mean(avg_rewards)\n",
        "            if len(avg_rewards) == 100 and avg_reward >= -110:\n",
        "                print(f\"run:{run} episode {episode+1}/{num_episodes}, avg Reward: {avg_reward:.2f}, tau: {agent.tau:.4f}\")\n",
        "                print(f\" solved in {episode+1} episodes!\")\n",
        "                episode_rewards[episode+1:] = -110  # will fill the remaining timestp with -110 so that the figure will make sense\n",
        "                break\n",
        "            if (episode + 1) % 1000 == 0:\n",
        "                print(f\"run:{run} episode {episode+1}/{num_episodes}, avg Reward: {avg_reward:.2f}, tau: {agent.tau:.4f}\")\n",
        "        for ep in range(num_episodes):\n",
        "            if episode_rewards[ep] != 0:\n",
        "                avg_run_rewards[ep] += episode_rewards[ep]\n",
        "                avg_run_lengths[ep] += episode_lengths[ep]\n",
        "                valid_counts[ep] += 1\n",
        "                all_rewards[run, ep] = episode_rewards[ep]\n",
        "    env.close()\n",
        "    avg_rewards_final = np.divide(avg_run_rewards, valid_counts, where=valid_counts > 0)\n",
        "    avg_lengths_final = np.divide(avg_run_lengths, valid_counts, where=valid_counts > 0)\n",
        "    std_rewards_final = np.nanstd(all_rewards, axis=0)\n",
        "    return agent, avg_rewards_final, avg_lengths_final, std_rewards_final\n",
        "\n",
        "\n",
        "\n",
        "\n",
        "class SARSAagent:\n",
        "    def __init__(self, num_states, num_actions, alpha=0.1, gamma=0.99,initial_epsilon=0.3, epsilon_decay=0.995, min_epsilon=0.01):\n",
        "        self.n_states = num_states\n",
        "        self.n_actions = num_actions\n",
        "        self.alpha = alpha\n",
        "        self.gamma = gamma\n",
        "        self.epsilon = initial_epsilon\n",
        "        self.epsilon_decay = epsilon_decay\n",
        "        self.min_epsilon = min_epsilon\n",
        "        self.q_table = np.zeros((num_states, num_actions))\n",
        "    def select_action(self, s):\n",
        "        if np.random.random() < self.epsilon:\n",
        "            a = np.random.randint(self.n_actions)\n",
        "        else:\n",
        "            a = np.argmax(self.q_table[s])\n",
        "        return a\n",
        "    def update(self, s, a, r, ns, na, done):\n",
        "        if done:\n",
        "            R = r\n",
        "        else:\n",
        "            R = r + self.gamma * self.q_table[ns, na]\n",
        "        self.q_table[s, a] += self.alpha * (R - self.q_table[s, a])\n",
        "    def decay_eps(self):\n",
        "        self.epsilon = max(self.min_epsilon, self.epsilon * self.epsilon_decay)\n",
        "def train_sarsa(env_name='MountainCar-v0', n_episodes=1000, n_bins=(20, 20),alpha=0.1, gamma=0.99, initial_epsilon=0.3,epsilon_decay=0.995, min_epsilon=0.01, n_runs=5):\n",
        "    print(\"training sarsa\")\n",
        "    env = gym.make(env_name)\n",
        "    mountain_car_grid = Split_to_grid(env, n_bins)\n",
        "    num_states = np.prod(n_bins)\n",
        "    action_space = env.action_space.n\n",
        "    avg_run_rw = np.zeros(n_episodes, dtype=np.float32)\n",
        "    avg_run_len = np.zeros(n_episodes, dtype=np.float32)\n",
        "    all_rewards = np.full((n_runs, n_episodes), np.nan, dtype=np.float32)\n",
        "    for run in range(n_runs):\n",
        "        np.random.seed(run)\n",
        "        agent = SARSAagent(num_states, action_space, alpha, gamma,initial_epsilon, epsilon_decay, min_epsilon)\n",
        "        ep_rs = np.zeros(n_episodes, dtype=np.float32)\n",
        "        ep_lens = np.zeros(n_episodes, dtype=np.int32)\n",
        "        avg_rewards = deque(maxlen=100)\n",
        "        for episode in range(n_episodes):\n",
        "            r_state, _ = env.reset()\n",
        "            s = mountain_car_grid.find_the_cell(r_state)\n",
        "            a = agent.select_action(s)\n",
        "            ep_r = 0\n",
        "            ep_len = 0\n",
        "            succ = False\n",
        "            t_end = False\n",
        "            while not (succ or t_end):\n",
        "                nxt, r, succ, t_end, _ = env.step(a)\n",
        "                ns = mountain_car_grid.find_the_cell(nxt)\n",
        "                na = agent.select_action(ns)\n",
        "                agent.update(s, a, r, ns, na, succ or t_end)\n",
        "                s = ns\n",
        "                a = na\n",
        "                ep_r += r\n",
        "                ep_len += 1\n",
        "            agent.decay_eps()\n",
        "            ep_rs[episode] = ep_r\n",
        "            ep_lens[episode] = ep_len\n",
        "            avg_rewards.append(ep_r)\n",
        "            all_rewards[run, episode] = ep_r\n",
        "            if (episode + 1) % 1000 == 0:\n",
        "                avg_reward = np.mean(avg_rewards)\n",
        "                print(f\"run:{run} episode {episode+1}/{n_episodes}, avg reward: {avg_reward:.2f}\")\n",
        "            if len(avg_rewards) == 100 and np.mean(avg_rewards) >= -110:\n",
        "                print(f\"solved in {episode+1} episodes!\")\n",
        "                ep_rs[episode+1:] = -110\n",
        "                break\n",
        "        avg_run_rw += ep_rs\n",
        "        avg_run_len += ep_lens\n",
        "    env.close()\n",
        "    avg_rewards_final = avg_run_rw / n_runs\n",
        "    avg_lengths_final = avg_run_len / n_runs\n",
        "    std_rewards_final = np.nanstd(all_rewards, axis=0)\n",
        "    return agent, avg_rewards_final, avg_lengths_final, std_rewards_final\n",
        "\n",
        "\n",
        "\n",
        "\n",
        "\n",
        "\n",
        "\n",
        "\n",
        "\n",
        "\n",
        "\n",
        "\n",
        "\n",
        "\n",
        "\n",
        "###########################################################################################Tiling linear approximator\n",
        "\n",
        "class Env_tiles:\n",
        "    def __init__(self, numTilings=8, numTiles=10):\n",
        "        self.numTilings = numTilings\n",
        "        self.numTiles = numTiles\n",
        "        position_min, position_max = -1.2, 0.6\n",
        "        velocity_min, velocity_max = -0.07, 0.07\n",
        "        self.low = np.array([position_min, velocity_min])\n",
        "        self.high = np.array([position_max, velocity_max])\n",
        "        self.offsets = [\n",
        "            (high - low) / self.numTiles * np.linspace(0, 1, self.numTilings, endpoint=False)\n",
        "            for low, high in zip(self.low, self.high)\n",
        "        ]\n",
        "        self.tilings = self.create_tilings()\n",
        "    def boild_tiling_grid(self, low, high, bins, offsets):\n",
        "        return [np.linspace(low[dim], high[dim], bins + 1)[1:-1] + offsets[dim] for dim in range(len(low))]\n",
        "    def create_tilings(self):\n",
        "        return [self.boild_tiling_grid(self.low, self.high, self.numTiles, [offset[i] for offset in self.offsets]) for i in range(self.numTilings)]\n",
        "    def discretize(self, state):\n",
        "        return [tuple(np.digitize(state[dim], bins) for dim, bins in enumerate(tiling)) for tiling in self.tilings]\n",
        "\n",
        "class SARSAAgent:\n",
        "    def __init__(self, env, alpha=0.1, gamma=0.99, epsilon_start=1.0, epsilon_decay=0.995, epsilon_min=0.0001, numTilings=8, numTiles=10):\n",
        "        self.env = env\n",
        "        self.alpha = alpha\n",
        "        self.gamma = gamma\n",
        "        self.epsilon_start = epsilon_start\n",
        "        self.epsilon_decay = epsilon_decay\n",
        "        self.epsilon_min = epsilon_min\n",
        "        self.numTilings = numTilings\n",
        "        self.numTiles = numTiles\n",
        "        self.epsilon = epsilon_start\n",
        "        self.tiling = Env_tiles(numTilings, numTiles)\n",
        "        self.numActions = self.env.action_space.n\n",
        "        self.numFeatures = self.numTilings * self.numTiles**2\n",
        "        self.weights = np.zeros((self.numActions, self.numFeatures))\n",
        "    def reset_weights(self):\n",
        "        self.weights = np.zeros((self.numActions, self.numFeatures))\n",
        "        self.epsilon = self.epsilon_start\n",
        "    def featureVector(self, state, action):\n",
        "        discretized_indices = self.tiling.discretize(state)\n",
        "        featureVector = np.zeros(self.numFeatures)\n",
        "        for i, ds in enumerate(discretized_indices):\n",
        "            index = ds[0] * self.numTiles + ds[1]\n",
        "            feature_index = i * self.numTiles**2 + index\n",
        "            featureVector[feature_index] = 1\n",
        "        return featureVector\n",
        "    def get_Qvalues(self, state, action):\n",
        "        return np.dot(self.weights[action], self.featureVector(state, action))\n",
        "    def epsilon_greedy_action_selection(self, state):\n",
        "        if np.random.rand() < self.epsilon:\n",
        "            return self.env.action_space.sample()\n",
        "        q_values = [self.get_Qvalues(state, a) for a in range(self.numActions)]\n",
        "        return np.argmax(q_values)\n",
        "    def update_Q(self, state, action, reward, next_state, next_action):\n",
        "        phi = self.featureVector(state, action)\n",
        "        q_sa = self.get_Qvalues(state, action)\n",
        "        q_next = self.get_Qvalues(next_state, next_action)\n",
        "        td_target = reward + self.gamma * q_next\n",
        "        td_error = td_target - q_sa\n",
        "        self.weights[action] += (self.alpha / self.numTilings) * td_error * phi\n",
        "\n",
        "def train_sarsa_t(agent:SARSAAgent, env, num_episodes, num_runs=5):\n",
        "    all_rewards = np.zeros((num_runs, num_episodes))\n",
        "    all_steps = np.zeros((num_runs, num_episodes))\n",
        "    for run in range(num_runs):\n",
        "        # print(f\"Run:{run+1}\")\n",
        "        agent.reset_weights()\n",
        "        np.random.seed(run)\n",
        "        for i in tqdm(range(num_episodes), desc=f\"Run {run+1}/{num_runs}\"):\n",
        "            totalReward, steps = 0, 0\n",
        "            state, _ = env.reset()\n",
        "            action = agent.epsilon_greedy_action_selection(state)\n",
        "            done = False\n",
        "            while not done:\n",
        "                next_state, reward, terminated, truncated, _ = env.step(action)\n",
        "                next_action = agent.epsilon_greedy_action_selection(next_state)\n",
        "                agent.update_Q(state, action, reward, next_state, next_action)\n",
        "                state, action = next_state, next_action\n",
        "                totalReward += reward\n",
        "                steps += 1\n",
        "                done = terminated or truncated\n",
        "            all_rewards[run, i] = totalReward\n",
        "            all_steps[run, i] = steps\n",
        "            agent.epsilon = max(agent.epsilon_min, agent.epsilon * agent.epsilon_decay)\n",
        "        print(f\"Final average reward: {np.mean(all_rewards[run])}\")\n",
        "    mean_rewards = np.mean(all_rewards, axis=0)\n",
        "    std_rewards = np.std(all_rewards, axis=0)\n",
        "    mean_steps = np.mean(all_steps, axis=0)\n",
        "    std_steps = np.std(all_steps, axis=0)\n",
        "    return mean_rewards, std_rewards, mean_steps, std_steps\n",
        "\n",
        "def train_sarsa_tiling(env_name, alpha=0.1, gamma=0.99, epsilon_start=1.0, epsilon_decay=0.995, epsilon_min=0.0001, numTilings=8, numTiles=10,num_episodes=3500,num_runs=5):\n",
        "    env = gym.make(env_name)\n",
        "    agent = SARSAAgent(env, alpha, gamma, epsilon_start, epsilon_decay, epsilon_min, numTilings, numTiles)\n",
        "    sarsa_mean_rewards, sarsa_std_rewards, sarsa_mean_steps, sarsa_std_steps = train_sarsa_t(agent, env, num_episodes, num_runs=num_runs)\n",
        "    print(\"Training complete. Mean rewards and standard deviations computed.\")\n",
        "    return sarsa_mean_rewards, sarsa_std_rewards, sarsa_mean_steps, sarsa_std_steps\n",
        "\n",
        "\n",
        "class Tiling_Q:\n",
        "    def __init__(self, env, numTilings=8, numTiles=10):\n",
        "        self.numTilings = numTilings\n",
        "        self.numTiles = numTiles\n",
        "        position_min, position_max = -1.2, 0.6\n",
        "        velocity_min, velocity_max = -0.07, 0.07\n",
        "        self.low = np.array([position_min, velocity_min])\n",
        "        self.high = np.array([position_max, velocity_max])\n",
        "        self.offsets = [\n",
        "            (high - low) / self.numTiles * np.linspace(0, 1, self.numTilings, endpoint=False)\n",
        "            for low, high in zip(self.low, self.high)\n",
        "        ]\n",
        "        self.tilings = self.create_tilings()\n",
        "    def create_tiling_grid(self, low, high, bins, offsets):\n",
        "        return [np.linspace(low[dim], high[dim], bins + 1)[1:-1] + offsets[dim] for dim in range(len(low))]\n",
        "    def create_tilings(self):\n",
        "        return [self.create_tiling_grid(self.low, self.high, self.numTiles, [offset[i] for offset in self.offsets]) for i in range(self.numTilings)]\n",
        "    def discretize(self, state):\n",
        "        return [tuple(np.digitize(state[dim], bins) for dim, bins in enumerate(tiling)) for tiling in self.tilings]\n",
        "class QLearningAgent:\n",
        "    def __init__(self, env, alpha=0.1, gamma=0.99, tau_start=1.0, tau_decay=0.995, tau_min=0.05, numTilings=8, numTiles=10):\n",
        "        self.env = env\n",
        "        self.alpha = alpha\n",
        "        self.gamma = gamma\n",
        "        self.tau_start = tau_start\n",
        "        self.tau_decay = tau_decay\n",
        "        self.tau_min = tau_min\n",
        "        self.tau = tau_start\n",
        "        self.numTilings = numTilings\n",
        "        self.numTiles = numTiles\n",
        "        self.tiling = Tiling_Q(env, numTilings, numTiles)\n",
        "        self.numActions = self.env.action_space.n\n",
        "        self.numFeatures = self.numTilings * self.numTiles**2\n",
        "        self.weights = np.zeros((self.numActions, self.numFeatures))\n",
        "    def get_feature_vector(self, state, action):\n",
        "        discretized_indices = self.tiling.discretize(state)\n",
        "        featureVector = np.zeros(self.numFeatures)\n",
        "        for i, ds in enumerate(discretized_indices):\n",
        "            index = ds[0] * self.numTiles + ds[1]\n",
        "            feature_index = i * self.numTiles**2 + index\n",
        "            featureVector[feature_index] = 1\n",
        "        return featureVector\n",
        "    def reset_weights(self):\n",
        "        self.weights = np.zeros((self.numActions, self.numFeatures))\n",
        "        self.tau = self.tau_start\n",
        "    def get_Qvalue(self, state, action):\n",
        "        return np.dot(self.weights[action], self.get_feature_vector(state, action))\n",
        "    def softmax_action_selection(self, state):\n",
        "        q_values = np.array([self.get_Qvalue(state, a) for a in range(self.numActions)])\n",
        "        exp_values = np.exp((q_values - np.max(q_values)) / self.tau)\n",
        "        probs = exp_values / np.sum(exp_values)\n",
        "        return np.random.choice(self.numActions, p=probs)\n",
        "    def update_Q(self, state, action, reward, next_state):\n",
        "        phi = self.get_feature_vector(state, action)\n",
        "        q_sa = self.get_Qvalue(state, action)\n",
        "        q_next_max = max([self.get_Qvalue(next_state, a) for a in range(self.numActions)])\n",
        "        td_target = reward + self.gamma * q_next_max\n",
        "        td_error = td_target - q_sa\n",
        "        self.weights[action] += (self.alpha / self.numTilings) * td_error * phi\n",
        "\n",
        "def train_Q_t(agent:QLearningAgent, env, num_episodes, num_runs=5):\n",
        "    episode_rewards = np.zeros((num_runs, num_episodes))\n",
        "    steps_to_completion = np.zeros((num_runs, num_episodes))\n",
        "    for run in range(num_runs):\n",
        "        print(f\"Run: {run+1}\")\n",
        "        agent.reset_weights()\n",
        "        np.random.seed(run)\n",
        "        for i in tqdm(range(num_episodes), desc=f\"Run {run+1}/{num_runs}\"):\n",
        "            totalReward, steps = 0, 0\n",
        "            state, _ = env.reset()\n",
        "            done = False\n",
        "            while not done:\n",
        "                action = agent.softmax_action_selection(state)\n",
        "                next_state, reward, terminated, truncated, _ = env.step(action)\n",
        "                done = terminated or truncated\n",
        "                agent.update_Q(state, action, reward, next_state)\n",
        "                state = next_state\n",
        "                totalReward += reward\n",
        "                steps += 1\n",
        "            episode_rewards[run, i] = totalReward\n",
        "            steps_to_completion[run, i] = steps\n",
        "            agent.tau = max(agent.tau_min, agent.tau * agent.tau_decay)\n",
        "        print(f\"Final average reward: {np.mean(episode_rewards[run])}\")\n",
        "    mean_rewards = np.mean(episode_rewards, axis=0)\n",
        "    std_rewards = np.std(episode_rewards, axis=0)\n",
        "    mean_steps = np.mean(steps_to_completion, axis=0)\n",
        "    std_steps = np.std(steps_to_completion, axis=0)\n",
        "\n",
        "    return mean_rewards, std_rewards, mean_steps, std_steps\n",
        "\n",
        "def tain_q_learning_tiling(env_name, alpha=0.1, gamma=0.99, tau_start=1.0, tau_decay=0.9, tau_min=0.005, numTilings=8, numTiles=10, num_episodes=3500, num_runs=5):\n",
        "    env = gym.make(env_name)\n",
        "    agent = QLearningAgent(env, alpha, gamma, tau_start, tau_decay, tau_min, numTilings, numTiles)\n",
        "    Q_mean_rewards, Q_std_rewards, Q_mean_steps, Q_std_steps = train_Q_t(agent, env, num_episodes, num_runs)\n",
        "\n",
        "    print(\"Training complete. Mean rewards and standard deviations computed.\")\n",
        "    return Q_mean_rewards, Q_std_rewards, Q_mean_steps, Q_std_steps\n",
        "\n",
        "\n",
        "\n",
        "\n",
        "\n",
        "\n",
        "\n",
        "\n",
        "############################################################################Main\n",
        "def main():\n",
        "    parser = argparse.ArgumentParser(description=\"mountain car v0 with discrete action support softmax with q learning and epsilon greedy with sarsa\")\n",
        "    parser.add_argument(\"--algo\", type=str, choices=[\"q_learning\", \"sarsa\", \"both\"], required=True, help=\"Algorithm to use: q_learning, sarsa, or both\")\n",
        "    parser.add_argument(\"--type\", type=str, choices=[\"q_table\",\"tiling\"], required=True, help=\"Tiling or Q table\")\n",
        "    parser.add_argument(\"--env_name\", type=str, default=\"MountainCar-v0\", help=\"currently MountainCar-v0 dont know if other will work \")\n",
        "    parser.add_argument(\"--n_episodes\", type=int, default=10000, help=\"number of training episodes\")\n",
        "    parser.add_argument(\"--pos_bins\", type=int, default=40, help=\"position split number\")\n",
        "    parser.add_argument(\"--vel_bins\", type=int, default=40, help=\"velocity split number\")\n",
        "    parser.add_argument(\"--n_runs\", type=int, default=5, help=\"number of runs to averae over\")\n",
        "    parser.add_argument(\"--alpha\", type=float, default=0.1, help=\"learning rate\")\n",
        "    parser.add_argument(\"--gamma\", type=float, default=0.99, help=\"discount parameter (gamma)\")\n",
        "    parser.add_argument(\"--initial_tau\", type=float, default=10.0, help=\"initial temp softmax\")\n",
        "    parser.add_argument(\"--tau_decay\", type=float, default=0.995, help=\"temp decay softmax\")\n",
        "    parser.add_argument(\"--min_tau\", type=float, default=0.005, help=\"min temp softmax\")\n",
        "    parser.add_argument(\"--initial_epsilon\", type=float, default=1.2, help=\"initial epsilon epsilon greedy\")\n",
        "    parser.add_argument(\"--epsilon_decay\", type=float, default=0.999, help=\"epsilon decay epsilon greedy\")\n",
        "    parser.add_argument(\"--min_epsilon\", type=float, default=0.005, help=\"min epsilon epilon greedy\")\n",
        "    parser.add_argument(\"--numTilings\", type=int, default=8, help=\"min epsilon epilon greedy\")\n",
        "    parser.add_argument(\"--numTiles\", type=int, default=10, help=\"min epsilon epilon greedy\")\n",
        "\n",
        "    np.random.seed(42)\n",
        "    args = parser.parse_args()\n",
        "    n_bins = (args.pos_bins, args.vel_bins)\n",
        "    q_rewards = None\n",
        "    sarsa_rewards = None\n",
        "    if args.type == \"q_table\":\n",
        "        if args.algo in [\"q_learning\", \"both\"]:\n",
        "            print(\"\\nRunning Q-Learning...\")\n",
        "            q_agent, q_rewards, q_lengths, q_std_rewards = train_q_learning(args.env_name, args.n_episodes, n_bins,args.alpha, args.gamma,args.initial_tau, args.tau_decay, args.min_tau,args.n_runs)\n",
        "            print(\"Q-Learning Completed!\\n\")\n",
        "            plot_mean_std(q_rewards, q_std_rewards)\n",
        "            plot_running_average(q_rewards)\n",
        "            plot_cumulative_regret(-110, q_rewards)\n",
        "        if args.algo in [\"sarsa\", \"both\"]:\n",
        "            print(\"\\nRunning SARSA...\")\n",
        "            sarsa_agent, sarsa_rewards, sarsa_lengths, sarsa_rewards_std = train_sarsa(args.env_name, args.n_episodes, n_bins,args.alpha, args.gamma,args.initial_epsilon, args.epsilon_decay, args.min_epsilon,args.n_runs)\n",
        "            print(\"SARSA Completed!\\n\")\n",
        "            plot_mean_std(sarsa_rewards, sarsa_rewards_std)\n",
        "            plot_running_average(sarsa_rewards)\n",
        "            plot_cumulative_regret(-110, sarsa_rewards)\n",
        "        if args.algo == \"both\" and q_rewards is not None and sarsa_rewards is not None:\n",
        "            plot_running_average_both(q_rewards, sarsa_rewards, window_size=100)\n",
        "            plot_cumulative_regret_both(-110, q_rewards, sarsa_rewards)\n",
        "    else:\n",
        "        if args.algo in [\"q_learning\", \"both\"]:\n",
        "            print(\"\\nRunning Q-Learning...\")\n",
        "            q_rewards, q_std_rewards, Q_mean_steps, Q_std_steps=tain_q_learning_tiling(env_name= args.env_name, num_episodes= args.n_episodes,numTilings=args.numTilings, numTiles=args.numTiles,alpha=args.alpha, gamma=args.gamma,tau_start=args.initial_tau,tau_decay= args.tau_decay,tau_min= args.min_tau,num_runs= args.n_runs)\n",
        "            print(\"Q-Learning Completed!\\n\")\n",
        "            plot_mean_std(q_rewards, q_std_rewards)\n",
        "            plot_running_average(q_rewards)\n",
        "            plot_cumulative_regret(-110, q_rewards)\n",
        "        if args.algo in [\"sarsa\", \"both\"]:\n",
        "            print(\"\\nRunning SARSA...\")\n",
        "            sarsa_mean_rewards, sarsa_std_rewards, sarsa_mean_steps, sarsa_std_steps = train_sarsa_tiling(env_name= args.env_name, num_episodes= args.n_episodes,numTilings=args.numTilings, numTiles=args.numTiles,alpha=args.alpha, gamma=args.gamma,epsilon_start= args.initial_epsilon,epsilon_decay= args.epsilon_decay,epsilon_min= args.min_epsilon,num_runs= args.n_runs)\n",
        "            print(\"SARSA Completed!\\n\")\n",
        "            plot_mean_std(sarsa_mean_rewards, sarsa_std_rewards)\n",
        "            plot_running_average(sarsa_mean_rewards)\n",
        "            plot_cumulative_regret(-110, sarsa_mean_rewards)\n",
        "        if args.algo == \"both\" and q_rewards is not None and sarsa_mean_rewards is not None:\n",
        "            plot_running_average_both(q_rewards, sarsa_mean_rewards, window_size=100)\n",
        "            plot_cumulative_regret_both(-110, q_rewards, sarsa_mean_rewards)\n",
        "\n",
        "\n",
        "if __name__ == \"__main__\":\n",
        "    main()"
      ]
    }
  ],
  "metadata": {
    "colab": {
      "provenance": []
    },
    "kernelspec": {
      "display_name": "Python 3",
      "name": "python3"
    },
    "language_info": {
      "name": "python"
    }
  },
  "nbformat": 4,
  "nbformat_minor": 0
}